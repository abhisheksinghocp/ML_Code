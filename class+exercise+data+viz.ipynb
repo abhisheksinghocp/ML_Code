{
 "cells": [
  {
   "cell_type": "code",
   "execution_count": 2,
   "metadata": {
    "collapsed": false
   },
   "outputs": [],
   "source": [
    "\n",
    "import seaborn as sns\n",
    "import pandas as pd\n",
    "%matplotlib inline"
   ]
  },
  {
   "cell_type": "code",
   "execution_count": 4,
   "metadata": {
    "collapsed": true
   },
   "outputs": [],
   "source": [
    "cars=pd.read_csv(\"https://vincentarelbundock.github.io/Rdatasets/csv/datasets/mtcars.csv\")"
   ]
  },
  {
   "cell_type": "code",
   "execution_count": 7,
   "metadata": {
    "collapsed": false
   },
   "outputs": [
    {
     "data": {
      "text/plain": [
       "Index(['Unnamed: 0', 'mpg', 'cyl', 'disp', 'hp', 'drat', 'wt', 'qsec', 'vs',\n",
       "       'am', 'gear', 'carb'],\n",
       "      dtype='object')"
      ]
     },
     "execution_count": 7,
     "metadata": {},
     "output_type": "execute_result"
    }
   ],
   "source": [
    "cars.columns"
   ]
  },
  {
   "cell_type": "code",
   "execution_count": 8,
   "metadata": {
    "collapsed": true
   },
   "outputs": [],
   "source": [
    "cars.columns=['Brand', 'mpg', 'cyl', 'disp', 'hp', 'drat', 'wt', 'qsec', 'vs','am', 'gear', 'carb']"
   ]
  },
  {
   "cell_type": "code",
   "execution_count": 9,
   "metadata": {
    "collapsed": false
   },
   "outputs": [
    {
     "data": {
      "text/html": [
       "<div>\n",
       "<table border=\"1\" class=\"dataframe\">\n",
       "  <thead>\n",
       "    <tr style=\"text-align: right;\">\n",
       "      <th></th>\n",
       "      <th>Brand</th>\n",
       "      <th>mpg</th>\n",
       "      <th>cyl</th>\n",
       "      <th>disp</th>\n",
       "      <th>hp</th>\n",
       "      <th>drat</th>\n",
       "      <th>wt</th>\n",
       "      <th>qsec</th>\n",
       "      <th>vs</th>\n",
       "      <th>am</th>\n",
       "      <th>gear</th>\n",
       "      <th>carb</th>\n",
       "    </tr>\n",
       "  </thead>\n",
       "  <tbody>\n",
       "    <tr>\n",
       "      <th>0</th>\n",
       "      <td>Mazda RX4</td>\n",
       "      <td>21.0</td>\n",
       "      <td>6</td>\n",
       "      <td>160.0</td>\n",
       "      <td>110</td>\n",
       "      <td>3.90</td>\n",
       "      <td>2.620</td>\n",
       "      <td>16.46</td>\n",
       "      <td>0</td>\n",
       "      <td>1</td>\n",
       "      <td>4</td>\n",
       "      <td>4</td>\n",
       "    </tr>\n",
       "    <tr>\n",
       "      <th>1</th>\n",
       "      <td>Mazda RX4 Wag</td>\n",
       "      <td>21.0</td>\n",
       "      <td>6</td>\n",
       "      <td>160.0</td>\n",
       "      <td>110</td>\n",
       "      <td>3.90</td>\n",
       "      <td>2.875</td>\n",
       "      <td>17.02</td>\n",
       "      <td>0</td>\n",
       "      <td>1</td>\n",
       "      <td>4</td>\n",
       "      <td>4</td>\n",
       "    </tr>\n",
       "    <tr>\n",
       "      <th>2</th>\n",
       "      <td>Datsun 710</td>\n",
       "      <td>22.8</td>\n",
       "      <td>4</td>\n",
       "      <td>108.0</td>\n",
       "      <td>93</td>\n",
       "      <td>3.85</td>\n",
       "      <td>2.320</td>\n",
       "      <td>18.61</td>\n",
       "      <td>1</td>\n",
       "      <td>1</td>\n",
       "      <td>4</td>\n",
       "      <td>1</td>\n",
       "    </tr>\n",
       "    <tr>\n",
       "      <th>3</th>\n",
       "      <td>Hornet 4 Drive</td>\n",
       "      <td>21.4</td>\n",
       "      <td>6</td>\n",
       "      <td>258.0</td>\n",
       "      <td>110</td>\n",
       "      <td>3.08</td>\n",
       "      <td>3.215</td>\n",
       "      <td>19.44</td>\n",
       "      <td>1</td>\n",
       "      <td>0</td>\n",
       "      <td>3</td>\n",
       "      <td>1</td>\n",
       "    </tr>\n",
       "    <tr>\n",
       "      <th>4</th>\n",
       "      <td>Hornet Sportabout</td>\n",
       "      <td>18.7</td>\n",
       "      <td>8</td>\n",
       "      <td>360.0</td>\n",
       "      <td>175</td>\n",
       "      <td>3.15</td>\n",
       "      <td>3.440</td>\n",
       "      <td>17.02</td>\n",
       "      <td>0</td>\n",
       "      <td>0</td>\n",
       "      <td>3</td>\n",
       "      <td>2</td>\n",
       "    </tr>\n",
       "  </tbody>\n",
       "</table>\n",
       "</div>"
      ],
      "text/plain": [
       "               Brand   mpg  cyl   disp   hp  drat     wt   qsec  vs  am  gear  \\\n",
       "0          Mazda RX4  21.0    6  160.0  110  3.90  2.620  16.46   0   1     4   \n",
       "1      Mazda RX4 Wag  21.0    6  160.0  110  3.90  2.875  17.02   0   1     4   \n",
       "2         Datsun 710  22.8    4  108.0   93  3.85  2.320  18.61   1   1     4   \n",
       "3     Hornet 4 Drive  21.4    6  258.0  110  3.08  3.215  19.44   1   0     3   \n",
       "4  Hornet Sportabout  18.7    8  360.0  175  3.15  3.440  17.02   0   0     3   \n",
       "\n",
       "   carb  \n",
       "0     4  \n",
       "1     4  \n",
       "2     1  \n",
       "3     1  \n",
       "4     2  "
      ]
     },
     "execution_count": 9,
     "metadata": {},
     "output_type": "execute_result"
    }
   ],
   "source": [
    "cars.head()"
   ]
  },
  {
   "cell_type": "code",
   "execution_count": 10,
   "metadata": {
    "collapsed": false
   },
   "outputs": [
    {
     "data": {
      "text/plain": [
       "<matplotlib.axes._subplots.AxesSubplot at 0xb5569e8>"
      ]
     },
     "execution_count": 10,
     "metadata": {},
     "output_type": "execute_result"
    },
    {
     "data": {
      "image/png": "[encoded data removed]",
      "text/plain": [
       "<matplotlib.figure.Figure at 0xb54fb38>"
      ]
     },
     "metadata": {},
     "output_type": "display_data"
    }
   ],
   "source": [
    "sns.boxplot(x='gear',y='mpg',data=cars)"
   ]
  },
  {
   "cell_type": "code",
   "execution_count": 11,
   "metadata": {
    "collapsed": false
   },
   "outputs": [
    {
     "name": "stderr",
     "output_type": "stream",
     "text": [
      "C:\\Users\\Dell\\Anaconda3\\lib\\site-packages\\statsmodels\\nonparametric\\kdetools.py:20: VisibleDeprecationWarning: using a non-integer number instead of an integer will result in an error in the future\n",
      "  y = X[:m/2+1] + np.r_[0,X[m/2+1:],0]*1j\n"
     ]
    },
    {
     "data": {
      "text/plain": [
       "<matplotlib.axes._subplots.AxesSubplot at 0x6696358>"
      ]
     },
     "execution_count": 11,
     "metadata": {},
     "output_type": "execute_result"
    },
    {
     "data": {
      "image/png": "[encoded data removed]",
      "text/plain": [
       "<matplotlib.figure.Figure at 0x65b2128>"
      ]
     },
     "metadata": {},
     "output_type": "display_data"
    }
   ],
   "source": [
    "sns.distplot(cars.mpg, bins=20, kde=True, rug=False)"
   ]
  },
  {
   "cell_type": "code",
   "execution_count": 12,
   "metadata": {
    "collapsed": false
   },
   "outputs": [
    {
     "name": "stderr",
     "output_type": "stream",
     "text": [
      "C:\\Users\\Dell\\Anaconda3\\lib\\site-packages\\statsmodels\\nonparametric\\kdetools.py:20: VisibleDeprecationWarning: using a non-integer number instead of an integer will result in an error in the future\n",
      "  y = X[:m/2+1] + np.r_[0,X[m/2+1:],0]*1j\n"
     ]
    },
    {
     "data": {
      "text/plain": [
       "<matplotlib.axes._subplots.AxesSubplot at 0x66961d0>"
      ]
     },
     "execution_count": 12,
     "metadata": {},
     "output_type": "execute_result"
    },
    {
     "data": {
      "image/png": "[encoded data removed]",
      "text/plain": [
       "<matplotlib.figure.Figure at 0x66a9a20>"
      ]
     },
     "metadata": {},
     "output_type": "display_data"
    }
   ],
   "source": [
    "sns.distplot(cars.hp, bins=20, kde=True, rug=False)"
   ]
  },
  {
   "cell_type": "code",
   "execution_count": 13,
   "metadata": {
    "collapsed": false
   },
   "outputs": [
    {
     "data": {
      "text/plain": [
       "<seaborn.axisgrid.JointGrid at 0xbc37748>"
      ]
     },
     "execution_count": 13,
     "metadata": {},
     "output_type": "execute_result"
    },
    {
     "data": {
      "image/png": "[encoded data removed]",
      "text/plain": [
       "<matplotlib.figure.Figure at 0x65c2080>"
      ]
     },
     "metadata": {},
     "output_type": "display_data"
    }
   ],
   "source": [
    "sns.jointplot('hp','mpg',data=cars)"
   ]
  },
  {
   "cell_type": "code",
   "execution_count": 14,
   "metadata": {
    "collapsed": false
   },
   "outputs": [
    {
     "data": {
      "image/png": "[encoded data removed]",
      "text/plain": [
       "<matplotlib.figure.Figure at 0xbd535c0>"
      ]
     },
     "metadata": {},
     "output_type": "display_data"
    }
   ],
   "source": [
    "sns.factorplot(x=\"gear\", y=\"mpg\",col=\"cyl\", data=cars, kind=\"box\", size=4, aspect=.5);"
   ]
  },
  {
   "cell_type": "code",
   "execution_count": 16,
   "metadata": {
    "collapsed": false
   },
   "outputs": [
    {
     "data": {
      "image/png": "[encoded data removed]",
      "text/plain": [
       "<matplotlib.figure.Figure at 0xc0bf828>"
      ]
     },
     "metadata": {},
     "output_type": "display_data"
    }
   ],
   "source": [
    "sns.factorplot(x=\"gear\", y=\"mpg\",col=\"cyl\", data=cars, kind=\"bar\", size=4, aspect=.5);"
   ]
  },
  {
   "cell_type": "code",
   "execution_count": 18,
   "metadata": {
    "collapsed": true
   },
   "outputs": [],
   "source": [
    "import os as os"
   ]
  },
  {
   "cell_type": "code",
   "execution_count": 19,
   "metadata": {
    "collapsed": false
   },
   "outputs": [
    {
     "data": {
      "text/plain": [
       "'C:\\\\Users\\\\Dell'"
      ]
     },
     "execution_count": 19,
     "metadata": {},
     "output_type": "execute_result"
    }
   ],
   "source": [
    "os.getcwd()"
   ]
  },
  {
   "cell_type": "code",
   "execution_count": 20,
   "metadata": {
    "collapsed": true
   },
   "outputs": [],
   "source": [
    "os.chdir('C:\\\\Users\\\\Dell\\\\Downloads\\\\')"
   ]
  },
  {
   "cell_type": "code",
   "execution_count": 21,
   "metadata": {
    "collapsed": false
   },
   "outputs": [
    {
     "data": {
      "text/plain": [
       "['140749_2017.pdf',\n",
       " '2011-F01-0700-Rev4-MDDS.XLSX',\n",
       " '20150817143155.pdf',\n",
       " '20160111060911.pdf',\n",
       " '20170214052225.pdf',\n",
       " '7z1604-x64.exe',\n",
       " '7z1604.exe',\n",
       " '861415_10151432783238421_2124270505_o (1).jpg',\n",
       " '861415_10151432783238421_2124270505_o.jpg',\n",
       " 'AirPassengers.csv',\n",
       " 'ajayo.jpg',\n",
       " 'Alison Python  Invoice   - Sheet1.pdf',\n",
       " 'Alison SAS  Invoice   - Sheet1.pdf',\n",
       " 'All+CSV+Files+in+a+Folder.ipynb',\n",
       " 'Allison Interview Jones Invoice   - Sheet1.pdf',\n",
       " 'Anaconda3-4.2.0-Windows-x86_64.exe',\n",
       " 'anscombe+dataset.ipynb',\n",
       " 'apachehttpd.exe',\n",
       " 'April invoice adaptive analytics   - Sheet1.pdf',\n",
       " 'Assignment14_BusinessAnalytics (1).docx',\n",
       " 'Assignment14_BusinessAnalytics.docx',\n",
       " 'Assignment15_BusinessAnalytics.docx',\n",
       " 'Assignment16_BusinessAnalytics (1).docx',\n",
       " 'Assignment16_BusinessAnalytics (2).docx',\n",
       " 'Assignment16_BusinessAnalytics.docx',\n",
       " 'aug ust 2008.JPG',\n",
       " 'avast_free_antivirus_setup_online.exe',\n",
       " 'avinash_ltv.zip',\n",
       " 'BigDiamonds.csv',\n",
       " 'BigDiamonds.csv (1).zip',\n",
       " 'BigDiamonds.csv (2)',\n",
       " 'BigDiamonds.csv (2).zip',\n",
       " 'BigDiamonds.csv (3).zip',\n",
       " 'BigDiamonds.csv.zip',\n",
       " 'Boston (1).csv',\n",
       " 'Boston.csv',\n",
       " 'CAM- Ajay Ohri (1).pdf',\n",
       " 'CAM- Ajay Ohri.pdf',\n",
       " 'camtasia.exe',\n",
       " 'ccFraud.csv',\n",
       " 'Certificate of Incorporation - U74999DL2015PTC282030 (26 June 2015).pdf',\n",
       " 'CHAP1-6PythonforRUsersAnapproachforDataScience.docx',\n",
       " 'chapter+3+_+spark.html',\n",
       " 'chi+square+test.ipynb',\n",
       " 'chromeinstall-8u111.exe',\n",
       " 'Cisco_WebEx_Add-On.exe',\n",
       " 'class2.csv',\n",
       " 'Collabera Invoice (1).pdf',\n",
       " 'Collabera Invoice.pdf',\n",
       " 'Collectcent Invoice.pdf',\n",
       " 'college degrees.pdf',\n",
       " 'DAP 1.pdf',\n",
       " 'DAP 1.pptx',\n",
       " 'DAP 6 RDBMS and SQL.pdf',\n",
       " 'DAP 6 RDBMS and SQL.pptx',\n",
       " 'Data Analysis (1).7z',\n",
       " 'Data Analysis (1).rar',\n",
       " 'Data Analysis (2).rar',\n",
       " 'Data Analysis (3).rar',\n",
       " 'Data Analysis.rar',\n",
       " 'Data Viz.pptx',\n",
       " 'data+exploration.ipynb',\n",
       " 'data+manipulation.ipynb',\n",
       " 'data+munging+again.ipynb',\n",
       " 'data+viz.ipynb',\n",
       " 'data+wrangling+titanic+dataset.ipynb',\n",
       " 'data1.csv',\n",
       " 'datasets.csv',\n",
       " 'Decision Trees.pdf',\n",
       " 'DecisionStatsOfferLetter.docx',\n",
       " 'DecisionStatsRelievingLetter.docx',\n",
       " 'descriptive+stats+in+Python.ipynb',\n",
       " 'desktop.ini',\n",
       " 'Diamond (1).csv',\n",
       " 'Diamond (2).csv',\n",
       " 'Diamond (3).csv',\n",
       " 'Diamond (4).csv',\n",
       " 'Diamond (5).csv',\n",
       " 'Diamond (6).csv',\n",
       " 'Diamond (7).csv',\n",
       " 'Diamond (8).csv',\n",
       " 'Diamond.csv',\n",
       " 'DolbyVoiceClient.msi',\n",
       " 'DropboxInstaller.exe',\n",
       " 'edb_npgsql.exe',\n",
       " 'edb_pgjdbc.exe',\n",
       " 'edb_psqlodbc.exe',\n",
       " 'edb_psqlodbc.exe-20170203172812',\n",
       " 'edb_psqlodbc.exe-20170307203617',\n",
       " 'final invoice edureka  - Sheet1.pdf',\n",
       " 'FinalPythonforRUsersAnapproachforDataScience (1).docx',\n",
       " 'FinalPythonforRUsersAnapproachforDataScience (2).docx',\n",
       " 'FinalPythonforRUsersAnapproachforDataScience (3).docx',\n",
       " 'FinalPythonforRUsersAnapproachforDataScience (4).docx',\n",
       " 'FinalPythonforRUsersAnapproachforDataScience.docx',\n",
       " 'final_webinar (1).pdf',\n",
       " 'final_webinar.pdf',\n",
       " 'Git-2.11.0-64-bit.exe',\n",
       " 'Git-2.12.0-64-bit.exe',\n",
       " 'GitHubSetup (1).exe',\n",
       " 'GitHubSetup (2).exe',\n",
       " 'GitHubSetup.exe',\n",
       " 'GOMAUDIOGLOBALSETUP.EXE',\n",
       " 'Hdma.csv',\n",
       " 'Hedonic.csv',\n",
       " 'HP Downloads',\n",
       " 'HPSupportSolutionsFramework-12.5.32.203.exe',\n",
       " 'image.png',\n",
       " 'IMS PROSCHOOL Workshop.pptx.pdf',\n",
       " 'IMS PROSCHOOL Workshop.pptx.pptx',\n",
       " 'internship.docx',\n",
       " 'Introduction to SAS (1).pdf',\n",
       " 'Introduction to SAS Part 1 (1).pdf',\n",
       " 'Introduction to SAS Part 1.pdf',\n",
       " 'Introduction to SAS.pdf',\n",
       " 'introductory+python.ipynb',\n",
       " 'Invoice for Digital Vidya.pdf',\n",
       " 'Invoice for Weekendr.pdf',\n",
       " 'Invoice format - Ajay Ohri CONTATA (1).xls',\n",
       " 'Invoice format - Ajay Ohri CONTATA.xls',\n",
       " 'invoice rapid miner.pdf',\n",
       " 'Invoice trafla format.docx',\n",
       " 'iris2 (1).ipynb',\n",
       " 'iris2 (2).ipynb',\n",
       " 'iris2.ipynb',\n",
       " 'January invoice Indicus  .pdf',\n",
       " 'June AV   Invoice   - Sheet1.pdf',\n",
       " 'Lecture 6 - KNN & Naive Bayes.ppt',\n",
       " 'Local Disk (C) - Shortcut.lnk',\n",
       " 'logistic regression - script for ppt.R',\n",
       " 'logistic_regression_-_script_for_ppt.html',\n",
       " 'lyncentry.exe',\n",
       " 'March invoice Indicus   - Sheet1.pdf',\n",
       " 'matplotlib+cars.ipynb',\n",
       " 'matplotlib+line+graph.ipynb',\n",
       " 'mongodb-win32-x86_64-2008plus-ssl-3.4.2-signed.msi',\n",
       " 'mongodb-win32-x86_64-3.4.2-signed.msi',\n",
       " 'mortDefault',\n",
       " 'mortDefault.zip',\n",
       " 'mtcarslm.R',\n",
       " 'multiple+file+concat+in+pandas (1).ipynb',\n",
       " 'multiple+file+concat+in+pandas.ipynb',\n",
       " 'my+first+class+in+python.ipynb',\n",
       " 'nltk.ipynb',\n",
       " 'notebook-Copy1.html',\n",
       " 'Offer Letter - Ajay Ohri (1).pdf',\n",
       " 'Offer Letter - Ajay Ohri.pdf',\n",
       " 'Other Data Mining  Methods (1).pdf',\n",
       " 'Other Data Mining  Methods.pdf',\n",
       " 'output1 (1).xls',\n",
       " 'output1 (2).xls',\n",
       " 'output1.xls',\n",
       " 'pandas+11.ipynb',\n",
       " 'pandas+analysis+1.ipynb',\n",
       " 'pandas+data+manipulation.ipynb',\n",
       " 'passport image.pdf',\n",
       " 'Pawconinvoice2016.pdf',\n",
       " 'Pawconinvoice2017 (1).pdf',\n",
       " 'Pawconinvoice2017 (2).pdf',\n",
       " 'Pawconinvoice2017 (3).pdf',\n",
       " 'Pawconinvoice2017.pdf',\n",
       " 'Payslip Feb 2016 - Sheet1.pdf',\n",
       " 'Payslip Feb 2016.pdf',\n",
       " 'Payslip Format Decisionstats - Sheet1.pdf',\n",
       " 'Payslip Jan 2016 - Sheet1.pdf',\n",
       " 'Payslip Jan 2016.pdf',\n",
       " 'Payslip March 2016 - Sheet1.pdf',\n",
       " 'Payslip March 2016.pdf',\n",
       " 'pgd.csv',\n",
       " 'postgresql-9.6.1-1-windows-x64.exe',\n",
       " 'Program 1-results.rtf',\n",
       " 'protein.csv',\n",
       " 'python+with+postgres (1).ipynb',\n",
       " 'python+with+postgres.ipynb',\n",
       " 'Python.docx',\n",
       " 'R-3.3.2-win.exe',\n",
       " 'R-3.3.3-win.exe',\n",
       " 'RCertificationExam.pdf',\n",
       " 'reg+model.ipynb',\n",
       " 'Revision -  Business Analytics (1).pdf',\n",
       " 'Revision -  Business Analytics.pdf',\n",
       " 'RidingMowers.csv',\n",
       " 'rsconnect',\n",
       " 'RStudio-1.0.136.exe',\n",
       " 'Salary Slip, Feb 2016.pdf',\n",
       " 'Salary Slip, Jan 2016.pdf',\n",
       " 'Salary Slip, March 2016 (1).pdf',\n",
       " 'Salary Slip, March 2016 (2).pdf',\n",
       " 'Salary Slip, March 2016.pdf',\n",
       " 'sales-of-shampoo-over-a-three-ye.csv',\n",
       " 'SAS part 2.pdf',\n",
       " 'SAS Part 3.pdf',\n",
       " 'sas-university-edition-107140.pdf',\n",
       " 'Scan0095.pdf',\n",
       " 'Scanned Invoice for Collabera.pdf',\n",
       " 'Screenshot 2017-01-23 12.36.55.png',\n",
       " 'September invoice adaptive analytics   - Sheet1.pdf',\n",
       " 'simple+matplot+graph.ipynb',\n",
       " 'Sollers January.pdf',\n",
       " 'sqlalchemy.ipynb',\n",
       " 'stackoverflow-dump-analysis.html',\n",
       " 'Sunstone.pdf',\n",
       " 'Tableau.pdf',\n",
       " 'TableauPublicDesktop-64bit-10-1-3.exe',\n",
       " 'TableauPublicDesktop-64bit-10-1-4.exe',\n",
       " 'telecom.csv',\n",
       " 'TelecomServiceProviderCaseStudy.pdf',\n",
       " 'test+web+scraping.ipynb',\n",
       " 'Text Mining (1).pdf',\n",
       " 'Text Mining.pdf',\n",
       " 'third.sas7bdat',\n",
       " 'Time Series  Forecasting (1).pdf',\n",
       " 'Time Series  Forecasting.pdf',\n",
       " 'ts.html',\n",
       " 'ts.R',\n",
       " 'Unconfirmed 373974.crdownload',\n",
       " 'Unconfirmed 376991.crdownload',\n",
       " 'Unconfirmed 950045.crdownload',\n",
       " 'uTorrent.exe',\n",
       " 'VirtualBox-5.1.8-111374-Win (1).exe',\n",
       " 'VirtualBox-5.1.8-111374-Win.exe',\n",
       " 'visualcppbuildtools_full.exe',\n",
       " 'Web+Scraping+Yelp+with+Beautiful+Soup.ipynb',\n",
       " 'Webinar for Business Analytics.pdf',\n",
       " 'WhatsApp Image 2017-02-18 at 08.42.55 (1).jpeg',\n",
       " 'WhatsApp Image 2017-02-18 at 08.42.55.jpeg']"
      ]
     },
     "execution_count": 21,
     "metadata": {},
     "output_type": "execute_result"
    }
   ],
   "source": [
    "os.listdir()"
   ]
  },
  {
   "cell_type": "code",
   "execution_count": 22,
   "metadata": {
    "collapsed": false
   },
   "outputs": [],
   "source": [
    "fraud=pd.read_csv(\"ccFraud.csv\")"
   ]
  },
  {
   "cell_type": "code",
   "execution_count": 25,
   "metadata": {
    "collapsed": false
   },
   "outputs": [
    {
     "data": {
      "text/plain": [
       "Index(['custID', 'gender', 'state', 'cardholder', 'balance', 'numTrans',\n",
       "       'numIntlTrans', 'creditLine', 'fraudRisk'],\n",
       "      dtype='object')"
      ]
     },
     "execution_count": 25,
     "metadata": {},
     "output_type": "execute_result"
    }
   ],
   "source": [
    "fraud.columns"
   ]
  },
  {
   "cell_type": "code",
   "execution_count": 26,
   "metadata": {
    "collapsed": false
   },
   "outputs": [
    {
     "data": {
      "text/plain": [
       "<matplotlib.axes._subplots.AxesSubplot at 0xc2592b0>"
      ]
     },
     "execution_count": 26,
     "metadata": {},
     "output_type": "execute_result"
    },
    {
     "data": {
      "image/png": "[encoded data removed]",
      "text/plain": [
       "<matplotlib.figure.Figure at 0xc26e160>"
      ]
     },
     "metadata": {},
     "output_type": "display_data"
    }
   ],
   "source": [
    "sns.boxplot(x='fraudRisk',y='balance',data=fraud)"
   ]
  },
  {
   "cell_type": "code",
   "execution_count": null,
   "metadata": {
    "collapsed": false
   },
   "outputs": [],
   "source": [
    "sns.factorplot(x=\"gender\", y=\"balance\",col=\"fraudRisk\", data=fraud, kind=\"bar\", size=4, aspect=.5);"
   ]
  },
  {
   "cell_type": "code",
   "execution_count": null,
   "metadata": {
    "collapsed": true
   },
   "outputs": [],
   "source": [
    "sns.distplot(fraud.fraudRisk, bins=20, kde=True, rug=False)"
   ]
  }
 ],
 "metadata": {
  "kernelspec": {
   "display_name": "Python [default]",
   "language": "python",
   "name": "python3"
  },
  "language_info": {
   "codemirror_mode": {
    "name": "ipython",
    "version": 3
   },
   "file_extension": ".py",
   "mimetype": "text/x-python",
   "name": "python",
   "nbconvert_exporter": "python",
   "pygments_lexer": "ipython3",
   "version": "3.5.2"
  }
 },
 "nbformat": 4,
 "nbformat_minor": 1
}
