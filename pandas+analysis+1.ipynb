{
 "cells": [
  {
   "cell_type": "code",
   "execution_count": 1,
   "metadata": {
    "collapsed": true
   },
   "outputs": [],
   "source": [
    "import os as os"
   ]
  },
  {
   "cell_type": "code",
   "execution_count": 2,
   "metadata": {
    "collapsed": false
   },
   "outputs": [
    {
     "data": {
      "text/plain": [
       "'C:\\\\Users\\\\Dell'"
      ]
     },
     "execution_count": 2,
     "metadata": {},
     "output_type": "execute_result"
    }
   ],
   "source": [
    "os.getcwd()"
   ]
  },
  {
   "cell_type": "code",
   "execution_count": 3,
   "metadata": {
    "collapsed": true
   },
   "outputs": [],
   "source": [
    "os.chdir('C:\\\\Users\\\\Dell\\\\Downloads')"
   ]
  },
  {
   "cell_type": "code",
   "execution_count": 4,
   "metadata": {
    "collapsed": false
   },
   "outputs": [
    {
     "data": {
      "text/plain": [
       "['140749_2017.pdf',\n",
       " '2011-F01-0700-Rev4-MDDS.XLSX',\n",
       " '20150817143155.pdf',\n",
       " '20160111060911.pdf',\n",
       " '20170214052225.pdf',\n",
       " '861415_10151432783238421_2124270505_o (1).jpg',\n",
       " '861415_10151432783238421_2124270505_o.jpg',\n",
       " 'AirPassengers.csv',\n",
       " 'ajayo.jpg',\n",
       " 'Alison Python  Invoice   - Sheet1.pdf',\n",
       " 'Alison SAS  Invoice   - Sheet1.pdf',\n",
       " 'Allison Interview Jones Invoice   - Sheet1.pdf',\n",
       " 'Anaconda3-4.2.0-Windows-x86_64.exe',\n",
       " 'apachehttpd.exe',\n",
       " 'April invoice adaptive analytics   - Sheet1.pdf',\n",
       " 'Assignment14_BusinessAnalytics (1).docx',\n",
       " 'Assignment14_BusinessAnalytics.docx',\n",
       " 'Assignment15_BusinessAnalytics.docx',\n",
       " 'Assignment16_BusinessAnalytics (1).docx',\n",
       " 'Assignment16_BusinessAnalytics (2).docx',\n",
       " 'Assignment16_BusinessAnalytics.docx',\n",
       " 'aug ust 2008.JPG',\n",
       " 'avast_free_antivirus_setup_online.exe',\n",
       " 'avinash_ltv.zip',\n",
       " 'BigDiamonds.csv',\n",
       " 'BigDiamonds.csv (1).zip',\n",
       " 'BigDiamonds.csv (2)',\n",
       " 'BigDiamonds.csv (2).zip',\n",
       " 'BigDiamonds.csv.zip',\n",
       " 'Boston (1).csv',\n",
       " 'Boston.csv',\n",
       " 'CAM- Ajay Ohri (1).pdf',\n",
       " 'CAM- Ajay Ohri.pdf',\n",
       " 'camtasia.exe',\n",
       " 'ccFraud (1).csv.crdownload',\n",
       " 'ccFraud.csv',\n",
       " 'Certificate of Incorporation - U74999DL2015PTC282030 (26 June 2015).pdf',\n",
       " 'CHAP1-6PythonforRUsersAnapproachforDataScience.docx',\n",
       " 'chapter+3+_+spark.html',\n",
       " 'chi+square+test.ipynb',\n",
       " 'chromeinstall-8u111.exe',\n",
       " 'Cisco_WebEx_Add-On.exe',\n",
       " 'class2.csv',\n",
       " 'Collabera Invoice (1).pdf',\n",
       " 'Collabera Invoice.pdf',\n",
       " 'Collectcent Invoice.pdf',\n",
       " 'college degrees.pdf',\n",
       " 'DAP 1.pdf',\n",
       " 'DAP 1.pptx',\n",
       " 'DAP 6 RDBMS and SQL.pdf',\n",
       " 'DAP 6 RDBMS and SQL.pptx',\n",
       " 'data+exploration.ipynb',\n",
       " 'data+manipulation.ipynb',\n",
       " 'data1.csv',\n",
       " 'datasets.csv',\n",
       " 'Decision Trees.pdf',\n",
       " 'DecisionStatsOfferLetter.docx',\n",
       " 'DecisionStatsRelievingLetter.docx',\n",
       " 'descriptive+stats+in+Python.ipynb',\n",
       " 'desktop.ini',\n",
       " 'Diamond (1).csv',\n",
       " 'Diamond (2).csv',\n",
       " 'Diamond (3).csv',\n",
       " 'Diamond (4).csv',\n",
       " 'Diamond (5).csv',\n",
       " 'Diamond (6).csv',\n",
       " 'Diamond.csv',\n",
       " 'DropboxInstaller.exe',\n",
       " 'edb_npgsql.exe',\n",
       " 'edb_pgjdbc.exe',\n",
       " 'edb_psqlodbc.exe',\n",
       " 'edb_psqlodbc.exe-20170203172812',\n",
       " 'edb_psqlodbc.exe-20170307203617',\n",
       " 'final invoice edureka  - Sheet1.pdf',\n",
       " 'FinalPythonforRUsersAnapproachforDataScience (1).docx',\n",
       " 'FinalPythonforRUsersAnapproachforDataScience (2).docx',\n",
       " 'FinalPythonforRUsersAnapproachforDataScience (3).docx',\n",
       " 'FinalPythonforRUsersAnapproachforDataScience (4).docx',\n",
       " 'FinalPythonforRUsersAnapproachforDataScience.docx',\n",
       " 'final_webinar (1).pdf',\n",
       " 'final_webinar.pdf',\n",
       " 'Git-2.11.0-64-bit.exe',\n",
       " 'Git-2.12.0-64-bit.exe',\n",
       " 'GitHubSetup (1).exe',\n",
       " 'GitHubSetup (2).exe',\n",
       " 'GitHubSetup.exe',\n",
       " 'GOMAUDIOGLOBALSETUP.EXE',\n",
       " 'HP Downloads',\n",
       " 'HPSupportSolutionsFramework-12.5.32.203.exe',\n",
       " 'image.png',\n",
       " 'IMS PROSCHOOL Workshop.pptx.pdf',\n",
       " 'IMS PROSCHOOL Workshop.pptx.pptx',\n",
       " 'Introduction to SAS (1).pdf',\n",
       " 'Introduction to SAS Part 1 (1).pdf',\n",
       " 'Introduction to SAS Part 1.pdf',\n",
       " 'Introduction to SAS.pdf',\n",
       " 'Invoice for Digital Vidya.pdf',\n",
       " 'Invoice for Weekendr.pdf',\n",
       " 'Invoice format - Ajay Ohri CONTATA (1).xls',\n",
       " 'Invoice format - Ajay Ohri CONTATA.xls',\n",
       " 'invoice rapid miner.pdf',\n",
       " 'iris2 (1).ipynb',\n",
       " 'iris2 (2).ipynb',\n",
       " 'iris2.ipynb',\n",
       " 'January invoice Indicus  .pdf',\n",
       " 'June AV   Invoice   - Sheet1.pdf',\n",
       " 'Lecture 6 - KNN & Naive Bayes.ppt',\n",
       " 'Local Disk (C) - Shortcut.lnk',\n",
       " 'logistic regression - script for ppt.R',\n",
       " 'logistic_regression_-_script_for_ppt.html',\n",
       " 'March invoice Indicus   - Sheet1.pdf',\n",
       " 'mongodb-win32-x86_64-2008plus-ssl-3.4.2-signed.msi',\n",
       " 'mongodb-win32-x86_64-3.4.2-signed.msi',\n",
       " 'mtcarslm.R',\n",
       " 'nltk.ipynb',\n",
       " 'notebook-Copy1.html',\n",
       " 'Offer Letter - Ajay Ohri (1).pdf',\n",
       " 'Offer Letter - Ajay Ohri.pdf',\n",
       " 'Other Data Mining  Methods (1).pdf',\n",
       " 'Other Data Mining  Methods.pdf',\n",
       " 'output1 (1).xls',\n",
       " 'output1 (2).xls',\n",
       " 'output1.xls',\n",
       " 'passport image.pdf',\n",
       " 'Pawconinvoice2016.pdf',\n",
       " 'Pawconinvoice2017 (1).pdf',\n",
       " 'Pawconinvoice2017 (2).pdf',\n",
       " 'Pawconinvoice2017 (3).pdf',\n",
       " 'Pawconinvoice2017.pdf',\n",
       " 'Payslip Feb 2016 - Sheet1.pdf',\n",
       " 'Payslip Feb 2016.pdf',\n",
       " 'Payslip Format Decisionstats - Sheet1.pdf',\n",
       " 'Payslip Jan 2016 - Sheet1.pdf',\n",
       " 'Payslip Jan 2016.pdf',\n",
       " 'Payslip March 2016 - Sheet1.pdf',\n",
       " 'Payslip March 2016.pdf',\n",
       " 'pgd.csv',\n",
       " 'postgresql-9.6.1-1-windows-x64.exe',\n",
       " 'Program 1-results.rtf',\n",
       " 'protein.csv',\n",
       " 'python+with+postgres (1).ipynb',\n",
       " 'python+with+postgres.ipynb',\n",
       " 'R-3.3.2-win.exe',\n",
       " 'R-3.3.3-win.exe',\n",
       " 'RCertificationExam.pdf',\n",
       " 'reg+model.ipynb',\n",
       " 'Revision -  Business Analytics (1).pdf',\n",
       " 'Revision -  Business Analytics.pdf',\n",
       " 'RidingMowers.csv',\n",
       " 'rsconnect',\n",
       " 'RStudio-1.0.136.exe',\n",
       " 'Salary Slip, Feb 2016.pdf',\n",
       " 'Salary Slip, Jan 2016.pdf',\n",
       " 'Salary Slip, March 2016 (1).pdf',\n",
       " 'Salary Slip, March 2016 (2).pdf',\n",
       " 'Salary Slip, March 2016.pdf',\n",
       " 'sales-of-shampoo-over-a-three-ye.csv',\n",
       " 'SAS part 2.pdf',\n",
       " 'SAS Part 3.pdf',\n",
       " 'sas-university-edition-107140.pdf',\n",
       " 'Scan0095.pdf',\n",
       " 'Scanned Invoice for Collabera.pdf',\n",
       " 'Screenshot 2017-01-23 12.36.55.png',\n",
       " 'September invoice adaptive analytics   - Sheet1.pdf',\n",
       " 'Sollers January.pdf',\n",
       " 'sqlalchemy.ipynb',\n",
       " 'stackoverflow-dump-analysis.html',\n",
       " 'Sunstone.pdf',\n",
       " 'Tableau.pdf',\n",
       " 'TableauPublicDesktop-64bit-10-1-3.exe',\n",
       " 'TableauPublicDesktop-64bit-10-1-4.exe',\n",
       " 'telecom.csv',\n",
       " 'TelecomServiceProviderCaseStudy.pdf',\n",
       " 'Text Mining (1).pdf',\n",
       " 'Text Mining.pdf',\n",
       " 'third.sas7bdat',\n",
       " 'Time Series  Forecasting (1).pdf',\n",
       " 'Time Series  Forecasting.pdf',\n",
       " 'ts.html',\n",
       " 'ts.R',\n",
       " 'Unconfirmed 373974.crdownload',\n",
       " 'Unconfirmed 376562.crdownload',\n",
       " 'Unconfirmed 376991.crdownload',\n",
       " 'Unconfirmed 930917.crdownload',\n",
       " 'Unconfirmed 950045.crdownload',\n",
       " 'unvbasicvapp__9411008__ova__en__sp0__1.ova.crdownload',\n",
       " 'VirtualBox-5.1.8-111374-Win (1).exe',\n",
       " 'VirtualBox-5.1.8-111374-Win.exe',\n",
       " 'Webinar for Business Analytics.pdf',\n",
       " 'WhatsApp Image 2017-02-18 at 08.42.55 (1).jpeg',\n",
       " 'WhatsApp Image 2017-02-18 at 08.42.55.jpeg']"
      ]
     },
     "execution_count": 4,
     "metadata": {},
     "output_type": "execute_result"
    }
   ],
   "source": [
    "os.listdir()"
   ]
  },
  {
   "cell_type": "code",
   "execution_count": 5,
   "metadata": {
    "collapsed": true
   },
   "outputs": [],
   "source": [
    "import pandas as pd"
   ]
  },
  {
   "cell_type": "code",
   "execution_count": 6,
   "metadata": {
    "collapsed": true
   },
   "outputs": [],
   "source": [
    "cfraud=pd.read_csv(\"ccFraud.csv\")"
   ]
  },
  {
   "cell_type": "code",
   "execution_count": 7,
   "metadata": {
    "collapsed": false
   },
   "outputs": [
    {
     "data": {
      "text/html": [
       "<div>\n",
       "<table border=\"1\" class=\"dataframe\">\n",
       "  <thead>\n",
       "    <tr style=\"text-align: right;\">\n",
       "      <th></th>\n",
       "      <th>custID</th>\n",
       "      <th>gender</th>\n",
       "      <th>state</th>\n",
       "      <th>cardholder</th>\n",
       "      <th>balance</th>\n",
       "      <th>numTrans</th>\n",
       "      <th>numIntlTrans</th>\n",
       "      <th>creditLine</th>\n",
       "      <th>fraudRisk</th>\n",
       "    </tr>\n",
       "  </thead>\n",
       "  <tbody>\n",
       "    <tr>\n",
       "      <th>0</th>\n",
       "      <td>1</td>\n",
       "      <td>1</td>\n",
       "      <td>35</td>\n",
       "      <td>1</td>\n",
       "      <td>3000</td>\n",
       "      <td>4</td>\n",
       "      <td>14</td>\n",
       "      <td>2</td>\n",
       "      <td>0</td>\n",
       "    </tr>\n",
       "    <tr>\n",
       "      <th>1</th>\n",
       "      <td>2</td>\n",
       "      <td>2</td>\n",
       "      <td>2</td>\n",
       "      <td>1</td>\n",
       "      <td>0</td>\n",
       "      <td>9</td>\n",
       "      <td>0</td>\n",
       "      <td>18</td>\n",
       "      <td>0</td>\n",
       "    </tr>\n",
       "    <tr>\n",
       "      <th>2</th>\n",
       "      <td>3</td>\n",
       "      <td>2</td>\n",
       "      <td>2</td>\n",
       "      <td>1</td>\n",
       "      <td>0</td>\n",
       "      <td>27</td>\n",
       "      <td>9</td>\n",
       "      <td>16</td>\n",
       "      <td>0</td>\n",
       "    </tr>\n",
       "    <tr>\n",
       "      <th>3</th>\n",
       "      <td>4</td>\n",
       "      <td>1</td>\n",
       "      <td>15</td>\n",
       "      <td>1</td>\n",
       "      <td>0</td>\n",
       "      <td>12</td>\n",
       "      <td>0</td>\n",
       "      <td>5</td>\n",
       "      <td>0</td>\n",
       "    </tr>\n",
       "    <tr>\n",
       "      <th>4</th>\n",
       "      <td>5</td>\n",
       "      <td>1</td>\n",
       "      <td>46</td>\n",
       "      <td>1</td>\n",
       "      <td>0</td>\n",
       "      <td>11</td>\n",
       "      <td>16</td>\n",
       "      <td>7</td>\n",
       "      <td>0</td>\n",
       "    </tr>\n",
       "  </tbody>\n",
       "</table>\n",
       "</div>"
      ],
      "text/plain": [
       "   custID  gender  state  cardholder  balance  numTrans  numIntlTrans  \\\n",
       "0       1       1     35           1     3000         4            14   \n",
       "1       2       2      2           1        0         9             0   \n",
       "2       3       2      2           1        0        27             9   \n",
       "3       4       1     15           1        0        12             0   \n",
       "4       5       1     46           1        0        11            16   \n",
       "\n",
       "   creditLine  fraudRisk  \n",
       "0           2          0  \n",
       "1          18          0  \n",
       "2          16          0  \n",
       "3           5          0  \n",
       "4           7          0  "
      ]
     },
     "execution_count": 7,
     "metadata": {},
     "output_type": "execute_result"
    }
   ],
   "source": [
    "cfraud.head()"
   ]
  },
  {
   "cell_type": "code",
   "execution_count": 8,
   "metadata": {
    "collapsed": false
   },
   "outputs": [
    {
     "data": {
      "text/html": [
       "<div>\n",
       "<table border=\"1\" class=\"dataframe\">\n",
       "  <thead>\n",
       "    <tr style=\"text-align: right;\">\n",
       "      <th></th>\n",
       "      <th>custID</th>\n",
       "      <th>gender</th>\n",
       "      <th>state</th>\n",
       "      <th>cardholder</th>\n",
       "      <th>balance</th>\n",
       "      <th>numTrans</th>\n",
       "      <th>numIntlTrans</th>\n",
       "      <th>creditLine</th>\n",
       "      <th>fraudRisk</th>\n",
       "    </tr>\n",
       "  </thead>\n",
       "  <tbody>\n",
       "    <tr>\n",
       "      <th>count</th>\n",
       "      <td>1.000000e+07</td>\n",
       "      <td>1.000000e+07</td>\n",
       "      <td>1.000000e+07</td>\n",
       "      <td>1.000000e+07</td>\n",
       "      <td>1.000000e+07</td>\n",
       "      <td>1.000000e+07</td>\n",
       "      <td>1.000000e+07</td>\n",
       "      <td>1.000000e+07</td>\n",
       "      <td>1.000000e+07</td>\n",
       "    </tr>\n",
       "    <tr>\n",
       "      <th>mean</th>\n",
       "      <td>5.000000e+06</td>\n",
       "      <td>1.382177e+00</td>\n",
       "      <td>2.466127e+01</td>\n",
       "      <td>1.030004e+00</td>\n",
       "      <td>4.109920e+03</td>\n",
       "      <td>2.893519e+01</td>\n",
       "      <td>4.047190e+00</td>\n",
       "      <td>9.134469e+00</td>\n",
       "      <td>5.960140e-02</td>\n",
       "    </tr>\n",
       "    <tr>\n",
       "      <th>std</th>\n",
       "      <td>2.886751e+06</td>\n",
       "      <td>4.859195e-01</td>\n",
       "      <td>1.497012e+01</td>\n",
       "      <td>1.705991e-01</td>\n",
       "      <td>3.996847e+03</td>\n",
       "      <td>2.655378e+01</td>\n",
       "      <td>8.602970e+00</td>\n",
       "      <td>9.641974e+00</td>\n",
       "      <td>2.367469e-01</td>\n",
       "    </tr>\n",
       "    <tr>\n",
       "      <th>min</th>\n",
       "      <td>1.000000e+00</td>\n",
       "      <td>1.000000e+00</td>\n",
       "      <td>1.000000e+00</td>\n",
       "      <td>1.000000e+00</td>\n",
       "      <td>0.000000e+00</td>\n",
       "      <td>0.000000e+00</td>\n",
       "      <td>0.000000e+00</td>\n",
       "      <td>1.000000e+00</td>\n",
       "      <td>0.000000e+00</td>\n",
       "    </tr>\n",
       "    <tr>\n",
       "      <th>25%</th>\n",
       "      <td>2.500001e+06</td>\n",
       "      <td>1.000000e+00</td>\n",
       "      <td>1.000000e+01</td>\n",
       "      <td>1.000000e+00</td>\n",
       "      <td>0.000000e+00</td>\n",
       "      <td>1.000000e+01</td>\n",
       "      <td>0.000000e+00</td>\n",
       "      <td>4.000000e+00</td>\n",
       "      <td>0.000000e+00</td>\n",
       "    </tr>\n",
       "    <tr>\n",
       "      <th>50%</th>\n",
       "      <td>5.000000e+06</td>\n",
       "      <td>1.000000e+00</td>\n",
       "      <td>2.400000e+01</td>\n",
       "      <td>1.000000e+00</td>\n",
       "      <td>3.706000e+03</td>\n",
       "      <td>1.900000e+01</td>\n",
       "      <td>0.000000e+00</td>\n",
       "      <td>6.000000e+00</td>\n",
       "      <td>0.000000e+00</td>\n",
       "    </tr>\n",
       "    <tr>\n",
       "      <th>75%</th>\n",
       "      <td>7.500000e+06</td>\n",
       "      <td>2.000000e+00</td>\n",
       "      <td>3.800000e+01</td>\n",
       "      <td>1.000000e+00</td>\n",
       "      <td>6.000000e+03</td>\n",
       "      <td>3.900000e+01</td>\n",
       "      <td>4.000000e+00</td>\n",
       "      <td>1.100000e+01</td>\n",
       "      <td>0.000000e+00</td>\n",
       "    </tr>\n",
       "    <tr>\n",
       "      <th>max</th>\n",
       "      <td>1.000000e+07</td>\n",
       "      <td>2.000000e+00</td>\n",
       "      <td>5.100000e+01</td>\n",
       "      <td>2.000000e+00</td>\n",
       "      <td>4.148500e+04</td>\n",
       "      <td>1.000000e+02</td>\n",
       "      <td>6.000000e+01</td>\n",
       "      <td>7.500000e+01</td>\n",
       "      <td>1.000000e+00</td>\n",
       "    </tr>\n",
       "  </tbody>\n",
       "</table>\n",
       "</div>"
      ],
      "text/plain": [
       "             custID        gender         state    cardholder       balance  \\\n",
       "count  1.000000e+07  1.000000e+07  1.000000e+07  1.000000e+07  1.000000e+07   \n",
       "mean   5.000000e+06  1.382177e+00  2.466127e+01  1.030004e+00  4.109920e+03   \n",
       "std    2.886751e+06  4.859195e-01  1.497012e+01  1.705991e-01  3.996847e+03   \n",
       "min    1.000000e+00  1.000000e+00  1.000000e+00  1.000000e+00  0.000000e+00   \n",
       "25%    2.500001e+06  1.000000e+00  1.000000e+01  1.000000e+00  0.000000e+00   \n",
       "50%    5.000000e+06  1.000000e+00  2.400000e+01  1.000000e+00  3.706000e+03   \n",
       "75%    7.500000e+06  2.000000e+00  3.800000e+01  1.000000e+00  6.000000e+03   \n",
       "max    1.000000e+07  2.000000e+00  5.100000e+01  2.000000e+00  4.148500e+04   \n",
       "\n",
       "           numTrans  numIntlTrans    creditLine     fraudRisk  \n",
       "count  1.000000e+07  1.000000e+07  1.000000e+07  1.000000e+07  \n",
       "mean   2.893519e+01  4.047190e+00  9.134469e+00  5.960140e-02  \n",
       "std    2.655378e+01  8.602970e+00  9.641974e+00  2.367469e-01  \n",
       "min    0.000000e+00  0.000000e+00  1.000000e+00  0.000000e+00  \n",
       "25%    1.000000e+01  0.000000e+00  4.000000e+00  0.000000e+00  \n",
       "50%    1.900000e+01  0.000000e+00  6.000000e+00  0.000000e+00  \n",
       "75%    3.900000e+01  4.000000e+00  1.100000e+01  0.000000e+00  \n",
       "max    1.000000e+02  6.000000e+01  7.500000e+01  1.000000e+00  "
      ]
     },
     "execution_count": 8,
     "metadata": {},
     "output_type": "execute_result"
    }
   ],
   "source": [
    "cfraud.describe()"
   ]
  },
  {
   "cell_type": "code",
   "execution_count": 17,
   "metadata": {
    "collapsed": false
   },
   "outputs": [
    {
     "data": {
      "text/plain": [
       "count    1.000000e+07\n",
       "mean     4.109920e+03\n",
       "std      3.996847e+03\n",
       "min      0.000000e+00\n",
       "25%      0.000000e+00\n",
       "50%      3.706000e+03\n",
       "75%      6.000000e+03\n",
       "max      4.148500e+04\n",
       "Name: balance, dtype: float64"
      ]
     },
     "execution_count": 17,
     "metadata": {},
     "output_type": "execute_result"
    }
   ],
   "source": [
    "cfraud.balance.describe()"
   ]
  },
  {
   "cell_type": "code",
   "execution_count": 11,
   "metadata": {
    "collapsed": false
   },
   "outputs": [
    {
     "data": {
      "text/plain": [
       "0    9403986\n",
       "1     596014\n",
       "Name: fraudRisk, dtype: int64"
      ]
     },
     "execution_count": 11,
     "metadata": {},
     "output_type": "execute_result"
    }
   ],
   "source": [
    "pd.value_counts(cfraud.fraudRisk)"
   ]
  },
  {
   "cell_type": "code",
   "execution_count": 12,
   "metadata": {
    "collapsed": false
   },
   "outputs": [
    {
     "data": {
      "text/plain": [
       "1    6178231\n",
       "2    3821769\n",
       "Name: gender, dtype: int64"
      ]
     },
     "execution_count": 12,
     "metadata": {},
     "output_type": "execute_result"
    }
   ],
   "source": [
    "pd.value_counts(cfraud.gender)"
   ]
  },
  {
   "cell_type": "code",
   "execution_count": 14,
   "metadata": {
    "collapsed": false
   },
   "outputs": [
    {
     "data": {
      "text/html": [
       "<div>\n",
       "<table border=\"1\" class=\"dataframe\">\n",
       "  <thead>\n",
       "    <tr style=\"text-align: right;\">\n",
       "      <th>fraudRisk</th>\n",
       "      <th>0</th>\n",
       "      <th>1</th>\n",
       "    </tr>\n",
       "    <tr>\n",
       "      <th>gender</th>\n",
       "      <th></th>\n",
       "      <th></th>\n",
       "    </tr>\n",
       "  </thead>\n",
       "  <tbody>\n",
       "    <tr>\n",
       "      <th>1</th>\n",
       "      <td>5853053</td>\n",
       "      <td>325178</td>\n",
       "    </tr>\n",
       "    <tr>\n",
       "      <th>2</th>\n",
       "      <td>3550933</td>\n",
       "      <td>270836</td>\n",
       "    </tr>\n",
       "  </tbody>\n",
       "</table>\n",
       "</div>"
      ],
      "text/plain": [
       "fraudRisk        0       1\n",
       "gender                    \n",
       "1          5853053  325178\n",
       "2          3550933  270836"
      ]
     },
     "execution_count": 14,
     "metadata": {},
     "output_type": "execute_result"
    }
   ],
   "source": [
    "pd.crosstab(cfraud.gender,cfraud.fraudRisk)"
   ]
  },
  {
   "cell_type": "code",
   "execution_count": 13,
   "metadata": {
    "collapsed": false
   },
   "outputs": [
    {
     "data": {
      "text/plain": [
       "5     1216069\n",
       "44     812638\n",
       "10     608630\n",
       "35     608575\n",
       "39     405892\n",
       "15     404720\n",
       "36     364531\n",
       "23     304553\n",
       "11     303984\n",
       "29     303833\n",
       "32     284428\n",
       "46     252812\n",
       "43     203827\n",
       "16     203143\n",
       "25     203045\n",
       "48     202972\n",
       "4      202776\n",
       "21     202444\n",
       "20     201918\n",
       "49     182557\n",
       "24     182201\n",
       "6      171774\n",
       "2      162574\n",
       "41     152253\n",
       "19     151715\n",
       "18     142170\n",
       "37     122191\n",
       "38     121846\n",
       "7      121802\n",
       "13     111775\n",
       "26     101829\n",
       "3      101740\n",
       "45      91375\n",
       "34      91326\n",
       "17      91127\n",
       "33      81332\n",
       "50      61385\n",
       "14      60992\n",
       "28      60617\n",
       "12      50438\n",
       "22      40819\n",
       "31      40563\n",
       "9       30333\n",
       "40      30233\n",
       "27      30131\n",
       "51      20691\n",
       "8       20603\n",
       "42      20449\n",
       "30      20215\n",
       "1       20137\n",
       "47      20017\n",
       "Name: state, dtype: int64"
      ]
     },
     "execution_count": 13,
     "metadata": {},
     "output_type": "execute_result"
    }
   ],
   "source": [
    "pd.value_counts(cfraud.state)"
   ]
  },
  {
   "cell_type": "code",
   "execution_count": null,
   "metadata": {
    "collapsed": true
   },
   "outputs": [],
   "source": []
  }
 ],
 "metadata": {
  "kernelspec": {
   "display_name": "Python [default]",
   "language": "python",
   "name": "python3"
  },
  "language_info": {
   "codemirror_mode": {
    "name": "ipython",
    "version": 3
   },
   "file_extension": ".py",
   "mimetype": "text/x-python",
   "name": "python",
   "nbconvert_exporter": "python",
   "pygments_lexer": "ipython3",
   "version": "3.5.2"
  }
 },
 "nbformat": 4,
 "nbformat_minor": 1
}
