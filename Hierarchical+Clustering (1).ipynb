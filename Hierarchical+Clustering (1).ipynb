{
 "cells": [
  {
   "cell_type": "markdown",
   "metadata": {},
   "source": [
    "### Proteins example recreated in python from \n",
    "https://rstudio-pubs-static.s3.amazonaws.com/33876_1d7794d9a86647ca90c4f182df93f0e8.html and http://nbviewer.jupyter.org/github/OxanaSachenkova/hclust-python/blob/master/hclust.ipynb"
   ]
  },
  {
   "cell_type": "code",
   "execution_count": 1,
   "metadata": {
    "collapsed": true
   },
   "outputs": [],
   "source": [
    "import numpy as np"
   ]
  },
  {
   "cell_type": "code",
   "execution_count": 2,
   "metadata": {
    "collapsed": false
   },
   "outputs": [],
   "source": [
    "from numpy import genfromtxt\n",
    "data = genfromtxt('http://www.biz.uiowa.edu/faculty/jledolter/DataMining/protein.csv',delimiter=',',names=True,dtype=float)"
   ]
  },
  {
   "cell_type": "markdown",
   "metadata": {},
   "source": [
    "note numpy also has recfromcsv() and pandas can read_csv, with pandas DF.values giving a numpy array"
   ]
  },
  {
   "cell_type": "code",
   "execution_count": 3,
   "metadata": {
    "collapsed": false
   },
   "outputs": [
    {
     "data": {
      "text/plain": [
       "25"
      ]
     },
     "execution_count": 3,
     "metadata": {},
     "output_type": "execute_result"
    }
   ],
   "source": [
    "len(data)"
   ]
  },
  {
   "cell_type": "code",
   "execution_count": 4,
   "metadata": {
    "collapsed": false
   },
   "outputs": [
    {
     "data": {
      "text/plain": [
       "10"
      ]
     },
     "execution_count": 4,
     "metadata": {},
     "output_type": "execute_result"
    }
   ],
   "source": [
    "len(data.dtype.names)"
   ]
  },
  {
   "cell_type": "code",
   "execution_count": 5,
   "metadata": {
    "collapsed": false
   },
   "outputs": [
    {
     "data": {
      "text/plain": [
       "('Country',\n",
       " 'RedMeat',\n",
       " 'WhiteMeat',\n",
       " 'Eggs',\n",
       " 'Milk',\n",
       " 'Fish',\n",
       " 'Cereals',\n",
       " 'Starch',\n",
       " 'Nuts',\n",
       " 'FrVeg')"
      ]
     },
     "execution_count": 5,
     "metadata": {},
     "output_type": "execute_result"
    }
   ],
   "source": [
    "data.dtype.names"
   ]
  },
  {
   "cell_type": "code",
   "execution_count": 6,
   "metadata": {
    "collapsed": false
   },
   "outputs": [
    {
     "data": {
      "text/plain": [
       "numpy.ndarray"
      ]
     },
     "execution_count": 6,
     "metadata": {},
     "output_type": "execute_result"
    }
   ],
   "source": [
    "type(data)"
   ]
  },
  {
   "cell_type": "code",
   "execution_count": 7,
   "metadata": {
    "collapsed": false
   },
   "outputs": [
    {
     "data": {
      "text/plain": [
       "array([(nan, 10.1, 1.4, 0.5, 8.9, 0.2, 42.3, 0.6, 5.5, 1.7),\n",
       "       (nan, 8.9, 14.0, 4.3, 19.9, 2.1, 28.0, 3.6, 1.3, 4.3),\n",
       "       (nan, 13.5, 9.3, 4.1, 17.5, 4.5, 26.6, 5.7, 2.1, 4.0),\n",
       "       (nan, 7.8, 6.0, 1.6, 8.3, 1.2, 56.7, 1.1, 3.7, 4.2),\n",
       "       (nan, 9.7, 11.4, 2.8, 12.5, 2.0, 34.3, 5.0, 1.1, 4.0),\n",
       "       (nan, 10.6, 10.8, 3.7, 25.0, 9.9, 21.9, 4.8, 0.7, 2.4),\n",
       "       (nan, 8.4, 11.6, 3.7, 11.1, 5.4, 24.6, 6.5, 0.8, 3.6),\n",
       "       (nan, 9.5, 4.9, 2.7, 33.7, 5.8, 26.3, 5.1, 1.0, 1.4),\n",
       "       (nan, 18.0, 9.9, 3.3, 19.5, 5.7, 28.1, 4.8, 2.4, 6.5),\n",
       "       (nan, 10.2, 3.0, 2.8, 17.6, 5.9, 41.7, 2.2, 7.8, 6.5),\n",
       "       (nan, 5.3, 12.4, 2.9, 9.7, 0.3, 40.1, 4.0, 5.4, 4.2),\n",
       "       (nan, 13.9, 10.0, 4.7, 25.8, 2.2, 24.0, 6.2, 1.6, 2.9),\n",
       "       (nan, 9.0, 5.1, 2.9, 13.7, 3.4, 36.8, 2.1, 4.3, 6.7),\n",
       "       (nan, 9.5, 13.6, 3.6, 23.4, 2.5, 22.4, 4.2, 1.8, 3.7),\n",
       "       (nan, 9.4, 4.7, 2.7, 23.3, 9.7, 23.0, 4.6, 1.6, 2.7),\n",
       "       (nan, 6.9, 10.2, 2.7, 19.3, 3.0, 36.1, 5.9, 2.0, 6.6),\n",
       "       (nan, 6.2, 3.7, 1.1, 4.9, 14.2, 27.0, 5.9, 4.7, 7.9),\n",
       "       (nan, 6.2, 6.3, 1.5, 11.1, 1.0, 49.6, 3.1, 5.3, 2.8),\n",
       "       (nan, 7.1, 3.4, 3.1, 8.6, 7.0, 29.2, 5.7, 5.9, 7.2),\n",
       "       (nan, 9.9, 7.8, 3.5, 24.7, 7.5, 19.5, 3.7, 1.4, 2.0),\n",
       "       (nan, 13.1, 10.1, 3.1, 23.8, 2.3, 25.6, 2.8, 2.4, 4.9),\n",
       "       (nan, 17.4, 5.7, 4.7, 20.6, 4.3, 24.3, 4.7, 3.4, 3.3),\n",
       "       (nan, 9.3, 4.6, 2.1, 16.6, 3.0, 43.6, 6.4, 3.4, 2.9),\n",
       "       (nan, 11.4, 12.5, 4.1, 18.8, 3.4, 18.6, 5.2, 1.5, 3.8),\n",
       "       (nan, 4.4, 5.0, 1.2, 9.5, 0.6, 55.9, 3.0, 5.7, 3.2)], \n",
       "      dtype=[('Country', '<f8'), ('RedMeat', '<f8'), ('WhiteMeat', '<f8'), ('Eggs', '<f8'), ('Milk', '<f8'), ('Fish', '<f8'), ('Cereals', '<f8'), ('Starch', '<f8'), ('Nuts', '<f8'), ('FrVeg', '<f8')])"
      ]
     },
     "execution_count": 7,
     "metadata": {},
     "output_type": "execute_result"
    }
   ],
   "source": [
    "data"
   ]
  },
  {
   "cell_type": "code",
   "execution_count": 8,
   "metadata": {
    "collapsed": false
   },
   "outputs": [],
   "source": [
    "data_array = data.view((np.float, len(data.dtype.names)))"
   ]
  },
  {
   "cell_type": "code",
   "execution_count": 9,
   "metadata": {
    "collapsed": false
   },
   "outputs": [
    {
     "data": {
      "text/plain": [
       "array([[  nan,  10.1,   1.4,   0.5,   8.9,   0.2,  42.3,   0.6,   5.5,\n",
       "          1.7],\n",
       "       [  nan,   8.9,  14. ,   4.3,  19.9,   2.1,  28. ,   3.6,   1.3,\n",
       "          4.3],\n",
       "       [  nan,  13.5,   9.3,   4.1,  17.5,   4.5,  26.6,   5.7,   2.1,   4. ],\n",
       "       [  nan,   7.8,   6. ,   1.6,   8.3,   1.2,  56.7,   1.1,   3.7,\n",
       "          4.2],\n",
       "       [  nan,   9.7,  11.4,   2.8,  12.5,   2. ,  34.3,   5. ,   1.1,   4. ],\n",
       "       [  nan,  10.6,  10.8,   3.7,  25. ,   9.9,  21.9,   4.8,   0.7,\n",
       "          2.4],\n",
       "       [  nan,   8.4,  11.6,   3.7,  11.1,   5.4,  24.6,   6.5,   0.8,\n",
       "          3.6],\n",
       "       [  nan,   9.5,   4.9,   2.7,  33.7,   5.8,  26.3,   5.1,   1. ,\n",
       "          1.4],\n",
       "       [  nan,  18. ,   9.9,   3.3,  19.5,   5.7,  28.1,   4.8,   2.4,\n",
       "          6.5],\n",
       "       [  nan,  10.2,   3. ,   2.8,  17.6,   5.9,  41.7,   2.2,   7.8,\n",
       "          6.5],\n",
       "       [  nan,   5.3,  12.4,   2.9,   9.7,   0.3,  40.1,   4. ,   5.4,\n",
       "          4.2],\n",
       "       [  nan,  13.9,  10. ,   4.7,  25.8,   2.2,  24. ,   6.2,   1.6,\n",
       "          2.9],\n",
       "       [  nan,   9. ,   5.1,   2.9,  13.7,   3.4,  36.8,   2.1,   4.3,\n",
       "          6.7],\n",
       "       [  nan,   9.5,  13.6,   3.6,  23.4,   2.5,  22.4,   4.2,   1.8,\n",
       "          3.7],\n",
       "       [  nan,   9.4,   4.7,   2.7,  23.3,   9.7,  23. ,   4.6,   1.6,\n",
       "          2.7],\n",
       "       [  nan,   6.9,  10.2,   2.7,  19.3,   3. ,  36.1,   5.9,   2. ,\n",
       "          6.6],\n",
       "       [  nan,   6.2,   3.7,   1.1,   4.9,  14.2,  27. ,   5.9,   4.7,\n",
       "          7.9],\n",
       "       [  nan,   6.2,   6.3,   1.5,  11.1,   1. ,  49.6,   3.1,   5.3,\n",
       "          2.8],\n",
       "       [  nan,   7.1,   3.4,   3.1,   8.6,   7. ,  29.2,   5.7,   5.9,\n",
       "          7.2],\n",
       "       [  nan,   9.9,   7.8,   3.5,  24.7,   7.5,  19.5,   3.7,   1.4,   2. ],\n",
       "       [  nan,  13.1,  10.1,   3.1,  23.8,   2.3,  25.6,   2.8,   2.4,\n",
       "          4.9],\n",
       "       [  nan,  17.4,   5.7,   4.7,  20.6,   4.3,  24.3,   4.7,   3.4,\n",
       "          3.3],\n",
       "       [  nan,   9.3,   4.6,   2.1,  16.6,   3. ,  43.6,   6.4,   3.4,\n",
       "          2.9],\n",
       "       [  nan,  11.4,  12.5,   4.1,  18.8,   3.4,  18.6,   5.2,   1.5,\n",
       "          3.8],\n",
       "       [  nan,   4.4,   5. ,   1.2,   9.5,   0.6,  55.9,   3. ,   5.7,\n",
       "          3.2]])"
      ]
     },
     "execution_count": 9,
     "metadata": {},
     "output_type": "execute_result"
    }
   ],
   "source": [
    "data_array"
   ]
  },
  {
   "cell_type": "code",
   "execution_count": 10,
   "metadata": {
    "collapsed": false
   },
   "outputs": [],
   "source": [
    "data_array = data_array.transpose()"
   ]
  },
  {
   "cell_type": "code",
   "execution_count": 11,
   "metadata": {
    "collapsed": false
   },
   "outputs": [
    {
     "name": "stdout",
     "output_type": "stream",
     "text": [
      "[[  nan   nan   nan   nan   nan   nan   nan   nan   nan   nan   nan   nan\n",
      "    nan   nan   nan   nan   nan   nan   nan   nan   nan   nan   nan   nan\n",
      "    nan]\n",
      " [ 10.1   8.9  13.5   7.8   9.7  10.6   8.4   9.5  18.   10.2   5.3  13.9\n",
      "    9.    9.5   9.4   6.9   6.2   6.2   7.1   9.9  13.1  17.4   9.3  11.4\n",
      "    4.4]\n",
      " [  1.4  14.    9.3   6.   11.4  10.8  11.6   4.9   9.9   3.   12.4  10.\n",
      "    5.1  13.6   4.7  10.2   3.7   6.3   3.4   7.8  10.1   5.7   4.6  12.5\n",
      "    5. ]\n",
      " [  0.5   4.3   4.1   1.6   2.8   3.7   3.7   2.7   3.3   2.8   2.9   4.7\n",
      "    2.9   3.6   2.7   2.7   1.1   1.5   3.1   3.5   3.1   4.7   2.1   4.1\n",
      "    1.2]\n",
      " [  8.9  19.9  17.5   8.3  12.5  25.   11.1  33.7  19.5  17.6   9.7  25.8\n",
      "   13.7  23.4  23.3  19.3   4.9  11.1   8.6  24.7  23.8  20.6  16.6  18.8\n",
      "    9.5]\n",
      " [  0.2   2.1   4.5   1.2   2.    9.9   5.4   5.8   5.7   5.9   0.3   2.2\n",
      "    3.4   2.5   9.7   3.   14.2   1.    7.    7.5   2.3   4.3   3.    3.4\n",
      "    0.6]\n",
      " [ 42.3  28.   26.6  56.7  34.3  21.9  24.6  26.3  28.1  41.7  40.1  24.\n",
      "   36.8  22.4  23.   36.1  27.   49.6  29.2  19.5  25.6  24.3  43.6  18.6\n",
      "   55.9]\n",
      " [  0.6   3.6   5.7   1.1   5.    4.8   6.5   5.1   4.8   2.2   4.    6.2\n",
      "    2.1   4.2   4.6   5.9   5.9   3.1   5.7   3.7   2.8   4.7   6.4   5.2\n",
      "    3. ]\n",
      " [  5.5   1.3   2.1   3.7   1.1   0.7   0.8   1.    2.4   7.8   5.4   1.6\n",
      "    4.3   1.8   1.6   2.    4.7   5.3   5.9   1.4   2.4   3.4   3.4   1.5\n",
      "    5.7]\n",
      " [  1.7   4.3   4.    4.2   4.    2.4   3.6   1.4   6.5   6.5   4.2   2.9\n",
      "    6.7   3.7   2.7   6.6   7.9   2.8   7.2   2.    4.9   3.3   2.9   3.8\n",
      "    3.2]]\n"
     ]
    }
   ],
   "source": [
    "print(data_array)\n"
   ]
  },
  {
   "cell_type": "code",
   "execution_count": 12,
   "metadata": {
    "collapsed": false
   },
   "outputs": [
    {
     "data": {
      "text/plain": [
       "array([[ 10.1,   8.9,  13.5,   7.8,   9.7,  10.6,   8.4,   9.5,  18. ,\n",
       "         10.2,   5.3,  13.9,   9. ,   9.5,   9.4,   6.9,   6.2,   6.2,\n",
       "          7.1,   9.9,  13.1,  17.4,   9.3,  11.4,   4.4],\n",
       "       [  1.4,  14. ,   9.3,   6. ,  11.4,  10.8,  11.6,   4.9,   9.9,\n",
       "          3. ,  12.4,  10. ,   5.1,  13.6,   4.7,  10.2,   3.7,   6.3,\n",
       "          3.4,   7.8,  10.1,   5.7,   4.6,  12.5,   5. ],\n",
       "       [  0.5,   4.3,   4.1,   1.6,   2.8,   3.7,   3.7,   2.7,   3.3,\n",
       "          2.8,   2.9,   4.7,   2.9,   3.6,   2.7,   2.7,   1.1,   1.5,\n",
       "          3.1,   3.5,   3.1,   4.7,   2.1,   4.1,   1.2],\n",
       "       [  8.9,  19.9,  17.5,   8.3,  12.5,  25. ,  11.1,  33.7,  19.5,\n",
       "         17.6,   9.7,  25.8,  13.7,  23.4,  23.3,  19.3,   4.9,  11.1,\n",
       "          8.6,  24.7,  23.8,  20.6,  16.6,  18.8,   9.5],\n",
       "       [  0.2,   2.1,   4.5,   1.2,   2. ,   9.9,   5.4,   5.8,   5.7,\n",
       "          5.9,   0.3,   2.2,   3.4,   2.5,   9.7,   3. ,  14.2,   1. ,\n",
       "          7. ,   7.5,   2.3,   4.3,   3. ,   3.4,   0.6],\n",
       "       [ 42.3,  28. ,  26.6,  56.7,  34.3,  21.9,  24.6,  26.3,  28.1,\n",
       "         41.7,  40.1,  24. ,  36.8,  22.4,  23. ,  36.1,  27. ,  49.6,\n",
       "         29.2,  19.5,  25.6,  24.3,  43.6,  18.6,  55.9],\n",
       "       [  0.6,   3.6,   5.7,   1.1,   5. ,   4.8,   6.5,   5.1,   4.8,\n",
       "          2.2,   4. ,   6.2,   2.1,   4.2,   4.6,   5.9,   5.9,   3.1,\n",
       "          5.7,   3.7,   2.8,   4.7,   6.4,   5.2,   3. ],\n",
       "       [  5.5,   1.3,   2.1,   3.7,   1.1,   0.7,   0.8,   1. ,   2.4,\n",
       "          7.8,   5.4,   1.6,   4.3,   1.8,   1.6,   2. ,   4.7,   5.3,\n",
       "          5.9,   1.4,   2.4,   3.4,   3.4,   1.5,   5.7],\n",
       "       [  1.7,   4.3,   4. ,   4.2,   4. ,   2.4,   3.6,   1.4,   6.5,\n",
       "          6.5,   4.2,   2.9,   6.7,   3.7,   2.7,   6.6,   7.9,   2.8,\n",
       "          7.2,   2. ,   4.9,   3.3,   2.9,   3.8,   3.2]])"
      ]
     },
     "execution_count": 12,
     "metadata": {},
     "output_type": "execute_result"
    }
   ],
   "source": [
    "data_array[1:10]"
   ]
  },
  {
   "cell_type": "markdown",
   "metadata": {},
   "source": [
    "## Samples clustering using scipy\n",
    "First, we'll implement the clustering using scipy modules"
   ]
  },
  {
   "cell_type": "code",
   "execution_count": 13,
   "metadata": {
    "collapsed": true
   },
   "outputs": [],
   "source": [
    "import numpy as np\n",
    "import matplotlib.pyplot as plt\n",
    "from scipy.spatial.distance import pdist, squareform\n",
    "from scipy.cluster.hierarchy import linkage, dendrogram"
   ]
  },
  {
   "cell_type": "code",
   "execution_count": 14,
   "metadata": {
    "collapsed": false
   },
   "outputs": [],
   "source": [
    "data_dist = pdist(data_array[1:10]) # computing the distance\n",
    "data_link = linkage(data_dist) # computing the linkage"
   ]
  },
  {
   "cell_type": "code",
   "execution_count": 15,
   "metadata": {
    "collapsed": true
   },
   "outputs": [],
   "source": [
    "dendrogram(data_link,labels=data.dtype.names)\n",
    "plt.xlabel('Samples')\n",
    "plt.ylabel('Distance')\n",
    "plt.suptitle('Samples clustering', fontweight='bold', fontsize=14);"
   ]
  },
  {
   "cell_type": "code",
   "execution_count": 16,
   "metadata": {
    "collapsed": false
   },
   "outputs": [
    {
     "data": {
      "image/png": "[encoded data removed]",
      "text/plain": [
       "<matplotlib.figure.Figure at 0x7d1d7f0>"
      ]
     },
     "metadata": {},
     "output_type": "display_data"
    }
   ],
   "source": [
    "plt.show()"
   ]
  },
  {
   "cell_type": "code",
   "execution_count": 17,
   "metadata": {
    "collapsed": false
   },
   "outputs": [
    {
     "data": {
      "text/plain": [
       "<matplotlib.colorbar.Colorbar at 0x86c3cc0>"
      ]
     },
     "execution_count": 17,
     "metadata": {},
     "output_type": "execute_result"
    }
   ],
   "source": [
    "# Compute and plot first dendrogram.\n",
    "fig = plt.figure(figsize=(8,8))\n",
    "# x ywidth height\n",
    "ax1 = fig.add_axes([0.05,0.1,0.2,0.6])\n",
    "Y = linkage(data_dist, method='single')\n",
    "Z1 = dendrogram(Y, orientation='right',labels=data.dtype.names) # adding/removing the axes\n",
    "ax1.set_xticks([])\n",
    "\n",
    "# Compute and plot second dendrogram.\n",
    "ax2 = fig.add_axes([0.3,0.71,0.6,0.2])\n",
    "Z2 = dendrogram(Y)\n",
    "ax2.set_xticks([])\n",
    "ax2.set_yticks([])\n",
    "\n",
    "#Compute and plot the heatmap\n",
    "axmatrix = fig.add_axes([0.3,0.1,0.6,0.6])\n",
    "idx1 = Z1['leaves']\n",
    "idx2 = Z2['leaves']\n",
    "D = squareform(data_dist)\n",
    "D = D[idx1,:]\n",
    "D = D[:,idx2]\n",
    "im = axmatrix.matshow(D, aspect='auto', origin='lower', cmap=plt.cm.YlGnBu)\n",
    "axmatrix.set_xticks([])\n",
    "axmatrix.set_yticks([])\n",
    "\n",
    "# Plot colorbar.\n",
    "axcolor = fig.add_axes([0.91,0.1,0.02,0.6])\n",
    "plt.colorbar(im, cax=axcolor)"
   ]
  },
  {
   "cell_type": "code",
   "execution_count": 18,
   "metadata": {
    "collapsed": false
   },
   "outputs": [
    {
     "data": {
      "image/png": "[encoded data removed]",
      "text/plain": [
       "<matplotlib.figure.Figure at 0x806def0>"
      ]
     },
     "metadata": {},
     "output_type": "display_data"
    }
   ],
   "source": [
    "plt.show()"
   ]
  },
  {
   "cell_type": "markdown",
   "metadata": {},
   "source": [
    "## the fastcluster module http://math.stanford.edu/~muellner/fastcluster.html?section=0"
   ]
  },
  {
   "cell_type": "code",
   "execution_count": 19,
   "metadata": {
    "collapsed": false
   },
   "outputs": [
    {
     "name": "stdout",
     "output_type": "stream",
     "text": [
      "Requirement already satisfied: fastcluster in c:\\users\\dell\\anaconda3\\lib\\site-packages\n",
      "Requirement already satisfied: numpy>=1.9 in c:\\users\\dell\\anaconda3\\lib\\site-packages (from fastcluster)\n"
     ]
    }
   ],
   "source": [
    "! pip install fastcluster"
   ]
  },
  {
   "cell_type": "code",
   "execution_count": 20,
   "metadata": {
    "collapsed": false
   },
   "outputs": [
    {
     "name": "stdout",
     "output_type": "stream",
     "text": [
      "The slowest run took 5.77 times longer than the fastest. This could mean that an intermediate result is being cached.\n",
      "10000 loops, best of 3: 45.1 µs per loop\n"
     ]
    },
    {
     "data": {
      "image/png": "[encoded data removed]",
      "text/plain": [
       "<matplotlib.figure.Figure at 0x867cf28>"
      ]
     },
     "metadata": {},
     "output_type": "display_data"
    }
   ],
   "source": [
    "from fastcluster import *\n",
    "%timeit data_link = linkage(data_array[1:10], method='single', metric='euclidean', preserve_input=True)\n",
    "dendrogram(data_link,labels=data.dtype.names)\n",
    "plt.xlabel('Samples')\n",
    "plt.ylabel('Distance')\n",
    "plt.suptitle('Samples clustering', fontweight='bold', fontsize=14);\n",
    "plt.show()"
   ]
  },
  {
   "cell_type": "code",
   "execution_count": null,
   "metadata": {
    "collapsed": true
   },
   "outputs": [],
   "source": []
  }
 ],
 "metadata": {
  "kernelspec": {
   "display_name": "Python [conda root]",
   "language": "python",
   "name": "conda-root-py"
  },
  "language_info": {
   "codemirror_mode": {
    "name": "ipython",
    "version": 3
   },
   "file_extension": ".py",
   "mimetype": "text/x-python",
   "name": "python",
   "nbconvert_exporter": "python",
   "pygments_lexer": "ipython3",
   "version": "3.5.2"
  }
 },
 "nbformat": 4,
 "nbformat_minor": 1
}
