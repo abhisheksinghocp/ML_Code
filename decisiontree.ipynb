{
 "cells": [
  {
   "cell_type": "code",
   "execution_count": 258,
   "metadata": {
    "collapsed": true
   },
   "outputs": [],
   "source": [
    "# rattle package in R has weather dataset\n",
    "#(see help at http://artax.karlin.mff.cuni.cz/r-help/library/rattle/html/weather.html)"
   ]
  },
  {
   "cell_type": "code",
   "execution_count": 259,
   "metadata": {
    "collapsed": true
   },
   "outputs": [],
   "source": [
    "import os as os"
   ]
  },
  {
   "cell_type": "code",
   "execution_count": 260,
   "metadata": {
    "collapsed": true
   },
   "outputs": [],
   "source": [
    "import pandas as pd\n"
   ]
  },
  {
   "cell_type": "code",
   "execution_count": 261,
   "metadata": {},
   "outputs": [
    {
     "data": {
      "text/plain": [
       "'/home/ajayohri'"
      ]
     },
     "execution_count": 261,
     "metadata": {},
     "output_type": "execute_result"
    }
   ],
   "source": [
    "os.getcwd()"
   ]
  },
  {
   "cell_type": "code",
   "execution_count": 262,
   "metadata": {},
   "outputs": [
    {
     "data": {
      "text/plain": [
       "['.hplip',\n",
       " '.xsession-errors.old',\n",
       " 'VirtualBox VMs',\n",
       " 'filename.pkl_04.npy',\n",
       " '.thunderbird',\n",
       " 'SVM.R',\n",
       " 'R',\n",
       " 'Desktop',\n",
       " 'filename.pkl_07.npy',\n",
       " '.cache',\n",
       " '.webex',\n",
       " 'file.R',\n",
       " '.ipython',\n",
       " 'unique_ids_for_list.html',\n",
       " 'filename.pkl_11.npy',\n",
       " '.Xauthority',\n",
       " 'Dropbox',\n",
       " 'examples.desktop',\n",
       " 'machine learning-plot and bagged pima indians.ipynb',\n",
       " 'date time.ipynb',\n",
       " 'Untitled.ipynb',\n",
       " '.rstudio-desktop',\n",
       " 'filename.pkl_01.npy',\n",
       " 'anaconda3',\n",
       " '.dropbox',\n",
       " 'Music',\n",
       " '.pki',\n",
       " 'rsconnect',\n",
       " 'GoodReads.ipynb',\n",
       " '.config',\n",
       " 'diamsum.html',\n",
       " 'filename.pkl_06.npy',\n",
       " 'data inspection .ipynb',\n",
       " '.sudo_as_admin_successful',\n",
       " '.continuum',\n",
       " '.java',\n",
       " 'unique ids for list.R',\n",
       " '.bashrc-anaconda3.bak',\n",
       " '.texmf-var',\n",
       " 'numpy scipy pandas.ipynb',\n",
       " 'mozilla.pdf',\n",
       " '.dropbox-dist',\n",
       " '.bash_logout',\n",
       " '.jupyter',\n",
       " '.ecryptfs',\n",
       " '.dbus',\n",
       " '.local',\n",
       " '.lyx',\n",
       " '.xsession-errors',\n",
       " 'hebrew',\n",
       " 'RCommanderMarkdown.Rmd',\n",
       " '.bash_history',\n",
       " 'SAS',\n",
       " 'nbr2mp4.sh',\n",
       " '.adobe',\n",
       " '.Skype',\n",
       " 'filename.pkl_05.npy',\n",
       " '.wajig',\n",
       " 'ajay ohri.odt',\n",
       " '.macromedia',\n",
       " '.gphoto',\n",
       " '.oracle_jre_usage',\n",
       " 'machine learning-rattle dataset from R.ipynb',\n",
       " '.profile',\n",
       " 'file operations.ipynb',\n",
       " 'Documents',\n",
       " 'filename.pkl_09.npy',\n",
       " 'Videos',\n",
       " 'RCommander.R',\n",
       " 'filename.pkl_08.npy',\n",
       " '.gstreamer-0.10',\n",
       " 'SVM.html',\n",
       " '.Private',\n",
       " 'RCommander.txt',\n",
       " 're for searching strings.ipynb',\n",
       " '.Rhistory',\n",
       " 'filename.pkl_02.npy',\n",
       " 'RcmdrMarkdown.Rmd',\n",
       " 'Scikit Tutorial',\n",
       " 'machine learning.ipynb',\n",
       " '.ivy2',\n",
       " 'assignment2.R',\n",
       " 'assignment2.html',\n",
       " 'filename.pkl_03.npy',\n",
       " 'Public',\n",
       " 'nbr2mp4.tar',\n",
       " 'RcmdrMarkdown.md',\n",
       " '.bashrc',\n",
       " '.mozilla',\n",
       " 'Pictures',\n",
       " 'Data Viz Tutorial.ipynb',\n",
       " 'filename.pkl_10.npy',\n",
       " '.RData',\n",
       " '.gconf',\n",
       " 'data transformations.ipynb',\n",
       " 'RcmdrMarkdown.html',\n",
       " 'file.html',\n",
       " 'Scikit Tutorial.ipynb',\n",
       " 'Strings, Lists and Maps.ipynb',\n",
       " 'filename.pkl',\n",
       " 'weather.csv',\n",
       " 'Downloads',\n",
       " '.gnupg',\n",
       " '.nano',\n",
       " 'variables in strings.ipynb',\n",
       " 'Templates',\n",
       " '.ICEauthority',\n",
       " '.ipynb_checkpoints']"
      ]
     },
     "execution_count": 262,
     "metadata": {},
     "output_type": "execute_result"
    }
   ],
   "source": [
    "os.listdir()"
   ]
  },
  {
   "cell_type": "code",
   "execution_count": 263,
   "metadata": {},
   "outputs": [
    {
     "name": "stdout",
     "output_type": "stream",
     "text": [
      "['weather.csv']\n"
     ]
    }
   ],
   "source": [
    "#Finding only csv files in a directory using os and glob packages\n",
    "import glob\n",
    "\n",
    "path = os.getcwd()\n",
    "extension = 'csv'\n",
    "os.chdir(path)\n",
    "result = [i for i in glob.glob('*.{}'.format(extension))]\n",
    "print(result)"
   ]
  },
  {
   "cell_type": "code",
   "execution_count": 264,
   "metadata": {},
   "outputs": [],
   "source": [
    "dataframe=pd.read_csv(\"weather.csv\")"
   ]
  },
  {
   "cell_type": "code",
   "execution_count": 265,
   "metadata": {},
   "outputs": [
    {
     "data": {
      "text/html": [
       "<div>\n",
       "<table border=\"1\" class=\"dataframe\">\n",
       "  <thead>\n",
       "    <tr style=\"text-align: right;\">\n",
       "      <th></th>\n",
       "      <th>Unnamed: 0</th>\n",
       "      <th>Date</th>\n",
       "      <th>Location</th>\n",
       "      <th>MinTemp</th>\n",
       "      <th>MaxTemp</th>\n",
       "      <th>Rainfall</th>\n",
       "      <th>Evaporation</th>\n",
       "      <th>Sunshine</th>\n",
       "      <th>WindGustDir</th>\n",
       "      <th>WindGustSpeed</th>\n",
       "      <th>...</th>\n",
       "      <th>Humidity3pm</th>\n",
       "      <th>Pressure9am</th>\n",
       "      <th>Pressure3pm</th>\n",
       "      <th>Cloud9am</th>\n",
       "      <th>Cloud3pm</th>\n",
       "      <th>Temp9am</th>\n",
       "      <th>Temp3pm</th>\n",
       "      <th>RainToday</th>\n",
       "      <th>RISK_MM</th>\n",
       "      <th>RainTomorrow</th>\n",
       "    </tr>\n",
       "  </thead>\n",
       "  <tbody>\n",
       "    <tr>\n",
       "      <th>0</th>\n",
       "      <td>1</td>\n",
       "      <td>2007-11-01</td>\n",
       "      <td>Canberra</td>\n",
       "      <td>8.0</td>\n",
       "      <td>24.3</td>\n",
       "      <td>0.0</td>\n",
       "      <td>3.4</td>\n",
       "      <td>6.3</td>\n",
       "      <td>NW</td>\n",
       "      <td>30.0</td>\n",
       "      <td>...</td>\n",
       "      <td>29</td>\n",
       "      <td>1019.7</td>\n",
       "      <td>1015.0</td>\n",
       "      <td>7</td>\n",
       "      <td>7</td>\n",
       "      <td>14.4</td>\n",
       "      <td>23.6</td>\n",
       "      <td>No</td>\n",
       "      <td>3.6</td>\n",
       "      <td>Yes</td>\n",
       "    </tr>\n",
       "    <tr>\n",
       "      <th>1</th>\n",
       "      <td>2</td>\n",
       "      <td>2007-11-02</td>\n",
       "      <td>Canberra</td>\n",
       "      <td>14.0</td>\n",
       "      <td>26.9</td>\n",
       "      <td>3.6</td>\n",
       "      <td>4.4</td>\n",
       "      <td>9.7</td>\n",
       "      <td>ENE</td>\n",
       "      <td>39.0</td>\n",
       "      <td>...</td>\n",
       "      <td>36</td>\n",
       "      <td>1012.4</td>\n",
       "      <td>1008.4</td>\n",
       "      <td>5</td>\n",
       "      <td>3</td>\n",
       "      <td>17.5</td>\n",
       "      <td>25.7</td>\n",
       "      <td>Yes</td>\n",
       "      <td>3.6</td>\n",
       "      <td>Yes</td>\n",
       "    </tr>\n",
       "    <tr>\n",
       "      <th>2</th>\n",
       "      <td>3</td>\n",
       "      <td>2007-11-03</td>\n",
       "      <td>Canberra</td>\n",
       "      <td>13.7</td>\n",
       "      <td>23.4</td>\n",
       "      <td>3.6</td>\n",
       "      <td>5.8</td>\n",
       "      <td>3.3</td>\n",
       "      <td>NW</td>\n",
       "      <td>85.0</td>\n",
       "      <td>...</td>\n",
       "      <td>69</td>\n",
       "      <td>1009.5</td>\n",
       "      <td>1007.2</td>\n",
       "      <td>8</td>\n",
       "      <td>7</td>\n",
       "      <td>15.4</td>\n",
       "      <td>20.2</td>\n",
       "      <td>Yes</td>\n",
       "      <td>39.8</td>\n",
       "      <td>Yes</td>\n",
       "    </tr>\n",
       "    <tr>\n",
       "      <th>3</th>\n",
       "      <td>4</td>\n",
       "      <td>2007-11-04</td>\n",
       "      <td>Canberra</td>\n",
       "      <td>13.3</td>\n",
       "      <td>15.5</td>\n",
       "      <td>39.8</td>\n",
       "      <td>7.2</td>\n",
       "      <td>9.1</td>\n",
       "      <td>NW</td>\n",
       "      <td>54.0</td>\n",
       "      <td>...</td>\n",
       "      <td>56</td>\n",
       "      <td>1005.5</td>\n",
       "      <td>1007.0</td>\n",
       "      <td>2</td>\n",
       "      <td>7</td>\n",
       "      <td>13.5</td>\n",
       "      <td>14.1</td>\n",
       "      <td>Yes</td>\n",
       "      <td>2.8</td>\n",
       "      <td>Yes</td>\n",
       "    </tr>\n",
       "    <tr>\n",
       "      <th>4</th>\n",
       "      <td>5</td>\n",
       "      <td>2007-11-05</td>\n",
       "      <td>Canberra</td>\n",
       "      <td>7.6</td>\n",
       "      <td>16.1</td>\n",
       "      <td>2.8</td>\n",
       "      <td>5.6</td>\n",
       "      <td>10.6</td>\n",
       "      <td>SSE</td>\n",
       "      <td>50.0</td>\n",
       "      <td>...</td>\n",
       "      <td>49</td>\n",
       "      <td>1018.3</td>\n",
       "      <td>1018.5</td>\n",
       "      <td>7</td>\n",
       "      <td>7</td>\n",
       "      <td>11.1</td>\n",
       "      <td>15.4</td>\n",
       "      <td>Yes</td>\n",
       "      <td>0.0</td>\n",
       "      <td>No</td>\n",
       "    </tr>\n",
       "  </tbody>\n",
       "</table>\n",
       "<p>5 rows � 25 columns</p>\n",
       "</div>"
      ],
      "text/plain": [
       "   Unnamed: 0        Date  Location  MinTemp  MaxTemp  Rainfall  Evaporation  \\\n",
       "0           1  2007-11-01  Canberra      8.0     24.3       0.0          3.4   \n",
       "1           2  2007-11-02  Canberra     14.0     26.9       3.6          4.4   \n",
       "2           3  2007-11-03  Canberra     13.7     23.4       3.6          5.8   \n",
       "3           4  2007-11-04  Canberra     13.3     15.5      39.8          7.2   \n",
       "4           5  2007-11-05  Canberra      7.6     16.1       2.8          5.6   \n",
       "\n",
       "   Sunshine WindGustDir  WindGustSpeed      ...      Humidity3pm Pressure9am  \\\n",
       "0       6.3          NW           30.0      ...               29      1019.7   \n",
       "1       9.7         ENE           39.0      ...               36      1012.4   \n",
       "2       3.3          NW           85.0      ...               69      1009.5   \n",
       "3       9.1          NW           54.0      ...               56      1005.5   \n",
       "4      10.6         SSE           50.0      ...               49      1018.3   \n",
       "\n",
       "   Pressure3pm  Cloud9am  Cloud3pm  Temp9am  Temp3pm  RainToday  RISK_MM  \\\n",
       "0       1015.0         7         7     14.4     23.6         No      3.6   \n",
       "1       1008.4         5         3     17.5     25.7        Yes      3.6   \n",
       "2       1007.2         8         7     15.4     20.2        Yes     39.8   \n",
       "3       1007.0         2         7     13.5     14.1        Yes      2.8   \n",
       "4       1018.5         7         7     11.1     15.4        Yes      0.0   \n",
       "\n",
       "   RainTomorrow  \n",
       "0           Yes  \n",
       "1           Yes  \n",
       "2           Yes  \n",
       "3           Yes  \n",
       "4            No  \n",
       "\n",
       "[5 rows x 25 columns]"
      ]
     },
     "execution_count": 265,
     "metadata": {},
     "output_type": "execute_result"
    }
   ],
   "source": [
    "dataframe.head()"
   ]
  },
  {
   "cell_type": "code",
   "execution_count": 266,
   "metadata": {},
   "outputs": [
    {
     "name": "stdout",
     "output_type": "stream",
     "text": [
      "<class 'pandas.core.frame.DataFrame'>\n",
      "RangeIndex: 366 entries, 0 to 365\n",
      "Data columns (total 25 columns):\n",
      "Unnamed: 0       366 non-null int64\n",
      "Date             366 non-null object\n",
      "Location         366 non-null object\n",
      "MinTemp          366 non-null float64\n",
      "MaxTemp          366 non-null float64\n",
      "Rainfall         366 non-null float64\n",
      "Evaporation      366 non-null float64\n",
      "Sunshine         363 non-null float64\n",
      "WindGustDir      363 non-null object\n",
      "WindGustSpeed    364 non-null float64\n",
      "WindDir9am       335 non-null object\n",
      "WindDir3pm       365 non-null object\n",
      "WindSpeed9am     359 non-null float64\n",
      "WindSpeed3pm     366 non-null int64\n",
      "Humidity9am      366 non-null int64\n",
      "Humidity3pm      366 non-null int64\n",
      "Pressure9am      366 non-null float64\n",
      "Pressure3pm      366 non-null float64\n",
      "Cloud9am         366 non-null int64\n",
      "Cloud3pm         366 non-null int64\n",
      "Temp9am          366 non-null float64\n",
      "Temp3pm          366 non-null float64\n",
      "RainToday        366 non-null object\n",
      "RISK_MM          366 non-null float64\n",
      "RainTomorrow     366 non-null object\n",
      "dtypes: float64(12), int64(6), object(7)\n",
      "memory usage: 71.6+ KB\n"
     ]
    }
   ],
   "source": [
    "dataframe.info()"
   ]
  },
  {
   "cell_type": "code",
   "execution_count": 267,
   "metadata": {
    "collapsed": true
   },
   "outputs": [],
   "source": [
    "dataframe=dataframe.drop('Unnamed: 0', 1)"
   ]
  },
  {
   "cell_type": "code",
   "execution_count": 268,
   "metadata": {},
   "outputs": [
    {
     "name": "stderr",
     "output_type": "stream",
     "text": [
      "/home/ajayohri/anaconda3/lib/python3.5/site-packages/numpy/lib/function_base.py:3834: RuntimeWarning: Invalid value encountered in percentile\n",
      "  RuntimeWarning)\n"
     ]
    },
    {
     "data": {
      "text/html": [
       "<div>\n",
       "<table border=\"1\" class=\"dataframe\">\n",
       "  <thead>\n",
       "    <tr style=\"text-align: right;\">\n",
       "      <th></th>\n",
       "      <th>MinTemp</th>\n",
       "      <th>MaxTemp</th>\n",
       "      <th>Rainfall</th>\n",
       "      <th>Evaporation</th>\n",
       "      <th>Sunshine</th>\n",
       "      <th>WindGustSpeed</th>\n",
       "      <th>WindSpeed9am</th>\n",
       "      <th>WindSpeed3pm</th>\n",
       "      <th>Humidity9am</th>\n",
       "      <th>Humidity3pm</th>\n",
       "      <th>Pressure9am</th>\n",
       "      <th>Pressure3pm</th>\n",
       "      <th>Cloud9am</th>\n",
       "      <th>Cloud3pm</th>\n",
       "      <th>Temp9am</th>\n",
       "      <th>Temp3pm</th>\n",
       "      <th>RISK_MM</th>\n",
       "    </tr>\n",
       "  </thead>\n",
       "  <tbody>\n",
       "    <tr>\n",
       "      <th>count</th>\n",
       "      <td>366.000000</td>\n",
       "      <td>366.000000</td>\n",
       "      <td>366.000000</td>\n",
       "      <td>366.000000</td>\n",
       "      <td>363.000000</td>\n",
       "      <td>364.000000</td>\n",
       "      <td>359.000000</td>\n",
       "      <td>366.000000</td>\n",
       "      <td>366.000000</td>\n",
       "      <td>366.000000</td>\n",
       "      <td>366.000000</td>\n",
       "      <td>366.000000</td>\n",
       "      <td>366.000000</td>\n",
       "      <td>366.000000</td>\n",
       "      <td>366.000000</td>\n",
       "      <td>366.000000</td>\n",
       "      <td>366.000000</td>\n",
       "    </tr>\n",
       "    <tr>\n",
       "      <th>mean</th>\n",
       "      <td>7.265574</td>\n",
       "      <td>20.550273</td>\n",
       "      <td>1.428415</td>\n",
       "      <td>4.521858</td>\n",
       "      <td>7.909366</td>\n",
       "      <td>39.840659</td>\n",
       "      <td>9.651811</td>\n",
       "      <td>17.986339</td>\n",
       "      <td>72.035519</td>\n",
       "      <td>44.519126</td>\n",
       "      <td>1019.709016</td>\n",
       "      <td>1016.810383</td>\n",
       "      <td>3.890710</td>\n",
       "      <td>4.024590</td>\n",
       "      <td>12.358470</td>\n",
       "      <td>19.230874</td>\n",
       "      <td>1.428415</td>\n",
       "    </tr>\n",
       "    <tr>\n",
       "      <th>std</th>\n",
       "      <td>6.025800</td>\n",
       "      <td>6.690516</td>\n",
       "      <td>4.225800</td>\n",
       "      <td>2.669383</td>\n",
       "      <td>3.481517</td>\n",
       "      <td>13.059807</td>\n",
       "      <td>7.951929</td>\n",
       "      <td>8.856997</td>\n",
       "      <td>13.137058</td>\n",
       "      <td>16.850947</td>\n",
       "      <td>6.686212</td>\n",
       "      <td>6.469422</td>\n",
       "      <td>2.956131</td>\n",
       "      <td>2.666268</td>\n",
       "      <td>5.630832</td>\n",
       "      <td>6.640346</td>\n",
       "      <td>4.225800</td>\n",
       "    </tr>\n",
       "    <tr>\n",
       "      <th>min</th>\n",
       "      <td>-5.300000</td>\n",
       "      <td>7.600000</td>\n",
       "      <td>0.000000</td>\n",
       "      <td>0.200000</td>\n",
       "      <td>0.000000</td>\n",
       "      <td>13.000000</td>\n",
       "      <td>0.000000</td>\n",
       "      <td>0.000000</td>\n",
       "      <td>36.000000</td>\n",
       "      <td>13.000000</td>\n",
       "      <td>996.500000</td>\n",
       "      <td>996.800000</td>\n",
       "      <td>0.000000</td>\n",
       "      <td>0.000000</td>\n",
       "      <td>0.100000</td>\n",
       "      <td>5.100000</td>\n",
       "      <td>0.000000</td>\n",
       "    </tr>\n",
       "    <tr>\n",
       "      <th>25%</th>\n",
       "      <td>2.300000</td>\n",
       "      <td>15.025000</td>\n",
       "      <td>0.000000</td>\n",
       "      <td>2.200000</td>\n",
       "      <td>NaN</td>\n",
       "      <td>NaN</td>\n",
       "      <td>NaN</td>\n",
       "      <td>11.000000</td>\n",
       "      <td>64.000000</td>\n",
       "      <td>32.250000</td>\n",
       "      <td>1015.350000</td>\n",
       "      <td>1012.800000</td>\n",
       "      <td>1.000000</td>\n",
       "      <td>1.000000</td>\n",
       "      <td>7.625000</td>\n",
       "      <td>14.150000</td>\n",
       "      <td>0.000000</td>\n",
       "    </tr>\n",
       "    <tr>\n",
       "      <th>50%</th>\n",
       "      <td>7.450000</td>\n",
       "      <td>19.650000</td>\n",
       "      <td>0.000000</td>\n",
       "      <td>4.200000</td>\n",
       "      <td>NaN</td>\n",
       "      <td>NaN</td>\n",
       "      <td>NaN</td>\n",
       "      <td>17.000000</td>\n",
       "      <td>72.000000</td>\n",
       "      <td>43.000000</td>\n",
       "      <td>1020.150000</td>\n",
       "      <td>1017.400000</td>\n",
       "      <td>3.500000</td>\n",
       "      <td>4.000000</td>\n",
       "      <td>12.550000</td>\n",
       "      <td>18.550000</td>\n",
       "      <td>0.000000</td>\n",
       "    </tr>\n",
       "    <tr>\n",
       "      <th>75%</th>\n",
       "      <td>12.500000</td>\n",
       "      <td>25.500000</td>\n",
       "      <td>0.200000</td>\n",
       "      <td>6.400000</td>\n",
       "      <td>NaN</td>\n",
       "      <td>NaN</td>\n",
       "      <td>NaN</td>\n",
       "      <td>24.000000</td>\n",
       "      <td>81.000000</td>\n",
       "      <td>55.000000</td>\n",
       "      <td>1024.475000</td>\n",
       "      <td>1021.475000</td>\n",
       "      <td>7.000000</td>\n",
       "      <td>7.000000</td>\n",
       "      <td>17.000000</td>\n",
       "      <td>24.000000</td>\n",
       "      <td>0.200000</td>\n",
       "    </tr>\n",
       "    <tr>\n",
       "      <th>max</th>\n",
       "      <td>20.900000</td>\n",
       "      <td>35.800000</td>\n",
       "      <td>39.800000</td>\n",
       "      <td>13.800000</td>\n",
       "      <td>13.600000</td>\n",
       "      <td>98.000000</td>\n",
       "      <td>41.000000</td>\n",
       "      <td>52.000000</td>\n",
       "      <td>99.000000</td>\n",
       "      <td>96.000000</td>\n",
       "      <td>1035.700000</td>\n",
       "      <td>1033.200000</td>\n",
       "      <td>8.000000</td>\n",
       "      <td>8.000000</td>\n",
       "      <td>24.700000</td>\n",
       "      <td>34.500000</td>\n",
       "      <td>39.800000</td>\n",
       "    </tr>\n",
       "  </tbody>\n",
       "</table>\n",
       "</div>"
      ],
      "text/plain": [
       "          MinTemp     MaxTemp    Rainfall  Evaporation    Sunshine  \\\n",
       "count  366.000000  366.000000  366.000000   366.000000  363.000000   \n",
       "mean     7.265574   20.550273    1.428415     4.521858    7.909366   \n",
       "std      6.025800    6.690516    4.225800     2.669383    3.481517   \n",
       "min     -5.300000    7.600000    0.000000     0.200000    0.000000   \n",
       "25%      2.300000   15.025000    0.000000     2.200000         NaN   \n",
       "50%      7.450000   19.650000    0.000000     4.200000         NaN   \n",
       "75%     12.500000   25.500000    0.200000     6.400000         NaN   \n",
       "max     20.900000   35.800000   39.800000    13.800000   13.600000   \n",
       "\n",
       "       WindGustSpeed  WindSpeed9am  WindSpeed3pm  Humidity9am  Humidity3pm  \\\n",
       "count     364.000000    359.000000    366.000000   366.000000   366.000000   \n",
       "mean       39.840659      9.651811     17.986339    72.035519    44.519126   \n",
       "std        13.059807      7.951929      8.856997    13.137058    16.850947   \n",
       "min        13.000000      0.000000      0.000000    36.000000    13.000000   \n",
       "25%              NaN           NaN     11.000000    64.000000    32.250000   \n",
       "50%              NaN           NaN     17.000000    72.000000    43.000000   \n",
       "75%              NaN           NaN     24.000000    81.000000    55.000000   \n",
       "max        98.000000     41.000000     52.000000    99.000000    96.000000   \n",
       "\n",
       "       Pressure9am  Pressure3pm    Cloud9am    Cloud3pm     Temp9am  \\\n",
       "count   366.000000   366.000000  366.000000  366.000000  366.000000   \n",
       "mean   1019.709016  1016.810383    3.890710    4.024590   12.358470   \n",
       "std       6.686212     6.469422    2.956131    2.666268    5.630832   \n",
       "min     996.500000   996.800000    0.000000    0.000000    0.100000   \n",
       "25%    1015.350000  1012.800000    1.000000    1.000000    7.625000   \n",
       "50%    1020.150000  1017.400000    3.500000    4.000000   12.550000   \n",
       "75%    1024.475000  1021.475000    7.000000    7.000000   17.000000   \n",
       "max    1035.700000  1033.200000    8.000000    8.000000   24.700000   \n",
       "\n",
       "          Temp3pm     RISK_MM  \n",
       "count  366.000000  366.000000  \n",
       "mean    19.230874    1.428415  \n",
       "std      6.640346    4.225800  \n",
       "min      5.100000    0.000000  \n",
       "25%     14.150000    0.000000  \n",
       "50%     18.550000    0.000000  \n",
       "75%     24.000000    0.200000  \n",
       "max     34.500000   39.800000  "
      ]
     },
     "execution_count": 268,
     "metadata": {},
     "output_type": "execute_result"
    }
   ],
   "source": [
    "dataframe.describe()"
   ]
  },
  {
   "cell_type": "code",
   "execution_count": 269,
   "metadata": {},
   "outputs": [
    {
     "data": {
      "text/plain": [
       "array(['Yes', 'No'], dtype=object)"
      ]
     },
     "execution_count": 269,
     "metadata": {},
     "output_type": "execute_result"
    }
   ],
   "source": [
    "dataframe['RainTomorrow'].unique()"
   ]
  },
  {
   "cell_type": "code",
   "execution_count": 270,
   "metadata": {},
   "outputs": [
    {
     "data": {
      "text/plain": [
       "array(['No', 'Yes'], dtype=object)"
      ]
     },
     "execution_count": 270,
     "metadata": {},
     "output_type": "execute_result"
    }
   ],
   "source": [
    "dataframe['RainToday'].unique()"
   ]
  },
  {
   "cell_type": "code",
   "execution_count": 271,
   "metadata": {},
   "outputs": [
    {
     "data": {
      "text/plain": [
       "array(['Canberra'], dtype=object)"
      ]
     },
     "execution_count": 271,
     "metadata": {},
     "output_type": "execute_result"
    }
   ],
   "source": [
    "dataframe['Location'].unique()"
   ]
  },
  {
   "cell_type": "code",
   "execution_count": 272,
   "metadata": {},
   "outputs": [
    {
     "data": {
      "text/plain": [
       "array(['2007-11-01', '2007-11-02', '2007-11-03', '2007-11-04',\n",
       "       '2007-11-05', '2007-11-06', '2007-11-07', '2007-11-08',\n",
       "       '2007-11-09', '2007-11-10', '2007-11-11', '2007-11-12',\n",
       "       '2007-11-13', '2007-11-14', '2007-11-15', '2007-11-16',\n",
       "       '2007-11-17', '2007-11-18', '2007-11-19', '2007-11-20',\n",
       "       '2007-11-21', '2007-11-22', '2007-11-23', '2007-11-24',\n",
       "       '2007-11-25', '2007-11-26', '2007-11-27', '2007-11-28',\n",
       "       '2007-11-29', '2007-11-30', '2007-12-01', '2007-12-02',\n",
       "       '2007-12-03', '2007-12-04', '2007-12-05', '2007-12-06',\n",
       "       '2007-12-07', '2007-12-08', '2007-12-09', '2007-12-10',\n",
       "       '2007-12-11', '2007-12-12', '2007-12-13', '2007-12-14',\n",
       "       '2007-12-15', '2007-12-16', '2007-12-17', '2007-12-18',\n",
       "       '2007-12-19', '2007-12-20', '2007-12-21', '2007-12-22',\n",
       "       '2007-12-23', '2007-12-24', '2007-12-25', '2007-12-26',\n",
       "       '2007-12-27', '2007-12-28', '2007-12-29', '2007-12-30',\n",
       "       '2007-12-31', '2008-01-01', '2008-01-02', '2008-01-03',\n",
       "       '2008-01-04', '2008-01-05', '2008-01-06', '2008-01-07',\n",
       "       '2008-01-08', '2008-01-09', '2008-01-10', '2008-01-11',\n",
       "       '2008-01-12', '2008-01-13', '2008-01-14', '2008-01-15',\n",
       "       '2008-01-16', '2008-01-17', '2008-01-18', '2008-01-19',\n",
       "       '2008-01-20', '2008-01-21', '2008-01-22', '2008-01-23',\n",
       "       '2008-01-24', '2008-01-25', '2008-01-26', '2008-01-27',\n",
       "       '2008-01-28', '2008-01-29', '2008-01-30', '2008-01-31',\n",
       "       '2008-02-01', '2008-02-02', '2008-02-03', '2008-02-04',\n",
       "       '2008-02-05', '2008-02-06', '2008-02-07', '2008-02-08',\n",
       "       '2008-02-09', '2008-02-10', '2008-02-11', '2008-02-12',\n",
       "       '2008-02-13', '2008-02-14', '2008-02-15', '2008-02-16',\n",
       "       '2008-02-17', '2008-02-18', '2008-02-19', '2008-02-20',\n",
       "       '2008-02-21', '2008-02-22', '2008-02-23', '2008-02-24',\n",
       "       '2008-02-25', '2008-02-26', '2008-02-27', '2008-02-28',\n",
       "       '2008-02-29', '2008-03-01', '2008-03-02', '2008-03-03',\n",
       "       '2008-03-04', '2008-03-05', '2008-03-06', '2008-03-07',\n",
       "       '2008-03-08', '2008-03-09', '2008-03-10', '2008-03-11',\n",
       "       '2008-03-12', '2008-03-13', '2008-03-14', '2008-03-15',\n",
       "       '2008-03-16', '2008-03-17', '2008-03-18', '2008-03-19',\n",
       "       '2008-03-20', '2008-03-21', '2008-03-22', '2008-03-23',\n",
       "       '2008-03-24', '2008-03-25', '2008-03-26', '2008-03-27',\n",
       "       '2008-03-28', '2008-03-29', '2008-03-30', '2008-03-31',\n",
       "       '2008-04-01', '2008-04-02', '2008-04-03', '2008-04-04',\n",
       "       '2008-04-05', '2008-04-06', '2008-04-07', '2008-04-08',\n",
       "       '2008-04-09', '2008-04-10', '2008-04-11', '2008-04-12',\n",
       "       '2008-04-13', '2008-04-14', '2008-04-15', '2008-04-16',\n",
       "       '2008-04-17', '2008-04-18', '2008-04-19', '2008-04-20',\n",
       "       '2008-04-21', '2008-04-22', '2008-04-23', '2008-04-24',\n",
       "       '2008-04-25', '2008-04-26', '2008-04-27', '2008-04-28',\n",
       "       '2008-04-29', '2008-04-30', '2008-05-01', '2008-05-02',\n",
       "       '2008-05-03', '2008-05-04', '2008-05-05', '2008-05-06',\n",
       "       '2008-05-07', '2008-05-08', '2008-05-09', '2008-05-10',\n",
       "       '2008-05-11', '2008-05-12', '2008-05-13', '2008-05-14',\n",
       "       '2008-05-15', '2008-05-16', '2008-05-17', '2008-05-18',\n",
       "       '2008-05-19', '2008-05-20', '2008-05-21', '2008-05-22',\n",
       "       '2008-05-23', '2008-05-24', '2008-05-25', '2008-05-26',\n",
       "       '2008-05-27', '2008-05-28', '2008-05-29', '2008-05-30',\n",
       "       '2008-05-31', '2008-06-01', '2008-06-02', '2008-06-03',\n",
       "       '2008-06-04', '2008-06-05', '2008-06-06', '2008-06-07',\n",
       "       '2008-06-08', '2008-06-09', '2008-06-10', '2008-06-11',\n",
       "       '2008-06-12', '2008-06-13', '2008-06-14', '2008-06-15',\n",
       "       '2008-06-16', '2008-06-17', '2008-06-18', '2008-06-19',\n",
       "       '2008-06-20', '2008-06-21', '2008-06-22', '2008-06-23',\n",
       "       '2008-06-24', '2008-06-25', '2008-06-26', '2008-06-27',\n",
       "       '2008-06-28', '2008-06-29', '2008-06-30', '2008-07-01',\n",
       "       '2008-07-02', '2008-07-03', '2008-07-04', '2008-07-05',\n",
       "       '2008-07-06', '2008-07-07', '2008-07-08', '2008-07-09',\n",
       "       '2008-07-10', '2008-07-11', '2008-07-12', '2008-07-13',\n",
       "       '2008-07-14', '2008-07-15', '2008-07-16', '2008-07-17',\n",
       "       '2008-07-18', '2008-07-19', '2008-07-20', '2008-07-21',\n",
       "       '2008-07-22', '2008-07-23', '2008-07-24', '2008-07-25',\n",
       "       '2008-07-26', '2008-07-27', '2008-07-28', '2008-07-29',\n",
       "       '2008-07-30', '2008-07-31', '2008-08-01', '2008-08-02',\n",
       "       '2008-08-03', '2008-08-04', '2008-08-05', '2008-08-06',\n",
       "       '2008-08-07', '2008-08-08', '2008-08-09', '2008-08-10',\n",
       "       '2008-08-11', '2008-08-12', '2008-08-13', '2008-08-14',\n",
       "       '2008-08-15', '2008-08-16', '2008-08-17', '2008-08-18',\n",
       "       '2008-08-19', '2008-08-20', '2008-08-21', '2008-08-22',\n",
       "       '2008-08-23', '2008-08-24', '2008-08-25', '2008-08-26',\n",
       "       '2008-08-27', '2008-08-28', '2008-08-29', '2008-08-30',\n",
       "       '2008-08-31', '2008-09-01', '2008-09-02', '2008-09-03',\n",
       "       '2008-09-04', '2008-09-05', '2008-09-06', '2008-09-07',\n",
       "       '2008-09-08', '2008-09-09', '2008-09-10', '2008-09-11',\n",
       "       '2008-09-12', '2008-09-13', '2008-09-14', '2008-09-15',\n",
       "       '2008-09-16', '2008-09-17', '2008-09-18', '2008-09-19',\n",
       "       '2008-09-20', '2008-09-21', '2008-09-22', '2008-09-23',\n",
       "       '2008-09-24', '2008-09-25', '2008-09-26', '2008-09-27',\n",
       "       '2008-09-28', '2008-09-29', '2008-09-30', '2008-10-01',\n",
       "       '2008-10-02', '2008-10-03', '2008-10-04', '2008-10-05',\n",
       "       '2008-10-06', '2008-10-07', '2008-10-08', '2008-10-09',\n",
       "       '2008-10-10', '2008-10-11', '2008-10-12', '2008-10-13',\n",
       "       '2008-10-14', '2008-10-15', '2008-10-16', '2008-10-17',\n",
       "       '2008-10-18', '2008-10-19', '2008-10-20', '2008-10-21',\n",
       "       '2008-10-22', '2008-10-23', '2008-10-24', '2008-10-25',\n",
       "       '2008-10-26', '2008-10-27', '2008-10-28', '2008-10-29',\n",
       "       '2008-10-30', '2008-10-31'], dtype=object)"
      ]
     },
     "execution_count": 272,
     "metadata": {},
     "output_type": "execute_result"
    }
   ],
   "source": [
    "dataframe['Date'].unique()"
   ]
  },
  {
   "cell_type": "code",
   "execution_count": 273,
   "metadata": {
    "collapsed": true
   },
   "outputs": [],
   "source": [
    "# Bagged Decision Trees for Classification\n",
    "from sklearn import cross_validation\n",
    "from sklearn.ensemble import BaggingClassifier\n",
    "from sklearn.tree import DecisionTreeClassifier\n",
    "from sklearn import tree"
   ]
  },
  {
   "cell_type": "code",
   "execution_count": 274,
   "metadata": {},
   "outputs": [
    {
     "data": {
      "text/plain": [
       "Index(['Date', 'Location', 'MinTemp', 'MaxTemp', 'Rainfall', 'Evaporation',\n",
       "       'Sunshine', 'WindGustDir', 'WindGustSpeed', 'WindDir9am', 'WindDir3pm',\n",
       "       'WindSpeed9am', 'WindSpeed3pm', 'Humidity9am', 'Humidity3pm',\n",
       "       'Pressure9am', 'Pressure3pm', 'Cloud9am', 'Cloud3pm', 'Temp9am',\n",
       "       'Temp3pm', 'RainToday', 'RISK_MM', 'RainTomorrow'],\n",
       "      dtype='object')"
      ]
     },
     "execution_count": 274,
     "metadata": {},
     "output_type": "execute_result"
    }
   ],
   "source": [
    "dataframe.columns"
   ]
  },
  {
   "cell_type": "code",
   "execution_count": 275,
   "metadata": {},
   "outputs": [],
   "source": [
    "del dataframe['Date']"
   ]
  },
  {
   "cell_type": "code",
   "execution_count": 276,
   "metadata": {
    "collapsed": true
   },
   "outputs": [],
   "source": [
    "del dataframe['Location']"
   ]
  },
  {
   "cell_type": "code",
   "execution_count": 277,
   "metadata": {
    "collapsed": true
   },
   "outputs": [],
   "source": [
    "del dataframe['WindDir9am']"
   ]
  },
  {
   "cell_type": "code",
   "execution_count": 278,
   "metadata": {
    "collapsed": true
   },
   "outputs": [],
   "source": [
    "del dataframe['WindSpeed3pm']"
   ]
  },
  {
   "cell_type": "code",
   "execution_count": 279,
   "metadata": {
    "collapsed": true
   },
   "outputs": [],
   "source": [
    "del dataframe['WindGustDir']\n",
    "del dataframe['WindDir3pm']\n",
    "del dataframe['RISK_MM']"
   ]
  },
  {
   "cell_type": "code",
   "execution_count": 280,
   "metadata": {},
   "outputs": [],
   "source": [
    "dataframe=dataframe.replace(['Yes', 'No'], [1, 0]) #using replace to change string to numeric values\n"
   ]
  },
  {
   "cell_type": "code",
   "execution_count": 281,
   "metadata": {
    "collapsed": true
   },
   "outputs": [],
   "source": [
    "dataframe=dataframe.dropna()"
   ]
  },
  {
   "cell_type": "code",
   "execution_count": 282,
   "metadata": {},
   "outputs": [
    {
     "data": {
      "text/html": [
       "<div>\n",
       "<table border=\"1\" class=\"dataframe\">\n",
       "  <thead>\n",
       "    <tr style=\"text-align: right;\">\n",
       "      <th></th>\n",
       "      <th>MinTemp</th>\n",
       "      <th>MaxTemp</th>\n",
       "      <th>Rainfall</th>\n",
       "      <th>Evaporation</th>\n",
       "      <th>Sunshine</th>\n",
       "      <th>WindGustSpeed</th>\n",
       "      <th>WindSpeed9am</th>\n",
       "      <th>Humidity9am</th>\n",
       "      <th>Humidity3pm</th>\n",
       "      <th>Pressure9am</th>\n",
       "      <th>Pressure3pm</th>\n",
       "      <th>Cloud9am</th>\n",
       "      <th>Cloud3pm</th>\n",
       "      <th>Temp9am</th>\n",
       "      <th>Temp3pm</th>\n",
       "      <th>RainToday</th>\n",
       "      <th>RainTomorrow</th>\n",
       "    </tr>\n",
       "  </thead>\n",
       "  <tbody>\n",
       "    <tr>\n",
       "      <th>0</th>\n",
       "      <td>8.0</td>\n",
       "      <td>24.3</td>\n",
       "      <td>0.0</td>\n",
       "      <td>3.4</td>\n",
       "      <td>6.3</td>\n",
       "      <td>30.0</td>\n",
       "      <td>6.0</td>\n",
       "      <td>68</td>\n",
       "      <td>29</td>\n",
       "      <td>1019.7</td>\n",
       "      <td>1015.0</td>\n",
       "      <td>7</td>\n",
       "      <td>7</td>\n",
       "      <td>14.4</td>\n",
       "      <td>23.6</td>\n",
       "      <td>0</td>\n",
       "      <td>1</td>\n",
       "    </tr>\n",
       "    <tr>\n",
       "      <th>1</th>\n",
       "      <td>14.0</td>\n",
       "      <td>26.9</td>\n",
       "      <td>3.6</td>\n",
       "      <td>4.4</td>\n",
       "      <td>9.7</td>\n",
       "      <td>39.0</td>\n",
       "      <td>4.0</td>\n",
       "      <td>80</td>\n",
       "      <td>36</td>\n",
       "      <td>1012.4</td>\n",
       "      <td>1008.4</td>\n",
       "      <td>5</td>\n",
       "      <td>3</td>\n",
       "      <td>17.5</td>\n",
       "      <td>25.7</td>\n",
       "      <td>1</td>\n",
       "      <td>1</td>\n",
       "    </tr>\n",
       "    <tr>\n",
       "      <th>2</th>\n",
       "      <td>13.7</td>\n",
       "      <td>23.4</td>\n",
       "      <td>3.6</td>\n",
       "      <td>5.8</td>\n",
       "      <td>3.3</td>\n",
       "      <td>85.0</td>\n",
       "      <td>6.0</td>\n",
       "      <td>82</td>\n",
       "      <td>69</td>\n",
       "      <td>1009.5</td>\n",
       "      <td>1007.2</td>\n",
       "      <td>8</td>\n",
       "      <td>7</td>\n",
       "      <td>15.4</td>\n",
       "      <td>20.2</td>\n",
       "      <td>1</td>\n",
       "      <td>1</td>\n",
       "    </tr>\n",
       "    <tr>\n",
       "      <th>3</th>\n",
       "      <td>13.3</td>\n",
       "      <td>15.5</td>\n",
       "      <td>39.8</td>\n",
       "      <td>7.2</td>\n",
       "      <td>9.1</td>\n",
       "      <td>54.0</td>\n",
       "      <td>30.0</td>\n",
       "      <td>62</td>\n",
       "      <td>56</td>\n",
       "      <td>1005.5</td>\n",
       "      <td>1007.0</td>\n",
       "      <td>2</td>\n",
       "      <td>7</td>\n",
       "      <td>13.5</td>\n",
       "      <td>14.1</td>\n",
       "      <td>1</td>\n",
       "      <td>1</td>\n",
       "    </tr>\n",
       "    <tr>\n",
       "      <th>4</th>\n",
       "      <td>7.6</td>\n",
       "      <td>16.1</td>\n",
       "      <td>2.8</td>\n",
       "      <td>5.6</td>\n",
       "      <td>10.6</td>\n",
       "      <td>50.0</td>\n",
       "      <td>20.0</td>\n",
       "      <td>68</td>\n",
       "      <td>49</td>\n",
       "      <td>1018.3</td>\n",
       "      <td>1018.5</td>\n",
       "      <td>7</td>\n",
       "      <td>7</td>\n",
       "      <td>11.1</td>\n",
       "      <td>15.4</td>\n",
       "      <td>1</td>\n",
       "      <td>0</td>\n",
       "    </tr>\n",
       "  </tbody>\n",
       "</table>\n",
       "</div>"
      ],
      "text/plain": [
       "   MinTemp  MaxTemp  Rainfall  Evaporation  Sunshine  WindGustSpeed  \\\n",
       "0      8.0     24.3       0.0          3.4       6.3           30.0   \n",
       "1     14.0     26.9       3.6          4.4       9.7           39.0   \n",
       "2     13.7     23.4       3.6          5.8       3.3           85.0   \n",
       "3     13.3     15.5      39.8          7.2       9.1           54.0   \n",
       "4      7.6     16.1       2.8          5.6      10.6           50.0   \n",
       "\n",
       "   WindSpeed9am  Humidity9am  Humidity3pm  Pressure9am  Pressure3pm  Cloud9am  \\\n",
       "0           6.0           68           29       1019.7       1015.0         7   \n",
       "1           4.0           80           36       1012.4       1008.4         5   \n",
       "2           6.0           82           69       1009.5       1007.2         8   \n",
       "3          30.0           62           56       1005.5       1007.0         2   \n",
       "4          20.0           68           49       1018.3       1018.5         7   \n",
       "\n",
       "   Cloud3pm  Temp9am  Temp3pm  RainToday  RainTomorrow  \n",
       "0         7     14.4     23.6          0             1  \n",
       "1         3     17.5     25.7          1             1  \n",
       "2         7     15.4     20.2          1             1  \n",
       "3         7     13.5     14.1          1             1  \n",
       "4         7     11.1     15.4          1             0  "
      ]
     },
     "execution_count": 282,
     "metadata": {},
     "output_type": "execute_result"
    }
   ],
   "source": [
    "dataframe.head()"
   ]
  },
  {
   "cell_type": "code",
   "execution_count": 283,
   "metadata": {},
   "outputs": [
    {
     "data": {
      "text/plain": [
       "354"
      ]
     },
     "execution_count": 283,
     "metadata": {},
     "output_type": "execute_result"
    }
   ],
   "source": [
    "len(dataframe)"
   ]
  },
  {
   "cell_type": "code",
   "execution_count": 284,
   "metadata": {},
   "outputs": [
    {
     "data": {
      "text/plain": [
       "17"
      ]
     },
     "execution_count": 284,
     "metadata": {},
     "output_type": "execute_result"
    }
   ],
   "source": [
    "len(dataframe.columns)"
   ]
  },
  {
   "cell_type": "code",
   "execution_count": 285,
   "metadata": {},
   "outputs": [
    {
     "data": {
      "text/plain": [
       "Index(['MinTemp', 'MaxTemp', 'Rainfall', 'Evaporation', 'Sunshine',\n",
       "       'WindGustSpeed', 'WindSpeed9am', 'Humidity9am', 'Humidity3pm',\n",
       "       'Pressure9am', 'Pressure3pm', 'Cloud9am', 'Cloud3pm', 'Temp9am',\n",
       "       'Temp3pm', 'RainToday', 'RainTomorrow'],\n",
       "      dtype='object')"
      ]
     },
     "execution_count": 285,
     "metadata": {},
     "output_type": "execute_result"
    }
   ],
   "source": [
    "names=dataframe.columns\n",
    "names"
   ]
  },
  {
   "cell_type": "code",
   "execution_count": 286,
   "metadata": {},
   "outputs": [
    {
     "data": {
      "text/html": [
       "<div>\n",
       "<table border=\"1\" class=\"dataframe\">\n",
       "  <thead>\n",
       "    <tr style=\"text-align: right;\">\n",
       "      <th></th>\n",
       "      <th>MinTemp</th>\n",
       "      <th>MaxTemp</th>\n",
       "      <th>Rainfall</th>\n",
       "      <th>Evaporation</th>\n",
       "      <th>Sunshine</th>\n",
       "      <th>WindGustSpeed</th>\n",
       "      <th>WindSpeed9am</th>\n",
       "      <th>Humidity9am</th>\n",
       "      <th>Humidity3pm</th>\n",
       "      <th>Pressure9am</th>\n",
       "      <th>Pressure3pm</th>\n",
       "      <th>Cloud9am</th>\n",
       "      <th>Cloud3pm</th>\n",
       "      <th>Temp9am</th>\n",
       "      <th>Temp3pm</th>\n",
       "      <th>RainToday</th>\n",
       "      <th>RainTomorrow</th>\n",
       "    </tr>\n",
       "  </thead>\n",
       "  <tbody>\n",
       "    <tr>\n",
       "      <th>count</th>\n",
       "      <td>354.000000</td>\n",
       "      <td>354.000000</td>\n",
       "      <td>354.000000</td>\n",
       "      <td>354.000000</td>\n",
       "      <td>354.000000</td>\n",
       "      <td>354.000000</td>\n",
       "      <td>354.000000</td>\n",
       "      <td>354.000000</td>\n",
       "      <td>354.000000</td>\n",
       "      <td>354.000000</td>\n",
       "      <td>354.000000</td>\n",
       "      <td>354.000000</td>\n",
       "      <td>354.000000</td>\n",
       "      <td>354.000000</td>\n",
       "      <td>354.000000</td>\n",
       "      <td>354.000000</td>\n",
       "      <td>354.000000</td>\n",
       "    </tr>\n",
       "    <tr>\n",
       "      <th>mean</th>\n",
       "      <td>7.362429</td>\n",
       "      <td>20.601412</td>\n",
       "      <td>1.420904</td>\n",
       "      <td>4.558192</td>\n",
       "      <td>7.925424</td>\n",
       "      <td>40.011299</td>\n",
       "      <td>9.666667</td>\n",
       "      <td>71.875706</td>\n",
       "      <td>44.454802</td>\n",
       "      <td>1019.562147</td>\n",
       "      <td>1016.692090</td>\n",
       "      <td>3.920904</td>\n",
       "      <td>4.019774</td>\n",
       "      <td>12.438701</td>\n",
       "      <td>19.271469</td>\n",
       "      <td>0.180791</td>\n",
       "      <td>0.180791</td>\n",
       "    </tr>\n",
       "    <tr>\n",
       "      <th>std</th>\n",
       "      <td>6.010927</td>\n",
       "      <td>6.708966</td>\n",
       "      <td>4.235358</td>\n",
       "      <td>2.667877</td>\n",
       "      <td>3.510039</td>\n",
       "      <td>13.034488</td>\n",
       "      <td>7.978489</td>\n",
       "      <td>13.161939</td>\n",
       "      <td>16.944316</td>\n",
       "      <td>6.602685</td>\n",
       "      <td>6.373679</td>\n",
       "      <td>2.962363</td>\n",
       "      <td>2.672312</td>\n",
       "      <td>5.630160</td>\n",
       "      <td>6.663681</td>\n",
       "      <td>0.385390</td>\n",
       "      <td>0.385390</td>\n",
       "    </tr>\n",
       "    <tr>\n",
       "      <th>min</th>\n",
       "      <td>-5.300000</td>\n",
       "      <td>7.600000</td>\n",
       "      <td>0.000000</td>\n",
       "      <td>0.200000</td>\n",
       "      <td>0.000000</td>\n",
       "      <td>13.000000</td>\n",
       "      <td>0.000000</td>\n",
       "      <td>36.000000</td>\n",
       "      <td>13.000000</td>\n",
       "      <td>996.500000</td>\n",
       "      <td>996.800000</td>\n",
       "      <td>0.000000</td>\n",
       "      <td>0.000000</td>\n",
       "      <td>0.100000</td>\n",
       "      <td>5.100000</td>\n",
       "      <td>0.000000</td>\n",
       "      <td>0.000000</td>\n",
       "    </tr>\n",
       "    <tr>\n",
       "      <th>25%</th>\n",
       "      <td>2.400000</td>\n",
       "      <td>15.100000</td>\n",
       "      <td>0.000000</td>\n",
       "      <td>2.400000</td>\n",
       "      <td>5.925000</td>\n",
       "      <td>31.000000</td>\n",
       "      <td>6.000000</td>\n",
       "      <td>64.000000</td>\n",
       "      <td>32.000000</td>\n",
       "      <td>1015.225000</td>\n",
       "      <td>1012.725000</td>\n",
       "      <td>1.000000</td>\n",
       "      <td>1.000000</td>\n",
       "      <td>7.725000</td>\n",
       "      <td>14.300000</td>\n",
       "      <td>0.000000</td>\n",
       "      <td>0.000000</td>\n",
       "    </tr>\n",
       "    <tr>\n",
       "      <th>50%</th>\n",
       "      <td>7.500000</td>\n",
       "      <td>19.750000</td>\n",
       "      <td>0.000000</td>\n",
       "      <td>4.200000</td>\n",
       "      <td>8.650000</td>\n",
       "      <td>39.000000</td>\n",
       "      <td>7.000000</td>\n",
       "      <td>72.000000</td>\n",
       "      <td>43.000000</td>\n",
       "      <td>1020.000000</td>\n",
       "      <td>1017.200000</td>\n",
       "      <td>4.000000</td>\n",
       "      <td>4.000000</td>\n",
       "      <td>12.600000</td>\n",
       "      <td>18.600000</td>\n",
       "      <td>0.000000</td>\n",
       "      <td>0.000000</td>\n",
       "    </tr>\n",
       "    <tr>\n",
       "      <th>75%</th>\n",
       "      <td>12.500000</td>\n",
       "      <td>25.500000</td>\n",
       "      <td>0.200000</td>\n",
       "      <td>6.400000</td>\n",
       "      <td>10.600000</td>\n",
       "      <td>46.000000</td>\n",
       "      <td>13.000000</td>\n",
       "      <td>80.000000</td>\n",
       "      <td>54.750000</td>\n",
       "      <td>1024.400000</td>\n",
       "      <td>1021.350000</td>\n",
       "      <td>7.000000</td>\n",
       "      <td>7.000000</td>\n",
       "      <td>17.000000</td>\n",
       "      <td>24.000000</td>\n",
       "      <td>0.000000</td>\n",
       "      <td>0.000000</td>\n",
       "    </tr>\n",
       "    <tr>\n",
       "      <th>max</th>\n",
       "      <td>20.900000</td>\n",
       "      <td>35.800000</td>\n",
       "      <td>39.800000</td>\n",
       "      <td>13.800000</td>\n",
       "      <td>13.600000</td>\n",
       "      <td>98.000000</td>\n",
       "      <td>41.000000</td>\n",
       "      <td>99.000000</td>\n",
       "      <td>96.000000</td>\n",
       "      <td>1035.700000</td>\n",
       "      <td>1033.200000</td>\n",
       "      <td>8.000000</td>\n",
       "      <td>8.000000</td>\n",
       "      <td>24.700000</td>\n",
       "      <td>34.500000</td>\n",
       "      <td>1.000000</td>\n",
       "      <td>1.000000</td>\n",
       "    </tr>\n",
       "  </tbody>\n",
       "</table>\n",
       "</div>"
      ],
      "text/plain": [
       "          MinTemp     MaxTemp    Rainfall  Evaporation    Sunshine  \\\n",
       "count  354.000000  354.000000  354.000000   354.000000  354.000000   \n",
       "mean     7.362429   20.601412    1.420904     4.558192    7.925424   \n",
       "std      6.010927    6.708966    4.235358     2.667877    3.510039   \n",
       "min     -5.300000    7.600000    0.000000     0.200000    0.000000   \n",
       "25%      2.400000   15.100000    0.000000     2.400000    5.925000   \n",
       "50%      7.500000   19.750000    0.000000     4.200000    8.650000   \n",
       "75%     12.500000   25.500000    0.200000     6.400000   10.600000   \n",
       "max     20.900000   35.800000   39.800000    13.800000   13.600000   \n",
       "\n",
       "       WindGustSpeed  WindSpeed9am  Humidity9am  Humidity3pm  Pressure9am  \\\n",
       "count     354.000000    354.000000   354.000000   354.000000   354.000000   \n",
       "mean       40.011299      9.666667    71.875706    44.454802  1019.562147   \n",
       "std        13.034488      7.978489    13.161939    16.944316     6.602685   \n",
       "min        13.000000      0.000000    36.000000    13.000000   996.500000   \n",
       "25%        31.000000      6.000000    64.000000    32.000000  1015.225000   \n",
       "50%        39.000000      7.000000    72.000000    43.000000  1020.000000   \n",
       "75%        46.000000     13.000000    80.000000    54.750000  1024.400000   \n",
       "max        98.000000     41.000000    99.000000    96.000000  1035.700000   \n",
       "\n",
       "       Pressure3pm    Cloud9am    Cloud3pm     Temp9am     Temp3pm  \\\n",
       "count   354.000000  354.000000  354.000000  354.000000  354.000000   \n",
       "mean   1016.692090    3.920904    4.019774   12.438701   19.271469   \n",
       "std       6.373679    2.962363    2.672312    5.630160    6.663681   \n",
       "min     996.800000    0.000000    0.000000    0.100000    5.100000   \n",
       "25%    1012.725000    1.000000    1.000000    7.725000   14.300000   \n",
       "50%    1017.200000    4.000000    4.000000   12.600000   18.600000   \n",
       "75%    1021.350000    7.000000    7.000000   17.000000   24.000000   \n",
       "max    1033.200000    8.000000    8.000000   24.700000   34.500000   \n",
       "\n",
       "        RainToday  RainTomorrow  \n",
       "count  354.000000    354.000000  \n",
       "mean     0.180791      0.180791  \n",
       "std      0.385390      0.385390  \n",
       "min      0.000000      0.000000  \n",
       "25%      0.000000      0.000000  \n",
       "50%      0.000000      0.000000  \n",
       "75%      0.000000      0.000000  \n",
       "max      1.000000      1.000000  "
      ]
     },
     "execution_count": 286,
     "metadata": {},
     "output_type": "execute_result"
    }
   ],
   "source": [
    "dataframe.describe()"
   ]
  },
  {
   "cell_type": "code",
   "execution_count": 287,
   "metadata": {},
   "outputs": [
    {
     "data": {
      "text/plain": [
       "pandas.core.frame.DataFrame"
      ]
     },
     "execution_count": 287,
     "metadata": {},
     "output_type": "execute_result"
    }
   ],
   "source": [
    "type(dataframe)"
   ]
  },
  {
   "cell_type": "code",
   "execution_count": 288,
   "metadata": {},
   "outputs": [],
   "source": [
    "\n",
    "array = dataframe.values"
   ]
  },
  {
   "cell_type": "code",
   "execution_count": 289,
   "metadata": {},
   "outputs": [
    {
     "data": {
      "text/plain": [
       "0    290\n",
       "1     64\n",
       "Name: RainTomorrow, dtype: int64"
      ]
     },
     "execution_count": 289,
     "metadata": {},
     "output_type": "execute_result"
    }
   ],
   "source": [
    "pd.value_counts(dataframe[\"RainTomorrow\"])"
   ]
  },
  {
   "cell_type": "code",
   "execution_count": 290,
   "metadata": {},
   "outputs": [
    {
     "data": {
      "text/plain": [
       "array([[  8. ,  24.3,   0. , ...,  23.6,   0. ,   1. ],\n",
       "       [ 14. ,  26.9,   3.6, ...,  25.7,   1. ,   1. ],\n",
       "       [ 13.7,  23.4,   3.6, ...,  20.2,   1. ,   1. ],\n",
       "       ..., \n",
       "       [ 12.5,  19.9,   0. , ...,  18.3,   0. ,   0. ],\n",
       "       [ 12.5,  26.9,   0. , ...,  25.9,   0. ,   0. ],\n",
       "       [ 12.3,  30.2,   0. , ...,  28.6,   0. ,   0. ]])"
      ]
     },
     "execution_count": 290,
     "metadata": {},
     "output_type": "execute_result"
    }
   ],
   "source": [
    "array"
   ]
  },
  {
   "cell_type": "code",
   "execution_count": 291,
   "metadata": {},
   "outputs": [],
   "source": [
    "\n",
    "X = array[:,0:16]\n",
    "Y = array[:,16]\n",
    "num_folds = 10\n",
    "num_instances = len(X)\n",
    "seed = 7"
   ]
  },
  {
   "cell_type": "code",
   "execution_count": 292,
   "metadata": {},
   "outputs": [
    {
     "data": {
      "text/plain": [
       "numpy.ndarray"
      ]
     },
     "execution_count": 292,
     "metadata": {},
     "output_type": "execute_result"
    }
   ],
   "source": [
    "type(X)\n"
   ]
  },
  {
   "cell_type": "code",
   "execution_count": 293,
   "metadata": {},
   "outputs": [
    {
     "data": {
      "text/plain": [
       "array([[  8. ,  24.3,   0. , ...,  14.4,  23.6,   0. ],\n",
       "       [ 14. ,  26.9,   3.6, ...,  17.5,  25.7,   1. ],\n",
       "       [ 13.7,  23.4,   3.6, ...,  15.4,  20.2,   1. ],\n",
       "       ..., \n",
       "       [ 12.5,  19.9,   0. , ...,  14.5,  18.3,   0. ],\n",
       "       [ 12.5,  26.9,   0. , ...,  15.8,  25.9,   0. ],\n",
       "       [ 12.3,  30.2,   0. , ...,  23.8,  28.6,   0. ]])"
      ]
     },
     "execution_count": 293,
     "metadata": {},
     "output_type": "execute_result"
    }
   ],
   "source": [
    "X"
   ]
  },
  {
   "cell_type": "code",
   "execution_count": 294,
   "metadata": {},
   "outputs": [
    {
     "data": {
      "text/plain": [
       "array([ 1.,  1.,  1.,  1.,  0.,  0.,  0.,  0.,  1.,  0.,  0.,  0.,  0.,\n",
       "        0.,  0.,  0.,  1.,  0.,  0.,  0.,  0.,  1.,  0.,  0.,  0.,  0.,\n",
       "        0.,  0.,  0.,  1.,  1.,  0.,  1.,  0.,  0.,  0.,  1.,  0.,  0.,\n",
       "        0.,  0.,  0.,  0.,  0.,  1.,  1.,  0.,  0.,  1.,  1.,  1.,  1.,\n",
       "        0.,  1.,  0.,  0.,  1.,  0.,  0.,  0.,  0.,  0.,  0.,  0.,  0.,\n",
       "        0.,  0.,  0.,  0.,  0.,  0.,  0.,  1.,  0.,  0.,  0.,  1.,  0.,\n",
       "        1.,  1.,  0.,  0.,  0.,  0.,  0.,  0.,  0.,  0.,  0.,  0.,  1.,\n",
       "        1.,  0.,  0.,  1.,  1.,  0.,  0.,  1.,  0.,  0.,  0.,  1.,  1.,\n",
       "        0.,  0.,  0.,  0.,  0.,  0.,  0.,  1.,  1.,  0.,  0.,  0.,  0.,\n",
       "        1.,  0.,  0.,  0.,  0.,  0.,  0.,  0.,  0.,  0.,  0.,  0.,  0.,\n",
       "        0.,  0.,  0.,  0.,  0.,  0.,  0.,  0.,  0.,  0.,  0.,  1.,  1.,\n",
       "        0.,  0.,  0.,  0.,  0.,  0.,  0.,  1.,  0.,  0.,  0.,  0.,  0.,\n",
       "        0.,  0.,  0.,  0.,  1.,  1.,  0.,  0.,  0.,  0.,  0.,  0.,  0.,\n",
       "        0.,  0.,  0.,  0.,  0.,  0.,  1.,  0.,  0.,  0.,  0.,  0.,  0.,\n",
       "        0.,  0.,  0.,  0.,  0.,  0.,  0.,  0.,  0.,  0.,  1.,  0.,  0.,\n",
       "        0.,  0.,  0.,  0.,  0.,  0.,  0.,  1.,  1.,  0.,  0.,  0.,  0.,\n",
       "        0.,  1.,  0.,  0.,  0.,  0.,  0.,  1.,  0.,  0.,  0.,  0.,  0.,\n",
       "        0.,  0.,  0.,  1.,  0.,  0.,  0.,  0.,  0.,  0.,  0.,  0.,  0.,\n",
       "        0.,  1.,  0.,  0.,  0.,  0.,  0.,  1.,  0.,  0.,  1.,  0.,  0.,\n",
       "        0.,  0.,  0.,  0.,  1.,  0.,  1.,  0.,  0.,  0.,  0.,  0.,  0.,\n",
       "        1.,  0.,  0.,  0.,  1.,  0.,  0.,  0.,  1.,  0.,  1.,  0.,  0.,\n",
       "        0.,  0.,  0.,  0.,  0.,  0.,  0.,  0.,  0.,  0.,  0.,  0.,  0.,\n",
       "        0.,  0.,  0.,  0.,  0.,  0.,  1.,  1.,  0.,  0.,  0.,  0.,  0.,\n",
       "        0.,  0.,  0.,  0.,  0.,  0.,  0.,  1.,  1.,  1.,  0.,  0.,  0.,\n",
       "        0.,  0.,  0.,  1.,  0.,  0.,  0.,  0.,  0.,  0.,  0.,  0.,  0.,\n",
       "        0.,  1.,  1.,  0.,  1.,  0.,  0.,  0.,  0.,  0.,  0.,  1.,  0.,\n",
       "        0.,  0.,  0.,  0.,  0.,  0.,  0.,  0.,  0.,  0.,  0.,  0.,  0.,\n",
       "        0.,  0.,  0.])"
      ]
     },
     "execution_count": 294,
     "metadata": {},
     "output_type": "execute_result"
    }
   ],
   "source": [
    "#Y[Y == \"Yes\"] = 1 An alternative way to make a NumPy arraye change values\n",
    "#Y[Y == \"No\"] = 0\n",
    "Y"
   ]
  },
  {
   "cell_type": "code",
   "execution_count": 295,
   "metadata": {},
   "outputs": [
    {
     "data": {
      "text/plain": [
       "DecisionTreeRegressor(criterion='mse', max_depth=3, max_features=None,\n",
       "           max_leaf_nodes=None, min_samples_leaf=1, min_samples_split=2,\n",
       "           min_weight_fraction_leaf=0.0, presort=False, random_state=None,\n",
       "           splitter='best')"
      ]
     },
     "execution_count": 295,
     "metadata": {},
     "output_type": "execute_result"
    }
   ],
   "source": [
    "dtr = tree.DecisionTreeRegressor(max_depth=3)\n",
    "dtr.fit(X, Y)"
   ]
  },
  {
   "cell_type": "code",
   "execution_count": 296,
   "metadata": {
    "collapsed": true
   },
   "outputs": [],
   "source": [
    "# from sklearn.metrics import roc_curve, auc"
   ]
  },
  {
   "cell_type": "code",
   "execution_count": 297,
   "metadata": {},
   "outputs": [],
   "source": [
    "#!sudo pip install pydotplus\n",
    "# http://scikit-learn.org/stable/auto_examples/model_selection/plot_roc.html\n",
    "# http://machinelearningmastery.com/ensemble-machine-learning-algorithms-python-scikit-learn/\n",
    "# http://machinelearningmastery.com/compare-machine-learning-algorithms-python-scikit-learn/"
   ]
  },
  {
   "cell_type": "code",
   "execution_count": 298,
   "metadata": {},
   "outputs": [],
   "source": [
    "#!pip freeze\n",
    "#checking if we have the right packages"
   ]
  },
  {
   "cell_type": "code",
   "execution_count": 299,
   "metadata": {},
   "outputs": [],
   "source": [
    "#!pip install --upgrade pip"
   ]
  },
  {
   "cell_type": "code",
   "execution_count": 300,
   "metadata": {},
   "outputs": [],
   "source": [
    "#!pip install pydotplus"
   ]
  },
  {
   "cell_type": "code",
   "execution_count": 301,
   "metadata": {},
   "outputs": [],
   "source": [
    "import pydotplus as pydot\n",
    "\n",
    "from IPython.display import Image\n",
    "\n",
    "from sklearn.externals.six import StringIO"
   ]
  },
  {
   "cell_type": "code",
   "execution_count": 302,
   "metadata": {
    "collapsed": true
   },
   "outputs": [],
   "source": [
    "# Graphviz\n",
    "#sudo add-apt-repository ppa:gviz-adm/graphviz-dev\n",
    "# sudo apt-get update\n",
    "# http://www.graphviz.org/Download_linux_ubuntu.php"
   ]
  },
  {
   "cell_type": "code",
   "execution_count": 303,
   "metadata": {},
   "outputs": [],
   "source": [
    "\n",
    "\n",
    "dot_data = StringIO()"
   ]
  },
  {
   "cell_type": "code",
   "execution_count": 304,
   "metadata": {},
   "outputs": [],
   "source": [
    "\n",
    "\n",
    "tree.export_graphviz(dtr, out_file=dot_data,feature_names=names[:-1])"
   ]
  },
  {
   "cell_type": "code",
   "execution_count": 305,
   "metadata": {
    "collapsed": true
   },
   "outputs": [],
   "source": [
    "\n",
    "\n",
    "graph = pydot.graph_from_dot_data(dot_data.getvalue())"
   ]
  },
  {
   "cell_type": "code",
   "execution_count": 306,
   "metadata": {},
   "outputs": [
    {
     "data": {
      "image/png": "[encoded data removed]",
      "text/plain": [
       "<IPython.core.display.Image object>"
      ]
     },
     "execution_count": 306,
     "metadata": {},
     "output_type": "execute_result"
    }
   ],
   "source": [
    "\n",
    "\n",
    "Image(graph.create_png())"
   ]
  },
  {
   "cell_type": "code",
   "execution_count": 307,
   "metadata": {
    "collapsed": true
   },
   "outputs": [],
   "source": [
    "\n",
    "kfold = cross_validation.KFold(n=num_instances, n_folds=num_folds, random_state=seed)\n",
    "cart = DecisionTreeClassifier()\n",
    "num_trees = 100\n",
    "model = BaggingClassifier(base_estimator=cart, n_estimators=num_trees, random_state=seed)\n"
   ]
  },
  {
   "cell_type": "code",
   "execution_count": 308,
   "metadata": {},
   "outputs": [
    {
     "data": {
      "text/plain": [
       "BaggingClassifier(base_estimator=DecisionTreeClassifier(class_weight=None, criterion='gini', max_depth=None,\n",
       "            max_features=None, max_leaf_nodes=None, min_samples_leaf=1,\n",
       "            min_samples_split=2, min_weight_fraction_leaf=0.0,\n",
       "            presort=False, random_state=None, splitter='best'),\n",
       "         bootstrap=True, bootstrap_features=False, max_features=1.0,\n",
       "         max_samples=1.0, n_estimators=100, n_jobs=1, oob_score=False,\n",
       "         random_state=7, verbose=0, warm_start=False)"
      ]
     },
     "execution_count": 308,
     "metadata": {},
     "output_type": "execute_result"
    }
   ],
   "source": [
    "model"
   ]
  },
  {
   "cell_type": "code",
   "execution_count": 309,
   "metadata": {},
   "outputs": [
    {
     "data": {
      "text/plain": [
       "sklearn.cross_validation.KFold(n=354, n_folds=10, shuffle=False, random_state=7)"
      ]
     },
     "execution_count": 309,
     "metadata": {},
     "output_type": "execute_result"
    }
   ],
   "source": [
    "kfold"
   ]
  },
  {
   "cell_type": "code",
   "execution_count": 310,
   "metadata": {},
   "outputs": [
    {
     "name": "stdout",
     "output_type": "stream",
     "text": [
      "0.850873015873\n"
     ]
    }
   ],
   "source": [
    "results = cross_validation.cross_val_score(model, X, Y, cv=kfold)\n",
    "print(results.mean())"
   ]
  },
  {
   "cell_type": "code",
   "execution_count": 311,
   "metadata": {},
   "outputs": [
    {
     "data": {
      "text/plain": [
       "array([ 0.75      ,  0.86111111,  0.69444444,  0.88888889,  0.88571429,\n",
       "        0.82857143,  0.91428571,  0.85714286,  0.94285714,  0.88571429])"
      ]
     },
     "execution_count": 311,
     "metadata": {},
     "output_type": "execute_result"
    }
   ],
   "source": [
    "results"
   ]
  }
 ],
 "metadata": {
  "anaconda-cloud": {},
  "kernelspec": {
   "display_name": "Python 3",
   "language": "python",
   "name": "python3"
  },
  "language_info": {
   "codemirror_mode": {
    "name": "ipython",
    "version": 3
   },
   "file_extension": ".py",
   "mimetype": "text/x-python",
   "name": "python",
   "nbconvert_exporter": "python",
   "pygments_lexer": "ipython3",
   "version": "3.6.1"
  }
 },
 "nbformat": 4,
 "nbformat_minor": 1
}
