{
 "cells": [
  {
   "cell_type": "code",
   "execution_count": 1,
   "metadata": {
    "collapsed": true
   },
   "outputs": [],
   "source": [
    "import nltk\n"
   ]
  },
  {
   "cell_type": "code",
   "execution_count": 2,
   "metadata": {},
   "outputs": [],
   "source": [
    "#nltk.download()"
   ]
  },
  {
   "cell_type": "code",
   "execution_count": 3,
   "metadata": {},
   "outputs": [
    {
     "name": "stdout",
     "output_type": "stream",
     "text": [
      "*** Introductory Examples for the NLTK Book ***\n",
      "Loading text1, ..., text9 and sent1, ..., sent9\n",
      "Type the name of the text or sentence to view it.\n",
      "Type: 'texts()' or 'sents()' to list the materials.\n",
      "text1: Moby Dick by Herman Melville 1851\n",
      "text2: Sense and Sensibility by Jane Austen 1811\n",
      "text3: The Book of Genesis\n",
      "text4: Inaugural Address Corpus\n",
      "text5: Chat Corpus\n",
      "text6: Monty Python and the Holy Grail\n",
      "text7: Wall Street Journal\n",
      "text8: Personals Corpus\n",
      "text9: The Man Who Was Thursday by G . K . Chesterton 1908\n"
     ]
    }
   ],
   "source": [
    "from nltk.book import *\n"
   ]
  },
  {
   "cell_type": "code",
   "execution_count": 4,
   "metadata": {},
   "outputs": [
    {
     "name": "stdout",
     "output_type": "stream",
     "text": [
      "text1: Moby Dick by Herman Melville 1851\n",
      "text2: Sense and Sensibility by Jane Austen 1811\n",
      "text3: The Book of Genesis\n",
      "text4: Inaugural Address Corpus\n",
      "text5: Chat Corpus\n",
      "text6: Monty Python and the Holy Grail\n",
      "text7: Wall Street Journal\n",
      "text8: Personals Corpus\n",
      "text9: The Man Who Was Thursday by G . K . Chesterton 1908\n"
     ]
    }
   ],
   "source": [
    "texts()"
   ]
  },
  {
   "cell_type": "code",
   "execution_count": 5,
   "metadata": {},
   "outputs": [
    {
     "name": "stdout",
     "output_type": "stream",
     "text": [
      "sent1: Call me Ishmael .\n",
      "sent2: The family of Dashwood had long been settled in Sussex .\n",
      "sent3: In the beginning God created the heaven and the earth .\n",
      "sent4: Fellow - Citizens of the Senate and of the House of Representatives :\n",
      "sent5: I have a problem with people PMing me to lol JOIN\n",
      "sent6: SCENE 1 : [ wind ] [ clop clop clop ] KING ARTHUR : Whoa there !\n",
      "sent7: Pierre Vinken , 61 years old , will join the board as a nonexecutive director Nov. 29 .\n",
      "sent8: 25 SEXY MALE , seeks attrac older single lady , for discreet encounters .\n",
      "sent9: THE suburb of Saffron Park lay on the sunset side of London , as red and ragged as a cloud of sunset .\n"
     ]
    }
   ],
   "source": [
    "sents()"
   ]
  },
  {
   "cell_type": "code",
   "execution_count": 6,
   "metadata": {},
   "outputs": [
    {
     "name": "stdout",
     "output_type": "stream",
     "text": [
      "Requirement already satisfied: textblob in c:\\users\\kogentix\\anaconda3\\lib\\site-packages\n",
      "Requirement already satisfied: nltk>=3.1 in c:\\users\\kogentix\\anaconda3\\lib\\site-packages (from textblob)\n",
      "Requirement already satisfied: six in c:\\users\\kogentix\\anaconda3\\lib\\site-packages (from nltk>=3.1->textblob)\n"
     ]
    }
   ],
   "source": [
    "!pip install textblob"
   ]
  },
  {
   "cell_type": "code",
   "execution_count": 7,
   "metadata": {},
   "outputs": [
    {
     "name": "stdout",
     "output_type": "stream",
     "text": [
      "Requirement already satisfied: tweepy in c:\\users\\kogentix\\anaconda3\\lib\\site-packages\n",
      "Requirement already satisfied: requests-oauthlib>=0.4.1 in c:\\users\\kogentix\\anaconda3\\lib\\site-packages (from tweepy)\n",
      "Requirement already satisfied: six>=1.7.3 in c:\\users\\kogentix\\anaconda3\\lib\\site-packages (from tweepy)\n",
      "Requirement already satisfied: requests>=2.4.3 in c:\\users\\kogentix\\anaconda3\\lib\\site-packages (from tweepy)\n",
      "Requirement already satisfied: oauthlib>=0.6.2 in c:\\users\\kogentix\\anaconda3\\lib\\site-packages (from requests-oauthlib>=0.4.1->tweepy)\n"
     ]
    }
   ],
   "source": [
    "!pip install tweepy"
   ]
  },
  {
   "cell_type": "code",
   "execution_count": 8,
   "metadata": {},
   "outputs": [
    {
     "data": {
      "text/plain": [
       "str"
      ]
     },
     "execution_count": 8,
     "metadata": {},
     "output_type": "execute_result"
    }
   ],
   "source": [
    "from urllib import request\n",
    "url = \"http://www.gutenberg.org/files/2554/2554-0.txt\"\n",
    "response = request.urlopen(url)\n",
    "raw = response.read().decode('utf8')\n",
    "type(raw)"
   ]
  },
  {
   "cell_type": "code",
   "execution_count": 9,
   "metadata": {},
   "outputs": [
    {
     "data": {
      "text/plain": [
       "1176965"
      ]
     },
     "execution_count": 9,
     "metadata": {},
     "output_type": "execute_result"
    }
   ],
   "source": [
    "len(raw)\n"
   ]
  },
  {
   "cell_type": "code",
   "execution_count": 10,
   "metadata": {},
   "outputs": [
    {
     "data": {
      "text/plain": [
       "'\\ufeffThe Project Gutenberg EBook of Crime and Punishment, by Fyodor Dostoevsky\\r'"
      ]
     },
     "execution_count": 10,
     "metadata": {},
     "output_type": "execute_result"
    }
   ],
   "source": [
    "raw[:75]\n"
   ]
  },
  {
   "cell_type": "code",
   "execution_count": 11,
   "metadata": {},
   "outputs": [
    {
     "data": {
      "text/plain": [
       "list"
      ]
     },
     "execution_count": 11,
     "metadata": {},
     "output_type": "execute_result"
    }
   ],
   "source": [
    "tokens = nltk.word_tokenize(raw)\n",
    "type(tokens)"
   ]
  },
  {
   "cell_type": "code",
   "execution_count": 12,
   "metadata": {},
   "outputs": [
    {
     "data": {
      "text/plain": [
       "['Project',\n",
       " 'Gutenberg',\n",
       " 'EBook',\n",
       " 'of',\n",
       " 'Crime',\n",
       " 'and',\n",
       " 'Punishment',\n",
       " ',',\n",
       " 'by']"
      ]
     },
     "execution_count": 12,
     "metadata": {},
     "output_type": "execute_result"
    }
   ],
   "source": [
    "tokens[1:10]"
   ]
  },
  {
   "cell_type": "code",
   "execution_count": 13,
   "metadata": {},
   "outputs": [
    {
     "name": "stdout",
     "output_type": "stream",
     "text": [
      "Requirement already satisfied: textmining in c:\\users\\kogentix\\anaconda3\\lib\\site-packages\n"
     ]
    }
   ],
   "source": [
    "!pip install textmining"
   ]
  },
  {
   "cell_type": "markdown",
   "metadata": {},
   "source": [
    "#!pip install stemmer\n",
    "For Python 3 from https://stackoverflow.com/questions/15717752/python3-3-importerror-with-textmining-1-0\n",
    "\n",
    "Converting the textmining code to python3 solved the problem for me. To do so, I manually download the text mining package from here:\n",
    "\n",
    "https://pypi.python.org/pypi/textmining/1.0\n",
    "\n",
    "unzipped it:\n",
    "\n",
    "unzip textmining-1.0.zip\n",
    "converted the folder to python 3:\n",
    "\n",
    "2to3 --output-dir=textmining-1.0_v3 -W -n textmining-1.0\n",
    "and installed it:\n",
    "\n",
    "cd textmining-1.0_v3\n",
    "sudo python3 setup.py install"
   ]
  },
  {
   "cell_type": "code",
   "execution_count": 17,
   "metadata": {},
   "outputs": [],
   "source": [
    "import textmining\n"
   ]
  },
  {
   "cell_type": "code",
   "execution_count": 18,
   "metadata": {
    "collapsed": true
   },
   "outputs": [],
   "source": [
    "tdm = textmining.TermDocumentMatrix()\n"
   ]
  },
  {
   "cell_type": "code",
   "execution_count": 19,
   "metadata": {
    "collapsed": true
   },
   "outputs": [],
   "source": [
    "tdm.add_doc(raw)"
   ]
  },
  {
   "cell_type": "code",
   "execution_count": 21,
   "metadata": {},
   "outputs": [
    {
     "name": "stdout",
     "output_type": "stream",
     "text": [
      "['the', 'project', 'gutenberg', 'ebook', 'of', 'crime', 'and', 'punishment', 'by', 'fyodor', 'dostoevsky', 'this', 'is', 'for', 'use', 'anyone', 'anywhere', 'at', 'no', 'cost', 'with', 'almost', 'restrictions', 'whatsoever', 'you', 'may', 'copy', 'it', 'give', 'away', 'or', 're', 'under', 'terms', 'license', 'included', 'online', 'www', 'org', 'title', 'author', 'release', 'date', 'march', 'last', 'updated', 'october', 'language', 'english', 'character', 'set', 'encoding', 'utf', 'start', 'produced', 'john', 'bickers', 'dagny', 'translated', 'constance', 'garnett', 'translator', 's', 'preface', 'a', 'few', 'words', 'about', 'himself', 'help', 'reader', 'to', 'understand', 'his', 'work', 'was', 'son', 'doctor', 'parents', 'were', 'very', 'hard', 'working', 'deeply', 'religious', 'people', 'but', 'so', 'poor', 'that', 'they', 'lived', 'their', 'five', 'children', 'in', 'only', 'two', 'rooms', 'father', 'mother', 'spent', 'evenings', 'reading', 'aloud', 'generally', 'from', 'books', 'serious', 'though', 'always', 'sickly', 'delicate', 'came', 'out', 'third', 'final', 'examination', 'petersburg', 'school', 'engineering', 'there', 'he', 'had', 'already', 'begun', 'first', 'folk', 'story', 'published', 'poet', 'nekrassov', 'review', 'received', 'acclamations', 'shy', 'unknown', 'youth', 'found', 'instantly', 'something', 'celebrity', 'brilliant', 'successful', 'career', 'seemed', 'open', 'before', 'him', 'those', 'hopes', 'soon', 'dashed', 'arrested', 'neither', 'temperament', 'nor', 'conviction', 'revolutionist', 'one', 'little', 'group', 'young', 'men', 'who', 'met', 'together', 'read', 'fourier', 'proudhon', 'accused', 'taking', 'part', 'conversations', 'against', 'censorship', 'letter', 'byelinsky', 'gogol', 'knowing', 'intention', 'up', 'printing', 'press', 'nicholas', 'i', 'stern', 'just', 'man', 'as', 'maurice', 'baring', 'calls', 'enough', 'condemned', 'death', 'after', 'eight', 'months', 'imprisonment', 'twenty', 'others', 'taken', 'semyonovsky', 'square', 'be', 'shot', 'writing', 'brother', 'mihail', 'says', 'snapped', 'over', 'our', 'heads', 'made', 'us', 'put', 'on', 'white', 'shirts', 'worn', 'persons', 'thereupon', 'we', 'bound', 'threes', 'stakes', 'suffer', 'execution', 'being', 'row', 'concluded', 'minutes', 'life', 'me', 'thought', 'your', 'dear', 'ones', 'contrived', 'kiss', 'plestcheiev', 'dourov', 'next', 'bid', 'them', 'farewell', 'suddenly', 'troops', 'beat', 'tattoo', 'unbound', 'brought', 'back', 'upon', 'scaffold', 'informed', 'majesty', 'spared', 'lives', 'sentence', 'commuted', 'labour', 'prisoners', 'grigoryev', 'went', 'mad', 'untied', 'never', 'regained', 'sanity', 'intense', 'suffering', 'experience', 'left', 'lasting', 'stamp', 'mind', 'temper', 'led', 'end', 'accept', 'every', 'resignation', 'regard', 'blessing', 'own', 'case', 'constantly', 'recurs', 'subject', 'writings', 'describes', 'awful', 'agony', 'insists', 'cruelty', 'inflicting', 'such', 'torture', 'then', 'followed', 'four', 'years', 'penal', 'servitude', 'company', 'common', 'criminals', 'siberia', 'where', 'began', 'dead', 'house', 'some', 'service', 'disciplinary', 'battalion', 'shown', 'signs', 'obscure', 'nervous', 'disease', 'arrest', 'now', 'developed', 'into', 'violent', 'attacks', 'epilepsy', 'which', 'suffered', 'rest', 'fits', 'occurred', 'three', 'times', 'year', 'more', 'frequent', 'periods', 'great', 'strain', 'allowed', 'return', 'russia', 'started', 'journal', 'vremya', 'forbidden', 'through', 'misunderstanding', 'lost', 'wife', 'terrible', 'poverty', 'yet', 'took', 'payment', 'debts', 'another', 'epoch', 'within', 'also', 'prohibited', 'weighed', 'down', 'debt', 'family', 'dependent', 'forced', 'write', 'heart', 'breaking', 'speed', 'said', 'have', 'corrected', 'later', 'much', 'softened', 'tenderness', 'devotion', 'second', 'june', 'famous', 'speech', 'unveiling', 'monument', 'pushkin', 'moscow', 'extraordinary', 'demonstrations', 'love', 'honour', 'died', 'grave', 'vast', 'multitude', 'mourners', 'gave', 'hapless', 'funeral', 'king', 'still', 'probably', 'most', 'widely', 'writer', 'russian', 'critic', 'seeks', 'explain', 'feeling', 'inspired', 'ourselves', 'blood', 'bone', 'has', 'seen', 'than', 'insight', 'impresses', 'wisdom', 'seek', 'learn', 'how', 'live', 'all', 'other', 'gifts', 'nature', 'won', 'became', 'chapter', 'an', 'exceptionally', 'hot', 'evening', 'early', 'july', 'garret', 'lodged', 'place', 'walked', 'slowly', 'hesitation', 'towards', 'k', 'bridge', 'successfully', 'avoided', 'meeting', 'landlady', 'staircase', 'roof', 'high', 'storied', 'like', 'cupboard', 'room', 'provided', 'dinners', 'attendance', 'floor', 'below', 'time', 'obliged', 'pass', 'her', 'kitchen', 'door', 'invariably', 'stood', 'each', 'passed', 'sick', 'frightened', 'scowl', 'feel', 'ashamed', 'hopelessly', 'afraid', 'not', 'because', 'cowardly', 'abject', 'quite', 'contrary', 'past', 'been', 'overstrained', 'irritable', 'condition', 'verging', 'hypochondria', 'become', 'completely', 'absorbed', 'isolated', 'fellows', 'dreaded', 'crushed', 'anxieties', 'position', 'late', 'ceased', 'weigh', 'given', 'attending', 'matters', 'practical', 'importance', 'desire', 'do', 'nothing', 'any', 'could', 'real', 'terror', 'stopped', 'stairs', 'listen', 'trivial', 'irrelevant', 'gossip', 'pestering', 'demands', 'threats', 'complaints', 'rack', 'brains', 'excuses', 'prevaricate', 'lie', 'rather', 'would', 'creep', 'cat', 'slip', 'unseen', 'however', 'coming', 'street', 'acutely', 'aware', 'fears', 'want', 'attempt', 'thing', 'am', 'these', 'trifles', 'odd', 'smile', 'hm', 'yes', 'hands', 'lets', 'cowardice', 'axiom', 'interesting', 'know', 'what', 'are', 'new', 'step', 'uttering', 'word', 'fear', 'talking', 'too', 'chatter', 'perhaps', 've', 'learned', 'month', 'lying', 'days', 'my', 'den', 'thinking', 'jack', 'giant', 'killer', 'why', 'going', 'capable', 'simply', 'fantasy', 'amuse', 'myself', 'plaything', 'maybe', 'heat', 'airlessness', 'bustle', 'plaster', 'scaffolding', 'bricks', 'dust', 'special', 'stench', 'familiar', 'unable', 'get', 'town', 'summer', 'worked', 'painfully', 'overwrought', 'nerves', 'insufferable', 'pot', 'houses', 'particularly', 'numerous', 'drunken', 'whom', 'continually', 'although', 'day', 'completed', 'revolting', 'misery', 'picture', 'expression', 'profoundest', 'disgust', 'gleamed', 'moment', 'refined', 'face', 'way', 'handsome', 'above', 'average', 'height', 'slim', 'well', 'built', 'beautiful', 'dark', 'eyes', 'brown', 'hair', 'sank', 'deep', 'accurately', 'speaking', 'complete', 'blankness', 'along', 'observing', 'caring', 'observe', 'mutter', 'habit', 'confessed', 'moments', 'conscious', 'ideas', 'sometimes', 'tangle', 'weak', 'scarcely', 'tasted', 'food', 'badly', 'dressed', 'even', 'accustomed', 'shabbiness', 'rags', 'quarter', 'shortcoming', 'dress', 'created', 'surprise', 'owing', 'proximity', 'hay', 'market', 'number', 'establishments', 'bad', 'preponderance', 'trading', 'class', 'population', 'crowded', 'streets', 'alleys', 'types', 'various', 'figure', 'queer', 'caused', 'accumulated', 'bitterness', 'contempt', 'spite', 'fastidiousness', 'minded', 'least', 'different', 'matter', 'when', 'acquaintances', 'former', 'fellow', 'students', 'indeed', 'disliked', 'reason', 'somewhere', 'huge', 'waggon', 'dragged', 'heavy', 'dray', 'horse', 'shouted', 'drove', 'hey', 'german', 'hatter', 'bawling', 'top', 'voice', 'pointing', 'clutched', 'tremulously', 'hat', 'tall', 'round', 'zimmerman', 'rusty', 'age', 'torn', 'bespattered', 'brimless', 'bent', 'side', 'unseemly', 'fashion', 'shame', 'akin', 'overtaken', 'knew', 'muttered', 'confusion', 'worst', 'stupid', 'detail', 'might', 'spoil', 'whole', 'plan', 'noticeable', 'looks', 'absurd', 'makes', 'ought', 'wear', 'cap', 'sort', 'old', 'pancake', 'grotesque', 'nobody', 'wears', 'noticed', 'mile', 'off', 'remembered', 'remember', 'clue', 'business', 'should', 'conspicuous', 'possible', 'ruin', 'everything', 'far', 'go', 'many', 'steps', 'gate', 'lodging', 'exactly', 'seven', 'hundred', 'thirty', 'counted', 'once', 'dreams', 'faith', 'tantalising', 'hideous', 'daring', 'recklessness', 'look', 'differently', 'monologues', 'jeered', 'impotence', 'indecision', 'involuntarily', 'come', 'dream', 'exploit', 'attempted', 'did', 'realise', 'positively', 'rehearsal', 'excitement', 'grew', 'sinking', 'tremor', 'looked', 'canal', 'let', 'tiny', 'tenements', 'inhabited', 'kinds', 'tailors', 'locksmiths', 'cooks', 'germans', 'sorts', 'girls', 'picking', 'living', 'best', 'petty', 'clerks', 'etc', 'continual', 'gates', 'courtyards', 'keepers', 'employed', 'building', 'glad', 'meet', 'none', 'slipped', 'unnoticed', 'right', 'narrow', 'liked', 'surroundings', 'darkness', 'inquisitive', 'if', 'scared', 'somehow', 'really', 'asking', 'reached', 'fourth', 'storey', 'progress', 'barred', 'porters', 'engaged', 'moving', 'furniture', 'flat', 'occupied', 'clerk', 'civil', 'untenanted', 'except', 'woman', 'good', 'anyway', 'rang', 'bell', 'faint', 'tinkle', 'tin', 'copper', 'flats', 'bells', 'ring', 'forgotten', 'note', 'its', 'peculiar', 'remind', 'bring', 'clearly', 'terribly', 'while', 'opened', 'crack', 'eyed', 'visitor', 'evident', 'distrust', 'glittering', 'seeing', 'landing', 'she', 'bolder', 'wide', 'stepped', 'entry', 'partitioned', 'facing', 'silence', 'looking', 'inquiringly', 'diminutive', 'withered', 'sixty', 'sharp', 'malignant', 'nose', 'colourless', 'somewhat', 'grizzled', 'thickly', 'smeared', 'oil', 'wore', 'kerchief', 'thin', 'long', 'neck', 'hen', 'leg', 'knotted', 'flannel', 'rag', 'hung', 'flapping', 'shoulders', 'mangy', 'fur', 'cape', 'yellow', 'coughed', 'groaned', 'instant', 'must', 'gleam', 'mistrust', 'again', 'raskolnikov', 'student', 'here', 'ago', 'haste', 'half', 'bow', 'remembering', 'polite', 'sir', 'distinctly', 'keeping', 'inquiring', 'same', 'errand', 'continued', 'disconcerted', 'surprised', 'notice', 'uneasy', 'paused', 'hesitating', 'letting', 'front', 'paper', 'walls', 'geraniums', 'muslin', 'curtains', 'windows', 'brightly', 'lighted', 'setting', 'sun', 'will', 'shine', 'flashed', 'chance', 'rapid', 'glance', 'scanned', 'trying', 'arrangement', 'wood', 'consisted', 'sofa', 'wooden', 'oval', 'table', 'dressing', 'glass', 'fixed', 'between', 'chairs', 'penny', 'prints', 'frames', 'representing', 'damsels', 'birds', 'corner', 'light', 'burning', 'small', 'ikon', 'clean', 'polished', 'shone', 'lizaveta', 'speck', 'spiteful', 'widows', 'finds', 'cleanliness', 'stole', 'curious', 'cotton', 'curtain', 'leading', 'bed', 'chest', 'drawers', 'severely', 'standing', 'straight', 'pawn', 'drew', 'pocket', 'fashioned', 'silver', 'watch', 'engraved', 'globe', 'chain', 'steel', 'pledge', 'yesterday', 'interest', 'wait', 'please', 'sell', 'alyona', 'ivanovna', 'worth', 'anything', 'roubles', 'buy', 'jeweler', 'rouble', 'shall', 'redeem', 'getting', 'money', 'advance', 'cried', 'yourself', 'handed', 'angry', 'point', 'checked', 'nowhere', 'else', 'object', 'hand', 'roughly', 'fumbled', 'keys', 'disappeared', 'behind', 'alone', 'middle', 'listened', 'inquisitively', 'hear', 'unlocking', 'drawer', 'reflected', 'carries', 'bunch', 'key', 'big', 'notches', 'can', 't', 'strong', 'box', 'boxes', 'degrading', 'say', 'ten', 'copecks', 'take', 'fifteen', 'lent', 'owe', 'reckoning', 'altogether', 'dispute', 'hurry', 'wanted', 'bringing', 'valuable', 'cigarette', 'friend', 'broke', 'talk', 'bye', 'home', 'sister', 'asked', 'casually', 'passage', 'yours', 'oh', 'particular', 'quick', 'short', 'struck', 'god', 'loathsome', 'possibly', 'nonsense', 'rubbish', 'added', 'resolutely', 'atrocious', 'head', 'filthy', 'things', 'disgusting', 'exclamations', 'express', 'agitation', 'repulsion', 'oppress', 'pitch', 'definite', 'form', 'escape', 'wretchedness', 'pavement', 'regardless', 'passers', 'jostling', 'senses', 'close', 'tavern', 'entered', 'basement', 'abusing', 'supporting', 'mounted', 'without', 'stopping', 'think', 'till', 'felt', 'giddy', 'tormented', 'thirst', 'longed', 'drink', 'cold', 'beer', 'attributed', 'sudden', 'weakness', 'sat', 'sticky', 'dirty', 'ordered', 'eagerly', 'drank', 'glassful', 'easier', 'thoughts', 'clear', 'hopefully', 'worry', 'physical', 'derangement', 'piece', 'dry', 'bread', 'brain', 'stronger', 'clearer', 'firm', 'phew', 'utterly', 'scornful', 'reflection', 'cheerful', 'free', 'burden', 'gazed', 'friendly', 'dim', 'foreboding', 'happier', 'frame', 'normal', 'besides', 'consisting', 'girl', 'concertina', 'gone', 'departure', 'quiet', 'empty', 'appeared', 'artisan', 'drunk', 'extremely', 'sitting', 'companion', 'stout', 'grey', 'beard', 'full', 'skirted', 'coat', 'dropped', 'asleep', 'bench', 'sleep', 'cracking', 'fingers', 'arms', 'apart', 'upper', 'body', 'bounding', 'hummed', 'meaningless', 'refrain', 'recall', 'lines', 'fondly', 'loved', 'waking', 'walking', 'used', 'shared', 'enjoyment', 'silent', 'positive', 'hostility', 'manifestations', 'retired', 'government', 'sipping', 'ii', 'crowds', 'society', 'especially', 'weary', 'concentrated', 'gloomy', 'world', 'whatever', 'filthiness', 'stay', 'master', 'establishment', 'frequently', 'main', 'jaunty', 'tarred', 'boots', 'red', 'turn', 'tops', 'view', 'person', 'horribly', 'greasy', 'black', 'satin', 'waistcoat', 'cravat', 'iron', 'lock', 'counter', 'boy', 'fourteen', 'younger', 'lay', 'sliced', 'cucumber', 'pieces', 'dried', 'fish', 'chopped', 'smelling', 'insufferably', 'fumes', 'spirits', 'atmosphere', 'make', 'meetings', 'strangers', 'spoken', 'impression', 'distance', 'often', 'recalled', 'afterwards', 'ascribed', 'presentiment', 'repeatedly', 'partly', 'doubt', 'latter', 'staring', 'persistently', 'obviously', 'anxious', 'enter', 'conversation', 'including', 'keeper', 'showing', 'shade', 'condescending', 'station', 'culture', 'inferior', 'useless', 'converse', 'fifty', 'bald', 'medium', 'stoutly', 'bloated', 'drinking', 'greenish', 'tinge', 'swollen', 'eyelids', 'keen', 'reddish', 'chinks', 'strange', 'intelligence', 'madness', 'wearing', 'ragged', 'buttons', 'missing', 'buttoned', 'evidently', 'clinging', 'trace', 'respectability', 'crumpled', 'shirt', 'covered', 'spots', 'stains', 'protruded', 'canvas', 'moustache', 'unshaven', 'chin', 'stiff', 'greyish', 'brush', 'respectable', 'official', 'manner', 'restless', 'ruffled', 'drop', 'dejectedly', 'resting', 'elbows', 'stained', 'loudly', 'venture', 'honoured', 'engage', 'forasmuch', 'exterior', 'command', 'respect', 'admonishes', 'education', 'respected', 'conjunction', 'genuine', 'sentiments', 'titular', 'counsellor', 'rank', 'marmeladov', 'name', 'bold', 'inquire', 'studying', 'answered', 'grandiloquent', 'style', 'speaker', 'directly', 'addressed', 'momentary', 'actually', 'immediately', 'habitual', 'aversion', 'stranger', 'approached', 'approach', 'formerly', 'm', 'immense', 'tapped', 'forehead', 'self', 'approval', 'attended', 'institution', 'allow', 'got', 'staggered', 'jug', 'beside', 'sideways', 'spoke', 'fluently', 'boldly', 'occasionally', 'losing', 'thread', 'sentences', 'drawling', 'pounced', 'greedily', 'soul', 'solemnity', 'vice', 'true', 'saying', 'drunkenness', 'virtue', 'truer', 'beggary', 'retain', 'innate', 'nobility', 'chased', 'human', 'stick', 'swept', 'broom', 'humiliating', 'ready', 'humiliate', 'hence', 'mr', 'lebeziatnikov', 'beating', 'ask', 'question', 'simple', 'curiosity', 'ever', 'night', 'barge', 'neva', 'happened', 'mean', 'fifth', 'slept', 'filled', 'emptied', 'bits', 'fact', 'clothes', 'sticking', 'probable', 'undressed', 'washed', 'fat', 'nails', 'excite', 'general', 'languid', 'boys', 'fell', 'sniggering', 'innkeeper', 'apparently', 'purpose', 'funny', 'yawning', 'lazily', 'dignity', 'likely', 'acquired', 'flown', 'speeches', 'entering', 'develops', 'necessity', 'drunkards', 'sharply', 'kept', 'order', 'drinkers', 'try', 'justify', 'themselves', 'obtain', 'consideration', 'pronounced', 'don', 'aren', 'duty', 'addressing', 'exclusively', 'does', 'ache', 'worm', 'didn', 'excuse', 'petition', 'loan', 'fullest', 'sense', 'beforehand', 'instance', 'certainty', 'reputable', 'exemplary', 'citizen', 'knows', 'course', 'shan', 'pay', 'compassion', 'keeps', 'modern', 'explained', 'nowadays', 'science', 'itself', 'done', 'england', 'political', 'economy', 'since', 'absolutely', 'daughter', 'ticket', 'passport', 'parenthesis', 'certain', 'uneasiness', 'hurriedly', 'apparent', 'composure', 'both', 'guffawed', 'smiled', 'confounded', 'wagging', 'everyone', 'secret', 'humility', 'behold', 'strongly', 'dare', 'assert', 'pig', 'answer', 'orator', 'stolidly', 'increased', 'waiting', 'laughter', 'subside', 'lady', 'semblance', 'beast', 'katerina', 'spouse', 'officer', 'granted', 'scoundrel', 'noble', 'magnanimous', 'unjust', 'pulls', 'pity', 'repeat', 'declared', 'redoubled', 'hearing', 'vain', 'wish', 'fate', 'assented', 'fist', 'sold', 'stockings', 'shoes', 'less', 'mohair', 'shawl', 'present', 'property', 'mine', 'caught', 'winter', 'coughing', 'spitting', 'morning', 'scrubbing', 'cleaning', 'washing', 'child', 'tendency', 'consumption', 'suppose', 'find', 'sympathy', 'twice', 'despair', 'laid', 'raising', 'seem', 'trouble', 'unfolding', 'laughing', 'stock', 'idle', 'listeners', 'educated', 'daughters', 'noblemen', 'leaving', 'danced', 'dance', 'governor', 'personages', 'presented', 'gold', 'medal', 'certificate', 'merit', 'trunk', 'showed', 'tell', 'someone', 'honours', 'happy', 'condemn', 'blame', 'recollection', 'ashes', 'spirit', 'proud', 'determined', 'scrubs', 'floors', 'herself', 'eat', 'treated', 'disrespect', 'overlook', 'rudeness', 'hurt', 'feelings', 'blows', 'widow', 'married', 'smaller', 'husband', 'infantry', 'ran', 'exceedingly', 'fond', 'cards', 'paid', 'authentic', 'documentary', 'evidence', 'speaks', 'tears', 'throws', 'imagination', 'having', 'wild', 'remote', 'district', 'hopeless', 'ups', 'downs', 'equal', 'describing', 'relations', 'thrown', 'excessively', 'widower', 'offered', 'bear', 'sight', 'judge', 'extremity', 'calamities', 'distinguished', 'consented', 'weeping', 'sobbing', 'wringing', 'means', 'performed', 'duties', 'conscientiously', 'faithfully', 'touch', 'finger', 'fault', 'changes', 'office', 'wanderings', 'magnificent', 'capital', 'adorned', 'innumerable', 'monuments', 'obtained', 'situation', 'amalia', 'fyodorovna', 'lippevechsel', 'rent', 'lot', 'dirt', 'disorder', 'perfect', 'bedlam', 'meanwhile', 'grown', 'whilst', 'growing', 'speak', 'generous', 'spirited', 'tempered', 'sonia', 'fancy', 'effort', 'geography', 'universal', 'history', 'subjects', 'suitable', 'instruction', 'cyrus', 'persia', 'attained', 'maturity', 'romantic', 'book', 'lewes', 'physiology', 'recounted', 'extracts', 'address', 'account', 'private', 'earn', 'honest', 'farthings', 'talent', 'putting', 'ivan', 'ivanitch', 'klopstock', 'heard', 'dozen', 'linen', 'stamping', 'reviling', 'pretext', 'collars', 'pattern', 'askew', 'hungry', 'cheeks', 'flushed', 'warm', 'gets', 'crust', 'gentle', 'creature', 'soft', 'fair', 'pale', 'darya', 'frantsovna', 'evil', 'known', 'police', 'tried', 'jeer', 'mighty', 'precious', 'careful', 'driven', 'distraction', 'illness', 'crying', 'wound', 'cry', 'hunger', 'falls', 'six', 'o', 'clock', 'saw', 'nine', 'utter', 'picked', 'green', 'drap', 'de', 'dames', 'wall', 'shuddering', 'knees', 'kissing', 'feet', 'failed', 'cleared', 'throat', 'brief', 'pause', 'unfortunate', 'occurrence', 'information', 'intentioned', 'sofya', 'semyonovna', 'backed', 'making', 'highly', 'comes', 'mostly', 'comforts', 'gives', 'kapernaumovs', 'lodges', 'kapernaumov', 'lame', 'cleft', 'palate', 'palates', 'lifted', 'heaven', 'excellency', 'afanasyvitch', 'wax', 'lord', 'melteth', 'deceived', 'expectations', 'll', 'responsibility', 'kissed', 'reality', 'statesman', 'enlightened', 'returned', 'announced', 'd', 'receive', 'salary', 'heavens', 'party', 'revellers', 'sounds', 'hired', 'cracked', 'piping', 'singing', 'hamlet', 'noise', 'busy', 'comers', 'paying', 'attention', 'arrivals', 'talkative', 'recent', 'success', 'revive', 'radiance', 'attentively', 'weeks', 'mercy', 'kingdom', 'abuse', 'tiptoe', 'hushing', 'semyon', 'zaharovitch', 'tired', 'shh', 'coffee', 'boiled', 'cream', 'managed', 'decent', 'outfit', 'eleven', 'guess', 'fronts', 'uniform', 'splendid', 'cooked', 'courses', 'dinner', 'soup', 'salt', 'meat', 'radish', 'dreamed', 'dresses', 'visit', 'smartened', 'nicely', 'collar', 'cuffs', 'better', 'darling', 'helped', 'see', 'nap', 'quarrelled', 'degree', 'week', 'resist', 'hours', 'whispering', 'receiving', 'everybody', 'study', 'sure', 'services', 'propensity', 'foolish', 'promise', 'moreover', 'rely', 'gentleman', 'wantonness', 'sake', 'bragging', 'believes', 'amuses', 'fancies', 'earnings', 'forty', 'called', 'poppet', 'beauty', 'pinched', 'cheek', 'twitch', 'controlled', 'degraded', 'appearance', 'nights', 'poignant', 'bewildered', 'listener', 'intently', 'sensation', 'vexed', 'recovering', 'seems', 'worrying', 'stupidity', 'details', 'heavenly', 'fleeting', 'arrange', 'rescue', 'dishonour', 'restore', 'bosom', 'deal', 'excusable', 'raised', 'cunning', 'trick', 'thief', 'employment', 'egyptian', 'exchanged', 'garments', 'clenched', 'teeth', 'closed', 'leaned', 'heavily', 'elbow', 'minute', 'changed', 'assumed', 'slyness', 'affectation', 'bravado', 'glanced', 'laughed', 'pick', 'guffaw', 'quart', 'bought', 'earth', 'yonder', 'grieve', 'weep', 'hurts', 'needs', 'eh', 'keep', 'costs', 'smartness', 'pomatum', 'petticoats', 'starched', 'show', 'foot', 'puddle', 'sorry', 'pitied', 'near', 'shouts', 'oaths', 'listening', 'discharged', 'declaimed', 'arm', 'outstretched', 'crucified', 'cross', 'crucify', 'merry', 'tribulation', 'pint', 'sweet', 'sought', 'bottom', 'understood', 'consumptive', 'drunkard', 'earthly', 'undismayed', 'beastliness', 'forgiven', 'thee', 'thy', 'sins', 'thou', 'hast', 'forgive', 'wise', 'meek', 'summon', 'forth', 'ye', 'stand', 'unto', 'swine', 'image', 'mark', 'understanding', 'dost', 'believed', 'worthy', 'hold', 'fall', 'exhausted', 'helpless', 'oblivious', 'plunged', 'notion', 'talked', 'silly', 'fine', 'kozel', 'yard', 'wanting', 'meant', 'unsteadier', 'legs', 'paces', 'overcome', 'dismay', 'nearer', 'begin', 'pulling', 'bother', 'frightens', 'breathing', 'breathe', 'excited', 'pain', 'strike', 'relieves', 'cabinet', 'maker', 'lead', 'darker', 'nearly', 'grimy', 'ajar', 'candle', 'visible', 'entrance', 'littered', 'across', 'furthest', 'stretched', 'sheet', 'american', 'leather', 'holes', 'unpainted', 'uncovered', 'edge', 'smoldering', 'tallow', 'candlestick', 'practically', 'cupboards', 'divided', 'shouting', 'uproar', 'playing', 'tea', 'unceremonious', 'kind', 'flew', 'recognised', 'graceful', 'emaciated', 'hectic', 'flush', 'pacing', 'pressing', 'lips', 'parched', 'broken', 'gasps', 'glittered', 'fever', 'harsh', 'immovable', 'stare', 'flickering', 'sickening', 'certainly', 'window', 'rose', 'inner', 'clouds', 'tobacco', 'smoke', 'floated', 'youngest', 'curled', 'older', 'shaking', 'chemise', 'ancient', 'cashmere', 'pelisse', 'flung', 'bare', 'outgrown', 'barely', 'reaching', 'comfort', 'doing', 'whimpering', 'large', 'larger', 'thinness', 'watching', 'alarm', 'doorway', 'pushing', 'indifferently', 'wondering', 'decided', 'hers', 'further', 'outer', 'uttered', 'scream', 'ah', 'frenzy', 'criminal', 'monster', 'searching', 'submissively', 'obediently', 'held', 'facilitate', 'search', 'farthing', 'twelve', 'fury', 'seized', 'seconded', 'efforts', 'meekly', 'crawling', 'consolation', 'con', 'la', 'tion', 'ho', 'nou', 'shaken', 'fro', 'striking', 'ground', 'woke', 'control', 'trembling', 'screaming', 'rushed', 'fit', 'eldest', 'leaf', 'screamed', 'pointed', 'accursed', 'hastening', 'faces', 'peering', 'coarse', 'pipes', 'cigarettes', 'caps', 'thrust', 'figures', 'gowns', 'costumes', 'scantiness', 'diverted', 'sinister', 'shrill', 'outcry', 'amongst', 'hundredth', 'frighten', 'ordering', 'snatch', 'coppers', 'exchange', 'reflecting', 'impossible', 'dismissed', 'wave', 'wants', 'malignantly', 'bankrupt', 'risk', 'hunting', 'game', 'digging', 'morrow', 'hurrah', 'dug', 'wept', 'grows', 'wrong', 'race', 'mankind', 'prejudice', 'artificial', 'terrors', 'barriers', 'iii', 'waked', 'refreshed', 'bilious', 'ill', 'hatred', 'length', 'stricken', 'dusty', 'peeling', 'low', 'pitched', 'ease', 'knock', 'ceiling', 'rickety', 'painted', 'manuscripts', 'thick', 'untouched', 'clumsy', 'space', 'chintz', 'served', 'undressing', 'sheets', 'wrapped', 'overcoat', 'pillow', 'heaped', 'bolster', 'difficult', 'sink', 'lower', 'ebb', 'state', 'agreeable', 'tortoise', 'shell', 'servant', 'writhe', 'irritation', 'overtakes', 'monomaniacs', 'entirely', 'fortnight', 'sending', 'meals', 'expostulating', 'nastasya', 'cook', 'pleased', 'lodger', 'mood', 'sweeping', 'stray', 'cup', 'fairly', 'starving', 'teapot', 'stale', 'lumps', 'sugar', 'fumbling', 'handful', 'run', 'loaf', 'sausage', 'cheapest', 'pork', 'butcher', 'fetch', 'wouldn', 'cabbage', 'instead', 'saved', 'chatting', 'country', 'peasant', 'praskovya', 'pavlovna', 'complain', 'scowled', 'devil', 'straw', 'grinding', 'suit', 'fool', 'mistake', 'clever', 'sack', 'teach', 'sullenly', 'reluctantly', 'seriously', 'amused', 'inaudibly', 'quivering', 'articulate', 'lessons', 'quarrel', 'butter', 'replying', 'fortune', 'strangely', 'firmly', 'forgot', 'postman', 'greatly', 'province', 'r', 'turned', 'stabbed', 'leave', 'goodness', 'presence', 'quickly', 'sloping', 'handwriting', 'taught', 'delayed', 'weighing', 'ounces', 'rodya', 'wrote', 'distressed', 'awake', 'inevitable', 'dounia', 'hope', 'grief', 'university', 'pension', 'sent', 'borrowed', 'security', 'vassily', 'ivanovitch', 'vahrushin', 'merchant', 'hearted', 'send', 'thank', 'believe', 'able', 'congratulate', 'hasten', 'inform', 'guessed', 'separated', 'future', 'sufferings', 'hitherto', 'concealed', 'svidrigra', 'lovs', 'written', 'truth', 'walk', 'insulted', 'governess', 'deducted', 'throw', 'repaying', 'sum', 'chiefly', 'needed', 'savings', 'loves', 'svidriga', 'lov', 'rudely', 'disrespectful', 'jeering', 'remarks', 'painful', 'behaviour', 'marfa', 'petrovna', 'household', 'relapsing', 'regimental', 'habits', 'influence', 'bacchus', 'crazy', 'conceived', 'passion', 'beginning', 'horrified', 'flighty', 'considering', 'hoped', 'rude', 'sneering', 'hide', 'shameful', 'proposal', 'promising', 'inducements', 'offering', 'estate', 'abroad', 'imagine', 'spare', 'whose', 'suspicions', 'aroused', 'cause', 'rupture', 'scandal', 'reasons', 'endure', 'cases', 'fortitude', 'maintain', 'firmness', 'upsetting', 'communication', 'ended', 'unexpectedly', 'accidentally', 'overheard', 'imploring', 'garden', 'interpretation', 'threw', 'believing', 'scene', 'spot', 'refused', 'hour', 'orders', 'packed', 'plain', 'cart', 'pell', 'mell', 'folding', 'packing', 'shower', 'rain', 'drive', 'seventeen', 'versts', 'dared', 'unhappy', 'mortified', 'indignant', 'fill', 'sorrow', 'church', 'contemptuous', 'whispers', 'bowed', 'learnt', 'shopmen', 'intending', 'insult', 'smearing', 'landlord', 'slander', 'neighbourhood', 'gossiping', 'affairs', 'complaining', 'spread', 'surrounding', 'bore', 'endured', 'cheer', 'angel', 'cut', 'repented', 'unmistakable', 'proof', 'innocence', 'remained', 'refuse', 'personal', 'explanations', 'interviews', 'entreating', 'reproached', 'indignation', 'baseness', 'reminding', 'telling', 'infamous', 'torment', 'defenceless', 'nobly', 'touchingly', 'sobbed', 'cannot', 'servants', 'reputation', 'supposed', 'aback', 'convinced', 'sunday', 'cathedral', 'knelt', 'prayed', 'strength', 'trial', 'told', 'bitterly', 'fully', 'penitent', 'embraced', 'besought', 'delay', 'everywhere', 'shedding', 'asserted', 'flattering', 'behavior', 'copies', 'superfluous', 'several', 'driving', 'offence', 'precedence', 'therefore', 'turns', 'expected', 'arrived', 'assembled', 'opinion', 'unnecessary', 'succeeded', 'establishing', 'ignominy', 'affair', 'rested', 'indelible', 'disgrace', 'treating', 'harshly', 'families', 'treat', 'marked', 'event', 'fortunes', 'transformed', 'suitor', 'marry', 'arranged', 'consent', 'aggrieved', 'decision', 'judged', 'facts', 'pyotr', 'petrovitch', 'luzhin', 'distantly', 'related', 'active', 'match', 'expressing', 'acquaintance', 'properly', 'courteously', 'offer', 'begged', 'speedy', 'depended', 'posts', 'prepossessing', 'attractive', 'women', 'presentable', 'morose', 'conceited', 'beware', 'shortly', 'judging', 'hastily', 'warning', 'favourable', 'deliberate', 'avoid', 'forming', 'prejudices', 'mistaken', 'correct', 'indications', 'thoroughly', 'estimable', 'shares', 'expressed', 'convictions', 'rising', 'generation', 'opponent', 'likes', 'natured', 'resolute', 'sensible', 'patient', 'passionate', 'either', 'happiness', 'care', 'admitted', 'prudence', 'secure', 'defects', 'differences', 'happiest', 'marriages', 'regards', 'relies', 'relationship', 'honourable', 'straightforward', 'abrupt', 'outspoken', 'dowry', 'experienced', 'indebted', 'benefactor', 'add', 'politely', 'actual', 'phrases', 'meaning', 'design', 'smooth', 'deeds', 'perfectly', 'fervently', 'mentioned', 'legal', 'bureau', 'conducting', 'commercial', 'litigation', 'important', 'senate', 'greatest', 'agreed', 'definitely', 'consider', 'assured', 'benefit', 'providential', 'dreaming', 'ventured', 'cautious', 'secretary', 'relation', 'fitted', 'doubts', 'whether', 'studies', 'regular', 'becoming', 'associate', 'partner', 'law', 'agreement', 'share', 'plans', 'probability', 'realising', 'evasiveness', 'natural', 'persuaded', 'gain', 'coldly', 'breathed', 'helping', 'wasting', 'readily', 'assistance', 'charity', 'earned', 'agree', 'footing', 'enthusiasm', 'oneself', 'forward', 'womanish', 'wedding', 'invite', 'urge', 'remain', 'husbands', 'mothers', 'bit', 'independent', 'settle', 'joyful', 'news', 'embrace', 'separation', 'settled', 'depends', 'arrangements', 'ceremony', 'fast', 'joke', 'pen', 'bids', 'kisses', 'credit', 'improved', 'afanasy', 'trust', 'seventy', 'travelling', 'expenses', 'undertake', 'journey', 'conveyance', 'bags', 'conveyed', 'reckon', 'expense', 'arrival', 'halfpenny', 'calculated', 'ninety', 'railway', 'driver', 'readiness', 'travel', 'comfortably', 'events', 'beyond', 'prayers', 'creator', 'redeemer', 'visited', 'infidelity', 'pray', 'childhood', 'lisp', 'knee', 'warmly', 'pulcheria', 'wet', 'finished', 'distorted', 'bitter', 'wrathful', 'threadbare', 'pondered', 'violently', 'turmoil', 'cramped', 'stifled', 'craved', 'dread', 'direction', 'vassilyevsky', 'ostrov', 'prospect', 'noticing', 'muttering', 'astonishment', 'iv', 'chief', 'essential', 'irrevocably', 'marriage', 'alive', 'damned', 'anticipating', 'triumph', 'deceive', 'apologise', 'advice', 'post', 'holy', 'kazan', 'stands', 'bedroom', 'ascent', 'golgotha', 'finally', 'avdotya', 'romanovna', 'solid', 'impressive', 'holds', 'writes', 'observes', 'beats', 'marrying', 'descriptive', 'idea', 'favour', 'minds', 'need', 'simplicity', 'observations', 'angrily', 'angered', 'na', 'questions', 'discuss', 'conscience', 'prick', 'sacrificing', 'murdered', 'pursuing', 'whirling', 'wasn', 'bride', 'sacking', 'thousand', 'according', 'cloth', 'raise', 'partnership', 'mutual', 'luggage', 'fares', 'blossoming', 'fruits', 'stinginess', 'meanness', 'tone', 'foretaste', 'lavish', 'expect', 'guessing', 'deny', 'counting', 'knits', 'woollen', 'shawls', 'embroiders', 'ruining', 'generosity', 'schilleresque', 'hearts', 'goose', 'swan', 'inkling', 'shiver', 'until', 'deck', 'false', 'colours', 'puts', 'bet', 'anna', 'buttonhole', 'goes', 'dine', 'contractors', 'merchants', 'confound', 'wonder', 'bless', 'propounds', 'theory', 'superiority', 'wives', 'destitution', 'bounty', 'interview', 'understands', 'water', 'barter', 'moral', 'freedom', 'schleswig', 'holstein', 'denying', 'pill', 'spend', 'provinces', 'nigger', 'plantation', 'lett', 'degrade', 'binding', 'advantage', 'unalloyed', 'diamond', 'concubine', 'consenting', 'save', 'adores', 'amounts', 'necessary', 'peace', 'casuists', 'jesuitical', 'soothe', 'persuade', 'daylight', 'rodion', 'romanovitch', 'central', 'ensure', 'rich', 'prosperous', 'born', 'sacrifice', 'loving', 'partial', 'shrink', 'eternal', 'victim', 'lasts', 'measure', 'worse', 'viler', 'baser', 'bargain', 'luxuries', 'starvation', 'regret', 'curses', 'hidden', 'worried', 'sees', 'prevent', 'forbid', 'devote', 'borrow', 'millionaire', 'zeus', 'blind', 'knitting', 'shadow', 'fasting', 'happen', 'during', 'tortured', 'fretting', 'finding', 'confronting', 'aches', 'grip', 'rend', 'anguish', 'beginnings', 'waxed', 'gathered', 'matured', 'fearful', 'frenzied', 'fantastic', 'clamouring', 'insistently', 'burst', 'thunderclap', 'passively', 'unsolved', 'decide', 'humbly', 'stifle', 'giving', 'claim', 'activity', 'recurring', 'expecting', 'difference', 'mere', 'menacing', 'unfamiliar', 'shape', 'hammering', 'sit', 'seat', 'boulevard', 'adventure', 'objects', 'crossed', 'path', 'road', 'gradually', 'riveted', 'resentfully', 'bareheaded', 'parasol', 'gloves', 'waving', 'silky', 'material', 'awry', 'hooked', 'skirt', 'waist', 'hanging', 'loose', 'slanting', 'unsteadily', 'stumbling', 'staggering', 'overtook', 'extreme', 'exhaustion', 'closely', 'shocking', 'hardly', 'haired', 'sixteen', 'pretty', 'lifting', 'indecorously', 'sign', 'unconscious', 'unwilling', 'perplexity', 'frequented', 'stifling', 'deserted', 'impatiently', 'biding', 'unwelcome', 'moved', 'intentions', 'plump', 'fashionably', 'colour', 'moustaches', 'furious', 'longing', 'dandy', 'clenching', 'fists', 'spluttering', 'rage', 'sternly', 'scowling', 'haughty', 'cane', 'constable', 'gentlemen', 'fighting', 'public', 'soldierly', 'whiskers', 'catching', 'policeman', 'professional', 'somebody', 'unpractised', 'fight', 'eager', 'following', 'prevented', 'pretending', 'flash', 'easy', 'examine', 'sleepy', 'blankly', 'waved', 'call', 'cab', 'missy', 'ach', 'shook', 'shocked', 'sympathetic', 'job', 'handing', 'innocent', 'belongs', 'gentlefolk', 'ladies', 'pretensions', 'gentility', 'persisted', 'outrage', 'brute', 'fly', 'confined', 'halted', 'thoughtfully', 'wretches', 'avenue', 'eye', 'repeated', 'sighing', 'sting', 'revulsion', 'stared', 'ejaculated', 'gesture', 'madman', 'carried', 'murmured', 'interfere', 'devour', 'wretched', 'strayed', 'aimlessly', 'fix', 'forget', 'wake', 'anew', 'horrible', 'doors', 'frantsovnas', 'wind', 'slipping', 'sly', 'hospital', 'luck', 'taverns', 'wreck', 'eighteen', 'nineteen', 'ugh', 'percentage', 'chaste', 'interfered', 'scientific', 'consolatory', 'razumihin', 'wondered', 'comrades', 'remarkable', 'friends', 'aloof', 'welcome', 'gatherings', 'amusements', 'intensity', 'sparing', 'pride', 'reserve', 'superior', 'development', 'knowledge', 'beliefs', 'interests', 'beneath', 'unreserved', 'communicative', 'humoured', 'candid', 'depth', 'intelligent', 'simpleton', 'blackhaired', 'shaved', 'uproarious', 'reputed', 'festive', 'blow', 'gigantic', 'limit', 'powers', 'abstain', 'pranks', 'failure', 'unfavourable', 'circumstances', 'crush', 'lodge', 'extremes', 'resources', 'lighting', 'stove', 'declare', 'soundly', 'observed', 'annoy', 'v', 'lately', 'tidy', 'agitated', 'uneasily', 'seeking', 'significance', 'ordinary', 'action', 'rubbed', 'musing', 'spontaneously', 'calmly', 'determination', 'afresh', 'realised', 'jumping', 'homewards', 'loathing', 'hole', 'random', 'shudder', 'shivering', 'unconsciously', 'craving', 'distract', 'succeed', 'dropping', 'brooding', 'lesser', 'islands', 'greenness', 'freshness', 'restful', 'hemmed', 'closeness', 'pleasant', 'sensations', 'morbid', 'irritability', 'villa', 'among', 'foliage', 'fence', 'smartly', 'verandahs', 'balconies', 'running', 'gardens', 'flowers', 'longer', 'luxurious', 'carriages', 'horseback', 'watched', 'vanished', 'marmeladovs', 'passing', 'eating', 'vodka', 'ate', 'pie', 'effect', 'wineglassful', 'drowsiness', 'petrovsky', 'bushes', 'grass', 'singular', 'actuality', 'vividness', 'monstrous', 'images', 'artistically', 'consistent', 'dreamer', 'artist', 'turgenev', 'invented', 'memory', 'powerful', 'deranged', 'system', 'dreamt', 'birth', 'holiday', 'vividly', 'level', 'willow', 'copse', 'blur', 'horizon', 'crowd', 'hoarse', 'cling', 'track', 'winding', 'graveyard', 'stone', 'cupola', 'mass', 'grandmother', 'occasions', 'dish', 'tied', 'napkin', 'rice', 'pudding', 'raisins', 'stuck', 'unadorned', 'ikons', 'priest', 'whenever', 'religiously', 'reverently', 'holding', 'circumstance', 'attracted', 'festivity', 'gaily', 'townspeople', 'riff', 'raff', 'carts', 'usually', 'drawn', 'horses', 'laden', 'casks', 'wine', 'goods', 'manes', 'slow', 'pace', 'drawing', 'mountain', 'load', 'shafts', 'sorrel', 'peasants', 'nags', 'straining', 'utmost', 'wheels', 'mud', 'rut', 'cruelly', 'balala', 'ka', 'blue', 'coats', 'necked', 'fleshy', 'carrot', 'outbreak', 'mikolka', 'nag', 'mare', 'mates', 'leaping', 'seizing', 'reins', 'bay', 'matvey', 'kill', 'gallop', 'whip', 'preparing', 'relish', 'flog', 'jog', 'clambered', 'jokes', 'hauled', 'rosy', 'cheeked', 'beaded', 'headdress', 'nuts', 'drag', 'cartload', 'whips', 'tugged', 'galloping', 'move', 'struggled', 'gasping', 'shrinking', 'showered', 'hail', 'furiously', 'thrashed', 'appetite', 'draw', 'fun', 'tore', 'horror', 'tugging', 'falling', 'christian', 'meddle', 'choose', 'roar', 'roused', 'feebly', 'kicking', 'smiling', 'kick', 'lads', 'snatched', 'ribs', 'hit', 'song', 'joined', 'riotous', 'jingling', 'tambourine', 'whistling', 'whipped', 'choking', 'streaming', 'headed', 'disapproval', 'gasp', 'ferociously', 'shaft', 'brandished', 'swinging', 'sound', 'thud', 'thrash', 'voices', 'swung', 'spine', 'luckless', 'haunches', 'lurched', 'force', 'attacking', 'directions', 'measured', 'tough', 'admiring', 'spectator', 'axe', 'finish', 'frantically', 'stooped', 'crowbar', 'dealt', 'stunning', 'pull', 'bar', 'log', 'leapt', 'sticks', 'poles', 'dying', 'dealing', 'breath', 'butchered', 'bloodshot', 'brandishing', 'regretting', 'bleeding', 'jumped', 'shrieks', 'panting', 'brutal', 'choked', 'soaked', 'perspiration', 'tree', 'breaths', 'split', 'skull', 'tread', 'break', 'steal', 'tremble', 'spattered', 'profound', 'amazement', 'torturing', 'experiment', 'base', 'vile', 'couldn', 'flaw', 'reasoning', 'arithmetic', 'glowed', 'limb', 'easily', 'cast', 'relief', 'renounce', 'crossing', 'quietly', 'glowing', 'sky', 'fatigue', 'abscess', 'spell', 'sorcery', 'obsession', 'superstitiously', 'impressed', 'exceptional', 'predestined', 'turning', 'convenient', 'shortest', 'direct', 'unnecessarily', 'dozens', 'decisive', 'exert', 'gravest', 'destiny', 'tables', 'barrows', 'booths', 'shops', 'closing', 'clearing', 'wares', 'customers', 'pickers', 'costermongers', 'crowding', 'stinking', 'neighbouring', 'wandered', 'attract', 'attire', 'scandalising', 'alley', 'huckster', 'tapes', 'handkerchiefs', 'lingering', 'pawnbroker', 'previous', 'single', 'timid', 'submissive', 'idiotic', 'slave', 'bundle', 'earnestly', 'doubtfully', 'warmth', 'astonishing', 'fright', 'gabbled', 'lively', 'babe', 'interrupted', 'pondering', 'softly', 'miss', 'thrill', 'precisely', 'incapable', 'opportunity', 'greater', 'exactness', 'dangerous', 'inquiries', 'investigations', 'contemplated', 'vi', 'invited', 'reduced', 'selling', 'fetched', 'dealer', 'undertook', 'jobs', 'price', 'rule', 'superstitious', 'traces', 'superstition', 'ineradicable', 'disposed', 'mysterious', 'influences', 'coincidences', 'pokorev', 'harkov', 'chanced', 'articles', 'pawned', 'stones', 'parting', 'insurmountable', 'miserable', 'pecking', 'chicken', 'egg', 'played', 'billiards', 'mention', 'shake', 'expressly', 'rate', 'jew', 'lots', 'dealings', 'harpy', 'uncertain', 'value', 'article', 'percent', 'chattered', 'bondage', 'phenomenon', 'mending', 'cooking', 'sewing', 'charwoman', 'permission', 'movables', 'monastery', 'n', 'perpetuity', 'unmarried', 'awfully', 'uncouth', 'remarkably', 'outwards', 'battered', 'goatskin', 'amusement', 'skinned', 'soldier', 'strikingly', 'willing', 'queerness', 'assure', 'faintest', 'shuddered', 'hotly', 'joking', 'senseless', 'worthless', 'ailing', 'horrid', 'mischief', 'die', 'fresh', 'thousands', 'buried', 'hundreds', 'hospitals', 'humanity', 'wiped', 'corruption', 'decay', 'balance', 'existence', 'louse', 'beetle', 'harm', 'amputated', 'deserve', 'remarked', 'drown', 'ocean', 'speechifying', 'arguing', 'justice', 'youthful', 'forms', 'themes', 'discussion', 'conceiving', 'embryo', 'coincidence', 'preordained', 'guiding', 'hint', 'returning', 'stirring', 'occur', 'recollect', 'leaden', 'crushing', 'extraordinarily', 'difficulty', 'rousing', 'brew', 'sleeps', 'indignantly', 'ached', 'reply', 'offended', 'wrathfully', 'air', 'weakly', 'motioned', 'spoon', 'spoonfuls', 'mechanically', 'meal', 'haunted', 'fancied', 'africa', 'egypt', 'oasis', 'caravan', 'camels', 'peacefully', 'palms', 'around', 'circle', 'spring', 'flowed', 'gurgling', 'cool', 'wonderful', 'parti', 'coloured', 'sand', 'glistened', 'pulled', 'crept', 'stealthily', 'forgetfulness', 'prepared', 'stupefaction', 'feverish', 'distracted', 'preparations', 'energies', 'forgetting', 'thumping', 'noose', 'sew', 'rummaged', 'stuffed', 'unwashed', 'strip', 'couple', 'inches', 'folded', 'garment', 'ends', 'inside', 'armhole', 'sewed', 'outside', 'needle', 'ingenious', 'device', 'intended', 'carry', 'support', 'hang', 'handle', 'swing', 'designed', 'opening', 'smoothly', 'planed', 'size', 'thickness', 'courtyard', 'workshop', 'fastened', 'carefully', 'daintily', 'parcel', 'untie', 'divert', 'undo', 'knot', 'weight', 'stored', 'descend', 'thirteen', 'cautiously', 'noiselessly', 'deed', 'pruning', 'knife', 'resolved', 'peculiarity', 'resolutions', 'characteristic', 'agonising', 'inward', 'struggle', 'carrying', 'considered', 'uncertainty', 'renounced', 'unsettled', 'points', 'uncertainties', 'trifling', 'anxiety', 'neighbours', 'shop', 'scolding', 'doubtful', 'supposing', 'meantime', 'suspicion', 'grounds', 'unattainable', 'sometime', 'e', 'survey', 'cursing', 'analysis', 'casuistry', 'razor', 'rational', 'objections', 'resort', 'doggedly', 'slavishly', 'arguments', 'forcing', 'crimes', 'detected', 'obvious', 'conclusions', 'impossibility', 'concealing', 'power', 'childish', 'phenomenal', 'heedlessness', 'caution', 'eclipse', 'attacked', 'highest', 'perpetration', 'violence', 'shorter', 'individual', 'rise', 'accompanied', 'reaction', 'unimpaired', 'omit', 'process', 'conclusion', 'ahead', 'purely', 'difficulties', 'secondary', 'familiarised', 'minutest', 'preparation', 'decisions', 'upset', 'calculations', 'usual', 'absence', 'peep', 'basket', 'line', 'overwhelmed', 'gateway', 'assume', 'humiliated', 'anger', 'dull', 'animal', 'opposite', 'porter', 'shining', 'chunks', 'pockets', 'fails', 'helps', 'grin', 'sedately', 'awakening', 'curse', 'glancing', 'someway', 'yusupov', 'fountains', 'refreshing', 'squares', 'degrees', 'extended', 'field', 'mars', 'mihailovsky', 'palace', 'interested', 'towns', 'inclined', 'parts', 'smell', 'nastiness', 'walks', 'clutch', 'mentally', 'meets', 'lightning', 'dismiss', 'luckily', 'screening', 'quarrelling', 'quadrangular', 'throbbing', 'ascending', 'shut', 'painters', 'storeys', 'underneath', 'visiting', 'card', 'nailed', 'mistrustful', 'leaves', 'throbbed', 'ringing', 'suspicious', 'ear', 'peculiarly', 'distinct', 'rustle', 'secretly', 'hiding', 'soberly', 'impatience', 'recalling', 'clouded', 'latch', 'unfastened', 'vii', 'fearing', 'hoping', 'disarm', 'attempting', 'allowing', 'advanced', 'obey', 'uninvited', 'tongue', 'unloosed', 'promised', 'maliciously', 'mistrustfully', 'sneer', 'malice', 'elsewhere', 'recovered', 'restored', 'confidence', 'bathing', 'abruptly', 'articulating', 'failing', 'sounded', 'scanning', 'string', 'seconds', 'unbuttoned', 'freed', 'fearfully', 'numb', 'giddiness', 'vexation', 'lose', 'blunt', 'streaked', 'grease', 'plaited', 'rat', 'tail', 'horn', 'comb', 'nape', 'faintly', 'heap', 'gushed', 'overturned', 'starting', 'sockets', 'brow', 'contorted', 'convulsively', 'possession', 'faculties', 'collected', 'shrine', 'silk', 'patchwork', 'wadded', 'quilt', 'convulsive', 'tempted', 'terrifying', 'recover', 'bending', 'examining', 'pool', 'snap', 'hurried', 'touching', 'purse', 'crosses', 'cyprus', 'filigree', 'chamois', 'rim', 'unsuccessful', 'locks', 'mistakes', 'belong', 'bedstead', 'beds', 'sized', 'arched', 'lid', 'studded', 'notched', 'unlocked', 'brocade', 'lined', 'hareskin', 'wipe', 'sooner', 'pledges', 'unredeemed', 'redeemed', 'bracelets', 'chains', 'rings', 'pins', 'newspaper', 'tape', 'filling', 'trousers', 'undoing', 'parcels', 'moan', 'squatting', 'heels', 'waited', 'gazing', 'seeming', 'mouth', 'backing', 'twitched', 'piteously', 'babies', 'mouths', 'guard', 'motioning', 'snatching', 'gained', 'mastery', 'unexpected', 'murder', 'correctly', 'hopelessness', 'hideousness', 'absurdity', 'obstacles', 'commit', 'surged', 'dreaminess', 'bucket', 'bethought', 'blade', 'soap', 'saucer', 'rubbing', 'damp', 'wetted', 'overlooking', 'protecting', 'shock', 'awaited', 'rung', 'bolt', 'precaution', 'reflect', 'shrilly', 'patiently', 'noisily', 'downstairs', 'humming', 'tune', 'footsteps', 'suspect', 'significant', 'unhurried', 'mounting', 'higher', 'pursued', 'killed', 'rooted', 'neatly', 'hook', 'catch', 'instinct', 'crouched', 'panted', 'squeezing', 'tinkled', 'fastening', 'blank', 'damn', 'bawled', 'witch', 'enraged', 'authority', 'intimate', 'approaching', 'comer', 'koch', 'gambrinus', 'aie', 'sits', 'hag', 'hadn', 'shakes', 'shows', 'locked', 'clanks', 'proves', 'clanking', 'fasten', 'astonished', 'fainted', 'stop', 'dent', 'touched', 'gently', 'puffing', 'keyhole', 'tight', 'delirium', 'knocking', 'shout', 'swear', 'deserting', 'sentry', 'hurrying', 'flights', 'loud', 'mitka', 'blast', 'shriek', 'flight', 'deliverance', 'pail', 'paint', 'brushes', 'whisked', 'nick', 'bodies', 'murderer', 'escaping', 'upstairs', 'quicken', 'yards', 'fling', 'safety', 'risky', 'grain', 'weakened', 'drops', 'bank', 'dimly', 'farther', 'alarmed', 'recollected', 'problem', 'observation', 'fortunately', 'covering', 'chunk', 'scraps', 'shreds', 'swarming', 'dazed', 'oblivion', 'despairing', 'cries', 'leaped', 'dreadful', 'chill', 'limbs', 'fallen', 'threads', 'mistrusting', 'congealed', 'frayed', 'claspknife', 'tatters', 'stuffing', 'gleefully', 'bulged', 'whispered', 'reckoned', 'trinkets', 'unbearable', 'chair', 'consciousness', 'loop', 'rouse', 'concentration', 'simplest', 'surely', 'isn', 'distraught', 'perceptions', 'lining', 'triumphantly', 'sigh', 'sunlight', 'boot', 'sock', 'poked', 'tip', 'unwarily', 'ransack', 'burn', 'matches', 'icy', 'impulse', 'sleeping', 'banging', 'snoring', 'dog', 'ha', 'latched', 'retorted', 'bolting', 'stealing', 'discovered', 'unlatched', 'defiant', 'desperate', 'sealed', 'bottle', 'summons', 'downright', 'response', 'compassionately', 'grasped', 'tightly', 'treasure', 'hysterical', 'giggle', 'behave', 'discoloured', 'distinguish', 'seal', 'appear', 'superintendent', 'bewilderment', 'flinging', 'prayer', 'dustier', 'socks', 'conventional', 'relative', 'merely', 'surface', 'swam', 'decoy', 'mused', 'blurt', 'possessed', 'cynicism', 'mortar', 'finnish', 'pedlars', 'cabs', 'apt', 'bright', 'sunny', 'trepidation', 'averted', 'confess', 'steep', 'sloppy', 'kitchens', 'policemen', 'sexes', 'newly', 'decorated', 'slightest', 'unkempt', 'poorly', 'mourning', 'dictation', 'buxom', 'purplish', 'blotchy', 'brooch', 'freely', 'regain', 'urging', 'courage', 'calm', 'foolishness', 'carelessness', 'betray', 'dizzier', 'mobile', 'foppish', 'parted', 'combed', 'pomaded', 'scrubbed', 'french', 'foreigner', 'luise', 'purple', 'faced', 'venturing', 'ich', 'danke', 'trimmed', 'lace', 'balloon', 'smelt', 'scent', 'embarrassed', 'impudent', 'cringing', 'betrayed', 'jauntily', 'tossed', 'cockaded', 'skipped', 'curtsying', 'ecstasy', 'smallest', 'assistant', 'horizontally', 'features', 'expressive', 'insolence', 'askance', 'bearing', 'affronted', 'annihilated', 'summoned', 'faltered', 'recovery', 'due', 'tearing', 'papers', 'document', 'trembled', 'joy', 'indescribable', 'directed', 'shoulder', 'pleasure', 'kindly', 'splutter', 'inarticulately', 'smoking', 'satisfaction', 'unnatural', 'loudness', 'declaration', 'demanded', 'alexandr', 'grigorievitch', 'complaint', 'bird', 'explanation', 'u', 'writ', 'undertaking', 'conceal', 'creditor', 'liberty', 'proceed', 'legally', 'attested', 'assessor', 'zarnitsyn', 'tchebarov', 'hereupon', 'novice', 'fire', 'triumphant', 'overwhelming', 'danger', 'suppositions', 'surmises', 'questioning', 'instinctive', 'thunderstorm', 'fuming', 'wounded', 'smart', 'hussy', 'correction', 'warned', 'eleventh', 'wildly', 'unceremoniously', 'laugh', 'ilya', 'anxiously', 'storm', 'amiable', 'seductive', 'smiles', 'lavished', 'curtsied', 'incessantly', 'captain', 'pattered', 'peas', 'confidently', 'accent', 'dislike', 'tipsy', 'bottles', 'pianoforte', 'ganz', 'piano', 'manners', 'hitting', 'karl', 'henriette', 'slaps', 'ungentlemanly', 'squealing', 'fie', 'sein', 'rock', 'muss', 'damages', 'significantly', 'rapidly', 'slightly', 'literary', 'nice', 'authors', 'restaurant', 'eaten', 'satire', 'steamer', 'disgraceful', 'councillor', 'confectioner', 'criers', 'pfoo', 'deference', 'stumbled', 'backwards', 'nikodim', 'fomitch', 'curtsy', 'mincing', 'fluttered', 'thunder', 'hurricane', 'drawled', 'gentlemanly', 'nonchalance', 'protest', 'behaves', 'cad', 'powder', 'slight', 'daresay', 'affably', 'explosive', 'fires', 'boils', 'nickname', 'regiment', 'lieutenant', 'gratified', 'banter', 'sulky', 'pardon', 'mannered', 'shattered', 'x', 'exasperated', 'yourselves', 'rummaging', 'contemptuously', 'verbal', 'heedless', 'asks', 'waste', 'interposed', 'typhus', 'quarters', 'owed', 'takes', 'affecting', 'ours', 'tragic', 'gruffly', 'dictate', 'indifferent', 'cared', 'amazed', 'officers', 'nearest', 'dearest', 'everlasting', 'solitude', 'remoteness', 'sentimental', 'effusions', 'vanities', 'offices', 'sentenced', 'burnt', 'stirred', 'happening', 'appeal', 'outburst', 'brothers', 'sisters', 'conception', 'dictating', 'attend', 'pressed', 'nail', 'lodgings', 'released', 'contradicts', 'pestryakov', 'silversmith', 'contradiction', 'knocked', 'bolted', 'ass', 'interval', 'thanksgiving', 'noah', 'ark', 'maintained', 'reach', 'supported', 'yellowish', 'signing', 'settling', 'handkerchief', 'jerkily', 'upright', 'detain', 'faintness', 'brutes', 'mastered', 'peeped', 'decoration', 'remaining', 'pursuit', 'instructions', 'issued', 'rid', 'task', 'ekaterininsky', 'rafts', 'boats', 'moored', 'banks', 'sides', 'float', 'wandering', 'irrational', 'absent', 'forgetful', 'solitary', 'bush', 'judgment', 'destined', 'unwhitewashed', 'court', 'hoarding', 'parallel', 'fenced', 'smutty', 'shed', 'carriage', 'builder', 'carpenter', 'coal', 'workmen', 'drivers', 'scribbled', 'chalk', 'witticism', 'strictly', 'unhewn', 'pounds', 'unless', 'using', 'hollow', 'twist', 'scraped', 'edges', 'tracks', 'noiseless', 'hateful', 'whiskered', 'distractedly', 'circling', 'ungovernable', 'lies', 'despicably', 'fawned', 'folly', 'fawning', 'perplexed', 'deliberately', 'idiotically', 'undergone', 'agonies', 'undertaken', 'otherwise', 'jewel', 'grimly', 'gaining', 'immeasurable', 'obstinate', 'loathed', 'movements', 'gestures', 'spat', 'bitten', 'accord', 'busily', 'gown', 'slippers', 'comrade', 'whistled', 'sunk', 'pulse', 'delirious', 'spleen', 'threshold', 'insulting', 'kinder', 'cleverer', 'sweep', 'bookseller', 'heruvimov', 'lesson', 'publishing', 'issuing', 'manuals', 'circulation', 'titles', 'jove', 'fools', 'encourage', 'signatures', 'text', 'crudest', 'charlatanism', 'discusses', 'contribution', 'translating', 'expand', 'gorgeous', 'page', 'pays', 'signature', 'works', 'translation', 'whales', 'dullest', 'scandals', 'les', 'confessions', 'rousseau', 'radishchev', 'contradict', 'pens', 'spelling', 'secondly', 'adrift', 'change', 'laying', 'raving', 'farce', 'descending', 'stepping', 'nikolaevsky', 'unpleasant', 'incident', 'coachman', 'lash', 'hoofs', 'infuriated', 'railing', 'traffic', 'serves', 'pickpocket', 'profession', 'retreating', 'elderly', 'christ', 'beggar', 'alms', 'gift', 'doubtless', 'cloud', 'rare', 'chapel', 'pure', 'ornament', 'truly', 'spectacle', 'marvelled', 'vague', 'emotion', 'lifeless', 'sombre', 'enigmatic', 'perplexities', 'imagined', 'theories', 'pictures', 'amusing', 'wrung', 'problems', 'impressions', 'flying', 'upwards', 'vanishing', 'movement', 'coin', 'overdriven', 'greatcoat', 'dusk', 'howling', 'wailing', 'brutality', 'swooning', 'louder', 'shrieking', 'incoherently', 'beseeching', 'beaten', 'mercilessly', 'assailant', 'croak', 'indistinctly', 'thuds', 'topsy', 'turvy', 'staircases', 'lift', 'gripped', 'ice', 'numbed', 'continuing', 'moaning', 'groaning', 'slammed', 'exclaiming', 'disputing', 'calling', 'whisper', 'numbers', 'inmates', 'block', 'intolerable', 'infinite', 'plate', 'ascertaining', 'warrant', 'trudging', 'scrutinised', 'frowning', 'scrutiny', 'lasted', 'timidly', 'ears', 'outlet', 'clotted', 'fancying', 'earthenware', 'swallowing', 'sip', 'spilling', 'squabbling', 'discussing', 'threatened', 'plotted', 'mocked', 'bedside', 'fretted', 'moaned', 'throwing', 'streak', 'waisted', 'messenger', 'peeping', 'echoed', 'concluding', 'discussions', 'eyebrows', 'fatness', 'laziness', 'absurdly', 'bashful', 'stooping', 'cabin', 'pashenka', 'vrazumihin', 'shelopaev', 'seated', 'zossimov', 'examined', 'result', 'feeding', 'alexey', 'semyonovitch', 'mamma', 'request', 'presume', 'remittance', 'intelligible', 'remit', 'dreamily', 'scrawl', 'scribble', 'sweeter', 'treacle', 'witness', 'travels', 'earnest', 'bravo', 'potatoes', 'unreasoning', 'spoons', 'plates', 'pepper', 'mustard', 'beef', 'amiss', 'departed', 'strained', 'clumsily', 'spoonful', 'blowing', 'swallowed', 'faculty', 'mumbled', 'pour', 'poured', 'cups', 'steadily', 'principal', 'effective', 'resistance', 'repugnance', 'pushed', 'capriciously', 'pillows', 'raspberry', 'jam', 'raspberries', 'balancing', 'outspread', 'lump', 'decamped', 'rascally', 'punish', 'corners', 'harlamov', 'buch', 'muddles', 'kobelev', 'land', 'zametov', 'slyly', 'nikiforovna', 'mirth', 'explosion', 'uproot', 'locality', 'wished', 'shrieked', 'afforded', 'unspeakable', 'delight', 'unaccountable', 'natalya', 'yegorovna', 'delighted', 'essentially', 'loss', 'intellectually', 'metaphysical', 'symbolism', 'sprung', 'algebra', 'hid', 'planned', 'cherishing', 'fed', 'sensibly', 'retiring', 'starve', 'ins', 'outs', 'prospective', 'sensitive', 'listens', 'formal', 'demand', 'harmony', 'reigned', 'insisted', 'engaging', 'presenting', 'trusts', 'twinge', 'recognise', 'rave', 'countess', 'bulldog', 'krestovsky', 'island', 'whined', 'hunted', 'scented', 'bedecked', 'comforted', 'fringe', 'fascinated', 'bedclothes', 'twitching', 'eluded', 'mocking', 'grime', 'bah', 'mixing', 'helplessly', 'america', 'contained', 'gulped', 'quenching', 'flame', 'breast', 'incoherent', 'disconnected', 'nestled', 'replaced', 'sighed', 'tryst', 'uncle', 'untying', 'specially', 'cheap', 'presently', 'pettishly', 'oppose', 'fitting', 'proper', 'recommendation', 'tolstyakov', 'basin', 'hats', 'slavish', 'politeness', 'nest', 'boastful', 'specimens', 'headgear', 'palmerston', 'eighty', 'united', 'states', 'breeches', 'exhibited', 'pair', 'improvement', 'softer', 'smoother', 'seasons', 'insist', 'asparagus', 'january', 'purchase', 'buying', 'warmer', 'materials', 'autumn', 'lack', 'coherence', 'standard', 'luxury', 'fedyaev', 'satisfied', 'foreign', 'embassy', 'cash', 'stiffly', 'coated', 'hempen', 'fashionable', 'underclothes', 'rig', 'serve', 'sharmer', 'playful', 'purchases', 'sullen', 'puffy', 'shaven', 'flaxen', 'spectacles', 'spick', 'span', 'irreproachable', 'massive', 'nonchalant', 'studiously', 'tedious', 'depressed', 'aching', 'irritably', 'mushrooms', 'cucumbers', 'medicine', 'palais', 'cristal', 'disturb', 'nuisance', 'warming', 'herrings', 'stagnating', 'postmaster', 'porfiry', 'investigation', 'department', 'distant', 'teacher', 'musician', 'nodded', 'principles', 'springs', 'principle', 'delightful', 'bribes', 'praise', 'ways', 'shouldn', 'baked', 'onion', 'repel', 'improve', 'repelling', 'progressive', 'dullards', 'painter', 'mess', 'steam', 'haven', 'mixed', 'blurted', 'audibly', 'mended', 'flower', 'petals', 'scallops', 'obstinately', 'displeasure', 'prove', 'foo', 'stupidly', 'curiously', 'stir', 'busybody', 'offensive', 'leads', 'worship', 'murderers', 'logic', 'detained', 'swindler', 'buys', 'rotten', 'petrified', 'routine', 'introducing', 'method', 'psychological', 'data', 'interpret', 'tangible', 'dandling', 'accounted', 'pikestaff', 'dushkin', 'dram', 'jeweller', 'containing', 'rigamarole', 'journeyman', 'nikolay', 'quicker', 'rumours', 'taradiddle', 'receiver', 'stolen', 'cheat', 'trinket', 'dementyev', 'zara', 'sk', 'ryazan', 'drinks', 'painting', 'dmitri', 'village', 'glasses', 'spree', 'daybreak', 'stayed', 'finishing', 'tale', 'sober', 'peski', 'kolomensky', 'signed', 'darted', 'searched', 'cowshed', 'stable', 'adjoining', 'sash', 'beam', 'screeched', 'hardest', 'escort', 'folks', 'robbed', 'pavlovitch', 'guilt', 'literally', 'squeezed', 'swore', 'sport', 'escaped', 'hooks', 'undid', 'leaning', 'repeating', 'deduced', 'admit', 'fail', 'answers', 'kryukov', 'witnesses', 'blocking', 'thoroughfare', 'sworn', 'funniest', 'chasing', 'robbery', 'squeals', 'giggles', 'scuffling', 'axes', 'bloodshed', 'fiendish', 'booty', 'rolled', 'attracting', 'buts', 'constitutes', 'circumstantial', 'accounts', 'denied', 'irrefutable', 'conclusively', 'prosecution', 'guilty', 'excites', 'proved', 'reluctance', 'owner', 'defence', 'presumption', 'popped', 'conclusive', 'melodramatic', 'personage', 'portly', 'sour', 'countenance', 'undisguised', 'dishevelled', 'fixedly', 'deliberation', 'constrained', 'shifting', 'overawe', 'civilly', 'severity', 'emphasising', 'syllable', 'anticipated', 'pompous', 'nodding', 'prolonged', 'yawn', 'hunter', 'proceeded', 'operation', 'arouse', 'articulated', 'impressively', 'wholly', 'languidly', 'embarrassment', 'presumed', 'posted', 'chosen', 'suspiciously', 'nursing', 'invalid', 'yawned', 'familiarity', 'unaffected', 'shabby', 'introduced', 'shrugged', 'commenced', 'sojourning', 'purposely', 'elapse', 'tidings', 'impatient', 'fianc', 'applied', 'expectation', 'betrothed', 'permissible', 'proceeding', 'complacent', 'le', 'tailor', 'appropriate', 'stylish', 'respectfully', 'exquisite', 'lavender', 'louvain', 'predominated', 'charming', 'jacket', 'fawn', 'lightest', 'cambric', 'pink', 'stripes', 'suited', 'mutton', 'chop', 'hairdresser', 'inevitably', 'suggesting', 'unpleasing', 'repulsive', 'imposing', 'causes', 'hardened', 'determine', 'oddities', 'earlier', 'preoccupations', 'conjecture', 'bakaleyev', 'voskresensky', 'yushin', 'scandalous', 'replied', 'huffily', 'permanent', 'andrey', 'madame', 'ministry', 'inquiry', 'guardian', 'learns', 'novelties', 'reforms', 'views', 'criticism', 'practicality', 'divorced', 'fermenting', 'exists', 'honesty', 'brigands', 'shod', 'indulgence', 'abnormal', 'external', 'environment', 'accomplished', 'circulating', 'dreamy', 'literature', 'maturer', 'injurious', 'ridicule', 'hastened', 'interpose', 'superciliousness', 'economic', 'commonplace', 'neighbour', 'excessive', 'naked', 'proverb', 'hares', 'tells', 'rests', 'manage', 'remains', 'adds', 'organised', 'firmer', 'foundations', 'welfare', 'acquiring', 'wealth', 'solely', 'liberality', 'consequence', 'unhappily', 'hindered', 'idealism', 'sentimentality', 'wit', 'perceive', 'chattering', 'incessant', 'flow', 'commonplaces', 'blush', 'exhibit', 'acquirements', 'pardonable', 'unscrupulous', 'mire', 'suggest', 'continue', 'disavowal', 'closer', 'health', 'doesn', 'names', 'wrappers', 'practised', 'ruffian', 'boldness', 'coolness', 'supposition', 'inexperienced', 'foresee', 'jewels', 'ransacked', 'trunks', 'notes', 'rob', 'counsel', 'departing', 'intellectual', 'vanity', 'overcame', 'increase', 'classes', 'arson', 'strikes', 'strangest', 'increasing', 'proportionately', 'hears', 'robbing', 'mail', 'social', 'forge', 'banknotes', 'gang', 'captured', 'lottery', 'tickets', 'ringleaders', 'lecturer', 'motive', 'demoralisation', 'civilised', 'inveterate', 'impracticality', 'forging', 'exact', 'upshot', 'crutches', 'chewed', 'emancipation', 'serfs', 'morality', 'accordance', 'logically', 'advocating', 'follows', 'lip', 'superciliously', 'incitement', 'acceptance', 'reproach', 'crimson', 'distort', 'report', 'foundation', 'arrow', 'excellent', 'qualities', 'miles', 'misunderstand', 'misrepresent', 'fanciful', 'fixing', 'piercing', 'restrain', 'connection', 'hell', 'curve', 'tormenting', 'overtake', 'mustn', 'irritated', 'gather', 'respond', 'inflammation', 'thanks', 'lingered', 'panic', 'precise', 'spiritual', 'samovar', 'dizzy', 'savage', 'energy', 'wasted', 'barrel', 'organ', 'accompanying', 'crinoline', 'mantle', 'feather', 'coarsened', 'sang', 'copeck', 'grinder', 'music', 'aged', 'idly', 'startled', 'snow', 'lamps', 'recognising', 'gaping', 'corn', 'chandler', 'booth', 'christened', 'graciously', 'billiard', 'princesses', 'dense', 'thickest', 'inclination', 'groups', 'angle', 'sadovy', 'wander', 'buildings', 'indoor', 'entrances', 'din', 'tinkling', 'guitar', 'merriment', 'thronging', 'swearing', 'throng', 'husky', 'blackened', 'saloon', 'dancing', 'marking', 'falsetto', 'gloomily', 'trilled', 'singer', 'musical', 'compliment', 'bass', 'generals', 'snub', 'noses', 'jolly', 'sweetie', 'hesitated', 'duclida', 'pock', 'wench', 'bruises', 'thinks', 'ledge', 'tempest', 'eternity', 'newspapers', 'spacious', 'champagne', 'waiter', 'items', 'accident', 'spontaneous', 'combustion', 'shopkeeper', 'alcohol', 'additions', 'curly', 'humour', 'humouredly', 'aside', 'befriend', 'winked', 'places', 'pouring', 'fee', 'profit', 'slapping', 'workman', 'unwell', 'oughtn', 'mysteriously', 'twisted', 'winking', 'mayn', 'sixth', 'gymnasium', 'cock', 'sparrow', 'fibbing', 'deposition', 'depose', 'screwed', 'heeding', 'mock', 'stunned', 'thoughtful', 'melancholy', 'sipped', 'morsel', 'resumed', 'original', 'coiners', 'simpletons', 'blab', 'collapses', 'untrustworthy', 'casual', 'million', 'count', 'crash', 'shivers', 'forwards', 'seventh', 'stew', 'example', 'risked', 'miracle', 'gibing', 'spending', 'begins', 'mislead', 'frowned', 'enjoy', 'earnestness', 'fences', 'hundredweight', 'roll', 'tablecloth', 'frightening', 'assez', 'caus', 'element', 'rapture', 'irritating', 'stimulated', 'revived', 'stimulus', 'removed', 'unwittingly', 'revolution', 'blockhead', 'astounded', 'fiercely', 'idiot', 'tie', 'benevolence', 'benefits', 'feels', 'plainly', 'hindering', 'persecute', 'kindness', 'ungrateful', 'gloating', 'venomous', 'roared', 'babbling', 'posing', 'idiots', 'brood', 'plagiarists', 'spermaceti', 'ointment', 'lymph', 'veins', 'unlike', 'guests', 'weren', 'snug', 'patience', 'fought', 'tooth', 'potchinkov', 'anybody', 'sheer', 'babushkin', 'madmen', 'blunder', 'rail', 'weaker', 'sunset', 'gathering', 'twilight', 'attic', 'flashing', 'rays', 'darkening', 'circles', 'uncanny', 'sunken', 'parapet', 'drowning', 'current', 'inflated', 'thronged', 'spectators', 'afrosinya', 'tearfully', 'boat', 'pole', 'granite', 'embankment', 'sneezing', 'wiping', 'wailed', 'indifference', 'apathy', 'disgusted', 'depression', 'listlessly', 'prompting', 'framework', 'amaze', 'corpses', 'sill', 'papering', 'lilac', 'annoyed', 'rolling', 'elder', 'preening', 'prinking', 'tit', 'vassilitch', 'regarded', 'saturday', 'male', 'sex', 'female', 'fluffles', 'enthusiastically', 'sententiously', 'answering', 'agonisingly', 'alyoshka', 'shil', 'lazy', 'jerked', 'tones', 'funk', 'jeeringly', 'rogue', 'belt', 'roads', 'elegant', 'bridle', 'lantern', 'misfortune', 'commotion', 'flowing', 'mutilated', 'disfigured', 'injured', 'merciful', 'confirmed', 'belonged', 'awaiting', 'legitimate', 'volunteered', 'foremost', 'polenka', 'strove', 'motionless', 'toes', 'pouting', 'screen', 'relieve', 'thinner', 'brighter', 'papa', 'colonel', 'mihailovitch', 'cursed', 'ball', 'marshal', 'princess', 'bezzemelny', 'mend', 'tear', 'darn', 'cough', 'bigger', 'prince', 'schegolskoy', 'kammerjunker', 'mazurka', 'thanked', 'expressions', 'polya', 'lida', 'wash', 'vagabond', 'clout', 'terrified', 'despairingly', 'swoon', 'placed', 'biting', 'screams', 'induced', 'assuring', 'towel', 'oftener', 'uncleanliness', 'preferred', 'fastest', 'relapsed', 'dumb', 'rigidity', 'pin', 'lodgers', 'streamed', 'overflowed', 'gape', 'reproaches', 'awe', 'exempt', 'sincerest', 'disturbance', 'rushing', 'vent', 'wrath', 'quarrelsome', 'irresponsible', 'clasping', 'trampled', 'ludwigovna', 'beg', 'haughtily', 'despicable', 'flatterers', 'audible', 'warn', 'conduct', 'remembers', 'protectors', 'abandoned', 'connections', 'rapidity', 'eloquence', 'groan', 'recognition', 'oozed', 'sad', 'trickled', 'huskily', 'exclaimed', 'obeyed', 'favourite', 'barefoot', 'indicating', 'barefooted', 'relieved', 'bared', 'gashed', 'fractured', 'bruise', 'cruel', 'hoof', 'wheel', 'bleed', 'sacrament', 'exchanging', 'glances', 'confession', 'indistinct', 'kneel', 'kneeling', 'rhythmically', 'precision', 'afford', 'especial', 'cover', 'ceasing', 'denser', 'midst', 'decked', 'gutter', 'finery', 'unmistakably', 'betraying', 'gaudy', 'ridiculous', 'train', 'flaring', 'rakishly', 'tilted', 'admonition', 'succour', 'sin', 'madam', 'compensate', 'sweat', 'sousing', 'rinsing', 'drying', 'darning', 'forgiveness', 'peremptorily', 'propping', 'humiliation', 'downwards', 'bury', 'reverence', 'devoted', 'repay', 'jostled', 'lamplight', 'compared', 'pardoned', 'halfway', 'greeting', 'message', 'breathless', 'graver', 'vely', 'brushing', 'misfortunes', 'sedate', 'presents', 'grammar', 'scripture', 'kolya', 'ave', 'maria', 'hugged', 'enchanted', 'imaginary', 'phantoms', 'reign', 'defiantly', 'challenging', 'win', 'proudly', 'flagging', 'emergency', 'boyish', 'sally', 'animated', 'samovars', 'dishes', 'savouries', 'amount', 'liquor', 'perceptibly', 'affected', 'visitors', 'invaluable', 'introduce', 'stuff', 'brightened', 'considerable', 'afternoon', 'needn', 'thirdly', 'specialty', 'surgery', 'mental', 'diseases', 'hatched', 'bubble', 'thrashing', 'ticklish', 'fainting', 'testifies', 'convulsions', 'masterly', 'dumbfoundered', 'arrive', 'plying', 'greeted', 'thunderbolt', 'clasped', 'tottered', 'moans', 'trifle', 'dislocated', 'bend', 'gratitude', 'providence', 'competent', 'alexandrovna', 'consolations', 'revealed', 'insane', 'induce', 'content', 'presiding', 'distressing', 'interrupting', 'muddled', 'today', 'reporting', 'suspense', 'impetuously', 'hasty', 'tipsily', 'learning', 'crest', 'infamy', 'act', 'despot', 'irritate', 'staying', 'blackguard', 'beseech', 'quantities', 'imbibed', 'bordering', 'persuading', 'plainness', 'emphasise', 'vise', 'bony', 'paws', 'jump', 'eccentric', 'peculiarities', 'timorous', 'disposition', 'unbounded', 'considerably', 'reassured', 'twinkling', 'reports', 'jealous', 'strolled', 'unworthy', 'pailfuls', 'argument', 'argue', 'trash', 'preside', 'individualism', 'fuel', 'flames', 'privilege', 'creation', 'error', 'err', 'examples', 'invention', 'ideals', 'aims', 'liberalism', 'preparatory', 'prefer', 'transport', 'fount', 'purity', 'perfection', 'entreat', 'homage', 'sincerely', 'daren', 'barber', 'spy', 'speculator', 'skin', 'flint', 'buffoon', 'puppy', 'bullock', 'corridor', 'aid', 'depend', 'unhinged', 'consoled', 'probing', 'infatuation', 'justified', 'pensive', 'proportioned', 'reliant', 'quality', 'detract', 'grace', 'softness', 'resembled', 'described', 'lighter', 'healthy', 'pallor', 'radiant', 'vigour', 'projected', 'irregularity', 'gay', 'lighthearted', 'transfigured', 'quiver', 'insolent', 'retained', 'serenity', 'sensitiveness', 'sincere', 'preserve', 'retaining', 'grow', 'crow', 'wrinkles', 'projecting', 'underlip', 'emotional', 'yielding', 'barrier', 'deepest', 'subdued', 'knocks', 'grant', 'fetching', 'resuming', 'relying', 'desert', 'exhilarated', 'flattered', 'oracle', 'convincing', 'comforting', 'seriousness', 'consultation', 'display', 'remarking', 'dazzling', 'endeavoured', 'satisfactorily', 'origin', 'product', 'apprehensions', 'troubles', 'enlarge', 'theme', 'insanity', 'composed', 'exaggerated', 'monomania', 'branch', 'shocks', 'affable', 'blessings', 'entreaties', 'licking', 'struggling', 'failings', 'feeble', 'wretch', 'whims', 'slack', 'patients', 'modesty', 'bashfulness', 'melting', 'unholy', 'smitten', 'rot', 'curing', 'strum', 'performer', 'ma', 'tre', 'rubinstein', 'attraction', 'mathematics', 'teaching', 'integral', 'calculus', 'gaze', 'prussian', 'lords', 'perspired', 'hysterics', 'comfortable', 'reminded', 'anchorage', 'navel', 'fishes', 'essence', 'pancakes', 'savoury', 'pies', 'sighs', 'stoves', 'advantages', 'bedtime', 'troubled', 'confronted', 'unlooked', 'novel', 'befallen', 'fired', 'cares', 'bequeathed', 'thrice', 'jealousy', 'obligations', 'criticise', 'unguarded', 'thinkable', 'furnishing', 'justification', 'uncleanness', 'envious', 'noisy', 'braggart', 'cynical', 'juxtaposition', 'blushed', 'desperately', 'abasement', 'infamies', 'smoothed', 'cynic', 'sloven', 'offend', 'brushed', 'scrupulously', 'shave', 'stubbly', 'razors', 'negative', 'pothouse', 'admitting', 'essentials', 'dishonest', 'parlour', 'dormouse', 'cure', 'confessor', 'plenty', 'worries', 'monomaniac', 'mole', 'hill', 'realities', 'mystery', 'hypochondriac', 'frantic', 'chatterbox', 'annoyance', 'bonjour', 'vouchsafed', 'risen', 'awkwardly', 'host', 'friendliness', 'disguised', 'breakfast', 'invitation', 'disorderly', 'vigorously', 'stream', 'omitted', 'consequences', 'prokofitch', 'dislikes', 'naturally', 'inhumanly', 'callous', 'alternating', 'characters', 'reserved', 'hindrance', 'hasn', 'beneficial', 'compressed', 'transparent', 'scarf', 'belongings', 'queen', 'diffident', 'impartially', 'uncritically', 'decisively', 'crab', 'piqued', 'moody', 'capricious', 'disregarded', 'liking', 'ugly', 'inexplicable', 'briefly', 'rejoiced', 'tentatively', 'consternation', 'openly', 'blamed', 'intentionally', 'score', 'dejected', 'vulgar', 'deigned', 'disgustingly', 'crimsoned', 'faltering', 'emphatically', 'announcing', 'advise', 'dated', 'unforeseen', 'rendered', 'likewise', 'deprived', 'intrude', 'respects', 'herewith', 'imperative', 'gross', 'unprecedented', 'affront', 'occasion', 'personally', 'indispensable', 'anticipation', 'compelled', 'withdraw', 'assumption', 'belief', 'testimony', 'notorious', 'gravely', 'pains', 'respectful', 'humble', 'p', 'refusing', 'stratagem', 'enamelled', 'venetian', 'flutter', 'escorting', 'prison', 'inch', 'sumptuous', 'banquets', 'lev', 'es', 'dozed', 'blaming', 'omen', 'bruised', 'overjoyed', 'weaknesses', 'frown', 'distress', 'caressing', 'slam', 'cheerfully', 'follow', 'listless', 'brows', 'knitted', 'performing', 'restlessness', 'sling', 'bandage', 'dejection', 'zest', 'practise', 'sore', 'controlling', 'pressure', 'tentative', 'impress', 'elementary', 'fundamental', 'tending', 'produce', 'cured', 'stage', 'coincides', 'occupation', 'aim', 'sage', 'mystified', 'mockery', 'thanking', 'referring', 'weighs', 'candidly', 'penetration', 'unfeigned', 'thankful', 'ecstatic', 'unspoken', 'reconciliation', 'exaggerating', 'vigorous', 'impulses', 'delicately', 'vasya', 'rush', 'hug', 'potanchikov', 'plaintively', 'recollecting', 'annoying', 'preoccupied', 'inattentive', 'reconciled', 'rite', 'carefulness', 'actions', 'infrequently', 'madder', 'carelessly', 'meditating', 'unpardonable', 'crevez', 'chiens', 'si', 'vous', 'tes', 'pas', 'contents', 'sarcastically', 'praiseworthy', 'overstep', 'unhappier', 'twisting', 'constraint', 'h', 'encouraged', 'dreadfully', 'considerate', 'defending', 'harnessed', 'bath', 'undergoing', 'treatment', 'baths', 'bathe', 'regularly', 'stroke', 'convulsion', 'hush', 'deadly', 'perceptible', 'clutching', 'distrustfully', 'bows', 'surprising', 'liveliness', 'protested', 'blushing', 'expensive', 'unreasonably', 'nunnery', 'hunchback', 'intent', 'tomb', 'oppressive', 'companionship', 'endurance', 'urgent', 'drily', 'cease', 'mournfully', 'dryness', 'useful', 'vindictively', 'hate', 'evils', 'intend', 'honestly', 'expects', 'deceiving', 'limits', 'courtship', 'esteems', 'feminine', 'obstinacy', 'acting', 'basely', 'vileness', 'merciless', 'heroism', 'despotism', 'tyranny', 'committing', 'fuss', 'puzzled', 'surprises', 'lawyer', 'pretentious', 'uneducated', 'consulted', 'jargon', 'courts', 'documents', 'frivolous', 'apropos', 'threat', 'equivalent', 'abandon', 'disobedient', 'summoning', 'resent', 'animation', 'skill', 'coarser', 'disillusion', 'contemptible', 'dissension', 'eagerness', 'esteem', 'resolution', 'businesslike', 'inviting', 'concealment', 'deception', 'modestly', 'modest', 'shyness', 'retreat', 'confused', 'protesting', 'calumny', 'declaring', 'vaguely', 'fleetingly', 'pang', 'inconceivable', 'disturbing', 'falteringly', 'mitrofanievsky', 'stammered', 'cemetery', 'begs', 'lunch', 'irregular', 'angular', 'kindliness', 'childishness', 'coffin', 'fussily', 'dining', 'greet', 'await', 'attentive', 'courteous', 'discomfort', 'courtesy', 'brightness', 'jealously', 'portrait', 'egoist', 'store', 'sinks', 'breaks', 'incautiously', 'push', 'presentiments', 'introduces', 'slanderer', 'depart', 'secrets', 'managing', 'keepsake', 'quaking', 'splendidly', 'meditate', 'noted', 'broad', 'spotless', 'bones', 'abundant', 'remarkedly', 'preserved', 'preoccupation', 'inscribed', 'altered', 'resslich', 'pledged', 'solicitude', 'emphasis', 'mentioning', 'hullo', 'stake', 'range', 'incredulous', 'sceptical', 'impose', 'pooh', 'apologising', 'perceived', 'butterfly', 'flies', 'stung', 'writhing', 'sweetmeat', 'wriggling', 'schoolboy', 'shamefaced', 'romeo', 'fiend', 'suits', 'cleaned', 'unheard', 'guffawing', 'strode', 'gawky', 'awkward', 'peony', 'crestfallen', 'ferocious', 'amply', 'introduction', 'subdue', 'assuming', 'irresistibly', 'ferocity', 'naturalness', 'strengthened', 'crashing', 'crown', 'quoted', 'overdo', 'smashing', 'fragments', 'incredulity', 'unpleasantly', 'pleasantly', 'bursting', 'begging', 'sniffed', 'trodden', 'corpulence', 'prominent', 'nosed', 'ironical', 'watery', 'mawkish', 'blinking', 'eyelashes', 'embarrassing', 'coherent', 'charge', 'feign', 'funds', 'pecuniary', 'claiming', 'financial', 'irony', 'screwing', 'troubling', 'prize', 'vindictive', 'feigned', 'selfish', 'grasping', 'cent', 'inquired', 'ash', 'tray', 'ruthlessly', 'scattering', 'carpet', 'concerned', 'legibly', 'pencil', 'observant', 'changing', 'repress', 'backs', 'midnight', 'defiance', 'strangled', 'artfully', 'dryly', 'liberal', 'trivialities', 'boring', 'whirl', 'exasperation', 'disguise', 'tracking', 'pack', 'dogs', 'spit', 'play', 'mouse', 'despise', 'inexperience', 'nasty', 'unintentional', 'bluntly', 'wink', 'teasing', 'foresaw', 'thieves', 'cleverly', 'jovial', 'everyday', 'socialist', 'doctrine', 'abnormality', 'organisation', 'noticeably', 'pamphlets', 'phrase', 'normally', 'righteous', 'excluded', 'exist', 'developing', 'historical', 'mathematical', 'organise', 'sinless', 'instinctively', 'ugliness', 'rules', 'mechanics', 'retrograde', 'smells', 'india', 'rubber', 'servile', 'revolt', 'reducing', 'planning', 'passages', 'phalanstery', 'vital', 'skip', 'presupposes', 'possibilities', 'millions', 'reduce', 'easiest', 'solution', 'seductively', 'musn', 'pages', 'print', 'drum', 'punch', 'preliminary', 'violates', 'noteworthy', 'gravity', 'progressively', 'humbugging', 'gesticulating', 'dissembler', 'periodical', 'weekly', 'printed', 'amalgamated', 'concern', 'initial', 'editor', 'analysed', 'psychology', 'suggested', 'suggestion', 'breaches', 'intentional', 'distortion', 'submission', 'transgress', 'challenge', 'contention', 'stated', 'contend', 'morals', 'hinted', 'fulfilment', 'discoveries', 'kepler', 'newton', 'eliminate', 'legislators', 'leaders', 'lycurgus', 'solon', 'mahomet', 'napoleon', 'exception', 'transgressed', 'ancestors', 'sacred', 'bravely', 'majority', 'benefactors', 'carnage', 'submit', 'division', 'acknowledge', 'arbitrary', 'categories', 'reproduce', 'sub', 'divisions', 'distinguishing', 'category', 'conservative', 'abiding', 'vocation', 'destroyers', 'destruction', 'capacities', 'varied', 'corpse', 'wade', 'sanction', 'wading', 'dimensions', 'masses', 'fulfil', 'justly', 'pedestal', 'goal', 'rights', 'vive', 'guerre', 'ternelle', 'jerusalem', 'preceding', 'tirade', 'lazarus', 'executed', 'lifetime', 'attain', 'executing', 'remark', 'witty', 'exactitude', 'definition', 'adopt', 'branded', 'arises', 'member', 'imagines', 'happily', 'happens', 'wittier', 'arise', 'unfortunately', 'predisposition', 'obedience', 'playfulness', 'cow', 'unobserved', 'despised', 'reactionaries', 'grovelling', 'tendencies', 'castigate', 'conscientious', 'perform', 'chastise', 'acts', 'penitence', 'edifying', 'alarming', 'capacity', 'grades', 'unfailing', 'regularity', 'races', 'stocks', 'spark', 'independence', 'approximately', 'genius', 'geniuses', 'retort', 'mournful', 'unconcealed', 'persistent', 'discourteous', 'sarcasm', 'fanaticism', 'attitude', 'impertinence', 'remove', 'enterprise', 'tries', 'snare', 'protected', 'prisons', 'banishment', 'investigators', 'deserves', 'logical', 'prohibition', 'sadness', 'comparison', 'worldly', 'hardship', 'napoleons', 'intonation', 'amiably', 'officially', 'seemingly', 'ransacking', 'racking', 'nerve', 'trap', 'slapped', 'deuce', 'apologetically', 'refute', 'careless', 'brainless', 'mirage', 'ambiguous', 'floating', 'impudence', 'explaining', 'frankly', 'merest', 'insinuation', 'eve', 'severe', 'soles', 'reaumur', 'stomach', 'downhearted', 'condescended', 'squeeze', 'novices', 'flatly', 'examinations', 'suspects', 'simpler', 'knave', 'strangeness', 'frankness', 'aspects', 'striding', 'gritting', 'lemon', 'reassure', 'fold', 'stud', 'tangled', 'wrinkled', 'flabby', 'discontentedly', 'meditation', 'articulately', 'chilled', 'belfry', 'cigars', 'underground', 'strewn', 'shells', 'faded', 'oppression', 'pretended', 'withdrew', 'sprang', 'infinitesimal', 'build', 'pyramid', 'physically', 'standstill', 'permitted', 'storms', 'toulon', 'massacre', 'paris', 'forgets', 'army', 'wastes', 'expedition', 'jest', 'vilna', 'altars', 'flesh', 'bronze', 'pyramids', 'waterloo', 'skinny', 'hash', 'digest', 'inartistic', 'killing', 'socialists', 'industrious', 'brick', 'ech', 'sthetic', 'benevolent', 'fleshly', 'lusts', 'grand', 'aimed', 'measuring', 'calculating', 'lice', 'proposed', 'vulgarity', 'abjectness', 'prophet', 'sabre', 'steed', 'allah', 'commands', 'sets', 'battery', 'deigning', 'desires', 'moon', 'breathlessness', 'stagnant', 'beckoning', 'beckon', 'panes', 'stillness', 'flooded', 'moonlight', 'weaving', 'snapping', 'splinter', 'pane', 'plaintive', 'buzz', 'cloak', 'double', 'rows', 'huddled', 'persist', 'indefinitely', 'whitish', 'buzzed', 'oddly', 'arkady', 'exclamation', 'cherish', 'assist', 'concerning', 'prejudiced', 'wrongly', 'persecuted', 'proposals', 'et', 'nihil', 'humanum', 'proposing', 'elope', 'switzerland', 'cherished', 'promoting', 'frankest', 'bonne', 'unpleasantness', 'apprehension', 'medical', 'diagnosed', 'apoplexy', 'contribute', 'calamity', 'morally', 'switch', 'marks', 'bored', 'switches', 'instances', 'beings', 'linger', 'harmoniously', 'reactionary', 'beneficent', 'publicity', 'nobleman', 'golden', 'provoking', 'humane', 'adaptable', 'breeding', 'haughtiness', 'climate', 'lounging', 'consists', 'forests', 'meadows', 'revenue', 'officials', 'anatomy', 'clubs', 'dussauts', 'parades', 'sharper', 'poets', 'deteriorated', 'greek', 'nezhin', 'bargained', 'lawful', 'wedlock', 'iou', 'elect', 'restive', 'trapped', 'incompatible', 'restrained', 'sunrise', 'naples', 'sea', 'blames', 'north', 'j', 'ai', 'vin', 'mauvais', 'berg', 'passengers', 'meditatively', 'decently', 'approved', 'ghosts', 'plaire', 'malaya', 'vishera', 'ingenuously', 'talks', 'silliest', 'cigar', 'cookshop', 'aniska', 'dressmaker', 'serf', 'trained', 'gracious', 'tease', 'choice', 'rarely', 'y', 'filka', 'burial', 'pipe', 'revenge', 'scamp', 'sung', 'bowing', 'appears', 'unreal', 'worlds', 'completeness', 'organism', 'possibility', 'becomes', 'contact', 'dies', 'spiders', 'juster', 'enemies', 'abstract', 'formed', 'generously', 'imprudently', 'psychologically', 'idleness', 'depravity', 'depraved', 'arriving', 'determining', 'aunt', 'detest', 'dished', 'mediation', 'disinclined', 'ulterior', 'privileged', 'millionth', 'fraction', 'coolly', 'tiniest', 'formalities', 'intrusive', 'sharpers', 'svirbey', 'raphael', 'madonna', 'prilukov', 'album', 'viazemsky', 'landowner', 'persecuting', 'attentions', 'hallucination', 'phantom', 'cousin', 'mystify', 'punctually', 'welcoming', 'boiling', 'reeking', 'blew', 'slighted', 'emphatic', 'disobeyed', 'fatigued', 'unavoidable', 'national', 'railways', 'inconvenience', 'disheartening', 'hostile', 'sidelong', 'punctiliousness', 'sacks', 'flour', 'mute', 'recourse', 'item', 'acquainted', 'desirous', 'discovering', 'contributed', 'accelerate', 'characteristics', 'period', 'relapse', 'abjectly', 'vicious', 'specimen', 'exertions', 'sacrifices', 'involving', 'homicidal', 'hushed', 'sums', 'commissions', 'niece', 'deaf', 'hated', 'grudged', 'inquest', 'verdict', 'suicide', 'proceedings', 'outraged', 'established', 'trusted', 'statement', 'philip', 'abolition', 'serfdom', 'hanged', 'systematic', 'persecution', 'domestic', 'philosopher', 'behaved', 'astute', 'insinuating', 'renewed', 'debtor', 'substantial', 'sufficiency', 'insignificant', 'ephemeral', 'proposition', 'urged', 'propose', 'engagement', 'pique', 'desired', 'weighty', 'dignified', 'insistance', 'insults', 'goodwill', 'overstepped', 'esteeming', 'adoring', 'occupy', 'impertinent', 'thereby', 'existing', 'flushing', 'fidgeted', 'reproof', 'relished', 'outweigh', 'nevertheless', 'razsudkin', 'surname', 'misrepresenting', 'advantageous', 'conjugal', 'profitable', 'accusing', 'malicious', 'relied', 'correspondence', 'convince', 'considerately', 'instigation', 'approvingly', 'enlarged', 'alluded', 'falsehood', 'virtues', 'lofty', 'hinder', 'pleasures', 'intimacy', 'withdrawing', 'similar', 'compromises', 'delicacy', 'legacy', 'helplessness', 'entrusted', 'victims', 'quivered', 'dismissal', 'springing', 'intervened', 'stormed', 'restraining', 'conductor', 'implored', 'disregarding', 'reinstating', 'acted', 'recklessly', 'smashed', 'ending', 'overbearing', 'destitute', 'conceit', 'fatuity', 'insignificance', 'morbidly', 'admiration', 'gloated', 'valued', 'amassed', 'devices', 'superiors', 'sincerity', 'genuinely', 'ingratitude', 'groundlessness', 'contradicted', 'disbelieved', 'heroic', 'admired', 'admire', 'reap', 'flattery', 'undeservedly', 'unrecognised', 'unthinkable', 'voluptuous', 'amassing', 'brooded', 'virtuous', 'humbled', 'saviour', 'scenes', 'amorous', 'episodes', 'allurement', 'grateful', 'condescension', 'absolute', 'wider', 'fascination', 'wonders', 'aureole', 'ruins', 'clap', 'masterful', 'milksop', 'embracing', 'delivered', 'consciously', 'ton', 'insistent', 'omitting', 'ghostly', 'visitations', 'wishing', 'offers', 'designs', 'assumes', 'borrowing', 'disproportionate', 'soothing', 'ecstatically', 'accommodating', 'bothering', 'per', 'lend', 'unfold', 'publishers', 'booksellers', 'publications', 'publisher', 'european', 'languages', 'schwach', 'scuttling', 'saint', 'pots', 'hesitate', 'blockheads', 'untried', 'belonging', 'communicating', 'furnished', 'moderate', 'burying', 'dully', 'undertone', 'wicked', 'heartless', 'wits', 'lamp', 'penetrating', 'nervously', 'describe', 'soothed', 'whereabouts', 'gallery', 'inexpressibly', 'separate', 'barn', 'quadrangle', 'aslant', 'acute', 'disproportionately', 'obtuse', 'scratched', 'scrutinising', 'arbiter', 'destinies', 'theirs', 'stammer', 'stammers', 'hesitatingly', 'depths', 'champion', 'insatiable', 'feature', 'righteousness', 'canary', 'builds', 'native', 'boarding', 'superintend', 'hugs', 'tub', 'taste', 'pedlar', 'embroidered', 'grieved', 'pitilessly', 'insured', 'overburdened', 'imploringly', 'entreaty', 'rainy', 'ironically', 'paced', 'desperation', 'protect', 'malignance', 'unutterable', 'sobs', 'tearful', 'dishonourable', 'sinner', 'solemnly', 'destroyed', 'filth', 'loathe', 'saving', 'degradation', 'wiser', 'leap', 'monstrously', 'orphan', 'pitiful', 'unique', 'infrequent', 'exceptionalness', 'penetrated', 'madhouse', 'obscures', 'sceptic', 'iniquity', 'abyss', 'loathsomeness', 'forcibly', 'heaving', 'maniac', 'testament', 'unwillingly', 'gospel', 'sterner', 'requiem', 'maniacs', 'infectious', 'lunatic', 'breathlessly', 'named', 'bethany', 'unveil', 'stepmother', 'crazed', 'spasm', 'st', 'nineteenth', 'verse', 'jews', 'martha', 'mary', 'jesus', 'hadst', 'wilt', 'saith', 'resurrection', 'believeth', 'whosoever', 'liveth', 'believest', 'yea', 'art', 'passionately', 'reproduced', 'censure', 'disbelieving', 'blinded', 'unbelieving', 'cometh', 'cave', 'stinketh', 'hath', 'wouldest', 'shouldest', 'glory', 'hearest', 'thus', 'graveclothes', 'feverishly', 'harlot', 'analyse', 'infinitely', 'bade', 'hysterically', 'ant', 'chose', 'advertising', 'uninhabited', 'adjoined', 'enjoyed', 'pounce', 'elected', 'conflict', 'unmitigated', 'arrogant', 'vowed', 'upholstered', 'bookcase', 'genial', 'awkwardness', 'domain', 'tout', 'apologies', 'formally', 'proportions', 'dashes', 'avoiding', 'rebounding', 'repairs', 'repetition', 'incongruous', 'ineptitude', 'incautious', 'insolently', 'tradition', 'investigating', 'lawyers', 'attack', 'afar', 'fatal', 'crafty', 'contracted', 'broadened', 'disturbed', 'stress', 'addition', 'cackled', 'fidgeting', 'tickled', 'paralysis', 'bachelor', 'seed', 'c', 'est', 'rigueur', 'uncomfortable', 'babble', 'offending', 'exercise', 'sedentary', 'join', 'ranks', 'privy', 'councillors', 'skipping', 'interrogations', 'interrogator', 'interrogated', 'aptly', 'wittily', 'muddle', 'harping', 'reform', 'prisoner', 'rudest', 'disarming', 'felicitous', 'formality', 'chat', 'bounded', 'babbled', 'reverting', 'incoherence', 'gesticulations', 'elaborate', 'methods', 'adheres', 'precedent', 'instruct', 'publish', 'prematurely', 'mathematically', 'depriving', 'sevastopol', 'alma', 'enemy', 'siege', 'occurs', 'comic', 'cultivated', 'overlooked', 'measures', 'attractions', 'weave', 'provide', 'flop', 'swallow', 'scare', 'proofs', 'braced', 'ordeal', 'strangle', 'flecked', 'foam', 'policy', 'anyhow', 'harmless', 'chuckling', 'awaken', 'intellect', 'fascinate', 'austrian', 'hof', 'kriegsrath', 'military', 'cleverest', 'mack', 'surrendered', 'civilian', 'histories', 'missed', 'major', 'sharpest', 'calculation', 'reward', 'adornment', 'tricks', 'liable', 'incognito', 'flagrant', 'stuffy', 'lied', 'incomparably', 'betrays', 'paleness', 'questioner', 'brings', 'allegorical', 'allusions', 'psychologist', 'reflects', 'mirror', 'checking', 'murdering', 'prosecute', 'decanter', 'dined', 'wrongs', 'shivered', 'practice', 'imposed', 'unintentionally', 'imagining', 'acquitted', 'tut', 'studied', 'neglect', 'consult', 'lightheaded', 'rejected', 'penetrate', 'damnable', 'wily', 'tittered', 'genially', 'suspiciousness', 'disarmed', 'incensed', 'preserving', 'injury', 'reliable', 'delusions', 'imperiously', 'overhear', 'peremptory', 'mystification', 'paroxysm', 'obeying', 'friendship', 'chuckled', 'maddened', 'restraint', 'punchinello', 'retreated', 'rubbishly', 'priests', 'deputies', 'shove', 'deathly', 'crop', 'warder', 'instantaneously', 'birthday', 'comical', 'harassing', 'proving', 'vivisecting', 'witted', 'writers', 'collect', 'stupefied', 'amazing', 'imminent', 'sketchily', 'outlines', 'circumstantially', 'compromised', 'sleeve', 'connected', 'memorial', 'sinned', 'wronged', 'trade', 'prepare', 'hides', 'cuts', 'convict', 'detective', 'punching', 'scoundrels', 'scolded', 'confident', 'fateful', 'sobering', 'intensely', 'incredible', 'snake', 'gnawing', 'jaundice', 'fattish', 'sarcastic', 'impulsiveness', 'hitch', 'redecorated', 'tradesman', 'entertain', 'contract', 'forfeit', 'upholsterers', 'instalment', 'purchased', 'slay', 'promptly', 'trousseau', 'knick', 'knacks', 'jewellery', 'knopp', 'entertainment', 'nines', 'parsimony', 'ward', 'doings', 'legend', 'omniscient', 'approximate', 'progressives', 'nihilists', 'feared', 'transferring', 'patrons', 'anticipate', 'contingencies', 'allayed', 'doctrines', 'systems', 'pestered', 'expose', 'mic', 'scrofulous', 'attached', 'legion', 'animate', 'abortions', 'coxcombs', 'attach', 'vulgarise', 'caricature', 'duping', 'despising', 'expounding', 'darwinian', 'liar', 'propaganda', 'accepted', 'belauded', 'commune', 'christening', 'acquiesce', 'lover', 'praises', 'disdain', 'bonds', 'bundles', 'unmoved', 'entertaining', 'inferiority', 'incredibly', 'enlarging', 'clicking', 'beads', 'breach', 'discourse', 'console', 'promote', 'ceremonies', 'beggarly', 'feast', 'wines', 'obtaining', 'flustered', 'libel', 'permissable', 'defend', 'equality', 'convention', 'indirectly', 'enlightenment', 'terebyeva', 'community', 'conventionally', 'varents', 'communities', 'letters', 'fifteenth', 'regretted', 'distinguons', 'compulsory', 'voluntary', 'asset', 'dispose', 'assets', 'rejoice', 'yelled', 'disinterestedly', 'inappropriately', 'conditions', 'establish', 'broader', 'basis', 'reject', 'coarsely', 'crude', 'striving', 'chastity', 'lucky', 'mistakenly', 'deserving', 'reliance', 'inequality', 'debate', 'associations', 'france', 'inconvenient', 'tfoo', 'referred', 'privacy', 'cesspools', 'cesspool', 'nobler', 'snigger', 'heartily', 'protests', 'bantering', 'ignorance', 'rainbow', 'indecorous', 'sufficient', 'enable', 'ascertain', 'preternatural', 'comprehensible', 'comprehen', 'foreseeing', 'temporary', 'patronage', 'parent', 'term', 'credulous', 'subscription', 'outsiders', 'assisting', 'unsafe', 'jamaica', 'rum', 'madeira', 'celebrate', 'orphans', 'unfolded', 'ceremoniously', 'interrupt', 'verb', 'sympathise', 'eradicate', 'promotes', 'drawback', 'affection', 'legality', 'warhorse', 'trumpet', 'dictionary', 'corrective', 'opposing', 'avenging', 'sniggered', 'originated', 'disordered', 'deceased', 'suitably', 'compels', 'traditional', 'genteel', 'aristocratic', 'poorest', 'paroxysms', 'irresistible', 'intimidated', 'harassed', 'stages', 'doctors', 'affect', 'variety', 'lisbon', 'quantity', 'honey', 'purchasing', 'provisions', 'stranded', 'disposal', 'bazaar', 'pani', 'serviceable', 'invent', 'disillusioned', 'repulse', 'failures', 'keenly', 'jar', 'disaster', 'brightest', 'crockery', 'knives', 'forks', 'shapes', 'patterns', 'ribbons', 'justifiable', 'displeased', 'mistress', 'contented', 'inwardly', 'creatures', 'guest', 'exalted', 'adding', 'praised', 'cue', 'sharing', 'maidish', 'complained', 'threatening', 'harbour', 'governorship', 'spotty', 'abominably', 'immemorial', 'ages', 'commissariat', 'removing', 'feed', 'bred', 'loftily', 'seats', 'responsible', 'resented', 'professorship', 'apologised', 'suppressed', 'interspersing', 'uncontrollable', 'cuckoo', 'owl', 'patronising', 'sweeps', 'pan', 'starved', 'glee', 'nicety', 'baggage', 'provincial', 'nonentity', 'fray', 'skirts', 'paints', 'required', 'unpunctual', 'entr', 'jelly', 'fidget', 'choosing', 'flatter', 'gratify', 'striped', 'disdained', 'hospitality', 'poking', 'imbecile', 'draggletails', 'gulping', 'twelfth', 'disreputable', 'sole', 'shoe', 'gingerbread', 'vouchsafe', 'bounds', 'drubbing', 'heaved', 'alluding', 'tasting', 'hurting', 'peaceably', 'pierced', 'chemist', 'cabman', 'anecdotes', 'vater', 'aus', 'berlin', 'foreigners', 'stupider', 'punishing', 'addled', 'glaring', 'regaining', 'launched', 'alluring', 'armed', 'incontestably', 'adventuresses', 'fore', 'en', 'toutes', 'lettres', 'peaceful', 'teachers', 'frenchman', 'mangot', 'disdainfully', 'unaware', 'undoubted', 'ability', 'gentleness', 'tapping', 'misgivings', 'w', 'sche', 'dame', 'novels', 'laundry', 'maid', 'directress', 'appropriately', 'slut', 'poof', 'represent', 'resembling', 'amid', 'finn', 'lobster', 'squealed', 'milkman', 'lashed', 'johann', 'burgomeister', 'trample', 'vigilant', 'squabbles', 'stepdaughter', 'edging', 'thunderstruck', 'clamour', 'mademoiselle', 'admonishing', 'accuse', 'accusation', 'purposes', 'securities', 'confirm', 'advisability', 'primarily', 'allude', 'total', 'associated', 'donation', 'reproachfully', 'gott', 'der', 'barmherzige', 'pettifogging', 'eater', 'trashy', 'sovereign', 'tsar', 'meekness', 'parabola', 'arose', 'occasional', 'heartrending', 'wail', 'shelter', 'swaying', 'baby', 'audience', 'agonised', 'unrestrained', 'trustful', 'piteous', 'instigator', 'accomplice', 'lowered', 'compassionate', 'commiserating', 'hugging', 'madwoman', 'drowned', 'sighted', 'dumbfounded', 'stammering', 'nonsensical', 'riddles', 'oath', 'impudently', 'opposed', 'approve', 'effects', 'radical', 'decking', 'charitable', 'test', 'indelicate', 'kobilatnikov', 'treatise', 'recommend', 'piderit', 'wagner', 'reflections', 'winded', 'harangue', 'deduction', 'alas', 'vehemence', 'slandering', 'godless', 'propositions', 'murmurs', 'solved', 'suspected', 'scoundrelly', 'intrigue', 'recently', 'consequently', 'dividing', 'squandering', 'insinuations', 'unpardonably', 'estrange', 'revenging', 'interruptions', 'deliberating', 'implied', 'accusations', 'suggestions', 'tremendously', 'lajdak', 'polish', 'grasp', 'obstructing', 'unmasked', 'judges', 'infidels', 'agitators', 'atheists', 'motives', 'overbalancing', 'impunity', 'submissiveness', 'disappointment', 'murmur', 'throb', 'amidst', 'battle', 'unequal', 'raged', 'lamenting', 'commented', 'impelled', 'superficially', 'everlastingly', 'peevishly', 'roundabout', 'divine', 'grumbled', 'morosely', 'arrogance', 'incomplete', 'unendurable', 'paler', 'steeple', 'froze', 'immovably', 'infected', 'gripping', 'foreseen', 'miserably', 'recoiled', 'plunder', 'wearily', 'comprehend', 'enigmatically', 'coward', 'alike', 'mont', 'blanc', 'picturesque', 'monumental', 'sinful', 'sadly', 'drudge', 'centered', 'fared', 'decorously', 'inflicted', 'thorough', 'scale', 'harmful', 'brilliance', 'fees', 'sulkiness', 'spider', 'ceilings', 'cramp', 'candles', 'notebooks', 'waits', 'alter', 'whoever', 'despises', 'lawgiver', 'dares', 'creed', 'code', 'divined', 'stoop', 'needful', 'temptation', 'blasphemer', 'insistence', 'argued', 'headlong', 'web', 'sucking', 'committed', 'murders', 'hideously', 'defiled', 'expiate', 'destroy', 'knaves', 'supplication', 'unfair', 'shore', 'burdensome', 'immeasurably', 'cypress', 'perturbed', 'abused', 'sing', 'actors', 'tubercles', 'experiments', 'professor', 'incorrect', 'douches', 'tattered', 'continuous', 'sills', 'poison', 'surging', 'silently', 'vacantly', 'cutting', 'hardworking', 'fading', 'permanence', 'depending', 'rapping', 'frying', 'semyonova', 'principally', 'sunshine', 'flag', 'coaxed', 'appealed', 'scoffers', 'clapping', 'singers', 'turban', 'turk', 'costume', 'ostrich', 'fidelity', 'grinders', 'bereaved', 'drives', 'fatherless', 'tenez', 'droite', 'uninterrupted', 'castle', 'forsaken', 'inkpot', 'tongues', 'parlez', 'moi', 'fran', 'ais', 'judy', 'performance', 'impromptu', 'rehearse', 'nevsky', 'sings', 'hussar', 'cinq', 'sous', 'marlborough', 'va', 'lullaby', 'ne', 'sait', 'quand', 'reviendra', 'hips', 'monter', 'notre', 'menage', 'genteelly', 'bodice', 'widths', 'deformed', 'stupids', 'ceremonious', 'gentlewoman', 'grouse', 'stamped', 'basest', 'slandered', 'licence', 'sakes', 'troublesome', 'naughty', 'imps', 'flows', 'chokes', 'adopted', 'mouthed', 'sillies', 'och', 'rattle', 'glissez', 'basque', 'tap', 'du', 'diamanten', 'und', 'perlen', 'sch', 'nsten', 'augen', 'dchen', 'willst', 'mehr', 'invents', 'midday', 'vale', 'dagestan', 'rending', 'flood', 'caressingly', 'unconsciousness', 'asylum', 'enormously', 'foretold', 'fog', 'dreary', 'intervals', 'catastrophe', 'recollections', 'incidents', 'existed', 'prey', 'amounting', 'insensibility', 'immediate', 'irksome', 'permanently', 'city', 'reference', 'tacitly', 'satisfactory', 'institutions', 'server', 'incense', 'blessed', 'abnegation', 'interpreted', 'lonelier', 'mingle', 'restaurants', 'thoroughfares', 'songs', 'smote', 'requiring', 'greediness', 'fresher', 'calmer', 'reported', 'guzzling', 'bite', 'bout', 'wherever', 'conspirator', 'defended', 'companions', 'hypocrisy', 'resourcefulness', 'descended', 'hints', 'confessing', 'smallness', 'cramping', 'lethargy', 'suffocating', 'penned', 'feebler', 'fundamentally', 'riddle', 'te', 'drained', 'mortal', 'brigand', 'flinching', 'pernicious', 'tickling', 'dr', 'b', 'lungs', 'patting', 'careworn', 'unfairly', 'openness', 'disconcert', 'disdaining', 'wiles', 'proportion', 'extent', 'blurts', 'results', 'imperious', 'elements', 'magnanimity', 'efface', 'capitally', 'reproducing', 'rabbits', 'headstrong', 'sleepless', 'amateur', 'essays', 'mistiness', 'chord', 'vibrating', 'mist', 'incorruptible', 'prosecutor', 'notions', 'umsonst', 'blurting', 'reckless', 'formidable', 'bowled', 'bothered', 'semi', 'plausible', 'morgenfr', 'outsider', 'type', 'responsive', 'dances', 'stories', 'villages', 'attends', 'laughs', 'picks', 'believer', 'dissenter', 'wanderers', 'guidance', 'villagers', 'wilderness', 'fervour', 'sect', 'responds', 'juries', 'venerable', 'bible', 'authorities', 'mild', 'assaults', 'weapon', 'influencing', 'abjure', 'plausibly', 'renews', 'preached', 'bookish', 'precipice', 'tower', 'poses', 'recantation', 'sympathetically', 'scornfully', 'chase', 'capture', 'hare', 'confront', 'mug', 'rascal', 'notoriously', 'etiquette', 'surrender', 'shameless', 'lessen', 'aberration', 'abandoning', 'appearances', 'lessening', 'mitigation', 'expressively', 'shortened', 'bourgeois', 'grossly', 'torturer', 'entrails', 'safe', 'expiation', 'harden', 'majestic', 'proclaim', 'schiller', 'flunkey', 'freshen', 'manoeuvre', 'investigate', 'straws', 'irrevocable', 'owning', 'undoubtedly', 'deceitful', 'befriending', 'hovering', 'causing', 'dogging', 'transform', 'rash', 'root', 'intriguing', 'oppressed', 'overflowing', 'clarionet', 'violin', 'boom', 'turkish', 'mindedly', 'chorus', 'click', 'balls', 'tucked', 'tyrolese', 'hall', 'contralto', 'accompaniment', 'guttural', 'rhymes', 'katia', 'gulps', 'trailed', 'patriarchal', 'obsequious', 'cowards', 'philosophers', 'administrative', 'centre', 'declaim', 'mask', 'wonderfully', 'dainty', 'injure', 'derive', 'complex', 'glutton', 'club', 'gourmand', 'remnants', 'steak', 'cavalry', 'photographer', 'journalist', 'biography', 'gambler', 'challenged', 'philosophy', 'candour', 'founded', 'ember', 'extinguished', 'exceeds', 'moderation', 'exceed', 'prudent', 'shoot', 'parried', 'mystic', 'apparitions', 'pretend', 'preach', 'sthetics', 'idealist', 'brag', 'debtors', 'particulars', 'throughout', 'clove', 'swinishness', 'faithful', 'unwritten', 'fourthly', 'maidservants', 'fifthly', 'sixthly', 'reveal', 'dissolute', 'profligate', 'preconceived', 'opinions', 'woes', 'decorous', 'oraison', 'bre', 'tender', 'influenced', 'ardent', 'impressionable', 'reception', 'confide', 'betting', 'charged', 'refer', 'tales', 'idiocy', 'footman', 'satisfy', 'repellent', 'aspect', 'usefulness', 'cage', 'century', 'reigning', 'pro', 'consul', 'asia', 'minor', 'martyrdom', 'pincers', 'roots', 'ecstasies', 'visions', 'thirsting', 'suggests', 'divinity', 'phenomenally', 'parasha', 'wishes', 'exhortations', 'supplications', 'posed', 'hungering', 'resorted', 'subjection', 'resource', 'harder', 'discord', 'vestal', 'virgin', 'seduced', 'tactics', 'prostrate', 'shamelessly', 'resisted', 'unprincipled', 'treachery', 'yielded', 'unawares', 'triumphed', 'succumbed', 'spoiled', 'coarsest', 'convert', 'tremendous', 'epileptic', 'expresses', 'attorney', 'mockingly', 'epithet', 'bestowed', 'cher', 'ami', 'hi', 'wetting', 'annihilate', 'paralysed', 'serving', 'nephews', 'fascinating', 'curtseys', 'frock', 'unopened', 'bud', 'curls', 'lamb', 'charmer', 'flushes', 'delicious', 'rit', 'steals', 'scorches', 'sistine', 'diamonds', 'pearls', 'obedient', 'maiden', 'sensuality', 'haunts', 'renew', 'crippled', 'debauchery', 'reeked', 'odours', 'frightful', 'dens', 'cancan', 'specialist', 'vis', 'consoling', 'proffered', 'sensual', 'vertu', 'elle', 'se', 'nicher', 'outcries', 'bill', 'adventures', 'stimulating', 'ruder', 'adieu', 'mon', 'plaisir', 'actively', 'unearthed', 'mirthful', 'refrained', 'devoured', 'patroness', 'asylums', 'charmed', 'depositing', 'subscribing', 'suppressing', 'hotel', 'teaches', 'expound', 'latest', 'mischance', 'fare', 'coil', 'enrage', 'bond', 'hood', 'sensualist', 'lightly', 'tiresome', 'signalling', 'beloved', 'indiscretion', 'betrayal', 'meddling', 'apartments', 'conveniently', 'successive', 'glow', 'involuntary', 'secluded', 'brave', 'gasped', 'admission', 'combinations', 'misdeed', 'wrongdoing', 'galling', 'overweening', 'paltry', 'shaped', 'vivid', 'charm', 'apply', 'laws', 'une', 'th', 'orie', 'comme', 'autre', 'overstepping', 'remorse', 'russians', 'chaotic', 'terrace', 'supper', 'breadth', 'traditions', 'chronicle', 'fogeys', 'persevere', 'magazine', 'sprinkled', 'atone', 'passports', 'hem', 'exciting', 'uselessly', 'barricade', 'tormentor', 'assault', 'submitting', 'unbending', 'revolver', 'cocked', 'aha', 'alters', 'shooting', 'poisoned', 'oho', 'nightingale', 'kindle', 'bullet', 'grazed', 'wasp', 'temple', 'seize', 'pistol', 'loaded', 'stubborn', 'defined', 'suppliant', 'stubbornly', 'construction', 'charges', 'capsule', 'haunt', 'villain', 'tyrant', 'waiters', 'crooked', 'lanky', 'pine', 'vauxhall', 'clown', 'munich', 'entertained', 'teaspoon', 'waterfall', 'streams', 'flashes', 'drenched', 'locking', 'wonderingly', 'soaking', 'assigned', 'acknowledgments', 'receipts', 'alternatives', 'heedlessly', 'questioned', 'greetings', 'sends', 'perturbation', 'surmise', 'decrepit', 'wheeled', 'ejaculations', 'reinforced', 'patted', 'englishmen', 'fortunate', 'fedosya', 'sorrowful', 'mainland', 'roaring', 'waters', 'endless', 'adrianople', 'lights', 'veal', 'caf', 'chantant', 'planks', 'indistinguishable', 'upbraiding', 'shaded', 'occupants', 'inflamed', 'pose', 'smiting', 'sneeze', 'sheepish', 'befogged', 'dregs', 'attendant', 'wrapping', 'blanket', 'scratching', 'mice', 'reverie', 'trees', 'stormy', 'park', 'landscape', 'recommended', 'avenge', 'promises', 'damnation', 'dozing', 'zigzags', 'dart', 'draught', 'dampness', 'howled', 'dwelling', 'trinity', 'cottage', 'overgrown', 'fragrant', 'porch', 'wreathed', 'climbers', 'surrounded', 'roses', 'carpeted', 'rugs', 'plants', 'china', 'nosegays', 'narcissus', 'stalks', 'reluctant', 'balcony', 'freshly', 'chirruping', 'shroud', 'edged', 'frill', 'wreaths', 'carved', 'marble', 'wreath', 'rigid', 'profile', 'chiselled', 'unchildish', 'appalled', 'smirched', 'unmerited', 'unheeded', 'brutally', 'frost', 'daytime', 'cellar', 'blurs', 'cannon', 'resounded', 'signal', 'river', 'swirling', 'flooding', 'basements', 'cellars', 'rats', 'swim', 'ticking', 'touches', 'drip', 'mammy', 'bwoken', 'neglected', 'stockingless', 'lids', 'unchildlike', 'provocative', 'aglow', 'nightmare', 'overslept', 'notebook', 'milky', 'slippery', 'picturing', 'paths', 'passer', 'shutters', 'achilles', 'helmet', 'drowsy', 'perpetual', 'peevish', 'sourly', 'jewish', 'trigger', 'lagging', 'appallingly', 'exposure', 'speechless', 'foolishly', 'muddy', 'concerns', 'hatching', 'nudging', 'experiences', 'magazines', 'poems', 'manuscript', 'selfishness', 'fullness', 'dearly', 'vision', 'uncertainly', 'lustreless', 'doubted', 'expiating', 'noxious', 'insect', 'atonement', 'imbecility', 'spilt', 'crowned', 'capitol', 'clumsiness', 'sthetically', 'bombarding', 'symptom', 'manly', 'ivory', 'nun', 'confided', 'hardships', 'whimper', 'indiscriminately', 'viii', 'fellowship', 'fairest', 'angers', 'annoys', 'brutish', 'cooler', 'concentrate', 'symbol', 'grieving', 'nurse', 'resentful', 'procession', 'rebellious', 'retract', 'dawned', 'van', 'campany', 'incongruity', 'chanted', 'lachrymose', 'distasteful', 'jerky', 'unmixed', 'kindled', 'spreading', 'bliss', 'boozed', 'glimpse', 'shanties', 'mount', 'eggshells', 'spiral', 'privately', 'doorkeeper', 'seating', 'fairy', 'ro', 'rodionovitch', 'originality', 'talents', 'bun', 'covers', 'bigotry', 'youngster', 'boast', 'deterred', 'ascetic', 'monk', 'hermit', 'research', 'soars', 'livingstone', 'nihilist', 'almighty', 'ennobled', 'midwives', 'wenches', 'academy', 'immoderate', 'zeal', 'suicides', 'nil', 'pavlitch', 'listlessness', 'reeled', 'barking', 'grinned', 'hulloa', 'brokenly', 'epilogue', 'centres', 'fortress', 'adhered', 'confuse', 'soften', 'metal', 'minutely', 'voznesensky', 'uppermost', 'discover', 'truthful', 'versed', 'mania', 'hypochondriacal', 'robber', 'shallow', 'privation', 'heartfelt', 'repentance', 'exaggerate', 'incidentally', 'hypothesis', 'commits', 'thirteenth', 'rescued', 'investigated', 'extenuating', 'commission', 'thereafter', 'version', 'hinting', 'unsatisfactory', 'ardour', 'livelihood', 'emigrate', 'workers', 'convicts', 'despatched', 'fervent', 'anticipations', 'predicted', 'implicit', 'displayed', 'lectures', 'rescuing', 'conveyances', 'hangings', 'fatiguing', 'razumihins', 'clearest', 'description', 'minuteness', 'clearness', 'externally', 'shirking', 'sundays', 'holidays', 'barracks', 'unhealthy', 'plank', 'rug', 'inattention', 'visits', 'workshops', 'kilns', 'sheds', 'irtish', 'lightened', 'horrors', 'patched', 'trials', 'beetles', 'fetters', 'rough', 'borne', 'decree', 'objectless', 'strive', 'repent', 'raging', 'blunders', 'criticised', 'blundering', 'swarmed', 'clashed', 'independently', 'broadly', 'uninfluenced', 'sceptics', 'halt', 'inheriting', 'punished', 'criminality', 'falsity', 'crisis', 'attribute', 'prized', 'privations', 'tramps', 'ray', 'primeval', 'forest', 'tramp', 'sweetheart', 'downcast', 'gulf', 'species', 'isolation', 'exiles', 'ignorant', 'churls', 'seminarists', 'hack', 'infidel', 'flinch', 'intervening', 'christmas', 'rolls', 'sweethearts', 'frail', 'gait', 'illnesses', 'easter', 'plague', 'europe', 'microbes', 'endowed', 'sufferers', 'infallible', 'peoples', 'infection', 'armies', 'soldiers', 'stabbing', 'devouring', 'trades', 'improvements', 'conflagrations', 'famine', 'involved', 'purify', 'grating', 'sentinel', 'pencilled', 'pound', 'alabaster', 'kiln', 'baking', 'tool', 'logs', 'steppe', 'bathed', 'specks', 'nomads', 'tents', 'abraham', 'flocks', 'contemplation', 'burnous', 'timidity', 'dawn', 'sources', 'religion', 'pester', 'aspirations', 'gradual', 'renewal', 'regeneration', 'initiation', 'file', 'txt', 'zip', 'files', 'formats', 'http', 'david', 'widger', 'editions', 'replace', 'renamed', 'creating', 'owns', 'copyright', 'distribute', 'royalties', 'copying', 'distributing', 'tm', 'electronic', 'concept', 'trademark', 'registered', 'ebooks', 'specific', 'complying', 'derivative', 'performances', 'modified', 'redistribution', 'mission', 'distribution', 'comply', 'available', 'section', 'redistributing', 'indicate', 'abide', 'access', 'refund', 'entity', 'paragraph', 'archive', 'pglaf', 'compilation', 'collection', 'located', 'displaying', 'based', 'references', 'compliance', 'format', 'govern', 'countries', 'constant', 'check', 'downloading', 'representations', 'status', 'links', 'prominently', 'accessed', 'viewed', 'copied', 'distributed', 'derived', 'contain', 'holder', 'providing', 'appearing', 'requirements', 'paragraphs', 'additional', 'linked', 'unlink', 'detach', 'redistribute', 'binary', 'nonproprietary', 'proprietary', 'processing', 'hypertext', 'vanilla', 'ascii', 'site', 'user', 'exporting', 'alternate', 'include', 'specified', 'viewing', 'reasonable', 'royalty', 'profits', 'calculate', 'applicable', 'taxes', 'donate', 'payments', 'periodic', 'tax', 'returns', 'donations', 'notifies', 'receipt', 'require', 'discontinue', 'f', 'replacement', 'defect', 'michael', 'hart', 'volunteers', 'employees', 'expend', 'identify', 'transcribe', 'proofread', 'despite', 'limited', 'inaccurate', 'corrupt', 'transcription', 'errors', 'infringement', 'defective', 'damaged', 'disk', 'computer', 'virus', 'codes', 'damage', 'equipment', 'warranty', 'disclaimer', 'disclaim', 'liability', 'remedies', 'negligence', 'strict', 'distributor', 'indirect', 'consequential', 'punitive', 'incidental', 'lieu', 'electronically', 'opportunities', 'warranties', 'merchantibility', 'fitness', 'disclaimers', 'exclusion', 'limitation', 'maximum', 'invalidity', 'unenforceability', 'provision', 'void', 'indemnity', 'indemnify', 'agent', 'employee', 'production', 'promotion', 'alteration', 'modification', 'deletions', 'synonymous', 'readable', 'widest', 'computers', 'obsolete', 'critical', 'goals', 'ensuring', 'generations', 'sections', 'non', 'educational', 'corporation', 'organized', 'mississippi', 'internal', 'ein', 'federal', 'identification', 'fundraising', 'contributions', 'deductible', 'melan', 'fairbanks', 'ak', 'scattered', 'locations', 'west', 'lake', 'ut', 'email', 'gregory', 'newby', 'executive', 'director', 'gbnewby', 'survive', 'licensed', 'machine', 'accessible', 'array', 'outdated', 'maintaining', 'irs', 'regulating', 'charities', 'paperwork', 'solicit', 'confirmation', 'solicitation', 'accepting', 'unsolicited', 'donors', 'international', 'gratefully', 'statements', 'swamp', 'staff', 'addresses', 'checks', 'originator', 'library', 'network', 'volunteer', 'necessarily', 'edition', 'pg', 'facility', 'includes', 'subscribe', 'newsletter']\n",
      "[8003, 93, 93, 10, 3928, 56, 7042, 9, 585, 4, 13, 733, 1461, 1686, 55, 77, 8, 2082, 703, 10, 1757, 217, 2, 3, 4118, 209, 14, 3463, 135, 266, 507, 68, 101, 30, 18, 3, 4, 6, 13, 5, 6, 1, 8, 3, 281, 2, 1, 6, 6, 36, 75, 1, 1, 16, 6, 3, 2, 2, 1, 1, 1, 4, 1765, 1, 4667, 56, 97, 538, 342, 85, 1, 5497, 179, 2116, 117, 2827, 20, 40, 4, 713, 466, 24, 18, 9, 7, 172, 1801, 908, 62, 3308, 803, 21, 226, 85, 117, 3254, 459, 244, 39, 88, 219, 23, 6, 33, 30, 8, 754, 17, 27, 445, 136, 8, 8, 242, 685, 37, 9, 4, 53, 17, 1, 814, 4900, 1582, 96, 30, 232, 2, 46, 2, 1, 1, 6, 34, 1, 4, 20, 8, 80, 17, 293, 1, 5, 4, 12, 185, 95, 319, 1592, 109, 17, 105, 5, 6, 7, 10, 29, 23, 1, 646, 290, 4, 113, 95, 408, 48, 66, 76, 2, 1, 6, 52, 65, 4, 78, 2, 65, 1, 4, 25, 4, 660, 2, 4, 1, 4405, 11, 283, 481, 1216, 1, 1, 3, 80, 9, 52, 228, 25, 33, 2, 55, 43, 80, 1, 12, 1141, 6, 14, 127, 2, 32, 5, 249, 147, 7, 232, 195, 188, 1489, 37, 4, 17, 19, 1, 461, 26, 1, 1, 19, 2, 102, 4, 10, 55, 139, 1071, 306, 677, 77, 25, 1, 16, 1, 1, 65, 1, 595, 3, 293, 1, 30, 1, 1, 79, 191, 149, 2, 10, 2, 4, 15, 14, 1, 3, 7, 1, 356, 47, 2, 167, 4, 1, 20, 38, 11, 138, 1, 2, 152, 10, 15, 84, 23, 121, 1, 18, 5, 178, 92, 6, 1, 34, 1, 1, 32, 10, 1, 2, 1, 293, 15, 472, 39, 30, 95, 4, 4, 17, 18, 9, 16, 209, 266, 47, 122, 405, 37, 1, 1, 20, 13, 2, 23, 9, 13, 566, 3, 404, 13, 4, 1, 343, 10, 45, 3, 12, 135, 65, 37, 416, 1, 1, 164, 3, 8, 25, 7, 29, 3, 1, 4, 148, 4, 66, 51, 48, 21, 112, 167, 8, 6, 199, 1, 29, 39, 1, 4, 302, 13, 48, 4, 18, 29, 134, 12, 1, 519, 1154, 2, 71, 183, 7, 1, 4, 58, 1, 2, 10, 1, 1, 4, 8, 27, 1, 75, 34, 31, 9, 9, 1, 1, 112, 2, 33, 1, 270, 33, 134, 1, 1, 12, 1, 1, 36, 78, 3, 14, 66, 1, 387, 106, 181, 1, 2, 4, 8, 8, 536, 63, 1323, 205, 2, 31, 133, 32, 40, 551, 4, 14, 56, 9, 1, 10, 5, 118, 102, 33, 10, 40, 3, 25, 2, 8, 29, 70, 32, 1, 30, 2, 455, 9, 285, 10, 2, 1, 36, 15, 385, 8, 42, 1829, 23, 227, 2, 175, 62, 76, 45, 57, 2, 67, 38, 10, 90, 1775, 154, 3, 1, 186, 25, 37, 576, 6, 15, 21, 1, 3, 41, 40, 8, 1, 7, 6, 19, 3, 57, 60, 16, 2, 56, 4, 15, 9, 10, 30, 601, 285, 179, 497, 32, 43, 50, 78, 58, 9, 8, 9, 2, 3, 5, 2, 2, 6, 3, 1, 34, 84, 575, 2, 6, 21, 3, 46, 81, 105, 1, 24, 1, 185, 11, 138, 546, 117, 13, 4, 85, 31, 283, 150, 2, 4, 1, 25, 530, 1231, 867, 111, 40, 12, 135, 28, 80, 505, 8, 209, 291, 12, 33, 68, 78, 791, 4, 81, 1, 2, 1, 445, 185, 20, 137, 4, 5, 160, 2, 32, 18, 1, 1, 1, 1, 3, 14, 43, 6, 18, 24, 207, 49, 12, 16, 9, 2, 13, 5, 9, 16, 39, 8, 32, 75, 26, 27, 286, 2, 8, 16, 8, 31, 1, 14, 5, 203, 5, 250, 259, 9, 29, 2, 5, 3, 335, 5, 7, 50, 246, 5, 46, 46, 24, 1, 62, 30, 2, 53, 3, 1, 9, 2, 11, 11, 13, 18, 37, 76, 4, 26, 42, 3, 14, 13, 42, 340, 5, 1, 31, 17, 1, 32, 5, 39, 11, 1, 26, 27, 15, 3, 34, 1, 1, 20, 1, 10, 14, 2, 3, 13, 16, 16, 12, 1, 4, 12, 49, 1, 2, 85, 47, 100, 439, 5, 12, 63, 6, 136, 5, 52, 44, 14, 4, 7, 19, 1, 9, 89, 10, 15, 27, 1, 3, 19, 84, 9, 7, 1, 37, 12, 117, 1, 1, 11, 15, 1, 1, 20, 78, 10, 12, 12, 1, 3, 130, 68, 20, 9, 44, 16, 164, 4, 121, 14, 8, 14, 17, 25, 58, 10, 33, 105, 210, 1, 5, 8, 2, 68, 2, 207, 46, 103, 5, 89, 219, 5, 56, 10, 168, 77, 368, 77, 48, 15, 39, 31, 38, 52, 33, 5, 348, 22, 19, 1, 15, 10, 1, 191, 7, 2, 4, 5, 1, 5, 480, 28, 2, 4, 497, 11, 35, 1, 19, 18, 4, 7, 293, 22, 205, 15, 1, 1, 2, 3, 1, 2, 3, 24, 7, 3, 45, 26, 4, 12, 5, 14, 6, 2, 1, 2, 7, 53, 31, 6, 18, 3, 222, 7, 22, 12, 13, 2, 604, 5, 29, 131, 32, 37, 19, 17, 6, 1, 15, 7, 27, 13, 77, 11, 56, 7, 1, 32, 203, 279, 35, 14, 25, 11, 4, 4, 10, 6, 3, 16, 34, 53, 57, 23, 3, 51, 42, 14, 104, 70, 12, 4, 32, 24, 2, 4, 48, 6, 1695, 1, 29, 18, 9, 2, 23, 65, 215, 10, 1, 1, 5, 9, 7, 9, 2, 25, 2, 5, 5, 3, 20, 7, 30, 182, 17, 3, 8, 1, 2, 6, 10, 1, 16, 1, 3, 4, 27, 2, 2, 46, 303, 6, 3, 410, 785, 44, 366, 72, 52, 100, 13, 13, 6, 58, 13, 30, 6, 179, 1, 23, 11, 32, 49, 39, 13, 9, 5, 22, 45, 9, 2, 3, 1, 20, 6, 15, 17, 12, 554, 3, 21, 26, 11, 25, 4, 53, 3, 22, 4, 77, 12, 1, 122, 9, 37, 35, 48, 10, 7, 1, 2, 1, 1, 3, 70, 60, 11, 25, 4, 22, 3, 7, 60, 1, 6, 1, 3, 2, 9, 11, 7, 3, 18, 59, 31, 9, 5, 90, 71, 7, 38, 58, 5, 19, 34, 1, 1, 8, 5, 15, 138, 39, 47, 59, 11, 16, 304, 33, 147, 95, 7, 1, 34, 196, 3, 65, 169, 9, 241, 128, 7, 49, 81, 6, 8, 52, 47, 167, 6, 3, 10, 3, 45, 96, 33, 34, 8, 84, 2, 3, 13, 1, 2, 17, 31, 2, 416, 1145, 25, 22, 5, 3, 297, 70, 36, 194, 23, 6, 3, 16, 22, 8, 32, 94, 14, 6, 13, 44, 44, 78, 55, 106, 132, 187, 5, 25, 21, 158, 11, 8, 51, 62, 114, 13, 18, 72, 6, 86, 12, 2, 191, 8, 111, 4, 9, 11, 7, 9, 2, 4, 11, 24, 34, 2, 23, 1, 7, 1, 14, 39, 38, 10, 1, 2, 4, 6, 228, 12, 207, 73, 172, 3, 5, 2, 12, 56, 45, 14, 3, 54, 13, 106, 4, 24, 8, 13, 10, 2, 13, 20, 61, 2, 25, 11, 4, 23, 8, 15, 19, 10, 3, 10, 1, 23, 1, 8, 5, 32, 10, 43, 20, 4, 2, 3, 3, 8, 60, 3, 106, 2, 81, 8, 14, 30, 24, 2, 76, 17, 57, 6, 8, 17, 7, 67, 1, 42, 26, 34, 10, 33, 3, 14, 36, 10, 6, 17, 1, 1, 2, 3, 7, 9, 2, 22, 5, 31, 68, 4, 7, 46, 15, 2, 1, 6, 15, 3, 8, 5, 28, 59, 5, 4, 25, 39, 17, 2, 43, 3, 2, 3, 3, 4, 1, 18, 35, 49, 1, 21, 53, 4, 5, 32, 2, 12, 2, 6, 18, 4, 36, 6, 16, 66, 1, 2, 7, 1, 4, 1, 2, 1, 3, 4, 5, 203, 3, 4, 21, 21, 15, 42, 15, 58, 4, 5, 1, 17, 51, 35, 18, 6, 27, 30, 14, 55, 11, 3, 10, 6, 3, 28, 3, 3, 14, 1, 17, 1, 7, 1, 1, 30, 1, 2, 5, 2, 6, 2, 1, 127, 8, 3, 19, 14, 1, 4, 1, 20, 3, 12, 2, 2, 15, 26, 3, 7, 1, 1, 2, 3, 10, 2, 1, 3, 12, 21, 13, 2, 1, 16, 3, 5, 10, 8, 13, 15, 21, 2, 2, 1, 4, 31, 1, 22, 9, 1, 11, 2, 2, 4, 7, 41, 50, 5, 4, 8, 112, 1, 6, 6, 30, 15, 3, 18, 30, 3, 6, 17, 8, 4, 5, 66, 7, 3, 11, 17, 1, 1, 3, 42, 151, 2, 3, 49, 2, 33, 1, 4, 2, 9, 8, 1, 1, 6, 4, 32, 2, 16, 52, 50, 1, 5, 1, 6, 3, 1, 2, 2, 15, 2, 1, 2, 6, 53, 1, 2, 86, 76, 27, 98, 124, 17, 19, 66, 98, 2, 15, 66, 90, 6, 10, 18, 2, 2, 99, 46, 2, 3, 4, 10, 15, 6, 4, 33, 1, 6, 51, 3, 4, 28, 35, 8, 2, 4, 21, 27, 2, 2, 2, 6, 1, 5, 2, 14, 67, 29, 1, 28, 5, 27, 7, 13, 10, 465, 12, 22, 34, 4, 104, 2, 1, 94, 45, 1, 1, 1, 26, 24, 40, 4, 1, 1, 7, 50, 169, 11, 39, 10, 10, 6, 27, 10, 7, 15, 88, 1, 5, 2, 72, 17, 50, 4, 4, 2, 76, 17, 31, 9, 3, 98, 1, 35, 3, 1, 73, 27, 1, 3, 3, 43, 1, 9, 56, 2, 1, 5, 54, 37, 2, 39, 2, 9, 216, 1, 20, 8, 16, 10, 2, 2, 2, 19, 11, 23, 6, 15, 4, 13, 15, 5, 13, 9, 6, 10, 25, 1, 15, 59, 15, 24, 34, 6, 8, 2, 61, 1, 2, 12, 55, 4, 11, 38, 98, 11, 27, 39, 31, 15, 39, 35, 1, 63, 2, 2, 3, 10, 5, 1, 24, 7, 12, 9, 4, 6, 18, 3, 7, 4, 6, 33, 239, 64, 1, 31, 2, 27, 6, 3, 9, 22, 8, 1, 4, 124, 15, 11, 3, 3, 5, 5, 25, 12, 15, 23, 2, 42, 1, 85, 18, 22, 6, 24, 1, 1, 40, 3, 51, 2, 8, 60, 10, 3, 11, 8, 1, 1, 10, 5, 8, 15, 2, 2, 12, 30, 31, 21, 1, 2, 4, 4, 24, 4, 8, 53, 3, 8, 1, 1, 12, 17, 11, 2, 52, 2, 5, 24, 1, 4, 1, 6, 6, 68, 3, 8, 4, 20, 6, 3, 17, 1, 23, 13, 2, 15, 118, 14, 5, 4, 402, 50, 24, 1, 3, 6, 4, 5, 1, 1, 1, 1, 1, 4, 23, 1, 1, 1, 1, 23, 40, 6, 8, 15, 3, 4, 28, 5, 2, 1, 158, 7, 24, 1, 1, 4, 4, 2, 1, 9, 13, 18, 21, 13, 6, 8, 23, 10, 8, 71, 4, 3, 10, 34, 79, 57, 5, 1, 11, 14, 8, 3, 42, 31, 4, 27, 3, 1, 39, 60, 49, 154, 12, 13, 19, 16, 3, 12, 3, 46, 4, 22, 14, 27, 13, 9, 12, 13, 17, 16, 1, 16, 1, 76, 71, 1, 54, 7, 19, 1, 2, 3, 5, 2, 10, 4, 4, 2, 2, 17, 9, 9, 2, 5, 16, 1, 8, 1, 274, 1, 19, 7, 2, 1, 21, 4, 107, 14, 7, 32, 14, 1, 14, 1, 4, 1, 20, 1, 11, 16, 2, 9, 35, 1, 4, 12, 6, 1, 1, 20, 8, 16, 4, 10, 7, 1, 12, 10, 17, 1, 8, 3, 2, 12, 5, 1, 10, 13, 1, 6, 12, 1, 1, 37, 19, 5, 4, 2, 4, 3, 34, 1, 4, 2, 3, 150, 9, 8, 386, 1, 9, 5, 20, 8, 19, 8, 6, 7, 7, 64, 4, 2, 13, 13, 21, 2, 43, 1, 36, 2, 2, 1, 9, 4, 15, 42, 4, 7, 2, 6, 1, 6, 1, 28, 6, 6, 11, 3, 39, 28, 13, 4, 36, 11, 8, 14, 1, 1, 6, 1, 2, 6, 8, 57, 1, 33, 15, 2, 11, 1, 3, 4, 2, 2, 10, 20, 11, 10, 8, 116, 25, 5, 3, 2, 1, 14, 48, 7, 5, 1, 10, 23, 2, 1, 7, 3, 5, 34, 79, 6, 8, 3, 1, 1, 55, 16, 2, 27, 5, 35, 5, 3, 34, 3, 1, 22, 1, 3, 29, 2, 1, 3, 2, 3, 4, 11, 30, 8, 8, 2, 1, 1, 10, 6, 6, 3, 12, 5, 32, 5, 3, 2, 16, 10, 34, 12, 1, 11, 4, 14, 1, 14, 6, 39, 19, 13, 7, 2, 4, 10, 39, 12, 15, 5, 27, 5, 37, 1, 20, 29, 14, 14, 6, 49, 9, 6, 4, 9, 7, 25, 6, 10, 1, 1, 1, 10, 3, 29, 2, 2, 26, 1, 24, 1, 18, 7, 6, 6, 2, 10, 3, 1, 1, 10, 1, 1, 4, 5, 1, 5, 22, 6, 10, 59, 1, 41, 22, 18, 2, 2, 3, 9, 2, 12, 56, 5, 39, 1, 4, 29, 4, 5, 7, 2, 3, 73, 72, 22, 10, 4, 6, 5, 11, 3, 4, 6, 35, 2, 3, 1, 1, 31, 11, 1, 1, 13, 22, 78, 3, 19, 2, 1, 21, 23, 30, 7, 3, 12, 36, 6, 31, 5, 17, 10, 96, 25, 24, 8, 6, 1, 1, 44, 1, 17, 7, 5, 22, 18, 1, 14, 2, 1, 5, 1, 7, 1, 1, 1, 5, 10, 3, 26, 13, 15, 38, 6, 49, 21, 3, 4, 10, 17, 6, 3, 18, 1, 10, 2, 3, 3, 11, 3, 1, 1, 1, 2, 6, 2, 3, 4, 3, 8, 1, 3, 5, 4, 10, 20, 2, 5, 22, 3, 1, 8, 2, 8, 1, 50, 2, 1, 13, 1, 42, 3, 8, 3, 2, 2, 2, 7, 13, 1, 1, 84, 15, 4, 9, 5, 1, 16, 5, 6, 7, 5, 1, 6, 1, 20, 3, 6, 9, 1, 8, 6, 5, 16, 11, 23, 1, 1, 23, 10, 10, 1, 27, 9, 1, 2, 11, 1, 8, 1, 2, 16, 7, 6, 1, 1, 89, 5, 17, 2, 9, 2, 1, 9, 16, 5, 1, 3, 1, 3, 2, 1, 65, 3, 3, 2, 1, 1, 7, 42, 2, 20, 13, 1, 26, 21, 9, 9, 3, 3, 18, 7, 6, 8, 42, 24, 18, 2, 5, 2, 7, 19, 3, 1, 12, 2, 18, 6, 1, 2, 12, 22, 20, 16, 1, 18, 7, 6, 175, 5, 70, 20, 24, 47, 2, 4, 6, 2, 12, 1, 127, 20, 12, 8, 10, 325, 34, 9, 18, 15, 52, 1, 4, 1, 18, 7, 3, 12, 29, 26, 165, 45, 2, 2, 8, 11, 2, 46, 4, 7, 6, 1, 4, 19, 45, 28, 11, 6, 1, 23, 1, 11, 5, 12, 2, 12, 210, 207, 6, 1, 5, 6, 14, 11, 78, 79, 2, 1, 1, 7, 14, 1, 12, 3, 9, 38, 2, 1, 6, 6, 9, 3, 13, 11, 1, 1, 1, 2, 3, 9, 31, 8, 20, 13, 5, 28, 7, 14, 10, 9, 20, 1, 6, 1, 4, 2, 13, 9, 5, 2, 3, 21, 2, 20, 7, 21, 19, 6, 70, 6, 2, 15, 20, 1, 1, 1, 2, 3, 16, 19, 3, 4, 14, 17, 1, 4, 3, 3, 9, 8, 2, 18, 20, 2, 5, 13, 2, 2, 7, 4, 1, 11, 3, 6, 2, 4, 3, 3, 7, 36, 1, 8, 14, 4, 31, 21, 14, 4, 4, 2, 3, 13, 2, 2, 33, 3, 2, 3, 1, 1, 3, 37, 6, 7, 7, 4, 29, 3, 3, 6, 8, 30, 8, 129, 9, 17, 1, 6, 2, 5, 10, 2, 1, 4, 2, 8, 2, 36, 6, 4, 1, 15, 8, 25, 14, 1, 28, 3, 28, 2, 1, 12, 9, 1, 12, 4, 3, 2, 8, 16, 1, 2, 3, 1, 15, 9, 5, 5, 14, 2, 31, 173, 287, 113, 1, 1, 5, 8, 3, 22, 6, 2, 14, 16, 1, 4, 2, 4, 4, 40, 1, 4, 6, 2, 3, 7, 8, 1, 5, 2, 17, 3, 7, 19, 4, 1, 12, 2, 4, 13, 12, 8, 7, 2, 5, 10, 4, 19, 16, 4, 42, 19, 39, 9, 4, 6, 2, 1, 1, 1, 3, 2, 2, 23, 3, 1, 1, 1, 5, 2, 6, 12, 3, 8, 10, 15, 10, 2, 8, 29, 1, 9, 28, 11, 2, 3, 1, 26, 4, 8, 13, 1, 33, 7, 14, 2, 10, 5, 3, 3, 10, 3, 5, 75, 5, 20, 6, 2, 5, 31, 21, 7, 12, 1, 7, 1, 23, 4, 12, 6, 4, 6, 2, 1, 9, 3, 3, 32, 4, 7, 9, 28, 5, 8, 6, 2, 18, 2, 6, 27, 3, 6, 4, 13, 6, 4, 17, 8, 8, 7, 11, 5, 8, 1, 3, 7, 1, 8, 17, 2, 1, 9, 7, 15, 1, 2, 2, 13, 4, 9, 3, 6, 2, 4, 2, 4, 2, 3, 5, 19, 8, 1, 1, 9, 1, 17, 6, 1, 4, 14, 124, 14, 16, 6, 15, 1, 1, 7, 15, 2, 4, 3, 1, 6, 14, 6, 5, 9, 20, 4, 9, 7, 19, 10, 4, 31, 12, 5, 2, 13, 9, 4, 7, 9, 6, 1, 6, 9, 1, 1, 14, 115, 115, 3, 3, 1, 8, 1, 2, 7, 1, 100, 9, 1, 66, 7, 2, 14, 2, 7, 30, 9, 20, 6, 4, 24, 3, 3, 35, 5, 1, 50, 9, 4, 10, 3, 3, 1, 1, 1, 3, 1, 5, 27, 3, 1, 18, 2, 10, 5, 1, 2, 4, 1, 1, 2, 1, 4, 1, 1, 2, 8, 7, 1, 12, 4, 4, 7, 1, 1, 9, 2, 1, 2, 13, 23, 5, 2, 21, 2, 2, 2, 1, 21, 4, 55, 2, 14, 11, 1, 1, 3, 1, 17, 4, 1, 1, 1, 1, 1, 12, 1, 1, 1, 2, 13, 1, 1, 19, 15, 1, 1, 2, 7, 7, 97, 86, 1, 1, 13, 1, 6, 10, 2, 3, 2, 3, 8, 1, 3, 19, 2, 1, 2, 1, 1, 9, 4, 21, 17, 10, 8, 3, 4, 5, 1, 1, 9, 2, 3, 1, 28, 23, 8, 3, 15, 1, 3, 1, 1, 20, 1, 1, 6, 1, 12, 2, 15, 1, 4, 9, 1, 1, 1, 16, 3, 1, 19, 4, 3, 2, 16, 7, 9, 4, 2, 3, 3, 73, 22, 6, 2, 4, 18, 8, 18, 9, 2, 1, 2, 4, 5, 5, 1, 12, 1, 1, 4, 2, 15, 9, 1, 1, 4, 4, 5, 9, 5, 6, 5, 48, 2, 6, 20, 4, 1, 21, 12, 10, 10, 1, 11, 9, 6, 1, 1, 37, 6, 1, 2, 10, 2, 8, 4, 5, 2, 3, 2, 12, 10, 4, 11, 3, 2, 14, 14, 20, 1, 6, 6, 28, 2, 7, 1, 6, 8, 13, 5, 11, 17, 9, 6, 2, 4, 7, 29, 9, 5, 30, 19, 1, 1, 10, 2, 13, 3, 1, 32, 1, 1, 8, 3, 4, 9, 2, 1, 10, 4, 2, 12, 52, 4, 1, 3, 29, 4, 9, 14, 21, 3, 1, 1, 20, 4, 5, 6, 15, 10, 1, 7, 12, 1, 11, 5, 13, 17, 6, 5, 1, 4, 1, 3, 4, 5, 2, 5, 1, 347, 15, 3, 3, 25, 2, 6, 1, 1, 3, 1, 20, 2, 5, 6, 4, 1, 8, 1, 1, 1, 7, 6, 1, 11, 3, 1, 2, 1, 1, 2, 16, 1, 3, 1, 2, 5, 6, 1, 21, 6, 5, 1, 2, 3, 8, 10, 3, 55, 3, 13, 9, 1, 10, 18, 9, 8, 19, 15, 4, 4, 3, 14, 9, 1, 17, 8, 2, 6, 15, 2, 8, 12, 9, 3, 3, 6, 11, 3, 1, 4, 1, 2, 2, 1, 1, 10, 5, 12, 6, 1, 33, 1, 1, 3, 1, 1, 32, 2, 7, 13, 2, 2, 1, 12, 4, 1, 15, 11, 15, 6, 3, 19, 1, 5, 5, 6, 3, 1, 1, 3, 6, 5, 1, 1, 1, 3, 1, 5, 14, 6, 3, 7, 5, 3, 2, 6, 10, 1, 1, 1, 1, 56, 5, 3, 5, 1, 5, 32, 2, 5, 3, 3, 3, 6, 3, 3, 2, 1, 8, 1, 2, 19, 2, 1, 2, 22, 9, 9, 2, 8, 2, 1, 1, 1, 6, 7, 10, 1, 1, 20, 3, 1, 6, 2, 10, 2, 4, 1, 2, 13, 1, 3, 11, 3, 3, 3, 3, 1, 1, 11, 3, 1, 1, 1, 1, 17, 4, 15, 6, 1, 8, 1, 2, 1, 27, 10, 6, 4, 6, 1, 1, 1, 4, 1, 3, 2, 1, 1, 2, 4, 2, 5, 7, 1, 12, 3, 11, 2, 3, 1, 5, 9, 4, 6, 7, 7, 26, 1, 8, 2, 1, 6, 2, 13, 1, 4, 18, 3, 1, 13, 2, 6, 11, 5, 1, 2, 1, 1, 2, 1, 3, 8, 2, 2, 1, 5, 2, 2, 23, 1, 3, 11, 2, 6, 3, 1, 2, 9, 6, 6, 2, 2, 1, 1, 58, 7, 3, 7, 2, 3, 1, 11, 5, 3, 4, 2, 5, 13, 2, 33, 1, 1, 1, 3, 4, 22, 1, 7, 3, 4, 6, 5, 2, 2, 2, 6, 1, 14, 5, 3, 3, 3, 11, 5, 4, 13, 14, 46, 1, 5, 2, 4, 1, 16, 5, 6, 2, 13, 22, 10, 4, 6, 2, 1, 1, 1, 1, 6, 6, 1, 55, 3, 1, 13, 1, 4, 5, 1, 1, 4, 5, 1, 2, 6, 5, 2, 1, 2, 1, 1, 2, 3, 1, 3, 3, 5, 1, 1, 6, 1, 1, 2, 14, 22, 10, 11, 4, 3, 4, 6, 11, 1, 7, 3, 8, 1, 7, 1, 33, 3, 25, 4, 1, 11, 9, 9, 8, 1, 10, 10, 2, 1, 7, 23, 4, 5, 3, 1, 2, 1, 4, 4, 1, 10, 1, 1, 9, 12, 8, 1, 1, 1, 5, 4, 3, 5, 9, 1, 13, 1, 1, 4, 3, 3, 8, 4, 2, 10, 3, 5, 1, 1, 5, 5, 35, 1, 4, 4, 2, 2, 1, 3, 1, 12, 1, 4, 9, 1, 1, 16, 2, 3, 1, 6, 3, 3, 2, 4, 3, 4, 1, 30, 3, 12, 9, 4, 8, 4, 1, 3, 3, 24, 23, 8, 10, 7, 1, 15, 4, 1, 1, 3, 5, 14, 1, 10, 1, 6, 3, 2, 2, 1, 1, 10, 6, 5, 1, 6, 1, 1, 2, 1, 1, 9, 4, 4, 6, 6, 2, 2, 6, 10, 4, 1, 3, 3, 6, 18, 17, 4, 47, 5, 3, 5, 5, 14, 1, 7, 33, 1, 3, 1, 1, 1, 1, 1, 6, 4, 6, 4, 1, 5, 5, 2, 8, 2, 1, 36, 3, 4, 4, 14, 4, 20, 3, 7, 2, 9, 3, 13, 1, 1, 3, 3, 4, 11, 3, 10, 1, 5, 12, 2, 1, 14, 2, 1, 1, 9, 16, 11, 24, 5, 3, 1, 8, 2, 1, 3, 1, 4, 2, 8, 35, 1, 4, 2, 2, 2, 1, 7, 2, 2, 2, 8, 7, 2, 1, 3, 13, 1, 1, 6, 11, 4, 8, 13, 9, 3, 1, 2, 9, 1, 7, 28, 4, 15, 4, 3, 5, 2, 30, 6, 3, 1, 28, 1, 4, 2, 2, 1, 5, 1, 1, 1, 2, 4, 3, 5, 2, 8, 5, 3, 3, 25, 11, 1, 1, 2, 1, 5, 3, 2, 4, 2, 6, 4, 8, 2, 2, 2, 9, 14, 2, 3, 5, 1, 1, 1, 1, 3, 13, 2, 12, 5, 3, 1, 13, 11, 18, 4, 5, 20, 3, 3, 19, 53, 3, 1, 14, 4, 1, 4, 1, 1, 4, 14, 1, 3, 2, 2, 1, 7, 1, 1, 1, 1, 2, 20, 3, 2, 4, 6, 2, 2, 3, 1, 1, 6, 3, 1, 1, 5, 1, 8, 2, 14, 7, 6, 1, 5, 9, 1, 1, 3, 5, 12, 15, 20, 4, 4, 5, 4, 15, 2, 16, 6, 3, 9, 5, 3, 1, 7, 3, 3, 1, 4, 6, 3, 8, 1, 12, 4, 6, 1, 3, 1, 9, 3, 8, 2, 15, 2, 3, 5, 4, 7, 10, 2, 1, 11, 4, 5, 11, 22, 2, 1, 1, 1, 1, 4, 1, 1, 1, 12, 5, 1, 1, 5, 1, 2, 3, 3, 13, 8, 3, 1, 8, 1, 2, 5, 1, 6, 1, 3, 9, 16, 3, 1, 15, 9, 20, 5, 1, 1, 2, 1, 2, 2, 5, 2, 4, 3, 1, 1, 1, 1, 1, 4, 2, 2, 1, 2, 10, 12, 2, 1, 1, 4, 20, 1, 3, 1, 2, 12, 1, 1, 3, 1, 7, 23, 19, 12, 20, 1, 2, 2, 1, 2, 13, 1, 5, 5, 2, 15, 50, 5, 1, 2, 4, 9, 6, 4, 2, 2, 1, 2, 3, 3, 4, 9, 3, 1, 2, 6, 3, 2, 1, 3, 6, 2, 1, 2, 20, 1, 1, 7, 14, 3, 1, 7, 7, 1, 42, 5, 2, 9, 25, 3, 2, 1, 7, 1, 4, 8, 21, 1, 2, 3, 5, 3, 10, 2, 21, 1, 2, 5, 4, 17, 1, 3, 25, 1, 4, 1, 2, 8, 7, 19, 1, 8, 6, 2, 1, 4, 31, 9, 9, 14, 2, 1, 7, 2, 17, 8, 1, 2, 3, 3, 1, 6, 1, 1, 2, 4, 33, 2, 12, 1, 8, 6, 4, 1, 2, 1, 8, 20, 6, 1, 12, 8, 4, 8, 4, 2, 1, 2, 3, 2, 1, 2, 3, 4, 2, 2, 7, 1, 15, 2, 3, 1, 4, 1, 1, 2, 3, 1, 41, 7, 6, 8, 54, 13, 1, 4, 2, 2, 13, 44, 1, 1, 2, 4, 3, 3, 3, 11, 2, 1, 2, 1, 3, 2, 1, 5, 3, 3, 1, 7, 67, 2, 2, 1, 3, 7, 2, 5, 9, 2, 8, 2, 1, 2, 3, 3, 5, 5, 7, 2, 6, 1, 5, 1, 14, 10, 6, 4, 5, 1, 3, 2, 8, 11, 4, 1, 1, 1, 1, 3, 1, 2, 2, 1, 1, 4, 14, 1, 1, 1, 29, 2, 2, 2, 4, 1, 2, 3, 15, 3, 4, 7, 1, 2, 1, 1, 1, 15, 1, 1, 4, 14, 4, 1, 12, 1, 1, 1, 11, 3, 2, 1, 10, 2, 9, 1, 1, 1, 1, 1, 1, 1, 4, 3, 6, 13, 5, 1, 6, 1, 2, 1, 2, 2, 10, 3, 13, 1, 4, 4, 5, 3, 3, 3, 3, 4, 5, 9, 11, 3, 16, 5, 16, 14, 6, 2, 15, 21, 18, 1, 1, 4, 11, 6, 1, 3, 1, 2, 2, 2, 6, 29, 20, 2, 2, 8, 1, 2, 2, 5, 1, 1, 2, 6, 1, 2, 20, 3, 7, 11, 1, 1, 5, 1, 1, 2, 6, 5, 2, 1, 2, 2, 10, 6, 37, 33, 5, 4, 1, 2, 2, 2, 2, 2, 9, 2, 1, 3, 1, 11, 4, 4, 1, 1, 3, 9, 3, 6, 1, 1, 4, 3, 1, 2, 4, 1, 5, 3, 7, 7, 21, 12, 3, 9, 4, 1, 1, 4, 1, 1, 1, 4, 1, 4, 2, 24, 24, 2, 1, 2, 5, 2, 1, 3, 2, 14, 1, 1, 4, 7, 3, 4, 10, 4, 1, 1, 2, 9, 2, 1, 2, 3, 1, 5, 7, 3, 5, 3, 9, 1, 2, 5, 10, 8, 1, 7, 4, 6, 5, 1, 2, 1, 1, 4, 4, 8, 6, 3, 2, 6, 5, 1, 6, 2, 1, 3, 3, 5, 5, 8, 7, 1, 2, 2, 2, 1, 4, 8, 3, 28, 2, 1, 10, 1, 1, 10, 1, 6, 2, 1, 1, 1, 11, 7, 1, 3, 3, 4, 9, 1, 1, 1, 1, 1, 3, 8, 2, 4, 4, 6, 1, 13, 3, 1, 1, 1, 1, 5, 15, 1, 6, 1, 7, 2, 7, 4, 7, 2, 2, 11, 3, 1, 1, 1, 13, 10, 1, 1, 1, 15, 1, 1, 3, 1, 5, 1, 1, 7, 5, 6, 2, 1, 2, 1, 2, 6, 1, 2, 4, 1, 11, 1, 1, 4, 1, 5, 7, 1, 3, 5, 3, 5, 7, 4, 2, 2, 1, 1, 5, 3, 2, 1, 5, 1, 3, 2, 3, 1, 3, 3, 29, 3, 3, 6, 1, 2, 3, 1, 3, 11, 4, 1, 2, 1, 1, 6, 11, 2, 2, 1, 1, 1, 1, 1, 4, 1, 2, 4, 1, 3, 35, 6, 1, 1, 1, 2, 1, 1, 1, 3, 1, 1, 13, 1, 23, 9, 5, 1, 2, 1, 1, 9, 8, 5, 3, 1, 1, 5, 1, 4, 1, 2, 1, 1, 3, 7, 2, 2, 2, 2, 4, 2, 5, 1, 4, 4, 3, 12, 9, 2, 4, 4, 2, 7, 5, 4, 2, 7, 1, 2, 6, 1, 1, 12, 1, 1, 3, 4, 3, 5, 2, 3, 5, 4, 4, 2, 5, 2, 2, 1, 2, 1, 1, 1, 1, 5, 3, 1, 1, 1, 2, 3, 1, 3, 1, 4, 17, 4, 1, 4, 4, 7, 4, 1, 1, 2, 5, 16, 1, 15, 23, 9, 1, 1, 6, 2, 2, 1, 1, 2, 3, 2, 1, 1, 1, 1, 1, 6, 1, 1, 5, 2, 2, 3, 1, 4, 1, 1, 2, 3, 3, 3, 12, 2, 1, 5, 87, 5, 3, 1, 1, 24, 20, 16, 2, 2, 2, 1, 7, 1, 1, 1, 1, 10, 4, 10, 2, 2, 1, 4, 2, 1, 1, 5, 3, 1, 6, 1, 3, 3, 2, 2, 4, 6, 2, 2, 3, 4, 1, 3, 4, 9, 1, 4, 2, 1, 1, 1, 1, 1, 1, 1, 4, 6, 3, 1, 1, 1, 3, 90, 1, 2, 5, 1, 1, 1, 3, 3, 1, 1, 2, 5, 1, 1, 22, 3, 4, 1, 1, 1, 4, 1, 11, 2, 1, 1, 5, 2, 1, 2, 2, 1, 1, 2, 1, 3, 2, 2, 13, 2, 1, 1, 1, 9, 5, 1, 1, 2, 4, 1, 2, 1, 1, 6, 2, 4, 2, 7, 1, 7, 1, 12, 1, 4, 9, 2, 1, 1, 4, 8, 4, 1, 1, 1, 5, 1, 11, 1, 2, 4, 1, 1, 2, 2, 5, 1, 1, 4, 3, 1, 5, 1, 1, 1, 1, 2, 2, 12, 15, 1, 1, 3, 2, 1, 1, 1, 8, 1, 1, 1, 1, 1, 2, 2, 4, 2, 1, 2, 1, 5, 4, 1, 2, 1, 1, 1, 6, 1, 2, 3, 1, 7, 1, 6, 1, 6, 6, 1, 1, 1, 1, 2, 1, 1, 1, 4, 2, 15, 1, 1, 4, 6, 6, 6, 1, 3, 1, 1, 1, 206, 3, 4, 4, 2, 1, 7, 6, 1, 8, 4, 3, 2, 16, 13, 1, 1, 2, 1, 1, 5, 2, 10, 2, 1, 39, 5, 11, 4, 2, 5, 2, 1, 5, 3, 13, 12, 5, 6, 4, 1, 5, 6, 3, 2, 3, 3, 1, 1, 1, 1, 1, 3, 5, 7, 2, 3, 2, 1, 1, 1, 8, 3, 1, 2, 1, 1, 65, 6, 6, 1, 1, 6, 1, 1, 1, 2, 1, 1, 1, 5, 49, 6, 4, 2, 6, 10, 3, 6, 3, 2, 2, 6, 5, 3, 1, 1, 2, 1, 1, 1, 2, 4, 4, 5, 1, 3, 9, 14, 10, 2, 2, 1, 2, 3, 4, 1, 30, 11, 4, 1, 12, 1, 2, 3, 2, 1, 4, 1, 1, 2, 1, 8, 1, 1, 2, 2, 1, 2, 5, 3, 2, 2, 3, 1, 15, 2, 9, 2, 9, 6, 1, 1, 4, 1, 4, 1, 1, 5, 1, 1, 2, 2, 3, 1, 1, 2, 4, 1, 3, 2, 1, 4, 3, 1, 1, 3, 1, 1, 10, 4, 1, 1, 9, 1, 6, 5, 5, 1, 7, 1, 4, 1, 7, 3, 2, 1, 1, 4, 1, 1, 9, 8, 2, 4, 17, 4, 1, 1, 4, 3, 2, 1, 4, 1, 1, 1, 1, 5, 2, 1, 1, 2, 2, 1, 4, 2, 2, 1, 1, 1, 1, 3, 1, 9, 1, 2, 1, 6, 1, 4, 8, 1, 1, 1, 13, 2, 5, 21, 15, 1, 7, 1, 1, 1, 1, 1, 4, 5, 1, 1, 5, 3, 1, 1, 1, 4, 4, 10, 1, 1, 5, 3, 1, 1, 2, 17, 1, 1, 4, 5, 7, 5, 1, 2, 1, 3, 2, 7, 3, 1, 3, 1, 2, 2, 2, 4, 9, 1, 13, 2, 2, 1, 2, 11, 4, 2, 1, 3, 1, 2, 1, 1, 1, 1, 1, 3, 2, 1, 6, 7, 25, 3, 1, 3, 1, 1, 2, 3, 2, 2, 3, 1, 1, 17, 7, 1, 1, 5, 10, 2, 1, 3, 1, 1, 3, 4, 1, 1, 2, 3, 11, 3, 1, 3, 1, 3, 2, 1, 2, 12, 1, 1, 2, 1, 1, 3, 1, 1, 1, 2, 2, 2, 4, 2, 1, 4, 8, 2, 1, 1, 6, 9, 1, 5, 30, 2, 6, 7, 2, 3, 2, 2, 1, 3, 14, 4, 5, 1, 3, 3, 13, 15, 1, 1, 1, 5, 3, 5, 4, 2, 5, 2, 3, 4, 11, 3, 13, 1, 3, 2, 10, 1, 2, 3, 3, 2, 2, 1, 4, 1, 1, 4, 2, 1, 1, 1, 1, 1, 3, 1, 1, 1, 2, 3, 3, 2, 1, 1, 2, 1, 1, 1, 2, 2, 1, 1, 1, 2, 2, 5, 5, 1, 1, 11, 1, 1, 1, 1, 1, 1, 2, 3, 2, 1, 4, 2, 1, 3, 1, 7, 1, 2, 5, 2, 1, 10, 4, 1, 10, 2, 1, 1, 1, 2, 3, 7, 2, 13, 1, 4, 5, 3, 10, 7, 1, 14, 2, 2, 2, 3, 3, 2, 2, 3, 7, 3, 1, 1, 1, 6, 1, 1, 1, 5, 8, 2, 1, 2, 7, 1, 3, 1, 1, 1, 2, 3, 7, 1, 1, 1, 1, 1, 3, 3, 7, 1, 4, 4, 2, 5, 2, 2, 1, 1, 1, 1, 1, 2, 2, 6, 4, 5, 1, 1, 1, 7, 1, 2, 3, 2, 2, 6, 1, 4, 2, 4, 6, 1, 1, 6, 4, 3, 1, 7, 1, 1, 1, 2, 1, 1, 1, 1, 1, 7, 5, 6, 2, 7, 3, 2, 5, 3, 1, 2, 3, 3, 1, 1, 6, 3, 2, 2, 6, 1, 2, 4, 1, 2, 1, 6, 4, 1, 1, 4, 1, 2, 3, 9, 1, 1, 1, 3, 6, 3, 3, 2, 1, 2, 3, 1, 1, 1, 2, 1, 1, 6, 3, 11, 1, 1, 1, 1, 5, 1, 1, 2, 3, 1, 1, 2, 4, 2, 1, 1, 3, 1, 1, 2, 1, 5, 1, 6, 2, 1, 2, 6, 1, 2, 1, 1, 11, 8, 4, 7, 6, 1, 1, 2, 45, 1, 4, 2, 1, 3, 2, 2, 2, 6, 7, 1, 4, 4, 1, 1, 1, 1, 4, 1, 39, 3, 4, 1, 1, 1, 2, 3, 1, 22, 4, 1, 1, 3, 2, 1, 2, 4, 1, 3, 1, 4, 1, 1, 5, 1, 2, 8, 1, 2, 19, 2, 1, 1, 5, 1, 3, 1, 3, 7, 1, 1, 1, 2, 4, 1, 10, 29, 3, 6, 1, 3, 9, 7, 2, 1, 10, 9, 4, 1, 1, 1, 1, 10, 1, 1, 5, 2, 4, 3, 3, 1, 4, 1, 1, 1, 1, 9, 1, 1, 2, 2, 2, 4, 15, 1, 3, 2, 1, 2, 1, 1, 2, 1, 2, 4, 1, 5, 2, 1, 1, 2, 12, 11, 1, 1, 1, 1, 1, 10, 12, 3, 4, 1, 1, 1, 1, 12, 1, 1, 1, 3, 1, 2, 7, 6, 1, 1, 4, 1, 1, 3, 6, 7, 1, 3, 1, 2, 1, 8, 1, 1, 16, 1, 1, 2, 1, 1, 1, 1, 1, 2, 3, 1, 1, 1, 1, 2, 3, 2, 4, 2, 5, 1, 2, 8, 9, 1, 6, 5, 1, 10, 4, 3, 4, 2, 1, 4, 2, 1, 1, 3, 1, 8, 1, 1, 2, 1, 2, 1, 1, 4, 8, 1, 1, 3, 1, 2, 6, 9, 5, 123, 1, 1, 7, 3, 1, 1, 1, 4, 8, 1, 1, 3, 1, 3, 1, 3, 1, 2, 10, 1, 5, 9, 2, 2, 1, 1, 1, 2, 1, 1, 3, 1, 1, 3, 6, 1, 1, 2, 2, 2, 5, 1, 2, 6, 1, 4, 1, 4, 1, 5, 1, 1, 2, 1, 1, 5, 3, 1, 4, 2, 2, 4, 1, 1, 3, 1, 1, 5, 1, 2, 3, 12, 2, 1, 1, 1, 4, 1, 2, 1, 1, 10, 1, 4, 9, 1, 2, 2, 2, 1, 1, 1, 2, 1, 1, 2, 1, 8, 2, 2, 2, 3, 1, 1, 1, 3, 1, 1, 3, 5, 2, 1, 1, 4, 4, 1, 4, 1, 2, 1, 1, 1, 1, 1, 3, 1, 1, 5, 4, 1, 2, 3, 3, 2, 1, 3, 2, 1, 2, 4, 1, 1, 1, 1, 1, 1, 1, 1, 2, 3, 5, 4, 11, 2, 1, 1, 1, 1, 3, 1, 3, 1, 3, 13, 1, 1, 5, 3, 2, 2, 1, 2, 1, 2, 1, 1, 1, 1, 1, 2, 2, 2, 1, 1, 3, 2, 1, 1, 2, 1, 6, 1, 1, 1, 1, 4, 1, 2, 1, 1, 2, 1, 8, 2, 2, 3, 1, 3, 3, 1, 1, 1, 4, 1, 2, 1, 1, 2, 1, 2, 1, 3, 2, 1, 5, 1, 1, 1, 4, 3, 1, 1, 2, 1, 1, 1, 1, 2, 2, 3, 1, 2, 2, 1, 4, 1, 7, 4, 2, 1, 1, 1, 6, 2, 9, 1, 10, 1, 3, 3, 3, 1, 1, 1, 1, 6, 3, 3, 3, 2, 2, 24, 1, 3, 1, 1, 1, 2, 2, 1, 10, 2, 4, 3, 1, 1, 4, 1, 3, 1, 1, 1, 1, 1, 1, 5, 3, 7, 4, 3, 1, 1, 1, 16, 6, 4, 5, 4, 3, 1, 2, 2, 3, 6, 1, 3, 1, 1, 1, 1, 1, 1, 5, 2, 1, 2, 1, 2, 9, 7, 3, 3, 4, 4, 1, 2, 2, 5, 3, 1, 4, 4, 1, 3, 1, 1, 1, 2, 1, 34, 2, 2, 1, 1, 1, 1, 3, 2, 1, 2, 1, 1, 11, 1, 1, 1, 15, 2, 4, 3, 6, 3, 1, 1, 6, 2, 2, 1, 2, 2, 1, 1, 1, 3, 1, 8, 1, 3, 1, 3, 5, 1, 1, 3, 3, 2, 1, 2, 1, 1, 1, 2, 1, 2, 2, 5, 1, 2, 1, 10, 3, 1, 1, 2, 3, 5, 2, 5, 1, 1, 6, 1, 1, 3, 3, 3, 1, 1, 1, 3, 1, 2, 2, 5, 1, 8, 2, 5, 1, 8, 2, 5, 1, 3, 1, 2, 1, 7, 1, 1, 2, 1, 1, 12, 4, 2, 2, 3, 2, 6, 1, 5, 4, 1, 1, 1, 1, 4, 2, 5, 1, 1, 3, 2, 4, 3, 1, 4, 1, 12, 1, 7, 1, 2, 1, 1, 1, 3, 2, 1, 2, 1, 2, 1, 1, 2, 1, 2, 2, 3, 1, 10, 1, 3, 1, 2, 1, 1, 1, 6, 5, 1, 3, 1, 2, 1, 3, 1, 2, 1, 16, 2, 3, 3, 5, 3, 2, 1, 4, 2, 1, 4, 3, 5, 2, 2, 2, 2, 1, 7, 1, 5, 1, 1, 1, 6, 1, 5, 5, 2, 1, 1, 7, 2, 4, 2, 2, 3, 1, 1, 1, 1, 1, 4, 2, 3, 1, 1, 1, 2, 1, 1, 2, 2, 8, 1, 1, 1, 2, 1, 5, 10, 1, 2, 1, 1, 3, 1, 1, 1, 11, 1, 2, 3, 5, 1, 1, 2, 2, 2, 2, 1, 1, 1, 2, 2, 4, 1, 1, 1, 2, 3, 3, 2, 1, 1, 1, 1, 3, 1, 5, 1, 1, 1, 1, 1, 1, 3, 2, 1, 1, 2, 1, 2, 2, 2, 1, 3, 1, 1, 1, 1, 8, 1, 1, 1, 1, 1, 8, 1, 1, 1, 4, 3, 1, 10, 1, 1, 2, 1, 2, 3, 1, 4, 2, 5, 1, 1, 1, 6, 5, 2, 1, 1, 1, 2, 8, 1, 2, 1, 3, 1, 1, 3, 2, 2, 2, 5, 2, 1, 2, 1, 2, 2, 1, 3, 1, 4, 4, 6, 2, 1, 4, 1, 1, 3, 2, 2, 1, 3, 1, 2, 1, 2, 1, 3, 1, 1, 9, 2, 3, 1, 10, 4, 1, 2, 1, 1, 2, 1, 4, 1, 1, 1, 2, 2, 1, 2, 1, 2, 2, 3, 3, 1, 1, 5, 6, 2, 1, 4, 1, 1, 4, 4, 3, 3, 3, 2, 2, 3, 1, 1, 1, 1, 4, 3, 5, 1, 4, 1, 1, 2, 12, 4, 3, 2, 1, 1, 1, 4, 3, 1, 2, 2, 1, 5, 1, 2, 1, 3, 2, 1, 2, 2, 1, 3, 11, 2, 2, 1, 3, 1, 1, 3, 1, 3, 1, 2, 1, 2, 1, 2, 2, 1, 5, 2, 2, 2, 2, 4, 2, 3, 1, 1, 5, 1, 1, 2, 3, 2, 1, 4, 2, 1, 4, 1, 3, 5, 1, 7, 1, 2, 3, 1, 4, 2, 1, 1, 1, 3, 1, 4, 2, 2, 5, 1, 4, 1, 1, 1, 1, 1, 2, 4, 1, 1, 1, 1, 1, 3, 1, 1, 1, 1, 3, 1, 2, 2, 2, 1, 1, 2, 6, 2, 8, 2, 3, 7, 1, 6, 2, 2, 3, 5, 2, 2, 3, 1, 1, 1, 1, 1, 1, 1, 8, 2, 2, 3, 2, 1, 2, 2, 2, 3, 1, 1, 1, 2, 7, 1, 1, 1, 1, 3, 1, 1, 4, 3, 1, 4, 6, 2, 2, 2, 4, 1, 1, 1, 1, 2, 3, 1, 1, 1, 3, 3, 1, 1, 4, 1, 1, 1, 1, 3, 2, 1, 1, 1, 1, 1, 2, 1, 2, 2, 1, 2, 2, 1, 1, 1, 4, 4, 2, 1, 2, 1, 2, 1, 5, 1, 2, 1, 3, 3, 3, 1, 2, 1, 1, 1, 1, 1, 1, 1, 1, 1, 2, 1, 5, 1, 2, 4, 1, 1, 3, 1, 1, 1, 5, 3, 1, 1, 5, 2, 1, 4, 1, 1, 1, 2, 2, 1, 1, 3, 4, 1, 1, 1, 2, 1, 2, 2, 3, 1, 1, 1, 2, 2, 2, 5, 1, 1, 1, 1, 1, 1, 1, 3, 11, 1, 1, 7, 4, 1, 1, 1, 3, 2, 2, 1, 2, 1, 1, 3, 3, 1, 1, 7, 2, 1, 1, 1, 2, 1, 1, 1, 1, 7, 1, 1, 1, 1, 1, 1, 1, 1, 1, 1, 2, 4, 2, 3, 3, 2, 1, 1, 1, 1, 2, 2, 3, 1, 1, 1, 5, 1, 1, 1, 1, 1, 1, 1, 1, 2, 1, 2, 2, 3, 1, 1, 2, 1, 2, 1, 1, 1, 1, 2, 1, 1, 2, 1, 7, 1, 1, 1, 1, 2, 1, 1, 1, 2, 2, 3, 1, 3, 2, 2, 4, 2, 2, 1, 4, 2, 1, 4, 3, 3, 1, 1, 1, 2, 8, 3, 6, 2, 2, 2, 3, 3, 3, 1, 1, 5, 1, 5, 5, 2, 1, 2, 1, 1, 1, 2, 2, 1, 1, 1, 1, 1, 2, 1, 1, 1, 3, 4, 1, 1, 1, 3, 2, 1, 2, 5, 1, 1, 3, 2, 2, 1, 2, 1, 2, 1, 1, 1, 1, 1, 2, 1, 3, 1, 1, 1, 1, 1, 3, 1, 2, 2, 1, 1, 1, 2, 5, 1, 1, 2, 1, 2, 1, 1, 2, 1, 1, 1, 1, 4, 5, 1, 1, 2, 3, 2, 1, 2, 1, 6, 8, 1, 1, 3, 1, 1, 2, 1, 4, 1, 2, 4, 1, 2, 1, 2, 2, 4, 2, 1, 2, 2, 2, 3, 3, 1, 2, 1, 2, 1, 3, 1, 1, 2, 1, 2, 1, 1, 1, 1, 2, 1, 2, 1, 1, 1, 1, 1, 5, 3, 2, 3, 1, 2, 1, 1, 1, 2, 3, 2, 3, 1, 1, 1, 2, 1, 4, 1, 5, 2, 1, 2, 1, 1, 1, 1, 1, 1, 3, 2, 1, 6, 1, 1, 3, 1, 5, 2, 1, 1, 2, 1, 1, 2, 1, 1, 1, 2, 4, 2, 1, 1, 1, 3, 4, 4, 1, 8, 1, 1, 4, 2, 2, 1, 2, 3, 1, 3, 1, 1, 1, 4, 1, 2, 1, 1, 1, 1, 1, 3, 1, 2, 4, 2, 3, 1, 1, 1, 1, 1, 2, 2, 6, 1, 2, 1, 1, 1, 2, 1, 5, 2, 1, 4, 1, 1, 2, 1, 1, 1, 1, 1, 3, 2, 1, 1, 2, 1, 3, 3, 1, 1, 1, 6, 3, 2, 3, 2, 4, 6, 1, 1, 1, 1, 1, 1, 1, 1, 3, 1, 1, 1, 4, 1, 1, 3, 2, 3, 2, 3, 2, 1, 1, 2, 1, 1, 2, 7, 1, 1, 1, 4, 3, 1, 5, 1, 1, 1, 1, 1, 1, 2, 4, 2, 12, 1, 1, 2, 2, 1, 1, 2, 4, 2, 1, 3, 1, 4, 2, 1, 4, 3, 1, 1, 1, 2, 2, 1, 1, 1, 1, 1, 2, 2, 2, 3, 1, 3, 2, 3, 1, 2, 1, 1, 3, 1, 1, 3, 1, 2, 2, 1, 3, 6, 5, 4, 13, 2, 1, 5, 4, 2, 1, 1, 1, 1, 4, 1, 1, 1, 1, 1, 1, 1, 1, 1, 1, 1, 1, 2, 1, 2, 1, 3, 3, 1, 3, 2, 1, 1, 2, 1, 2, 1, 4, 1, 1, 3, 1, 1, 3, 1, 1, 1, 1, 10, 2, 3, 1, 1, 1, 3, 1, 1, 1, 5, 1, 1, 1, 3, 1, 5, 5, 1, 6, 2, 1, 1, 1, 4, 2, 2, 1, 1, 1, 1, 3, 6, 2, 1, 1, 1, 1, 1, 1, 2, 2, 1, 1, 2, 1, 1, 1, 1, 4, 4, 1, 1, 6, 2, 2, 1, 4, 1, 1, 1, 1, 1, 1, 1, 2, 1, 1, 1, 1, 2, 1, 1, 2, 1, 3, 2, 1, 3, 4, 1, 3, 2, 1, 12, 1, 1, 1, 4, 1, 1, 1, 1, 1, 2, 2, 2, 1, 2, 4, 1, 1, 1, 1, 5, 3, 1, 1, 2, 1, 5, 4, 1, 1, 2, 1, 3, 3, 1, 1, 3, 1, 2, 1, 1, 1, 3, 1, 3, 1, 1, 1, 1, 2, 4, 2, 2, 1, 1, 2, 2, 1, 2, 1, 3, 2, 2, 2, 1, 1, 1, 2, 1, 1, 1, 1, 1, 1, 2, 1, 1, 1, 1, 1, 1, 1, 1, 1, 4, 1, 1, 1, 1, 2, 1, 2, 3, 2, 1, 2, 2, 1, 1, 3, 1, 3, 1, 1, 1, 5, 1, 1, 3, 1, 1, 1, 1, 1, 1, 4, 2, 4, 1, 4, 1, 4, 5, 1, 1, 5, 1, 2, 2, 1, 2, 2, 1, 1, 1, 1, 1, 1, 1, 2, 1, 3, 4, 1, 1, 2, 1, 1, 4, 1, 1, 1, 1, 1, 1, 1, 1, 4, 1, 1, 1, 1, 2, 2, 3, 1, 1, 1, 1, 1, 1, 1, 1, 1, 1, 1, 2, 1, 1, 1, 1, 1, 1, 1, 1, 1, 3, 1, 1, 6, 4, 1, 2, 1, 1, 3, 3, 2, 2, 1, 1, 1, 1, 3, 1, 2, 2, 3, 2, 1, 1, 1, 2, 1, 2, 4, 1, 2, 1, 7, 2, 1, 2, 2, 2, 10, 1, 1, 1, 13, 1, 2, 1, 1, 1, 1, 1, 1, 2, 3, 2, 1, 1, 1, 3, 1, 2, 2, 2, 2, 2, 2, 1, 2, 1, 1, 2, 1, 1, 1, 3, 3, 1, 1, 2, 2, 1, 4, 1, 1, 1, 1, 2, 2, 1, 3, 2, 2, 1, 2, 3, 1, 1, 2, 1, 3, 1, 1, 1, 1, 2, 2, 1, 10, 1, 1, 2, 1, 2, 1, 1, 1, 2, 1, 1, 1, 1, 1, 1, 1, 1, 1, 2, 1, 1, 1, 2, 6, 6, 3, 1, 2, 2, 1, 2, 2, 3, 2, 1, 1, 1, 1, 2, 1, 1, 1, 1, 1, 1, 2, 1, 1, 1, 1, 1, 1, 2, 1, 1, 1, 1, 4, 2, 2, 6, 1, 4, 2, 3, 1, 1, 1, 1, 2, 1, 1, 2, 1, 1, 2, 1, 1, 1, 8, 1, 1, 3, 2, 1, 4, 1, 1, 2, 3, 1, 1, 1, 5, 1, 1, 5, 1, 1, 1, 1, 1, 1, 1, 1, 1, 3, 1, 1, 1, 1, 1, 2, 1, 2, 1, 3, 2, 1, 3, 1, 1, 1, 1, 1, 1, 1, 1, 1, 1, 1, 1, 2, 1, 3, 2, 3, 2, 5, 3, 3, 2, 2, 1, 1, 1, 3, 1, 1, 1, 1, 1, 1, 5, 1, 1, 1, 1, 1, 1, 1, 1, 1, 2, 2, 1, 1, 2, 2, 1, 1, 1, 1, 1, 1, 1, 7, 1, 1, 1, 1, 1, 2, 1, 2, 1, 2, 1, 1, 1, 1, 2, 1, 1, 3, 1, 4, 3, 1, 1, 2, 1, 1, 1, 1, 10, 2, 1, 1, 1, 1, 1, 1, 1, 2, 2, 1, 1, 3, 1, 1, 4, 1, 1, 4, 2, 1, 1, 1, 2, 1, 1, 3, 1, 1, 1, 2, 3, 2, 2, 1, 1, 1, 4, 1, 2, 1, 1, 1, 1, 3, 2, 1, 1, 1, 1, 1, 1, 1, 1, 1, 2, 1, 1, 1, 3, 1, 1, 1, 5, 2, 1, 1, 1, 2, 1, 1, 1, 1, 1, 1, 2, 3, 2, 1, 4, 1, 2, 1, 1, 1, 2, 1, 1, 1, 1, 1, 1, 1, 1, 3, 1, 1, 2, 1, 2, 1, 1, 2, 1, 2, 1, 1, 3, 1, 1, 1, 2, 1, 3, 1, 1, 1, 1, 1, 3, 2, 1, 1, 1, 1, 1, 4, 1, 1, 1, 2, 3, 2, 2, 1, 1, 1, 1, 1, 2, 1, 1, 1, 5, 2, 2, 1, 1, 1, 1, 1, 1, 1, 2, 1, 2, 1, 1, 2, 2, 1, 1, 1, 2, 1, 1, 7, 2, 5, 2, 2, 1, 1, 3, 1, 1, 1, 1, 1, 1, 2, 1, 1, 16, 1, 3, 1, 2, 1, 1, 1, 1, 1, 3, 1, 3, 1, 2, 1, 1, 1, 1, 2, 2, 1, 1, 3, 1, 1, 1, 1, 1, 4, 2, 1, 1, 2, 1, 2, 1, 1, 1, 1, 1, 1, 1, 2, 1, 1, 1, 1, 1, 1, 1, 1, 1, 1, 2, 2, 1, 6, 6, 2, 3, 1, 1, 1, 1, 1, 2, 1, 1, 1, 1, 1, 1, 1, 1, 1, 1, 1, 2, 1, 1, 1, 1, 2, 1, 1, 2, 1, 1, 1, 1, 1, 1, 2, 1, 1, 4, 1, 1, 1, 1, 1, 1, 1, 2, 2, 1, 2, 2, 2, 1, 2, 1, 1, 1, 1, 1, 1, 2, 1, 2, 2, 1, 1, 1, 1, 1, 6, 1, 1, 3, 1, 1, 3, 1, 1, 1, 1, 1, 2, 1, 1, 1, 1, 1, 1, 1, 1, 1, 1, 2, 1, 1, 2, 4, 2, 1, 1, 1, 1, 1, 1, 3, 1, 1, 1, 1, 1, 1, 1, 1, 2, 1, 1, 1, 1, 2, 1, 4, 4, 1, 1, 1, 1, 1, 1, 1, 1, 1, 3, 1, 1, 1, 1, 1, 1, 1, 1, 1, 1, 1, 1, 1, 1, 1, 1, 3, 1, 1, 1, 1, 1, 2, 1, 1, 1, 1, 1, 1, 1, 2, 1, 1, 3, 2, 1, 1, 2, 1, 2, 1, 1, 1, 1, 1, 1, 1, 1, 1, 2, 2, 1, 1, 4, 1, 1, 1, 1, 1, 1, 1, 3, 1, 1, 1, 1, 1, 2, 1, 1, 1, 1, 1, 2, 1, 4, 1, 2, 1, 3, 1, 2, 1, 1, 1, 1, 1, 1, 2, 1, 1, 1, 1, 6, 1, 1, 1, 1, 1, 1, 1, 2, 1, 1, 1, 1, 1, 1, 1, 1, 1, 2, 2, 1, 1, 2, 1, 1, 3, 1, 1, 1, 1, 1, 1, 1, 1, 1, 6, 1, 1, 1, 1, 1, 2, 2, 1, 1, 2, 2, 1, 1, 2, 1, 1, 1, 1, 1, 1, 2, 1, 1, 1, 3, 1, 1, 1, 2, 1, 1, 1, 2, 1, 1, 7, 1, 1, 1, 1, 1, 1, 1, 1, 1, 1, 3, 1, 1, 3, 1, 1, 1, 1, 1, 1, 1, 2, 1, 3, 1, 1, 1, 1, 5, 1, 1, 1, 1, 1, 2, 1, 1, 1, 4, 2, 1, 1, 2, 1, 1, 2, 1, 1, 1, 2, 1, 1, 1, 1, 1, 4, 2, 1, 1, 1, 3, 1, 1, 1, 1, 1, 1, 1, 2, 1, 1, 1, 1, 2, 1, 1, 1, 1, 1, 1, 1, 1, 1, 1, 1, 2, 2, 1, 1, 1, 1, 1, 1, 1, 1, 1, 1, 1, 1, 1, 1, 1, 5, 1, 2, 1, 1, 2, 1, 1, 1, 1, 1, 2, 1, 1, 1, 1, 1, 1, 1, 1, 2, 1, 1, 1, 1, 1, 1, 3, 1, 2, 1, 1, 1, 1, 1, 1, 1, 1, 1, 1, 1, 1, 1, 1, 1, 1, 1, 1, 1, 1, 1, 1, 1, 1, 1, 1, 5, 1, 1, 1, 1, 1, 1, 1, 1, 1, 1, 1, 1, 1, 2, 1, 1, 1, 1, 1, 2, 1, 1, 1, 1, 1, 1, 1, 1, 2, 1, 1, 1, 1, 1, 1, 2, 9, 2, 1, 1, 1, 1, 1, 3, 2, 1, 1, 1, 1, 1, 1, 1, 1, 3, 1, 1, 1, 1, 1, 1, 1, 1, 1, 1, 1, 17, 3, 2, 1, 2, 2, 1, 1, 1, 3, 2, 1, 3, 2, 1, 1, 1, 1, 1, 1, 1, 2, 1, 1, 1, 1, 1, 1, 1, 1, 2, 1, 1, 1, 1, 1, 2, 1, 3, 1, 1, 2, 1, 1, 1, 2, 1, 1, 3, 2, 1, 1, 3, 1, 1, 1, 1, 1, 1, 1, 3, 1, 2, 2, 1, 1, 1, 4, 1, 1, 1, 1, 1, 1, 1, 1, 1, 1, 1, 1, 1, 1, 3, 1, 10, 1, 1, 1, 5, 1, 3, 2, 1, 1, 2, 2, 1, 1, 1, 1, 1, 2, 1, 1, 1, 1, 3, 1, 1, 1, 2, 2, 1, 1, 1, 1, 1, 1, 1, 1, 2, 1, 1, 1, 1, 1, 1, 1, 2, 1, 1, 1, 1, 2, 1, 1, 1, 1, 1, 1, 1, 2, 1, 1, 1, 1, 7, 1, 1, 1, 1, 1, 1, 1, 1, 1, 2, 1, 1, 1, 1, 1, 1, 1, 1, 1, 3, 1, 1, 1, 1, 1, 1, 5, 1, 2, 1, 1, 1, 1, 1, 1, 1, 1, 1, 1, 1, 1, 1, 1, 1, 1, 1, 1, 1, 1, 2, 1, 1, 1, 1, 2, 1, 1, 1, 1, 1, 2, 1, 1, 1, 1, 1, 1, 1, 1, 1, 2, 1, 1, 1, 1, 1, 1, 1, 1, 1, 1, 1, 1, 1, 1, 1, 1, 1, 1, 1, 1, 1, 1, 1, 2, 1, 1, 1, 1, 1, 1, 1, 1, 1, 1, 1, 1, 1, 1, 1, 2, 1, 1, 1, 1, 1, 1, 1, 1, 1, 1, 1, 1, 3, 1, 1, 1, 1, 1, 2, 1, 1, 1, 1, 1, 1, 1, 1, 1, 1, 1, 1, 1, 1, 1, 3, 1, 1, 2, 1, 1, 1, 1, 2, 1, 1, 1, 1, 1, 1, 1, 1, 4, 1, 1, 1, 1, 1, 1, 1, 1, 2, 1, 2, 1, 2, 1, 1, 1, 1, 4, 1, 1, 1, 1, 1, 2, 1, 1, 1, 1, 1, 1, 1, 2, 1, 1, 1, 1, 1, 2, 2, 1, 2, 1, 1, 2, 1, 1, 1, 1, 1, 1, 1, 1, 1, 2, 1, 1, 1, 1, 1, 1, 1, 1, 1, 1, 1, 1, 1, 1, 1, 1, 1, 1, 1, 1, 1, 1, 1, 1, 1, 1, 1, 1, 1, 1, 1, 1, 1, 1, 1, 1, 2, 1, 1, 1, 2, 1, 1, 1, 1, 1, 1, 1, 1, 2, 2, 1, 2, 1, 1, 1, 1, 1, 2, 1, 1, 1, 1, 1, 1, 1, 1, 1, 1, 1, 1, 1, 1, 2, 1, 1, 1, 1, 1, 1, 1, 1, 1, 1, 1, 1, 1, 1, 1, 1, 1, 1, 2, 1, 1, 1, 2, 1, 1, 2, 2, 8, 1, 1, 4, 1, 1, 4, 2, 14, 6, 2, 4, 7, 57, 27, 2, 11, 2, 7, 1, 3, 3, 1, 1, 2, 4, 6, 6, 2, 7, 2, 1, 1, 10, 10, 3, 11, 13, 8, 1, 4, 4, 4, 2, 2, 5, 4, 1, 1, 1, 2, 1, 1, 4, 3, 2, 1, 1, 2, 4, 1, 2, 4, 4, 1, 4, 3, 4, 1, 1, 1, 1, 1, 1, 1, 1, 1, 2, 2, 4, 3, 1, 1, 1, 2, 1, 1, 3, 1, 1, 3, 1, 4, 3, 1, 6, 1, 15, 1, 2, 1, 1, 11, 5, 3, 2, 2, 6, 2, 1, 1, 1, 1, 1, 5, 1, 1, 1, 1, 1, 3, 1, 1, 2, 1, 1, 2, 3, 2, 3, 1, 3, 1, 1, 1, 1, 1, 1, 1, 1, 2, 2, 1, 3, 1, 1, 1, 1, 3, 1, 1, 1, 1, 1, 1, 1, 1, 1, 1, 1, 1, 1, 1, 1, 2, 2, 2, 1, 1, 1, 1, 2, 1, 1, 1, 1, 1, 1, 1, 1, 2, 1, 1, 2, 1, 1, 1, 1, 1, 2, 1, 1, 1, 3, 1, 1, 1, 1, 1, 1, 1, 1, 1, 1, 1, 1, 1, 1, 1, 1, 2, 1, 1, 1, 1, 1, 1, 1, 1, 1, 1, 1, 1, 1, 1, 1, 1, 1, 1, 1, 1, 1, 1, 1]\n"
     ]
    }
   ],
   "source": [
    "for row in tdm.rows(cutoff=1):\n",
    "            print(row)"
   ]
  },
  {
   "cell_type": "markdown",
   "metadata": {},
   "source": [
    "also see https://stackoverflow.com/questions/15899861/efficient-term-document-matrix-with-nltk"
   ]
  },
  {
   "cell_type": "code",
   "execution_count": 24,
   "metadata": {},
   "outputs": [
    {
     "data": {
      "text/plain": [
       "list"
      ]
     },
     "execution_count": 24,
     "metadata": {},
     "output_type": "execute_result"
    }
   ],
   "source": [
    "type(row)"
   ]
  },
  {
   "cell_type": "code",
   "execution_count": 23,
   "metadata": {},
   "outputs": [
    {
     "data": {
      "text/plain": [
       "[93, 93, 10, 3928, 56, 7042, 9, 585, 4]"
      ]
     },
     "execution_count": 23,
     "metadata": {},
     "output_type": "execute_result"
    }
   ],
   "source": [
    "row[1:10]"
   ]
  },
  {
   "cell_type": "code",
   "execution_count": 29,
   "metadata": {},
   "outputs": [
    {
     "ename": "MemoryError",
     "evalue": "",
     "output_type": "error",
     "traceback": [
      "\u001b[1;31m---------------------------------------------------------------------------\u001b[0m",
      "\u001b[1;31mMemoryError\u001b[0m                               Traceback (most recent call last)",
      "\u001b[1;32m<ipython-input-29-83a8fc86634b>\u001b[0m in \u001b[0;36m<module>\u001b[1;34m()\u001b[0m\n\u001b[0;32m      5\u001b[0m \u001b[0mvec\u001b[0m \u001b[1;33m=\u001b[0m \u001b[0mCountVectorizer\u001b[0m\u001b[1;33m(\u001b[0m\u001b[1;33m)\u001b[0m\u001b[1;33m\u001b[0m\u001b[0m\n\u001b[0;32m      6\u001b[0m \u001b[0mX\u001b[0m \u001b[1;33m=\u001b[0m \u001b[0mvec\u001b[0m\u001b[1;33m.\u001b[0m\u001b[0mfit_transform\u001b[0m\u001b[1;33m(\u001b[0m\u001b[0mtokens\u001b[0m\u001b[1;33m)\u001b[0m\u001b[1;33m\u001b[0m\u001b[0m\n\u001b[1;32m----> 7\u001b[1;33m \u001b[0mdf\u001b[0m \u001b[1;33m=\u001b[0m \u001b[0mpd\u001b[0m\u001b[1;33m.\u001b[0m\u001b[0mDataFrame\u001b[0m\u001b[1;33m(\u001b[0m\u001b[0mX\u001b[0m\u001b[1;33m.\u001b[0m\u001b[0mtoarray\u001b[0m\u001b[1;33m(\u001b[0m\u001b[1;33m)\u001b[0m\u001b[1;33m,\u001b[0m \u001b[0mcolumns\u001b[0m\u001b[1;33m=\u001b[0m\u001b[0mvec\u001b[0m\u001b[1;33m.\u001b[0m\u001b[0mget_feature_names\u001b[0m\u001b[1;33m(\u001b[0m\u001b[1;33m)\u001b[0m\u001b[1;33m)\u001b[0m\u001b[1;33m\u001b[0m\u001b[0m\n\u001b[0m\u001b[0;32m      8\u001b[0m \u001b[0mprint\u001b[0m\u001b[1;33m(\u001b[0m\u001b[0mdf\u001b[0m\u001b[1;33m)\u001b[0m\u001b[1;33m\u001b[0m\u001b[0m\n",
      "\u001b[1;32mC:\\Users\\KOGENTIX\\Anaconda3\\lib\\site-packages\\scipy\\sparse\\compressed.py\u001b[0m in \u001b[0;36mtoarray\u001b[1;34m(self, order, out)\u001b[0m\n\u001b[0;32m    962\u001b[0m     \u001b[1;32mdef\u001b[0m \u001b[0mtoarray\u001b[0m\u001b[1;33m(\u001b[0m\u001b[0mself\u001b[0m\u001b[1;33m,\u001b[0m \u001b[0morder\u001b[0m\u001b[1;33m=\u001b[0m\u001b[1;32mNone\u001b[0m\u001b[1;33m,\u001b[0m \u001b[0mout\u001b[0m\u001b[1;33m=\u001b[0m\u001b[1;32mNone\u001b[0m\u001b[1;33m)\u001b[0m\u001b[1;33m:\u001b[0m\u001b[1;33m\u001b[0m\u001b[0m\n\u001b[0;32m    963\u001b[0m         \u001b[1;34m\"\"\"See the docstring for `spmatrix.toarray`.\"\"\"\u001b[0m\u001b[1;33m\u001b[0m\u001b[0m\n\u001b[1;32m--> 964\u001b[1;33m         \u001b[1;32mreturn\u001b[0m \u001b[0mself\u001b[0m\u001b[1;33m.\u001b[0m\u001b[0mtocoo\u001b[0m\u001b[1;33m(\u001b[0m\u001b[0mcopy\u001b[0m\u001b[1;33m=\u001b[0m\u001b[1;32mFalse\u001b[0m\u001b[1;33m)\u001b[0m\u001b[1;33m.\u001b[0m\u001b[0mtoarray\u001b[0m\u001b[1;33m(\u001b[0m\u001b[0morder\u001b[0m\u001b[1;33m=\u001b[0m\u001b[0morder\u001b[0m\u001b[1;33m,\u001b[0m \u001b[0mout\u001b[0m\u001b[1;33m=\u001b[0m\u001b[0mout\u001b[0m\u001b[1;33m)\u001b[0m\u001b[1;33m\u001b[0m\u001b[0m\n\u001b[0m\u001b[0;32m    965\u001b[0m \u001b[1;33m\u001b[0m\u001b[0m\n\u001b[0;32m    966\u001b[0m     \u001b[1;31m##############################################################\u001b[0m\u001b[1;33m\u001b[0m\u001b[1;33m\u001b[0m\u001b[0m\n",
      "\u001b[1;32mC:\\Users\\KOGENTIX\\Anaconda3\\lib\\site-packages\\scipy\\sparse\\coo.py\u001b[0m in \u001b[0;36mtoarray\u001b[1;34m(self, order, out)\u001b[0m\n\u001b[0;32m    250\u001b[0m     \u001b[1;32mdef\u001b[0m \u001b[0mtoarray\u001b[0m\u001b[1;33m(\u001b[0m\u001b[0mself\u001b[0m\u001b[1;33m,\u001b[0m \u001b[0morder\u001b[0m\u001b[1;33m=\u001b[0m\u001b[1;32mNone\u001b[0m\u001b[1;33m,\u001b[0m \u001b[0mout\u001b[0m\u001b[1;33m=\u001b[0m\u001b[1;32mNone\u001b[0m\u001b[1;33m)\u001b[0m\u001b[1;33m:\u001b[0m\u001b[1;33m\u001b[0m\u001b[0m\n\u001b[0;32m    251\u001b[0m         \u001b[1;34m\"\"\"See the docstring for `spmatrix.toarray`.\"\"\"\u001b[0m\u001b[1;33m\u001b[0m\u001b[0m\n\u001b[1;32m--> 252\u001b[1;33m         \u001b[0mB\u001b[0m \u001b[1;33m=\u001b[0m \u001b[0mself\u001b[0m\u001b[1;33m.\u001b[0m\u001b[0m_process_toarray_args\u001b[0m\u001b[1;33m(\u001b[0m\u001b[0morder\u001b[0m\u001b[1;33m,\u001b[0m \u001b[0mout\u001b[0m\u001b[1;33m)\u001b[0m\u001b[1;33m\u001b[0m\u001b[0m\n\u001b[0m\u001b[0;32m    253\u001b[0m         \u001b[0mfortran\u001b[0m \u001b[1;33m=\u001b[0m \u001b[0mint\u001b[0m\u001b[1;33m(\u001b[0m\u001b[0mB\u001b[0m\u001b[1;33m.\u001b[0m\u001b[0mflags\u001b[0m\u001b[1;33m.\u001b[0m\u001b[0mf_contiguous\u001b[0m\u001b[1;33m)\u001b[0m\u001b[1;33m\u001b[0m\u001b[0m\n\u001b[0;32m    254\u001b[0m         \u001b[1;32mif\u001b[0m \u001b[1;32mnot\u001b[0m \u001b[0mfortran\u001b[0m \u001b[1;32mand\u001b[0m \u001b[1;32mnot\u001b[0m \u001b[0mB\u001b[0m\u001b[1;33m.\u001b[0m\u001b[0mflags\u001b[0m\u001b[1;33m.\u001b[0m\u001b[0mc_contiguous\u001b[0m\u001b[1;33m:\u001b[0m\u001b[1;33m\u001b[0m\u001b[0m\n",
      "\u001b[1;32mC:\\Users\\KOGENTIX\\Anaconda3\\lib\\site-packages\\scipy\\sparse\\base.py\u001b[0m in \u001b[0;36m_process_toarray_args\u001b[1;34m(self, order, out)\u001b[0m\n\u001b[0;32m   1037\u001b[0m             \u001b[1;32mreturn\u001b[0m \u001b[0mout\u001b[0m\u001b[1;33m\u001b[0m\u001b[0m\n\u001b[0;32m   1038\u001b[0m         \u001b[1;32melse\u001b[0m\u001b[1;33m:\u001b[0m\u001b[1;33m\u001b[0m\u001b[0m\n\u001b[1;32m-> 1039\u001b[1;33m             \u001b[1;32mreturn\u001b[0m \u001b[0mnp\u001b[0m\u001b[1;33m.\u001b[0m\u001b[0mzeros\u001b[0m\u001b[1;33m(\u001b[0m\u001b[0mself\u001b[0m\u001b[1;33m.\u001b[0m\u001b[0mshape\u001b[0m\u001b[1;33m,\u001b[0m \u001b[0mdtype\u001b[0m\u001b[1;33m=\u001b[0m\u001b[0mself\u001b[0m\u001b[1;33m.\u001b[0m\u001b[0mdtype\u001b[0m\u001b[1;33m,\u001b[0m \u001b[0morder\u001b[0m\u001b[1;33m=\u001b[0m\u001b[0morder\u001b[0m\u001b[1;33m)\u001b[0m\u001b[1;33m\u001b[0m\u001b[0m\n\u001b[0m\u001b[0;32m   1040\u001b[0m \u001b[1;33m\u001b[0m\u001b[0m\n\u001b[0;32m   1041\u001b[0m     \u001b[1;32mdef\u001b[0m \u001b[0m__numpy_ufunc__\u001b[0m\u001b[1;33m(\u001b[0m\u001b[0mself\u001b[0m\u001b[1;33m,\u001b[0m \u001b[0mfunc\u001b[0m\u001b[1;33m,\u001b[0m \u001b[0mmethod\u001b[0m\u001b[1;33m,\u001b[0m \u001b[0mpos\u001b[0m\u001b[1;33m,\u001b[0m \u001b[0minputs\u001b[0m\u001b[1;33m,\u001b[0m \u001b[1;33m**\u001b[0m\u001b[0mkwargs\u001b[0m\u001b[1;33m)\u001b[0m\u001b[1;33m:\u001b[0m\u001b[1;33m\u001b[0m\u001b[0m\n",
      "\u001b[1;31mMemoryError\u001b[0m: "
     ]
    }
   ],
   "source": [
    "import pandas as pd\n",
    "from sklearn.feature_extraction.text import CountVectorizer\n",
    "\n",
    " \n",
    "vec = CountVectorizer()\n",
    "X = vec.fit_transform(tokens)\n",
    "df = pd.DataFrame(X.toarray(), columns=vec.get_feature_names())\n",
    "print(df)"
   ]
  },
  {
   "cell_type": "code",
   "execution_count": 30,
   "metadata": {},
   "outputs": [
    {
     "name": "stdout",
     "output_type": "stream",
     "text": [
      "        000  14  1500  1849  1859  1861  1864  1880  1887  20  ...   zeus  \\\n",
      "0         0   0     0     0     0     0     0     0     0   0  ...      0   \n",
      "1         0   0     0     0     0     0     0     0     0   0  ...      0   \n",
      "2         0   0     0     0     0     0     0     0     0   0  ...      0   \n",
      "3         0   0     0     0     0     0     0     0     0   0  ...      0   \n",
      "4         0   0     0     0     0     0     0     0     0   0  ...      0   \n",
      "5         0   0     0     0     0     0     0     0     0   0  ...      0   \n",
      "6         0   0     0     0     0     0     0     0     0   0  ...      0   \n",
      "7         0   0     0     0     0     0     0     0     0   0  ...      0   \n",
      "8         0   0     0     0     0     0     0     0     0   0  ...      0   \n",
      "9         0   0     0     0     0     0     0     0     0   0  ...      0   \n",
      "10        0   0     0     0     0     0     0     0     0   0  ...      0   \n",
      "11        0   0     0     0     0     0     0     0     0   0  ...      0   \n",
      "12        0   0     0     0     0     0     0     0     0   0  ...      0   \n",
      "13        0   0     0     0     0     0     0     0     0   0  ...      0   \n",
      "14        0   0     0     0     0     0     0     0     0   0  ...      0   \n",
      "15        0   0     0     0     0     0     0     0     0   0  ...      0   \n",
      "16        0   0     0     0     0     0     0     0     0   0  ...      0   \n",
      "17        0   0     0     0     0     0     0     0     0   0  ...      0   \n",
      "18        0   0     0     0     0     0     0     0     0   0  ...      0   \n",
      "19        0   0     0     0     0     0     0     0     0   0  ...      0   \n",
      "20        0   0     0     0     0     0     0     0     0   0  ...      0   \n",
      "21        0   0     0     0     0     0     0     0     0   0  ...      0   \n",
      "22        0   0     0     0     0     0     0     0     0   0  ...      0   \n",
      "23        0   0     0     0     0     0     0     0     0   0  ...      0   \n",
      "24        0   0     0     0     0     0     0     0     0   0  ...      0   \n",
      "25        0   0     0     0     0     0     0     0     0   0  ...      0   \n",
      "26        0   0     0     0     0     0     0     0     0   0  ...      0   \n",
      "27        0   0     0     0     0     0     0     0     0   0  ...      0   \n",
      "28        0   0     0     0     0     0     0     0     0   0  ...      0   \n",
      "29        0   0     0     0     0     0     0     0     0   0  ...      0   \n",
      "...     ...  ..   ...   ...   ...   ...   ...   ...   ...  ..  ...    ...   \n",
      "257696    0   0     0     0     0     0     0     0     0   0  ...      0   \n",
      "257697    0   0     0     0     0     0     0     0     0   0  ...      0   \n",
      "257698    0   0     0     0     0     0     0     0     0   0  ...      0   \n",
      "257699    0   0     0     0     0     0     0     0     0   0  ...      0   \n",
      "257700    0   0     0     0     0     0     0     0     0   0  ...      0   \n",
      "257701    0   0     0     0     0     0     0     0     0   0  ...      0   \n",
      "257702    0   0     0     0     0     0     0     0     0   0  ...      0   \n",
      "257703    0   0     0     0     0     0     0     0     0   0  ...      0   \n",
      "257704    0   0     0     0     0     0     0     0     0   0  ...      0   \n",
      "257705    0   0     0     0     0     0     0     0     0   0  ...      0   \n",
      "257706    0   0     0     0     0     0     0     0     0   0  ...      0   \n",
      "257707    0   0     0     0     0     0     0     0     0   0  ...      0   \n",
      "257708    0   0     0     0     0     0     0     0     0   0  ...      0   \n",
      "257709    0   0     0     0     0     0     0     0     0   0  ...      0   \n",
      "257710    0   0     0     0     0     0     0     0     0   0  ...      0   \n",
      "257711    0   0     0     0     0     0     0     0     0   0  ...      0   \n",
      "257712    0   0     0     0     0     0     0     0     0   0  ...      0   \n",
      "257713    0   0     0     0     0     0     0     0     0   0  ...      0   \n",
      "257714    0   0     0     0     0     0     0     0     0   0  ...      0   \n",
      "257715    0   0     0     0     0     0     0     0     0   0  ...      0   \n",
      "257716    0   0     0     0     0     0     0     0     0   0  ...      0   \n",
      "257717    0   0     0     0     0     0     0     0     0   0  ...      0   \n",
      "257718    0   0     0     0     0     0     0     0     0   0  ...      0   \n",
      "257719    0   0     0     0     0     0     0     0     0   0  ...      0   \n",
      "257720    0   0     0     0     0     0     0     0     0   0  ...      0   \n",
      "257721    0   0     0     0     0     0     0     0     0   0  ...      0   \n",
      "257722    0   0     0     0     0     0     0     0     0   0  ...      0   \n",
      "257723    0   0     0     0     0     0     0     0     0   0  ...      0   \n",
      "257724    0   0     0     0     0     0     0     0     0   0  ...      0   \n",
      "257725    0   0     0     0     0     0     0     0     0   0  ...      0   \n",
      "\n",
      "        zigzags  zimmerman  zip  zossimov  æsthetic  æsthetically  æsthetics  \\\n",
      "0             0          0    0         0         0             0          0   \n",
      "1             0          0    0         0         0             0          0   \n",
      "2             0          0    0         0         0             0          0   \n",
      "3             0          0    0         0         0             0          0   \n",
      "4             0          0    0         0         0             0          0   \n",
      "5             0          0    0         0         0             0          0   \n",
      "6             0          0    0         0         0             0          0   \n",
      "7             0          0    0         0         0             0          0   \n",
      "8             0          0    0         0         0             0          0   \n",
      "9             0          0    0         0         0             0          0   \n",
      "10            0          0    0         0         0             0          0   \n",
      "11            0          0    0         0         0             0          0   \n",
      "12            0          0    0         0         0             0          0   \n",
      "13            0          0    0         0         0             0          0   \n",
      "14            0          0    0         0         0             0          0   \n",
      "15            0          0    0         0         0             0          0   \n",
      "16            0          0    0         0         0             0          0   \n",
      "17            0          0    0         0         0             0          0   \n",
      "18            0          0    0         0         0             0          0   \n",
      "19            0          0    0         0         0             0          0   \n",
      "20            0          0    0         0         0             0          0   \n",
      "21            0          0    0         0         0             0          0   \n",
      "22            0          0    0         0         0             0          0   \n",
      "23            0          0    0         0         0             0          0   \n",
      "24            0          0    0         0         0             0          0   \n",
      "25            0          0    0         0         0             0          0   \n",
      "26            0          0    0         0         0             0          0   \n",
      "27            0          0    0         0         0             0          0   \n",
      "28            0          0    0         0         0             0          0   \n",
      "29            0          0    0         0         0             0          0   \n",
      "...         ...        ...  ...       ...       ...           ...        ...   \n",
      "257696        0          0    0         0         0             0          0   \n",
      "257697        0          0    0         0         0             0          0   \n",
      "257698        0          0    0         0         0             0          0   \n",
      "257699        0          0    0         0         0             0          0   \n",
      "257700        0          0    0         0         0             0          0   \n",
      "257701        0          0    0         0         0             0          0   \n",
      "257702        0          0    0         0         0             0          0   \n",
      "257703        0          0    0         0         0             0          0   \n",
      "257704        0          0    0         0         0             0          0   \n",
      "257705        0          0    0         0         0             0          0   \n",
      "257706        0          0    0         0         0             0          0   \n",
      "257707        0          0    0         0         0             0          0   \n",
      "257708        0          0    0         0         0             0          0   \n",
      "257709        0          0    0         0         0             0          0   \n",
      "257710        0          0    0         0         0             0          0   \n",
      "257711        0          0    0         0         0             0          0   \n",
      "257712        0          0    0         0         0             0          0   \n",
      "257713        0          0    0         0         0             0          0   \n",
      "257714        0          0    0         0         0             0          0   \n",
      "257715        0          0    0         0         0             0          0   \n",
      "257716        0          0    0         0         0             0          0   \n",
      "257717        0          0    0         0         0             0          0   \n",
      "257718        0          0    0         0         0             0          0   \n",
      "257719        0          0    0         0         0             0          0   \n",
      "257720        0          0    0         0         0             0          0   \n",
      "257721        0          0    0         0         0             0          0   \n",
      "257722        0          0    0         0         0             0          0   \n",
      "257723        0          0    0         0         0             0          0   \n",
      "257724        0          0    0         0         0             0          0   \n",
      "257725        0          0    0         0         0             0          0   \n",
      "\n",
      "        éternelle_  êtes  \n",
      "0                0     0  \n",
      "1                0     0  \n",
      "2                0     0  \n",
      "3                0     0  \n",
      "4                0     0  \n",
      "5                0     0  \n",
      "6                0     0  \n",
      "7                0     0  \n",
      "8                0     0  \n",
      "9                0     0  \n",
      "10               0     0  \n",
      "11               0     0  \n",
      "12               0     0  \n",
      "13               0     0  \n",
      "14               0     0  \n",
      "15               0     0  \n",
      "16               0     0  \n",
      "17               0     0  \n",
      "18               0     0  \n",
      "19               0     0  \n",
      "20               0     0  \n",
      "21               0     0  \n",
      "22               0     0  \n",
      "23               0     0  \n",
      "24               0     0  \n",
      "25               0     0  \n",
      "26               0     0  \n",
      "27               0     0  \n",
      "28               0     0  \n",
      "29               0     0  \n",
      "...            ...   ...  \n",
      "257696           0     0  \n",
      "257697           0     0  \n",
      "257698           0     0  \n",
      "257699           0     0  \n",
      "257700           0     0  \n",
      "257701           0     0  \n",
      "257702           0     0  \n",
      "257703           0     0  \n",
      "257704           0     0  \n",
      "257705           0     0  \n",
      "257706           0     0  \n",
      "257707           0     0  \n",
      "257708           0     0  \n",
      "257709           0     0  \n",
      "257710           0     0  \n",
      "257711           0     0  \n",
      "257712           0     0  \n",
      "257713           0     0  \n",
      "257714           0     0  \n",
      "257715           0     0  \n",
      "257716           0     0  \n",
      "257717           0     0  \n",
      "257718           0     0  \n",
      "257719           0     0  \n",
      "257720           0     0  \n",
      "257721           0     0  \n",
      "257722           0     0  \n",
      "257723           0     0  \n",
      "257724           0     0  \n",
      "257725           0     0  \n",
      "\n",
      "[257726 rows x 9860 columns]\n"
     ]
    }
   ],
   "source": [
    "print(df)"
   ]
  },
  {
   "cell_type": "code",
   "execution_count": 31,
   "metadata": {},
   "outputs": [
    {
     "data": {
      "text/html": [
       "<div>\n",
       "<style>\n",
       "    .dataframe thead tr:only-child th {\n",
       "        text-align: right;\n",
       "    }\n",
       "\n",
       "    .dataframe thead th {\n",
       "        text-align: left;\n",
       "    }\n",
       "\n",
       "    .dataframe tbody tr th {\n",
       "        vertical-align: top;\n",
       "    }\n",
       "</style>\n",
       "<table border=\"1\" class=\"dataframe\">\n",
       "  <thead>\n",
       "    <tr style=\"text-align: right;\">\n",
       "      <th></th>\n",
       "      <th>zossimov</th>\n",
       "    </tr>\n",
       "  </thead>\n",
       "  <tbody>\n",
       "    <tr>\n",
       "      <th>0</th>\n",
       "      <td>0</td>\n",
       "    </tr>\n",
       "    <tr>\n",
       "      <th>1</th>\n",
       "      <td>0</td>\n",
       "    </tr>\n",
       "    <tr>\n",
       "      <th>2</th>\n",
       "      <td>0</td>\n",
       "    </tr>\n",
       "    <tr>\n",
       "      <th>3</th>\n",
       "      <td>0</td>\n",
       "    </tr>\n",
       "    <tr>\n",
       "      <th>4</th>\n",
       "      <td>0</td>\n",
       "    </tr>\n",
       "    <tr>\n",
       "      <th>5</th>\n",
       "      <td>0</td>\n",
       "    </tr>\n",
       "    <tr>\n",
       "      <th>6</th>\n",
       "      <td>0</td>\n",
       "    </tr>\n",
       "    <tr>\n",
       "      <th>7</th>\n",
       "      <td>0</td>\n",
       "    </tr>\n",
       "    <tr>\n",
       "      <th>8</th>\n",
       "      <td>0</td>\n",
       "    </tr>\n",
       "    <tr>\n",
       "      <th>9</th>\n",
       "      <td>0</td>\n",
       "    </tr>\n",
       "    <tr>\n",
       "      <th>10</th>\n",
       "      <td>0</td>\n",
       "    </tr>\n",
       "    <tr>\n",
       "      <th>11</th>\n",
       "      <td>0</td>\n",
       "    </tr>\n",
       "    <tr>\n",
       "      <th>12</th>\n",
       "      <td>0</td>\n",
       "    </tr>\n",
       "    <tr>\n",
       "      <th>13</th>\n",
       "      <td>0</td>\n",
       "    </tr>\n",
       "    <tr>\n",
       "      <th>14</th>\n",
       "      <td>0</td>\n",
       "    </tr>\n",
       "    <tr>\n",
       "      <th>15</th>\n",
       "      <td>0</td>\n",
       "    </tr>\n",
       "    <tr>\n",
       "      <th>16</th>\n",
       "      <td>0</td>\n",
       "    </tr>\n",
       "    <tr>\n",
       "      <th>17</th>\n",
       "      <td>0</td>\n",
       "    </tr>\n",
       "    <tr>\n",
       "      <th>18</th>\n",
       "      <td>0</td>\n",
       "    </tr>\n",
       "    <tr>\n",
       "      <th>19</th>\n",
       "      <td>0</td>\n",
       "    </tr>\n",
       "    <tr>\n",
       "      <th>20</th>\n",
       "      <td>0</td>\n",
       "    </tr>\n",
       "    <tr>\n",
       "      <th>21</th>\n",
       "      <td>0</td>\n",
       "    </tr>\n",
       "    <tr>\n",
       "      <th>22</th>\n",
       "      <td>0</td>\n",
       "    </tr>\n",
       "    <tr>\n",
       "      <th>23</th>\n",
       "      <td>0</td>\n",
       "    </tr>\n",
       "    <tr>\n",
       "      <th>24</th>\n",
       "      <td>0</td>\n",
       "    </tr>\n",
       "    <tr>\n",
       "      <th>25</th>\n",
       "      <td>0</td>\n",
       "    </tr>\n",
       "    <tr>\n",
       "      <th>26</th>\n",
       "      <td>0</td>\n",
       "    </tr>\n",
       "    <tr>\n",
       "      <th>27</th>\n",
       "      <td>0</td>\n",
       "    </tr>\n",
       "    <tr>\n",
       "      <th>28</th>\n",
       "      <td>0</td>\n",
       "    </tr>\n",
       "    <tr>\n",
       "      <th>29</th>\n",
       "      <td>0</td>\n",
       "    </tr>\n",
       "    <tr>\n",
       "      <th>...</th>\n",
       "      <td>...</td>\n",
       "    </tr>\n",
       "    <tr>\n",
       "      <th>257696</th>\n",
       "      <td>0</td>\n",
       "    </tr>\n",
       "    <tr>\n",
       "      <th>257697</th>\n",
       "      <td>0</td>\n",
       "    </tr>\n",
       "    <tr>\n",
       "      <th>257698</th>\n",
       "      <td>0</td>\n",
       "    </tr>\n",
       "    <tr>\n",
       "      <th>257699</th>\n",
       "      <td>0</td>\n",
       "    </tr>\n",
       "    <tr>\n",
       "      <th>257700</th>\n",
       "      <td>0</td>\n",
       "    </tr>\n",
       "    <tr>\n",
       "      <th>257701</th>\n",
       "      <td>0</td>\n",
       "    </tr>\n",
       "    <tr>\n",
       "      <th>257702</th>\n",
       "      <td>0</td>\n",
       "    </tr>\n",
       "    <tr>\n",
       "      <th>257703</th>\n",
       "      <td>0</td>\n",
       "    </tr>\n",
       "    <tr>\n",
       "      <th>257704</th>\n",
       "      <td>0</td>\n",
       "    </tr>\n",
       "    <tr>\n",
       "      <th>257705</th>\n",
       "      <td>0</td>\n",
       "    </tr>\n",
       "    <tr>\n",
       "      <th>257706</th>\n",
       "      <td>0</td>\n",
       "    </tr>\n",
       "    <tr>\n",
       "      <th>257707</th>\n",
       "      <td>0</td>\n",
       "    </tr>\n",
       "    <tr>\n",
       "      <th>257708</th>\n",
       "      <td>0</td>\n",
       "    </tr>\n",
       "    <tr>\n",
       "      <th>257709</th>\n",
       "      <td>0</td>\n",
       "    </tr>\n",
       "    <tr>\n",
       "      <th>257710</th>\n",
       "      <td>0</td>\n",
       "    </tr>\n",
       "    <tr>\n",
       "      <th>257711</th>\n",
       "      <td>0</td>\n",
       "    </tr>\n",
       "    <tr>\n",
       "      <th>257712</th>\n",
       "      <td>0</td>\n",
       "    </tr>\n",
       "    <tr>\n",
       "      <th>257713</th>\n",
       "      <td>0</td>\n",
       "    </tr>\n",
       "    <tr>\n",
       "      <th>257714</th>\n",
       "      <td>0</td>\n",
       "    </tr>\n",
       "    <tr>\n",
       "      <th>257715</th>\n",
       "      <td>0</td>\n",
       "    </tr>\n",
       "    <tr>\n",
       "      <th>257716</th>\n",
       "      <td>0</td>\n",
       "    </tr>\n",
       "    <tr>\n",
       "      <th>257717</th>\n",
       "      <td>0</td>\n",
       "    </tr>\n",
       "    <tr>\n",
       "      <th>257718</th>\n",
       "      <td>0</td>\n",
       "    </tr>\n",
       "    <tr>\n",
       "      <th>257719</th>\n",
       "      <td>0</td>\n",
       "    </tr>\n",
       "    <tr>\n",
       "      <th>257720</th>\n",
       "      <td>0</td>\n",
       "    </tr>\n",
       "    <tr>\n",
       "      <th>257721</th>\n",
       "      <td>0</td>\n",
       "    </tr>\n",
       "    <tr>\n",
       "      <th>257722</th>\n",
       "      <td>0</td>\n",
       "    </tr>\n",
       "    <tr>\n",
       "      <th>257723</th>\n",
       "      <td>0</td>\n",
       "    </tr>\n",
       "    <tr>\n",
       "      <th>257724</th>\n",
       "      <td>0</td>\n",
       "    </tr>\n",
       "    <tr>\n",
       "      <th>257725</th>\n",
       "      <td>0</td>\n",
       "    </tr>\n",
       "  </tbody>\n",
       "</table>\n",
       "<p>257726 rows × 1 columns</p>\n",
       "</div>"
      ],
      "text/plain": [
       "        zossimov\n",
       "0              0\n",
       "1              0\n",
       "2              0\n",
       "3              0\n",
       "4              0\n",
       "5              0\n",
       "6              0\n",
       "7              0\n",
       "8              0\n",
       "9              0\n",
       "10             0\n",
       "11             0\n",
       "12             0\n",
       "13             0\n",
       "14             0\n",
       "15             0\n",
       "16             0\n",
       "17             0\n",
       "18             0\n",
       "19             0\n",
       "20             0\n",
       "21             0\n",
       "22             0\n",
       "23             0\n",
       "24             0\n",
       "25             0\n",
       "26             0\n",
       "27             0\n",
       "28             0\n",
       "29             0\n",
       "...          ...\n",
       "257696         0\n",
       "257697         0\n",
       "257698         0\n",
       "257699         0\n",
       "257700         0\n",
       "257701         0\n",
       "257702         0\n",
       "257703         0\n",
       "257704         0\n",
       "257705         0\n",
       "257706         0\n",
       "257707         0\n",
       "257708         0\n",
       "257709         0\n",
       "257710         0\n",
       "257711         0\n",
       "257712         0\n",
       "257713         0\n",
       "257714         0\n",
       "257715         0\n",
       "257716         0\n",
       "257717         0\n",
       "257718         0\n",
       "257719         0\n",
       "257720         0\n",
       "257721         0\n",
       "257722         0\n",
       "257723         0\n",
       "257724         0\n",
       "257725         0\n",
       "\n",
       "[257726 rows x 1 columns]"
      ]
     },
     "execution_count": 31,
     "metadata": {},
     "output_type": "execute_result"
    }
   ],
   "source": [
    "df[['zossimov']]"
   ]
  },
  {
   "cell_type": "code",
   "execution_count": 32,
   "metadata": {},
   "outputs": [
    {
     "data": {
      "text/plain": [
       "list"
      ]
     },
     "execution_count": 32,
     "metadata": {},
     "output_type": "execute_result"
    }
   ],
   "source": [
    "type(tokens)"
   ]
  },
  {
   "cell_type": "code",
   "execution_count": 34,
   "metadata": {},
   "outputs": [],
   "source": [
    "tokens2=pd.DataFrame(tokens)"
   ]
  },
  {
   "cell_type": "code",
   "execution_count": 36,
   "metadata": {},
   "outputs": [],
   "source": [
    "tokens2.columns=['Words']"
   ]
  },
  {
   "cell_type": "code",
   "execution_count": 38,
   "metadata": {},
   "outputs": [
    {
     "data": {
      "text/html": [
       "<div>\n",
       "<style>\n",
       "    .dataframe thead tr:only-child th {\n",
       "        text-align: right;\n",
       "    }\n",
       "\n",
       "    .dataframe thead th {\n",
       "        text-align: left;\n",
       "    }\n",
       "\n",
       "    .dataframe tbody tr th {\n",
       "        vertical-align: top;\n",
       "    }\n",
       "</style>\n",
       "<table border=\"1\" class=\"dataframe\">\n",
       "  <thead>\n",
       "    <tr style=\"text-align: right;\">\n",
       "      <th></th>\n",
       "      <th>Words</th>\n",
       "    </tr>\n",
       "  </thead>\n",
       "  <tbody>\n",
       "    <tr>\n",
       "      <th>0</th>\n",
       "      <td>﻿The</td>\n",
       "    </tr>\n",
       "    <tr>\n",
       "      <th>1</th>\n",
       "      <td>Project</td>\n",
       "    </tr>\n",
       "    <tr>\n",
       "      <th>2</th>\n",
       "      <td>Gutenberg</td>\n",
       "    </tr>\n",
       "    <tr>\n",
       "      <th>3</th>\n",
       "      <td>EBook</td>\n",
       "    </tr>\n",
       "    <tr>\n",
       "      <th>4</th>\n",
       "      <td>of</td>\n",
       "    </tr>\n",
       "  </tbody>\n",
       "</table>\n",
       "</div>"
      ],
      "text/plain": [
       "       Words\n",
       "0       ﻿The\n",
       "1    Project\n",
       "2  Gutenberg\n",
       "3      EBook\n",
       "4         of"
      ]
     },
     "execution_count": 38,
     "metadata": {},
     "output_type": "execute_result"
    }
   ],
   "source": [
    "tokens2.head()"
   ]
  },
  {
   "cell_type": "code",
   "execution_count": 40,
   "metadata": {},
   "outputs": [
    {
     "data": {
      "text/plain": [
       ",      16178\n",
       ".       9589\n",
       "the     7436\n",
       "and     6284\n",
       "to      5278\n",
       "Name: Words, dtype: int64"
      ]
     },
     "execution_count": 40,
     "metadata": {},
     "output_type": "execute_result"
    }
   ],
   "source": [
    "tokens2.Words.value_counts().head()"
   ]
  },
  {
   "cell_type": "code",
   "execution_count": null,
   "metadata": {
    "collapsed": true
   },
   "outputs": [],
   "source": []
  }
 ],
 "metadata": {
  "kernelspec": {
   "display_name": "Python 3",
   "language": "python",
   "name": "python3"
  },
  "language_info": {
   "codemirror_mode": {
    "name": "ipython",
    "version": 3
   },
   "file_extension": ".py",
   "mimetype": "text/x-python",
   "name": "python",
   "nbconvert_exporter": "python",
   "pygments_lexer": "ipython3",
   "version": "3.6.1"
  }
 },
 "nbformat": 4,
 "nbformat_minor": 2
}
