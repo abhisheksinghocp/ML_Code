{
 "cells": [
  {
   "cell_type": "code",
   "execution_count": 1,
   "metadata": {
    "collapsed": true
   },
   "outputs": [],
   "source": [
    "#http://www.geeksforgeeks.org/twitter-sentiment-analysis-using-python/"
   ]
  },
  {
   "cell_type": "code",
   "execution_count": 2,
   "metadata": {},
   "outputs": [
    {
     "name": "stdout",
     "output_type": "stream",
     "text": [
      "Requirement already satisfied: tweepy in c:\\users\\kogentix\\anaconda3\\lib\\site-packages\n",
      "Requirement already satisfied: requests-oauthlib>=0.4.1 in c:\\users\\kogentix\\anaconda3\\lib\\site-packages (from tweepy)\n",
      "Requirement already satisfied: six>=1.7.3 in c:\\users\\kogentix\\anaconda3\\lib\\site-packages (from tweepy)\n",
      "Requirement already satisfied: requests>=2.4.3 in c:\\users\\kogentix\\anaconda3\\lib\\site-packages (from tweepy)\n",
      "Requirement already satisfied: oauthlib>=0.6.2 in c:\\users\\kogentix\\anaconda3\\lib\\site-packages (from requests-oauthlib>=0.4.1->tweepy)\n"
     ]
    }
   ],
   "source": [
    "!pip install tweepy"
   ]
  },
  {
   "cell_type": "code",
   "execution_count": 3,
   "metadata": {},
   "outputs": [
    {
     "name": "stdout",
     "output_type": "stream",
     "text": [
      "Requirement already satisfied: textblob in c:\\users\\kogentix\\anaconda3\\lib\\site-packages\n",
      "Requirement already satisfied: nltk>=3.1 in c:\\users\\kogentix\\anaconda3\\lib\\site-packages (from textblob)\n",
      "Requirement already satisfied: six in c:\\users\\kogentix\\anaconda3\\lib\\site-packages (from nltk>=3.1->textblob)\n"
     ]
    }
   ],
   "source": [
    "!pip install textblob"
   ]
  },
  {
   "cell_type": "code",
   "execution_count": 10,
   "metadata": {},
   "outputs": [
    {
     "name": "stdout",
     "output_type": "stream",
     "text": [
      "Positive tweets percentage: 42.42424242424242 %\n",
      "Negative tweets percentage: 16.666666666666668 %\n",
      "Neutral tweets percentage: 40.90909090909091 %\n",
      "\n",
      "\n",
      "Positive tweets:\n",
      "RT @ProudResister: Thank you, Brave Women.\n",
      "Thank you, Black Voters.\n",
      "Thank you, Doug Jones.\n",
      "\n",
      "F+ck you, Donald Trump.\n",
      "F+ck you, Steve Bannon.…\n",
      "RT @RVAwonk: I'd like to extend my congratulations to Steve Bannon for masterfully humiliating himself, the Republican Party, AND Donald Tr…\n",
      "RT @tonyschwartz: It is over for Donald Trump. He has lost in one of the most Republican states in America. God Bless 51 per cent of Alabam…\n",
      "RT @keithboykin: Doug Jones wins! Donald Trump is on an epic losing streak this year. #AlabamaSenateElection https://t.co/gamrQSCXK4\n",
      "RT @Fun_Beard: Given his track record, if Donald Trump wants republicans to win, maybe he should start backing democrats?\n",
      "RT @colbertlateshow: People Magazine released a photo of Natasha Stoynoff, one of Trump’s accusers standing right next to Donald Trump. In…\n",
      "RT @AngryBlackLady: Ok, who wrote this tweet. Because it sure as shit wasn’t donald j. trump. https://t.co/8NkNtInOnJ\n",
      "RT @PoliticalShort: Co-founder of Trump dossier firm Fusion GPS confirmed in court filings on Tuesday that he met last year with Justice De…\n",
      "RT @Amy_Siskind: Wouldn’t it be powerful if tomorrow the 33 US Senators who called on Al Franken to resign called a press conference and ca…\n",
      "RT @SethAbramson: Congress must immediately launch a bipartisan investigation into the 20+ allegations of sexual assault against Donald Tru…\n",
      "\n",
      "\n",
      "Negative tweets:\n",
      "RT @ShaunKing: I’ve counted at least 25 times where Steve Bannon said in speeches that “This election is a referendum on Donald Trump. A vo…\n",
      "RT @AhmedBaba_: Alabama is further proof that people like Donald Trump and Roy Moore may try and bring out the worst in America but the bes…\n",
      "RT @funder: I’m so tired of Donald Trump. He’s pure evil.\n",
      "RT @SenFeinstein: Another disgusting tweet from Thin-Skinned Donald Trump. This man has a problem, plain and simple. He lashes out at women…\n",
      "@11thHour I know in my heart of hearts, a majority of Americans favor decency. The politicians got it wrong. Once a… https://t.co/P1gMp8znRO\n",
      "Donald Trump’s staff caught posting ridiculously phony tweet on his account https://t.co/BlwOTN1LPz\n",
      "RT @ashleyfeinberg: donald trump is hog tied in a bathroom somewhere desperately chewing trying to chew through the door https://t.co/Y70Tm…\n",
      "Donald Trump &amp; his Crew summed up in one video. This is insane man 🤦🏾‍♂️ This is who YOU guys voted for. https://t.co/1Ht1DqpPbN\n",
      "Doug Jones declared winner of Alabama Senate race! Donald Trump and child molester the big losers https://t.co/F6bRRuM9ew\n",
      "poop donald trump Black foot socks by bwet13 https://t.co/SHPlwdpE9s #bwet #bwet13 #etsy\n"
     ]
    }
   ],
   "source": [
    "import re\n",
    "import tweepy\n",
    "from tweepy import OAuthHandler\n",
    "from textblob import TextBlob\n",
    " \n",
    "class TwitterClient(object):\n",
    "    '''\n",
    "    Generic Twitter Class for sentiment analysis.\n",
    "    '''\n",
    "    def __init__(self):\n",
    "        '''\n",
    "        Class constructor or initialization method.\n",
    "        '''\n",
    "        # keys and tokens from the Twitter Dev Console\n",
    "        consumer_key = 'cUqEqaAhL8iFsowJj50Tf8mwM'\n",
    "        consumer_secret = 'WQYMRAjZdTC4DcZZrxyi5QFbyerVTzoTirmAy0J4lcBLlSrJMc'\n",
    "        access_token = '50995744-4dZaS1J21jUhGUBiH5P7EVZI0q5gbQI45caGmjUMk'\n",
    "        access_token_secret = 'gY1zXKey05klmPFGZzf2R5lcMvSadOWvROcLjQhwxmhyi'\n",
    " \n",
    "        # attempt authentication\n",
    "        try:\n",
    "            # create OAuthHandler object\n",
    "            self.auth = OAuthHandler(consumer_key, consumer_secret)\n",
    "            # set access token and secret\n",
    "            self.auth.set_access_token(access_token, access_token_secret)\n",
    "            # create tweepy API object to fetch tweets\n",
    "            self.api = tweepy.API(self.auth)\n",
    "        except:\n",
    "            print(\"Error: Authentication Failed\")\n",
    " \n",
    "    def clean_tweet(self, tweet):\n",
    "        '''\n",
    "        Utility function to clean tweet text by removing links, special characters\n",
    "        using simple regex statements.\n",
    "        '''\n",
    "        return ' '.join(re.sub(\"(@[A-Za-z0-9]+)|([^0-9A-Za-z \\t])|(\\w+:\\/\\/\\S+)\", \" \", tweet).split())\n",
    " \n",
    "    def get_tweet_sentiment(self, tweet):\n",
    "        '''\n",
    "        Utility function to classify sentiment of passed tweet\n",
    "        using textblob's sentiment method\n",
    "        '''\n",
    "        # create TextBlob object of passed tweet text\n",
    "        analysis = TextBlob(self.clean_tweet(tweet))\n",
    "        # set sentiment\n",
    "        if analysis.sentiment.polarity > 0:\n",
    "            return 'positive'\n",
    "        elif analysis.sentiment.polarity == 0:\n",
    "            return 'neutral'\n",
    "        else:\n",
    "            return 'negative'\n",
    " \n",
    "    def get_tweets(self, query, count = 10):\n",
    "        '''\n",
    "        Main function to fetch tweets and parse them.\n",
    "        '''\n",
    "        # empty list to store parsed tweets\n",
    "        tweets = []\n",
    " \n",
    "        try:\n",
    "            # call twitter api to fetch tweets\n",
    "            fetched_tweets = self.api.search(q = query, count = count)\n",
    " \n",
    "            # parsing tweets one by one\n",
    "            for tweet in fetched_tweets:\n",
    "                # empty dictionary to store required params of a tweet\n",
    "                parsed_tweet = {}\n",
    " \n",
    "                # saving text of tweet\n",
    "                parsed_tweet['text'] = tweet.text\n",
    "                # saving sentiment of tweet\n",
    "                parsed_tweet['sentiment'] = self.get_tweet_sentiment(tweet.text)\n",
    " \n",
    "                # appending parsed tweet to tweets list\n",
    "                if tweet.retweet_count > 0:\n",
    "                    # if tweet has retweets, ensure that it is appended only once\n",
    "                    if parsed_tweet not in tweets:\n",
    "                        tweets.append(parsed_tweet)\n",
    "                else:\n",
    "                    tweets.append(parsed_tweet)\n",
    " \n",
    "            # return parsed tweets\n",
    "            return tweets\n",
    " \n",
    "        except tweepy.TweepError as e:\n",
    "            # print error (if any)\n",
    "            print(\"Error : \" + str(e))\n",
    " \n",
    "def main():\n",
    "    # creating object of TwitterClient Class\n",
    "    api = TwitterClient()\n",
    "    # calling function to get tweets\n",
    "    tweets = api.get_tweets(query = 'Donald Trump', count = 200)\n",
    " \n",
    "    # picking positive tweets from tweets\n",
    "    ptweets = [tweet for tweet in tweets if tweet['sentiment'] == 'positive']\n",
    "    # percentage of positive tweets\n",
    "    print(\"Positive tweets percentage: {} %\".format(100*len(ptweets)/len(tweets)))\n",
    "    # picking negative tweets from tweets\n",
    "    ntweets = [tweet for tweet in tweets if tweet['sentiment'] == 'negative']\n",
    "    # percentage of negative tweets\n",
    "    print(\"Negative tweets percentage: {} %\".format(100*len(ntweets)/len(tweets)))\n",
    "    # percentage of neutral tweets\n",
    "    print(\"Neutral tweets percentage: {} %\".format(100*(len(tweets) - len(ntweets) - len(ptweets))/len(tweets)))\n",
    " \n",
    "    # printing first 5 positive tweets\n",
    "    print(\"\\n\\nPositive tweets:\")\n",
    "    for tweet in ptweets[:10]:\n",
    "        print(tweet['text'])\n",
    " \n",
    "    # printing first 5 negative tweets\n",
    "    print(\"\\n\\nNegative tweets:\")\n",
    "    for tweet in ntweets[:10]:\n",
    "        print(tweet['text'])\n",
    " \n",
    "if __name__ == \"__main__\":\n",
    "    # calling main function\n",
    "    main()"
   ]
  },
  {
   "cell_type": "code",
   "execution_count": null,
   "metadata": {
    "collapsed": true
   },
   "outputs": [],
   "source": []
  }
 ],
 "metadata": {
  "kernelspec": {
   "display_name": "Python 3",
   "language": "python",
   "name": "python3"
  },
  "language_info": {
   "codemirror_mode": {
    "name": "ipython",
    "version": 3
   },
   "file_extension": ".py",
   "mimetype": "text/x-python",
   "name": "python",
   "nbconvert_exporter": "python",
   "pygments_lexer": "ipython3",
   "version": "3.6.1"
  }
 },
 "nbformat": 4,
 "nbformat_minor": 2
}
